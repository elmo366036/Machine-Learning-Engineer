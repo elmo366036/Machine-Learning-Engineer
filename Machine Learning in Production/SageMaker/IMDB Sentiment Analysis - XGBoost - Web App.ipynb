{
 "cells": [
  {
   "cell_type": "markdown",
   "metadata": {},
   "source": [
    "# Sentiment Analysis Web App\n",
    "\n",
    "_Deep Learning Nanodegree Program | Deployment_\n",
    "\n",
    "---\n",
    "\n",
    "In this notebook we will use Amazon's SageMaker service to construct a random tree model to predict the sentiment of a movie review. In addition, we will deploy this model to an endpoint and construct a very simple web app which will interact with our model's deployed endpoint.\n",
    "\n",
    "## General Outline\n",
    "\n",
    "Typically, when using a notebook instance with SageMaker, you will proceed through the following steps. Of course, not every step will need to be done with each project. Also, there is quite a lot of room for variation in many of the steps, as you will see throughout these lessons.\n",
    "\n",
    "1. Download or otherwise retrieve the data.\n",
    "2. Process / Prepare the data.\n",
    "3. Upload the processed data to S3.\n",
    "4. Train a chosen model.\n",
    "5. Test the trained model (typically using a batch transform job).\n",
    "6. Deploy the trained model.\n",
    "7. Use the deployed model.\n",
    "\n",
    "In this notebook we will progress through each of the steps above. We will also see that the final step, using the deployed model, can be quite challenging."
   ]
  },
  {
   "cell_type": "code",
   "execution_count": 1,
   "metadata": {},
   "outputs": [
    {
     "name": "stdout",
     "output_type": "stream",
     "text": [
      "Collecting sagemaker==1.72.0\n",
      "  Using cached sagemaker-1.72.0-py2.py3-none-any.whl\n",
      "Requirement already satisfied: numpy>=1.9.0 in /home/ec2-user/anaconda3/envs/amazonei_mxnet_p36/lib/python3.6/site-packages (from sagemaker==1.72.0) (1.19.4)\n",
      "Requirement already satisfied: packaging>=20.0 in /home/ec2-user/anaconda3/envs/amazonei_mxnet_p36/lib/python3.6/site-packages (from sagemaker==1.72.0) (20.7)\n",
      "Requirement already satisfied: protobuf3-to-dict>=0.1.5 in /home/ec2-user/anaconda3/envs/amazonei_mxnet_p36/lib/python3.6/site-packages (from sagemaker==1.72.0) (0.1.5)\n",
      "Requirement already satisfied: protobuf>=3.1 in /home/ec2-user/anaconda3/envs/amazonei_mxnet_p36/lib/python3.6/site-packages (from sagemaker==1.72.0) (3.14.0)\n",
      "Requirement already satisfied: scipy>=0.19.0 in /home/ec2-user/anaconda3/envs/amazonei_mxnet_p36/lib/python3.6/site-packages (from sagemaker==1.72.0) (1.4.1)\n",
      "Requirement already satisfied: boto3>=1.14.12 in /home/ec2-user/anaconda3/envs/amazonei_mxnet_p36/lib/python3.6/site-packages (from sagemaker==1.72.0) (1.16.37)\n",
      "Requirement already satisfied: importlib-metadata>=1.4.0 in /home/ec2-user/anaconda3/envs/amazonei_mxnet_p36/lib/python3.6/site-packages (from sagemaker==1.72.0) (3.1.0)\n",
      "Requirement already satisfied: jmespath<1.0.0,>=0.7.1 in /home/ec2-user/anaconda3/envs/amazonei_mxnet_p36/lib/python3.6/site-packages (from boto3>=1.14.12->sagemaker==1.72.0) (0.10.0)\n",
      "Requirement already satisfied: s3transfer<0.4.0,>=0.3.0 in /home/ec2-user/anaconda3/envs/amazonei_mxnet_p36/lib/python3.6/site-packages (from boto3>=1.14.12->sagemaker==1.72.0) (0.3.3)\n",
      "Requirement already satisfied: botocore<1.20.0,>=1.19.37 in /home/ec2-user/anaconda3/envs/amazonei_mxnet_p36/lib/python3.6/site-packages (from boto3>=1.14.12->sagemaker==1.72.0) (1.19.37)\n",
      "Requirement already satisfied: python-dateutil<3.0.0,>=2.1 in /home/ec2-user/anaconda3/envs/amazonei_mxnet_p36/lib/python3.6/site-packages (from botocore<1.20.0,>=1.19.37->boto3>=1.14.12->sagemaker==1.72.0) (2.8.1)\n",
      "Requirement already satisfied: urllib3<1.27,>=1.25.4 in /home/ec2-user/anaconda3/envs/amazonei_mxnet_p36/lib/python3.6/site-packages (from botocore<1.20.0,>=1.19.37->boto3>=1.14.12->sagemaker==1.72.0) (1.25.11)\n",
      "Requirement already satisfied: jmespath<1.0.0,>=0.7.1 in /home/ec2-user/anaconda3/envs/amazonei_mxnet_p36/lib/python3.6/site-packages (from boto3>=1.14.12->sagemaker==1.72.0) (0.10.0)\n",
      "Requirement already satisfied: zipp>=0.5 in /home/ec2-user/anaconda3/envs/amazonei_mxnet_p36/lib/python3.6/site-packages (from importlib-metadata>=1.4.0->sagemaker==1.72.0) (3.4.0)\n",
      "Requirement already satisfied: pyparsing>=2.0.2 in /home/ec2-user/anaconda3/envs/amazonei_mxnet_p36/lib/python3.6/site-packages (from packaging>=20.0->sagemaker==1.72.0) (2.4.7)\n",
      "Requirement already satisfied: six>=1.9 in /home/ec2-user/anaconda3/envs/amazonei_mxnet_p36/lib/python3.6/site-packages (from protobuf>=3.1->sagemaker==1.72.0) (1.15.0)\n",
      "Requirement already satisfied: protobuf>=3.1 in /home/ec2-user/anaconda3/envs/amazonei_mxnet_p36/lib/python3.6/site-packages (from sagemaker==1.72.0) (3.14.0)\n",
      "Requirement already satisfied: six>=1.9 in /home/ec2-user/anaconda3/envs/amazonei_mxnet_p36/lib/python3.6/site-packages (from protobuf>=3.1->sagemaker==1.72.0) (1.15.0)\n",
      "Requirement already satisfied: six>=1.9 in /home/ec2-user/anaconda3/envs/amazonei_mxnet_p36/lib/python3.6/site-packages (from protobuf>=3.1->sagemaker==1.72.0) (1.15.0)\n",
      "Requirement already satisfied: botocore<1.20.0,>=1.19.37 in /home/ec2-user/anaconda3/envs/amazonei_mxnet_p36/lib/python3.6/site-packages (from boto3>=1.14.12->sagemaker==1.72.0) (1.19.37)\n",
      "Requirement already satisfied: numpy>=1.9.0 in /home/ec2-user/anaconda3/envs/amazonei_mxnet_p36/lib/python3.6/site-packages (from sagemaker==1.72.0) (1.19.4)\n",
      "Collecting smdebug-rulesconfig==0.1.4\n",
      "  Using cached smdebug_rulesconfig-0.1.4-py2.py3-none-any.whl (10 kB)\n",
      "Installing collected packages: smdebug-rulesconfig, sagemaker\n",
      "  Attempting uninstall: smdebug-rulesconfig\n",
      "    Found existing installation: smdebug-rulesconfig 1.0.0\n",
      "    Uninstalling smdebug-rulesconfig-1.0.0:\n",
      "      Successfully uninstalled smdebug-rulesconfig-1.0.0\n",
      "  Attempting uninstall: sagemaker\n",
      "    Found existing installation: sagemaker 2.19.0\n",
      "    Uninstalling sagemaker-2.19.0:\n",
      "      Successfully uninstalled sagemaker-2.19.0\n",
      "Successfully installed sagemaker-1.72.0 smdebug-rulesconfig-0.1.4\n",
      "\u001b[33mWARNING: You are using pip version 20.3; however, version 21.0 is available.\n",
      "You should consider upgrading via the '/home/ec2-user/anaconda3/envs/amazonei_mxnet_p36/bin/python -m pip install --upgrade pip' command.\u001b[0m\n"
     ]
    }
   ],
   "source": [
    "# Make sure that we use SageMaker 1.x\n",
    "!pip install sagemaker==1.72.0"
   ]
  },
  {
   "cell_type": "markdown",
   "metadata": {},
   "source": [
    "## Step 1: Downloading the data\n",
    "\n",
    "The dataset we are going to use is very popular among researchers in Natural Language Processing, usually referred to as the [IMDb dataset](http://ai.stanford.edu/~amaas/data/sentiment/). It consists of movie reviews from the website [imdb.com](http://www.imdb.com/), each labeled as either '**pos**itive', if the reviewer enjoyed the film, or '**neg**ative' otherwise.\n",
    "\n",
    "> Maas, Andrew L., et al. [Learning Word Vectors for Sentiment Analysis](http://ai.stanford.edu/~amaas/data/sentiment/). In _Proceedings of the 49th Annual Meeting of the Association for Computational Linguistics: Human Language Technologies_. Association for Computational Linguistics, 2011.\n",
    "\n",
    "We begin by using some Jupyter Notebook magic to download and extract the dataset."
   ]
  },
  {
   "cell_type": "code",
   "execution_count": 2,
   "metadata": {},
   "outputs": [
    {
     "name": "stdout",
     "output_type": "stream",
     "text": [
      "mkdir: cannot create directory ‘../data’: File exists\n",
      "--2021-01-26 14:10:37--  http://ai.stanford.edu/~amaas/data/sentiment/aclImdb_v1.tar.gz\n",
      "Resolving ai.stanford.edu (ai.stanford.edu)... 171.64.68.10\n",
      "Connecting to ai.stanford.edu (ai.stanford.edu)|171.64.68.10|:80... connected.\n",
      "HTTP request sent, awaiting response... 200 OK\n",
      "Length: 84125825 (80M) [application/x-gzip]\n",
      "Saving to: ‘../data/aclImdb_v1.tar.gz’\n",
      "\n",
      "../data/aclImdb_v1. 100%[===================>]  80.23M  23.8MB/s    in 5.0s    \n",
      "\n",
      "2021-01-26 14:10:42 (16.1 MB/s) - ‘../data/aclImdb_v1.tar.gz’ saved [84125825/84125825]\n",
      "\n"
     ]
    }
   ],
   "source": [
    "%mkdir ../data\n",
    "!wget -O ../data/aclImdb_v1.tar.gz http://ai.stanford.edu/~amaas/data/sentiment/aclImdb_v1.tar.gz\n",
    "!tar -zxf ../data/aclImdb_v1.tar.gz -C ../data"
   ]
  },
  {
   "cell_type": "markdown",
   "metadata": {},
   "source": [
    "## Step 2: Preparing and Processing the data\n",
    "\n",
    "The data we have downloaded is split into various files, each of which contains a single review. It will be much easier going forward if we combine these individual files into two large files, one for training and one for testing."
   ]
  },
  {
   "cell_type": "code",
   "execution_count": 3,
   "metadata": {},
   "outputs": [],
   "source": [
    "import os\n",
    "import glob\n",
    "\n",
    "def read_imdb_data(data_dir='../data/aclImdb'):\n",
    "    data = {}\n",
    "    labels = {}\n",
    "    \n",
    "    for data_type in ['train', 'test']:\n",
    "        data[data_type] = {}\n",
    "        labels[data_type] = {}\n",
    "        \n",
    "        for sentiment in ['pos', 'neg']:\n",
    "            data[data_type][sentiment] = []\n",
    "            labels[data_type][sentiment] = []\n",
    "            \n",
    "            path = os.path.join(data_dir, data_type, sentiment, '*.txt')\n",
    "            files = glob.glob(path)\n",
    "            \n",
    "            for f in files:\n",
    "                with open(f) as review:\n",
    "                    data[data_type][sentiment].append(review.read())\n",
    "                    # Here we represent a positive review by '1' and a negative review by '0'\n",
    "                    labels[data_type][sentiment].append(1 if sentiment == 'pos' else 0)\n",
    "                    \n",
    "            assert len(data[data_type][sentiment]) == len(labels[data_type][sentiment]), \\\n",
    "                    \"{}/{} data size does not match labels size\".format(data_type, sentiment)\n",
    "                \n",
    "    return data, labels"
   ]
  },
  {
   "cell_type": "code",
   "execution_count": 4,
   "metadata": {},
   "outputs": [
    {
     "name": "stdout",
     "output_type": "stream",
     "text": [
      "IMDB reviews: train = 12500 pos / 12500 neg, test = 12500 pos / 12500 neg\n"
     ]
    }
   ],
   "source": [
    "data, labels = read_imdb_data()\n",
    "print(\"IMDB reviews: train = {} pos / {} neg, test = {} pos / {} neg\".format(\n",
    "            len(data['train']['pos']), len(data['train']['neg']),\n",
    "            len(data['test']['pos']), len(data['test']['neg'])))"
   ]
  },
  {
   "cell_type": "code",
   "execution_count": 5,
   "metadata": {},
   "outputs": [],
   "source": [
    "from sklearn.utils import shuffle\n",
    "\n",
    "def prepare_imdb_data(data, labels):\n",
    "    \"\"\"Prepare training and test sets from IMDb movie reviews.\"\"\"\n",
    "    \n",
    "    #Combine positive and negative reviews and labels\n",
    "    data_train = data['train']['pos'] + data['train']['neg']\n",
    "    data_test = data['test']['pos'] + data['test']['neg']\n",
    "    labels_train = labels['train']['pos'] + labels['train']['neg']\n",
    "    labels_test = labels['test']['pos'] + labels['test']['neg']\n",
    "    \n",
    "    #Shuffle reviews and corresponding labels within training and test sets\n",
    "    data_train, labels_train = shuffle(data_train, labels_train)\n",
    "    data_test, labels_test = shuffle(data_test, labels_test)\n",
    "    \n",
    "    # Return a unified training data, test data, training labels, test labets\n",
    "    return data_train, data_test, labels_train, labels_test"
   ]
  },
  {
   "cell_type": "code",
   "execution_count": 6,
   "metadata": {},
   "outputs": [
    {
     "name": "stdout",
     "output_type": "stream",
     "text": [
      "IMDb reviews (combined): train = 25000, test = 25000\n"
     ]
    }
   ],
   "source": [
    "train_X, test_X, train_y, test_y = prepare_imdb_data(data, labels)\n",
    "print(\"IMDb reviews (combined): train = {}, test = {}\".format(len(train_X), len(test_X)))"
   ]
  },
  {
   "cell_type": "code",
   "execution_count": 7,
   "metadata": {},
   "outputs": [
    {
     "data": {
      "text/plain": [
       "\"Predictable, hackneyed & poorly written. Foolishly I reasoned such a prominent cast would not be involved unless it had merit. I guess competition amongst actors is so intense these days (and will only get worse) that one cannot pick and choose much any more. Early on we were given an inkling who was was instrumental in the assassination and we had it rammed down our throats ever since. The movie lacked intrigue, giving us little insight into the victim and only one possible motive for the murder. Some of the discourse was, frankly, embarrassing! It's hard to believe anyone would even consider, let alone commit to, the spending of tens of millions of dollars to make this tripe.\""
      ]
     },
     "execution_count": 7,
     "metadata": {},
     "output_type": "execute_result"
    }
   ],
   "source": [
    "train_X[100]"
   ]
  },
  {
   "cell_type": "markdown",
   "metadata": {},
   "source": [
    "## Processing the data\n",
    "\n",
    "Now that we have our training and testing datasets merged and ready to use, we need to start processing the raw data into something that will be useable by our machine learning algorithm. To begin with, we remove any html formatting and any non-alpha numeric characters that may appear in the reviews. We will do this in a very simplistic way using Python's regular expression module. We will discuss the reason for this rather simplistic pre-processing later on."
   ]
  },
  {
   "cell_type": "code",
   "execution_count": 8,
   "metadata": {},
   "outputs": [],
   "source": [
    "import re\n",
    "\n",
    "REPLACE_NO_SPACE = re.compile(\"(\\.)|(\\;)|(\\:)|(\\!)|(\\')|(\\?)|(\\,)|(\\\")|(\\()|(\\))|(\\[)|(\\])\")\n",
    "REPLACE_WITH_SPACE = re.compile(\"(<br\\s*/><br\\s*/>)|(\\-)|(\\/)\")\n",
    "\n",
    "def review_to_words(review):\n",
    "    words = REPLACE_NO_SPACE.sub(\"\", review.lower())\n",
    "    words = REPLACE_WITH_SPACE.sub(\" \", words)\n",
    "    return words"
   ]
  },
  {
   "cell_type": "code",
   "execution_count": 9,
   "metadata": {},
   "outputs": [
    {
     "data": {
      "text/plain": [
       "'predictable hackneyed & poorly written foolishly i reasoned such a prominent cast would not be involved unless it had merit i guess competition amongst actors is so intense these days and will only get worse that one cannot pick and choose much any more early on we were given an inkling who was was instrumental in the assassination and we had it rammed down our throats ever since the movie lacked intrigue giving us little insight into the victim and only one possible motive for the murder some of the discourse was frankly embarrassing its hard to believe anyone would even consider let alone commit to the spending of tens of millions of dollars to make this tripe'"
      ]
     },
     "execution_count": 9,
     "metadata": {},
     "output_type": "execute_result"
    }
   ],
   "source": [
    "review_to_words(train_X[100])"
   ]
  },
  {
   "cell_type": "code",
   "execution_count": 10,
   "metadata": {},
   "outputs": [],
   "source": [
    "import pickle\n",
    "\n",
    "cache_dir = os.path.join(\"../cache\", \"sentiment_web_app\")  # where to store cache files\n",
    "os.makedirs(cache_dir, exist_ok=True)  # ensure cache directory exists\n",
    "\n",
    "def preprocess_data(data_train, data_test, labels_train, labels_test,\n",
    "                    cache_dir=cache_dir, cache_file=\"preprocessed_data.pkl\"):\n",
    "    \"\"\"Convert each review to words; read from cache if available.\"\"\"\n",
    "\n",
    "    # If cache_file is not None, try to read from it first\n",
    "    cache_data = None\n",
    "    if cache_file is not None:\n",
    "        try:\n",
    "            with open(os.path.join(cache_dir, cache_file), \"rb\") as f:\n",
    "                cache_data = pickle.load(f)\n",
    "            print(\"Read preprocessed data from cache file:\", cache_file)\n",
    "        except:\n",
    "            pass  # unable to read from cache, but that's okay\n",
    "    \n",
    "    # If cache is missing, then do the heavy lifting\n",
    "    if cache_data is None:\n",
    "        # Preprocess training and test data to obtain words for each review\n",
    "        #words_train = list(map(review_to_words, data_train))\n",
    "        #words_test = list(map(review_to_words, data_test))\n",
    "        words_train = [review_to_words(review) for review in data_train]\n",
    "        words_test = [review_to_words(review) for review in data_test]\n",
    "        \n",
    "        # Write to cache file for future runs\n",
    "        if cache_file is not None:\n",
    "            cache_data = dict(words_train=words_train, words_test=words_test,\n",
    "                              labels_train=labels_train, labels_test=labels_test)\n",
    "            with open(os.path.join(cache_dir, cache_file), \"wb\") as f:\n",
    "                pickle.dump(cache_data, f)\n",
    "            print(\"Wrote preprocessed data to cache file:\", cache_file)\n",
    "    else:\n",
    "        # Unpack data loaded from cache file\n",
    "        words_train, words_test, labels_train, labels_test = (cache_data['words_train'],\n",
    "                cache_data['words_test'], cache_data['labels_train'], cache_data['labels_test'])\n",
    "    \n",
    "    return words_train, words_test, labels_train, labels_test"
   ]
  },
  {
   "cell_type": "code",
   "execution_count": 11,
   "metadata": {},
   "outputs": [
    {
     "name": "stdout",
     "output_type": "stream",
     "text": [
      "Wrote preprocessed data to cache file: preprocessed_data.pkl\n"
     ]
    }
   ],
   "source": [
    "# Preprocess data\n",
    "train_X, test_X, train_y, test_y = preprocess_data(train_X, test_X, train_y, test_y)"
   ]
  },
  {
   "cell_type": "markdown",
   "metadata": {},
   "source": [
    "### Extract Bag-of-Words features\n",
    "\n",
    "For the model we will be implementing, rather than using the reviews directly, we are going to transform each review into a Bag-of-Words feature representation. Keep in mind that 'in the wild' we will only have access to the training set so our transformer can only use the training set to construct a representation."
   ]
  },
  {
   "cell_type": "code",
   "execution_count": 12,
   "metadata": {},
   "outputs": [],
   "source": [
    "import numpy as np\n",
    "from sklearn.feature_extraction.text import CountVectorizer\n",
    "\n",
    "# sklearn.externals.joblib is deprecated in 0.21 and will be removed in 0.23. \n",
    "# from sklearn.externals import joblib\n",
    "\n",
    "# Import joblib package directly\n",
    "import joblib\n",
    "# joblib is an enhanced version of pickle that is more efficient for storing NumPy arrays\n",
    "\n",
    "def extract_BoW_features(words_train, words_test, vocabulary_size=5000,\n",
    "                         cache_dir=cache_dir, cache_file=\"bow_features.pkl\"):\n",
    "    \"\"\"Extract Bag-of-Words for a given set of documents, already preprocessed into words.\"\"\"\n",
    "    \n",
    "    # If cache_file is not None, try to read from it first\n",
    "    cache_data = None\n",
    "    if cache_file is not None:\n",
    "        try:\n",
    "            with open(os.path.join(cache_dir, cache_file), \"rb\") as f:\n",
    "                cache_data = joblib.load(f)\n",
    "            print(\"Read features from cache file:\", cache_file)\n",
    "        except:\n",
    "            pass  # unable to read from cache, but that's okay\n",
    "    \n",
    "    # If cache is missing, then do the heavy lifting\n",
    "    if cache_data is None:\n",
    "        # Fit a vectorizer to training documents and use it to transform them\n",
    "        # NOTE: Training documents have already been preprocessed and tokenized into words;\n",
    "        #       pass in dummy functions to skip those steps, e.g. preprocessor=lambda x: x\n",
    "        vectorizer = CountVectorizer(max_features=vocabulary_size)\n",
    "        features_train = vectorizer.fit_transform(words_train).toarray()\n",
    "\n",
    "        # Apply the same vectorizer to transform the test documents (ignore unknown words)\n",
    "        features_test = vectorizer.transform(words_test).toarray()\n",
    "        \n",
    "        # NOTE: Remember to convert the features using .toarray() for a compact representation\n",
    "        \n",
    "        # Write to cache file for future runs (store vocabulary as well)\n",
    "        if cache_file is not None:\n",
    "            vocabulary = vectorizer.vocabulary_\n",
    "            cache_data = dict(features_train=features_train, features_test=features_test,\n",
    "                             vocabulary=vocabulary)\n",
    "            with open(os.path.join(cache_dir, cache_file), \"wb\") as f:\n",
    "                joblib.dump(cache_data, f)\n",
    "            print(\"Wrote features to cache file:\", cache_file)\n",
    "    else:\n",
    "        # Unpack data loaded from cache file\n",
    "        features_train, features_test, vocabulary = (cache_data['features_train'],\n",
    "                cache_data['features_test'], cache_data['vocabulary'])\n",
    "    \n",
    "    # Return both the extracted features as well as the vocabulary\n",
    "    return features_train, features_test, vocabulary"
   ]
  },
  {
   "cell_type": "code",
   "execution_count": 13,
   "metadata": {},
   "outputs": [
    {
     "name": "stdout",
     "output_type": "stream",
     "text": [
      "Wrote features to cache file: bow_features.pkl\n"
     ]
    }
   ],
   "source": [
    "# Extract Bag of Words features for both training and test datasets\n",
    "train_X, test_X, vocabulary = extract_BoW_features(train_X, test_X)"
   ]
  },
  {
   "cell_type": "code",
   "execution_count": 14,
   "metadata": {},
   "outputs": [
    {
     "data": {
      "text/plain": [
       "5000"
      ]
     },
     "execution_count": 14,
     "metadata": {},
     "output_type": "execute_result"
    }
   ],
   "source": [
    "len(train_X[100])"
   ]
  },
  {
   "cell_type": "markdown",
   "metadata": {},
   "source": [
    "## Step 3: Upload data to S3\n",
    "\n",
    "Now that we have created the feature representation of our training (and testing) data, it is time to start setting up and using the XGBoost classifier provided by SageMaker.\n",
    "\n",
    "### Writing the datasets\n",
    "\n",
    "The XGBoost classifier that we will be using requires the dataset to be written to a file and stored using Amazon S3. To do this, we will start by splitting the training dataset into two parts, the data we will train the model with and a validation set. Then, we will write those datasets to a file locally and then upload the files to S3. In addition, we will write the test set to a file and upload that file to S3. This is so that we can use SageMakers Batch Transform functionality to test our model once we've fit it."
   ]
  },
  {
   "cell_type": "code",
   "execution_count": 15,
   "metadata": {},
   "outputs": [],
   "source": [
    "import pandas as pd\n",
    "\n",
    "# Earlier we shuffled the training dataset so to make things simple we can just assign\n",
    "# the first 10 000 reviews to the validation set and use the remaining reviews for training.\n",
    "val_X = pd.DataFrame(train_X[:10000])\n",
    "train_X = pd.DataFrame(train_X[10000:])\n",
    "\n",
    "val_y = pd.DataFrame(train_y[:10000])\n",
    "train_y = pd.DataFrame(train_y[10000:])"
   ]
  },
  {
   "cell_type": "markdown",
   "metadata": {},
   "source": [
    "The documentation for the XGBoost algorithm in SageMaker requires that the training and validation datasets should contain no headers or index and that the label should occur first for each sample.\n",
    "\n",
    "For more information about this and other algorithms, the SageMaker developer documentation can be found on __[Amazon's website.](https://docs.aws.amazon.com/sagemaker/latest/dg/)__"
   ]
  },
  {
   "cell_type": "code",
   "execution_count": 16,
   "metadata": {},
   "outputs": [],
   "source": [
    "# First we make sure that the local directory in which we'd like to store the training and validation csv files exists.\n",
    "data_dir = '../data/sentiment_web_app'\n",
    "if not os.path.exists(data_dir):\n",
    "    os.makedirs(data_dir)"
   ]
  },
  {
   "cell_type": "code",
   "execution_count": 17,
   "metadata": {},
   "outputs": [],
   "source": [
    "pd.DataFrame(test_X).to_csv(os.path.join(data_dir, 'test.csv'), header=False, index=False)\n",
    "\n",
    "pd.concat([val_y, val_X], axis=1).to_csv(os.path.join(data_dir, 'validation.csv'), header=False, index=False)\n",
    "pd.concat([train_y, train_X], axis=1).to_csv(os.path.join(data_dir, 'train.csv'), header=False, index=False)"
   ]
  },
  {
   "cell_type": "code",
   "execution_count": 18,
   "metadata": {},
   "outputs": [],
   "source": [
    "# To save a bit of memory we can set text_X, train_X, val_X, train_y and val_y to None.\n",
    "\n",
    "test_X = train_X = val_X = train_y = val_y = None"
   ]
  },
  {
   "cell_type": "markdown",
   "metadata": {},
   "source": [
    "### Uploading Training / Validation files to S3\n",
    "\n",
    "Amazon's S3 service allows us to store files that can be accessed by both the built-in training models such as the XGBoost model we will be using as well as custom models such as the one we will see a little later.\n",
    "\n",
    "For this and most other tasks we will be doing using SageMaker, there are two methods we could use. The first is to use the low level functionality of SageMaker which requires knowing each of the objects involved in the SageMaker environment. The second is to use the high level functionality in which certain choices have been made on the user's behalf. The low level approach benefits from allowing the user a great deal of flexibility while the high level approach makes development much quicker. For our purposes we will opt to use the high level approach although using the low-level approach is certainly an option.\n",
    "\n",
    "Recall the method `upload_data()` which is a member of the object representing our current SageMaker session. What this method does is upload the data to the default bucket (which is created if it does not exist) into the path described by the key_prefix variable. To see this for yourself, once you have uploaded the data files, go to the S3 console and look to see where the files have been uploaded.\n",
    "\n",
    "For additional resources, see the __[SageMaker API documentation](http://sagemaker.readthedocs.io/en/latest/)__ and in addition the __[SageMaker Developer Guide.](https://docs.aws.amazon.com/sagemaker/latest/dg/)__"
   ]
  },
  {
   "cell_type": "code",
   "execution_count": 19,
   "metadata": {},
   "outputs": [],
   "source": [
    "import sagemaker\n",
    "\n",
    "session = sagemaker.Session() # Store the current SageMaker session\n",
    "\n",
    "# S3 prefix (which folder will we use)\n",
    "prefix = 'sentiment-web-app'\n",
    "\n",
    "test_location = session.upload_data(os.path.join(data_dir, 'test.csv'), key_prefix=prefix)\n",
    "val_location = session.upload_data(os.path.join(data_dir, 'validation.csv'), key_prefix=prefix)\n",
    "train_location = session.upload_data(os.path.join(data_dir, 'train.csv'), key_prefix=prefix)"
   ]
  },
  {
   "cell_type": "markdown",
   "metadata": {},
   "source": [
    "## Step 4: Creating the XGBoost model\n",
    "\n",
    "Now that the data has been uploaded it is time to create the XGBoost model. To begin with, we need to do some setup. At this point it is worth discussing what a model is in SageMaker. It is easiest to think of a model of comprising three different objects in the SageMaker ecosystem, which interact with one another.\n",
    "\n",
    "- Model Artifacts\n",
    "- Training Code (Container)\n",
    "- Inference Code (Container)\n",
    "\n",
    "The Model Artifacts are what you might think of as the actual model itself. For example, if you were building a neural network, the model artifacts would be the weights of the various layers. In our case, for an XGBoost model, the artifacts are the actual trees that are created during training.\n",
    "\n",
    "The other two objects, the training code and the inference code are then used to manipulate the training artifacts. More precisely, the training code uses the training data that is provided and creates the model artifacts, while the inference code uses the model artifacts to make predictions on new data.\n",
    "\n",
    "The way that SageMaker runs the training and inference code is by making use of Docker containers. For now, think of a container as being a way of packaging code up so that dependencies aren't an issue."
   ]
  },
  {
   "cell_type": "code",
   "execution_count": 20,
   "metadata": {},
   "outputs": [],
   "source": [
    "from sagemaker import get_execution_role\n",
    "\n",
    "# Our current execution role is required when creating the model as the training\n",
    "# and inference code will need to access the model artifacts.\n",
    "role = get_execution_role()"
   ]
  },
  {
   "cell_type": "code",
   "execution_count": 21,
   "metadata": {},
   "outputs": [
    {
     "name": "stderr",
     "output_type": "stream",
     "text": [
      "'get_image_uri' method will be deprecated in favor of 'ImageURIProvider' class in SageMaker Python SDK v2.\n",
      "There is a more up to date SageMaker XGBoost image. To use the newer image, please set 'repo_version'='1.0-1'. For example:\n",
      "\tget_image_uri(region, 'xgboost', '1.0-1').\n"
     ]
    }
   ],
   "source": [
    "# We need to retrieve the location of the container which is provided by Amazon for using XGBoost.\n",
    "# As a matter of convenience, the training and inference code both use the same container.\n",
    "from sagemaker.amazon.amazon_estimator import get_image_uri\n",
    "\n",
    "container = get_image_uri(session.boto_region_name, 'xgboost')"
   ]
  },
  {
   "cell_type": "code",
   "execution_count": 22,
   "metadata": {},
   "outputs": [
    {
     "name": "stderr",
     "output_type": "stream",
     "text": [
      "Parameter image_name will be renamed to image_uri in SageMaker Python SDK v2.\n"
     ]
    }
   ],
   "source": [
    "# First we create a SageMaker estimator object for our model.\n",
    "xgb = sagemaker.estimator.Estimator(container, # The location of the container we wish to use\n",
    "                                    role,                                    # What is our current IAM Role\n",
    "                                    train_instance_count=1,                  # How many compute instances\n",
    "                                    train_instance_type='ml.m4.xlarge',      # What kind of compute instances\n",
    "                                    output_path='s3://{}/{}/output'.format(session.default_bucket(), prefix),\n",
    "                                    sagemaker_session=session)\n",
    "\n",
    "# And then set the algorithm specific parameters.\n",
    "xgb.set_hyperparameters(max_depth=5,\n",
    "                        eta=0.2,\n",
    "                        gamma=4,\n",
    "                        min_child_weight=6,\n",
    "                        subsample=0.8,\n",
    "                        silent=0,\n",
    "                        objective='binary:logistic',\n",
    "                        early_stopping_rounds=10,\n",
    "                        num_round=500)"
   ]
  },
  {
   "cell_type": "markdown",
   "metadata": {},
   "source": [
    "### Fit the XGBoost model\n",
    "\n",
    "Now that our model has been set up we simply need to attach the training and validation datasets and then ask SageMaker to set up the computation."
   ]
  },
  {
   "cell_type": "code",
   "execution_count": 23,
   "metadata": {},
   "outputs": [
    {
     "name": "stderr",
     "output_type": "stream",
     "text": [
      "'s3_input' class will be renamed to 'TrainingInput' in SageMaker Python SDK v2.\n",
      "'s3_input' class will be renamed to 'TrainingInput' in SageMaker Python SDK v2.\n"
     ]
    }
   ],
   "source": [
    "s3_input_train = sagemaker.s3_input(s3_data=train_location, content_type='csv')\n",
    "s3_input_validation = sagemaker.s3_input(s3_data=val_location, content_type='csv')"
   ]
  },
  {
   "cell_type": "code",
   "execution_count": 24,
   "metadata": {},
   "outputs": [
    {
     "name": "stdout",
     "output_type": "stream",
     "text": [
      "2021-01-26 14:12:55 Starting - Starting the training job...\n",
      "2021-01-26 14:12:57 Starting - Launching requested ML instances......\n",
      "2021-01-26 14:14:17 Starting - Preparing the instances for training......\n",
      "2021-01-26 14:15:15 Downloading - Downloading input data...\n",
      "2021-01-26 14:15:43 Training - Downloading the training image..\u001b[34mArguments: train\u001b[0m\n",
      "\u001b[34m[2021-01-26:14:16:04:INFO] Running standalone xgboost training.\u001b[0m\n",
      "\u001b[34m[2021-01-26:14:16:04:INFO] File size need to be processed in the node: 238.5mb. Available memory size in the node: 8411.33mb\u001b[0m\n",
      "\u001b[34m[2021-01-26:14:16:04:INFO] Determined delimiter of CSV input is ','\u001b[0m\n",
      "\u001b[34m[14:16:04] S3DistributionType set as FullyReplicated\u001b[0m\n",
      "\u001b[34m[14:16:06] 15000x5000 matrix with 75000000 entries loaded from /opt/ml/input/data/train?format=csv&label_column=0&delimiter=,\u001b[0m\n",
      "\u001b[34m[2021-01-26:14:16:06:INFO] Determined delimiter of CSV input is ','\u001b[0m\n",
      "\u001b[34m[14:16:06] S3DistributionType set as FullyReplicated\u001b[0m\n",
      "\u001b[34m[14:16:07] 10000x5000 matrix with 50000000 entries loaded from /opt/ml/input/data/validation?format=csv&label_column=0&delimiter=,\u001b[0m\n",
      "\n",
      "2021-01-26 14:16:03 Training - Training image download completed. Training in progress.\u001b[34m[14:16:11] src/tree/updater_prune.cc:74: tree pruning end, 1 roots, 40 extra nodes, 2 pruned nodes, max_depth=5\u001b[0m\n",
      "\u001b[34m[0]#011train-error:0.2978#011validation-error:0.3112\u001b[0m\n",
      "\u001b[34mMultiple eval metrics have been passed: 'validation-error' will be used for early stopping.\n",
      "\u001b[0m\n",
      "\u001b[34mWill train until validation-error hasn't improved in 10 rounds.\u001b[0m\n",
      "\u001b[34m[14:16:12] src/tree/updater_prune.cc:74: tree pruning end, 1 roots, 48 extra nodes, 0 pruned nodes, max_depth=5\u001b[0m\n",
      "\u001b[34m[1]#011train-error:0.284867#011validation-error:0.3005\u001b[0m\n",
      "\u001b[34m[14:16:14] src/tree/updater_prune.cc:74: tree pruning end, 1 roots, 42 extra nodes, 2 pruned nodes, max_depth=5\u001b[0m\n",
      "\u001b[34m[2]#011train-error:0.2842#011validation-error:0.3002\u001b[0m\n",
      "\u001b[34m[14:16:16] src/tree/updater_prune.cc:74: tree pruning end, 1 roots, 42 extra nodes, 4 pruned nodes, max_depth=5\u001b[0m\n",
      "\u001b[34m[3]#011train-error:0.2712#011validation-error:0.2872\u001b[0m\n",
      "\u001b[34m[14:16:17] src/tree/updater_prune.cc:74: tree pruning end, 1 roots, 28 extra nodes, 6 pruned nodes, max_depth=5\u001b[0m\n",
      "\u001b[34m[4]#011train-error:0.2628#011validation-error:0.2784\u001b[0m\n",
      "\u001b[34m[14:16:18] src/tree/updater_prune.cc:74: tree pruning end, 1 roots, 26 extra nodes, 14 pruned nodes, max_depth=5\u001b[0m\n",
      "\u001b[34m[5]#011train-error:0.254867#011validation-error:0.2696\u001b[0m\n",
      "\u001b[34m[14:16:20] src/tree/updater_prune.cc:74: tree pruning end, 1 roots, 24 extra nodes, 8 pruned nodes, max_depth=5\u001b[0m\n",
      "\u001b[34m[6]#011train-error:0.2502#011validation-error:0.2687\u001b[0m\n",
      "\u001b[34m[14:16:21] src/tree/updater_prune.cc:74: tree pruning end, 1 roots, 50 extra nodes, 4 pruned nodes, max_depth=5\u001b[0m\n",
      "\u001b[34m[7]#011train-error:0.242333#011validation-error:0.263\u001b[0m\n",
      "\u001b[34m[14:16:22] src/tree/updater_prune.cc:74: tree pruning end, 1 roots, 28 extra nodes, 4 pruned nodes, max_depth=5\u001b[0m\n",
      "\u001b[34m[8]#011train-error:0.233467#011validation-error:0.2514\u001b[0m\n",
      "\u001b[34m[14:16:23] src/tree/updater_prune.cc:74: tree pruning end, 1 roots, 34 extra nodes, 10 pruned nodes, max_depth=5\u001b[0m\n",
      "\u001b[34m[9]#011train-error:0.229667#011validation-error:0.2491\u001b[0m\n",
      "\u001b[34m[14:16:25] src/tree/updater_prune.cc:74: tree pruning end, 1 roots, 36 extra nodes, 4 pruned nodes, max_depth=5\u001b[0m\n",
      "\u001b[34m[10]#011train-error:0.224733#011validation-error:0.2467\u001b[0m\n",
      "\u001b[34m[14:16:26] src/tree/updater_prune.cc:74: tree pruning end, 1 roots, 28 extra nodes, 8 pruned nodes, max_depth=5\u001b[0m\n",
      "\u001b[34m[11]#011train-error:0.219533#011validation-error:0.2421\u001b[0m\n",
      "\u001b[34m[14:16:27] src/tree/updater_prune.cc:74: tree pruning end, 1 roots, 22 extra nodes, 12 pruned nodes, max_depth=5\u001b[0m\n",
      "\u001b[34m[12]#011train-error:0.211867#011validation-error:0.2342\u001b[0m\n",
      "\u001b[34m[14:16:28] src/tree/updater_prune.cc:74: tree pruning end, 1 roots, 46 extra nodes, 6 pruned nodes, max_depth=5\u001b[0m\n",
      "\u001b[34m[13]#011train-error:0.208333#011validation-error:0.2307\u001b[0m\n",
      "\u001b[34m[14:16:30] src/tree/updater_prune.cc:74: tree pruning end, 1 roots, 36 extra nodes, 2 pruned nodes, max_depth=5\u001b[0m\n",
      "\u001b[34m[14]#011train-error:0.2046#011validation-error:0.2306\u001b[0m\n",
      "\u001b[34m[14:16:31] src/tree/updater_prune.cc:74: tree pruning end, 1 roots, 24 extra nodes, 10 pruned nodes, max_depth=5\u001b[0m\n",
      "\u001b[34m[15]#011train-error:0.200867#011validation-error:0.2288\u001b[0m\n",
      "\u001b[34m[14:16:32] src/tree/updater_prune.cc:74: tree pruning end, 1 roots, 26 extra nodes, 8 pruned nodes, max_depth=5\u001b[0m\n",
      "\u001b[34m[16]#011train-error:0.1994#011validation-error:0.2268\u001b[0m\n",
      "\u001b[34m[14:16:34] src/tree/updater_prune.cc:74: tree pruning end, 1 roots, 36 extra nodes, 4 pruned nodes, max_depth=5\u001b[0m\n",
      "\u001b[34m[17]#011train-error:0.1936#011validation-error:0.2228\u001b[0m\n",
      "\u001b[34m[14:16:35] src/tree/updater_prune.cc:74: tree pruning end, 1 roots, 24 extra nodes, 12 pruned nodes, max_depth=5\u001b[0m\n",
      "\u001b[34m[18]#011train-error:0.1924#011validation-error:0.2227\u001b[0m\n",
      "\u001b[34m[14:16:36] src/tree/updater_prune.cc:74: tree pruning end, 1 roots, 16 extra nodes, 8 pruned nodes, max_depth=5\u001b[0m\n",
      "\u001b[34m[19]#011train-error:0.189267#011validation-error:0.2188\u001b[0m\n",
      "\u001b[34m[14:16:38] src/tree/updater_prune.cc:74: tree pruning end, 1 roots, 32 extra nodes, 6 pruned nodes, max_depth=5\u001b[0m\n",
      "\u001b[34m[20]#011train-error:0.185333#011validation-error:0.2153\u001b[0m\n",
      "\u001b[34m[14:16:39] src/tree/updater_prune.cc:74: tree pruning end, 1 roots, 44 extra nodes, 6 pruned nodes, max_depth=5\u001b[0m\n",
      "\u001b[34m[21]#011train-error:0.1826#011validation-error:0.2139\u001b[0m\n",
      "\u001b[34m[14:16:40] src/tree/updater_prune.cc:74: tree pruning end, 1 roots, 26 extra nodes, 6 pruned nodes, max_depth=5\u001b[0m\n",
      "\u001b[34m[22]#011train-error:0.180133#011validation-error:0.2114\u001b[0m\n",
      "\u001b[34m[14:16:41] src/tree/updater_prune.cc:74: tree pruning end, 1 roots, 36 extra nodes, 8 pruned nodes, max_depth=5\u001b[0m\n",
      "\u001b[34m[23]#011train-error:0.178267#011validation-error:0.2099\u001b[0m\n",
      "\u001b[34m[14:16:43] src/tree/updater_prune.cc:74: tree pruning end, 1 roots, 26 extra nodes, 10 pruned nodes, max_depth=5\u001b[0m\n",
      "\u001b[34m[24]#011train-error:0.175933#011validation-error:0.2103\u001b[0m\n",
      "\u001b[34m[14:16:44] src/tree/updater_prune.cc:74: tree pruning end, 1 roots, 22 extra nodes, 10 pruned nodes, max_depth=5\u001b[0m\n",
      "\u001b[34m[25]#011train-error:0.1744#011validation-error:0.2085\u001b[0m\n",
      "\u001b[34m[14:16:45] src/tree/updater_prune.cc:74: tree pruning end, 1 roots, 40 extra nodes, 6 pruned nodes, max_depth=5\u001b[0m\n",
      "\u001b[34m[26]#011train-error:0.171267#011validation-error:0.2067\u001b[0m\n",
      "\u001b[34m[14:16:47] src/tree/updater_prune.cc:74: tree pruning end, 1 roots, 22 extra nodes, 12 pruned nodes, max_depth=5\u001b[0m\n",
      "\u001b[34m[27]#011train-error:0.168933#011validation-error:0.2047\u001b[0m\n",
      "\u001b[34m[14:16:48] src/tree/updater_prune.cc:74: tree pruning end, 1 roots, 26 extra nodes, 8 pruned nodes, max_depth=5\u001b[0m\n",
      "\u001b[34m[28]#011train-error:0.168467#011validation-error:0.2032\u001b[0m\n",
      "\u001b[34m[14:16:49] src/tree/updater_prune.cc:74: tree pruning end, 1 roots, 32 extra nodes, 8 pruned nodes, max_depth=5\u001b[0m\n",
      "\u001b[34m[29]#011train-error:0.165667#011validation-error:0.2029\u001b[0m\n",
      "\u001b[34m[14:16:50] src/tree/updater_prune.cc:74: tree pruning end, 1 roots, 22 extra nodes, 6 pruned nodes, max_depth=5\u001b[0m\n",
      "\u001b[34m[30]#011train-error:0.163867#011validation-error:0.201\u001b[0m\n",
      "\u001b[34m[14:16:52] src/tree/updater_prune.cc:74: tree pruning end, 1 roots, 28 extra nodes, 8 pruned nodes, max_depth=5\u001b[0m\n",
      "\u001b[34m[31]#011train-error:0.161667#011validation-error:0.1992\u001b[0m\n",
      "\u001b[34m[14:16:53] src/tree/updater_prune.cc:74: tree pruning end, 1 roots, 16 extra nodes, 16 pruned nodes, max_depth=5\u001b[0m\n",
      "\u001b[34m[32]#011train-error:0.160067#011validation-error:0.1975\u001b[0m\n",
      "\u001b[34m[14:16:54] src/tree/updater_prune.cc:74: tree pruning end, 1 roots, 22 extra nodes, 8 pruned nodes, max_depth=5\u001b[0m\n",
      "\u001b[34m[33]#011train-error:0.158733#011validation-error:0.1959\u001b[0m\n",
      "\u001b[34m[14:16:56] src/tree/updater_prune.cc:74: tree pruning end, 1 roots, 42 extra nodes, 4 pruned nodes, max_depth=5\u001b[0m\n",
      "\u001b[34m[34]#011train-error:0.1562#011validation-error:0.1951\u001b[0m\n",
      "\u001b[34m[14:16:57] src/tree/updater_prune.cc:74: tree pruning end, 1 roots, 20 extra nodes, 12 pruned nodes, max_depth=5\u001b[0m\n",
      "\u001b[34m[35]#011train-error:0.154533#011validation-error:0.1951\u001b[0m\n",
      "\u001b[34m[14:16:58] src/tree/updater_prune.cc:74: tree pruning end, 1 roots, 40 extra nodes, 4 pruned nodes, max_depth=5\u001b[0m\n",
      "\u001b[34m[36]#011train-error:0.153133#011validation-error:0.1941\u001b[0m\n",
      "\u001b[34m[14:16:59] src/tree/updater_prune.cc:74: tree pruning end, 1 roots, 18 extra nodes, 12 pruned nodes, max_depth=5\u001b[0m\n",
      "\u001b[34m[37]#011train-error:0.1528#011validation-error:0.1937\u001b[0m\n",
      "\u001b[34m[14:17:01] src/tree/updater_prune.cc:74: tree pruning end, 1 roots, 28 extra nodes, 6 pruned nodes, max_depth=5\u001b[0m\n",
      "\u001b[34m[38]#011train-error:0.1516#011validation-error:0.193\u001b[0m\n",
      "\u001b[34m[14:17:02] src/tree/updater_prune.cc:74: tree pruning end, 1 roots, 18 extra nodes, 12 pruned nodes, max_depth=5\u001b[0m\n",
      "\u001b[34m[39]#011train-error:0.150933#011validation-error:0.1922\u001b[0m\n",
      "\u001b[34m[14:17:03] src/tree/updater_prune.cc:74: tree pruning end, 1 roots, 22 extra nodes, 14 pruned nodes, max_depth=5\u001b[0m\n",
      "\u001b[34m[40]#011train-error:0.149733#011validation-error:0.1903\u001b[0m\n",
      "\u001b[34m[14:17:05] src/tree/updater_prune.cc:74: tree pruning end, 1 roots, 16 extra nodes, 12 pruned nodes, max_depth=5\u001b[0m\n",
      "\u001b[34m[41]#011train-error:0.148267#011validation-error:0.1895\u001b[0m\n",
      "\u001b[34m[14:17:07] src/tree/updater_prune.cc:74: tree pruning end, 1 roots, 24 extra nodes, 6 pruned nodes, max_depth=5\u001b[0m\n",
      "\u001b[34m[42]#011train-error:0.1456#011validation-error:0.1892\u001b[0m\n",
      "\u001b[34m[14:17:08] src/tree/updater_prune.cc:74: tree pruning end, 1 roots, 28 extra nodes, 6 pruned nodes, max_depth=5\u001b[0m\n",
      "\u001b[34m[43]#011train-error:0.144867#011validation-error:0.1874\u001b[0m\n",
      "\u001b[34m[14:17:09] src/tree/updater_prune.cc:74: tree pruning end, 1 roots, 20 extra nodes, 6 pruned nodes, max_depth=5\u001b[0m\n",
      "\u001b[34m[44]#011train-error:0.143333#011validation-error:0.1853\u001b[0m\n",
      "\u001b[34m[14:17:11] src/tree/updater_prune.cc:74: tree pruning end, 1 roots, 30 extra nodes, 14 pruned nodes, max_depth=5\u001b[0m\n",
      "\u001b[34m[45]#011train-error:0.1418#011validation-error:0.1859\u001b[0m\n",
      "\u001b[34m[14:17:12] src/tree/updater_prune.cc:74: tree pruning end, 1 roots, 24 extra nodes, 6 pruned nodes, max_depth=5\u001b[0m\n",
      "\u001b[34m[46]#011train-error:0.141333#011validation-error:0.1847\u001b[0m\n",
      "\u001b[34m[14:17:13] src/tree/updater_prune.cc:74: tree pruning end, 1 roots, 20 extra nodes, 8 pruned nodes, max_depth=5\u001b[0m\n",
      "\u001b[34m[47]#011train-error:0.1408#011validation-error:0.1838\u001b[0m\n",
      "\u001b[34m[14:17:14] src/tree/updater_prune.cc:74: tree pruning end, 1 roots, 26 extra nodes, 4 pruned nodes, max_depth=5\u001b[0m\n",
      "\u001b[34m[48]#011train-error:0.139067#011validation-error:0.1838\u001b[0m\n",
      "\u001b[34m[14:17:16] src/tree/updater_prune.cc:74: tree pruning end, 1 roots, 16 extra nodes, 8 pruned nodes, max_depth=5\u001b[0m\n",
      "\u001b[34m[49]#011train-error:0.137667#011validation-error:0.1825\u001b[0m\n",
      "\u001b[34m[14:17:17] src/tree/updater_prune.cc:74: tree pruning end, 1 roots, 16 extra nodes, 6 pruned nodes, max_depth=5\u001b[0m\n",
      "\u001b[34m[50]#011train-error:0.136467#011validation-error:0.1809\u001b[0m\n",
      "\u001b[34m[14:17:18] src/tree/updater_prune.cc:74: tree pruning end, 1 roots, 20 extra nodes, 12 pruned nodes, max_depth=5\u001b[0m\n",
      "\u001b[34m[51]#011train-error:0.135933#011validation-error:0.1807\u001b[0m\n",
      "\u001b[34m[14:17:20] src/tree/updater_prune.cc:74: tree pruning end, 1 roots, 22 extra nodes, 8 pruned nodes, max_depth=5\u001b[0m\n",
      "\u001b[34m[52]#011train-error:0.134667#011validation-error:0.1798\u001b[0m\n",
      "\u001b[34m[14:17:21] src/tree/updater_prune.cc:74: tree pruning end, 1 roots, 14 extra nodes, 14 pruned nodes, max_depth=5\u001b[0m\n",
      "\u001b[34m[53]#011train-error:0.133733#011validation-error:0.1796\u001b[0m\n",
      "\u001b[34m[14:17:22] src/tree/updater_prune.cc:74: tree pruning end, 1 roots, 16 extra nodes, 8 pruned nodes, max_depth=5\u001b[0m\n",
      "\u001b[34m[54]#011train-error:0.133533#011validation-error:0.1791\u001b[0m\n",
      "\u001b[34m[14:17:23] src/tree/updater_prune.cc:74: tree pruning end, 1 roots, 20 extra nodes, 4 pruned nodes, max_depth=5\u001b[0m\n",
      "\u001b[34m[55]#011train-error:0.1322#011validation-error:0.1786\u001b[0m\n",
      "\u001b[34m[14:17:25] src/tree/updater_prune.cc:74: tree pruning end, 1 roots, 24 extra nodes, 10 pruned nodes, max_depth=5\u001b[0m\n",
      "\u001b[34m[56]#011train-error:0.1306#011validation-error:0.1775\u001b[0m\n",
      "\u001b[34m[14:17:26] src/tree/updater_prune.cc:74: tree pruning end, 1 roots, 16 extra nodes, 18 pruned nodes, max_depth=5\u001b[0m\n",
      "\u001b[34m[57]#011train-error:0.1296#011validation-error:0.1772\u001b[0m\n",
      "\u001b[34m[14:17:27] src/tree/updater_prune.cc:74: tree pruning end, 1 roots, 30 extra nodes, 8 pruned nodes, max_depth=5\u001b[0m\n",
      "\u001b[34m[58]#011train-error:0.128667#011validation-error:0.1764\u001b[0m\n",
      "\u001b[34m[14:17:29] src/tree/updater_prune.cc:74: tree pruning end, 1 roots, 14 extra nodes, 14 pruned nodes, max_depth=5\u001b[0m\n",
      "\u001b[34m[59]#011train-error:0.1282#011validation-error:0.1769\u001b[0m\n",
      "\u001b[34m[14:17:30] src/tree/updater_prune.cc:74: tree pruning end, 1 roots, 46 extra nodes, 6 pruned nodes, max_depth=5\u001b[0m\n",
      "\u001b[34m[60]#011train-error:0.1276#011validation-error:0.1745\u001b[0m\n",
      "\u001b[34m[14:17:31] src/tree/updater_prune.cc:74: tree pruning end, 1 roots, 34 extra nodes, 4 pruned nodes, max_depth=5\u001b[0m\n",
      "\u001b[34m[61]#011train-error:0.125333#011validation-error:0.176\u001b[0m\n",
      "\u001b[34m[14:17:32] src/tree/updater_prune.cc:74: tree pruning end, 1 roots, 24 extra nodes, 12 pruned nodes, max_depth=5\u001b[0m\n",
      "\u001b[34m[62]#011train-error:0.124733#011validation-error:0.1752\u001b[0m\n",
      "\u001b[34m[14:17:34] src/tree/updater_prune.cc:74: tree pruning end, 1 roots, 16 extra nodes, 18 pruned nodes, max_depth=5\u001b[0m\n",
      "\u001b[34m[63]#011train-error:0.1248#011validation-error:0.1751\u001b[0m\n",
      "\u001b[34m[14:17:35] src/tree/updater_prune.cc:74: tree pruning end, 1 roots, 14 extra nodes, 4 pruned nodes, max_depth=5\u001b[0m\n",
      "\u001b[34m[64]#011train-error:0.123933#011validation-error:0.1736\u001b[0m\n",
      "\u001b[34m[14:17:36] src/tree/updater_prune.cc:74: tree pruning end, 1 roots, 24 extra nodes, 10 pruned nodes, max_depth=5\u001b[0m\n",
      "\u001b[34m[65]#011train-error:0.122733#011validation-error:0.1739\u001b[0m\n",
      "\u001b[34m[14:17:38] src/tree/updater_prune.cc:74: tree pruning end, 1 roots, 12 extra nodes, 4 pruned nodes, max_depth=5\u001b[0m\n",
      "\u001b[34m[66]#011train-error:0.121867#011validation-error:0.1736\u001b[0m\n",
      "\u001b[34m[14:17:39] src/tree/updater_prune.cc:74: tree pruning end, 1 roots, 12 extra nodes, 4 pruned nodes, max_depth=5\u001b[0m\n",
      "\u001b[34m[67]#011train-error:0.121333#011validation-error:0.1734\u001b[0m\n",
      "\u001b[34m[14:17:40] src/tree/updater_prune.cc:74: tree pruning end, 1 roots, 14 extra nodes, 8 pruned nodes, max_depth=5\u001b[0m\n",
      "\u001b[34m[68]#011train-error:0.120467#011validation-error:0.1727\u001b[0m\n",
      "\u001b[34m[14:17:41] src/tree/updater_prune.cc:74: tree pruning end, 1 roots, 26 extra nodes, 8 pruned nodes, max_depth=5\u001b[0m\n",
      "\u001b[34m[69]#011train-error:0.119333#011validation-error:0.1716\u001b[0m\n",
      "\u001b[34m[14:17:43] src/tree/updater_prune.cc:74: tree pruning end, 1 roots, 30 extra nodes, 10 pruned nodes, max_depth=5\u001b[0m\n",
      "\u001b[34m[70]#011train-error:0.118067#011validation-error:0.1715\u001b[0m\n",
      "\u001b[34m[14:17:44] src/tree/updater_prune.cc:74: tree pruning end, 1 roots, 32 extra nodes, 6 pruned nodes, max_depth=5\u001b[0m\n",
      "\u001b[34m[71]#011train-error:0.117#011validation-error:0.1708\u001b[0m\n",
      "\u001b[34m[14:17:45] src/tree/updater_prune.cc:74: tree pruning end, 1 roots, 12 extra nodes, 8 pruned nodes, max_depth=5\u001b[0m\n",
      "\u001b[34m[72]#011train-error:0.116867#011validation-error:0.1695\u001b[0m\n",
      "\u001b[34m[14:17:47] src/tree/updater_prune.cc:74: tree pruning end, 1 roots, 18 extra nodes, 10 pruned nodes, max_depth=5\u001b[0m\n",
      "\u001b[34m[73]#011train-error:0.116667#011validation-error:0.1685\u001b[0m\n",
      "\u001b[34m[14:17:48] src/tree/updater_prune.cc:74: tree pruning end, 1 roots, 24 extra nodes, 4 pruned nodes, max_depth=5\u001b[0m\n",
      "\u001b[34m[74]#011train-error:0.115533#011validation-error:0.1681\u001b[0m\n",
      "\u001b[34m[14:17:49] src/tree/updater_prune.cc:74: tree pruning end, 1 roots, 14 extra nodes, 12 pruned nodes, max_depth=5\u001b[0m\n",
      "\u001b[34m[75]#011train-error:0.115667#011validation-error:0.1674\u001b[0m\n",
      "\u001b[34m[14:17:50] src/tree/updater_prune.cc:74: tree pruning end, 1 roots, 12 extra nodes, 4 pruned nodes, max_depth=5\u001b[0m\n",
      "\u001b[34m[76]#011train-error:0.115733#011validation-error:0.167\u001b[0m\n",
      "\u001b[34m[14:17:52] src/tree/updater_prune.cc:74: tree pruning end, 1 roots, 34 extra nodes, 6 pruned nodes, max_depth=5\u001b[0m\n",
      "\u001b[34m[77]#011train-error:0.114467#011validation-error:0.1663\u001b[0m\n",
      "\u001b[34m[14:17:53] src/tree/updater_prune.cc:74: tree pruning end, 1 roots, 24 extra nodes, 14 pruned nodes, max_depth=5\u001b[0m\n",
      "\u001b[34m[78]#011train-error:0.114067#011validation-error:0.1666\u001b[0m\n",
      "\u001b[34m[14:17:54] src/tree/updater_prune.cc:74: tree pruning end, 1 roots, 32 extra nodes, 12 pruned nodes, max_depth=5\u001b[0m\n",
      "\u001b[34m[79]#011train-error:0.113533#011validation-error:0.1671\u001b[0m\n",
      "\u001b[34m[14:17:55] src/tree/updater_prune.cc:74: tree pruning end, 1 roots, 14 extra nodes, 4 pruned nodes, max_depth=5\u001b[0m\n",
      "\u001b[34m[80]#011train-error:0.112467#011validation-error:0.1664\u001b[0m\n",
      "\u001b[34m[14:17:57] src/tree/updater_prune.cc:74: tree pruning end, 1 roots, 12 extra nodes, 10 pruned nodes, max_depth=5\u001b[0m\n",
      "\u001b[34m[81]#011train-error:0.1122#011validation-error:0.1658\u001b[0m\n",
      "\u001b[34m[14:17:58] src/tree/updater_prune.cc:74: tree pruning end, 1 roots, 16 extra nodes, 16 pruned nodes, max_depth=5\u001b[0m\n",
      "\u001b[34m[82]#011train-error:0.1116#011validation-error:0.1653\u001b[0m\n",
      "\u001b[34m[14:17:59] src/tree/updater_prune.cc:74: tree pruning end, 1 roots, 30 extra nodes, 12 pruned nodes, max_depth=5\u001b[0m\n",
      "\u001b[34m[83]#011train-error:0.110133#011validation-error:0.1645\u001b[0m\n",
      "\u001b[34m[14:18:01] src/tree/updater_prune.cc:74: tree pruning end, 1 roots, 20 extra nodes, 6 pruned nodes, max_depth=5\u001b[0m\n",
      "\u001b[34m[84]#011train-error:0.110067#011validation-error:0.1636\u001b[0m\n",
      "\u001b[34m[14:18:02] src/tree/updater_prune.cc:74: tree pruning end, 1 roots, 20 extra nodes, 8 pruned nodes, max_depth=5\u001b[0m\n",
      "\u001b[34m[85]#011train-error:0.1092#011validation-error:0.1642\u001b[0m\n",
      "\u001b[34m[14:18:03] src/tree/updater_prune.cc:74: tree pruning end, 1 roots, 16 extra nodes, 10 pruned nodes, max_depth=5\u001b[0m\n",
      "\u001b[34m[86]#011train-error:0.109#011validation-error:0.1637\u001b[0m\n",
      "\u001b[34m[14:18:05] src/tree/updater_prune.cc:74: tree pruning end, 1 roots, 24 extra nodes, 8 pruned nodes, max_depth=5\u001b[0m\n",
      "\u001b[34m[87]#011train-error:0.1084#011validation-error:0.1633\u001b[0m\n",
      "\u001b[34m[14:18:07] src/tree/updater_prune.cc:74: tree pruning end, 1 roots, 24 extra nodes, 0 pruned nodes, max_depth=5\u001b[0m\n",
      "\u001b[34m[88]#011train-error:0.106533#011validation-error:0.1631\u001b[0m\n",
      "\u001b[34m[14:18:08] src/tree/updater_prune.cc:74: tree pruning end, 1 roots, 28 extra nodes, 4 pruned nodes, max_depth=5\u001b[0m\n",
      "\u001b[34m[89]#011train-error:0.105067#011validation-error:0.163\u001b[0m\n",
      "\u001b[34m[14:18:09] src/tree/updater_prune.cc:74: tree pruning end, 1 roots, 14 extra nodes, 12 pruned nodes, max_depth=5\u001b[0m\n",
      "\u001b[34m[90]#011train-error:0.1054#011validation-error:0.1624\u001b[0m\n",
      "\u001b[34m[14:18:11] src/tree/updater_prune.cc:74: tree pruning end, 1 roots, 18 extra nodes, 14 pruned nodes, max_depth=5\u001b[0m\n",
      "\u001b[34m[91]#011train-error:0.1054#011validation-error:0.162\u001b[0m\n",
      "\u001b[34m[14:18:12] src/tree/updater_prune.cc:74: tree pruning end, 1 roots, 16 extra nodes, 14 pruned nodes, max_depth=5\u001b[0m\n",
      "\u001b[34m[92]#011train-error:0.104933#011validation-error:0.1613\u001b[0m\n",
      "\u001b[34m[14:18:13] src/tree/updater_prune.cc:74: tree pruning end, 1 roots, 38 extra nodes, 6 pruned nodes, max_depth=5\u001b[0m\n",
      "\u001b[34m[93]#011train-error:0.104533#011validation-error:0.1614\u001b[0m\n",
      "\u001b[34m[14:18:15] src/tree/updater_prune.cc:74: tree pruning end, 1 roots, 12 extra nodes, 10 pruned nodes, max_depth=5\u001b[0m\n",
      "\u001b[34m[94]#011train-error:0.104#011validation-error:0.1602\u001b[0m\n",
      "\u001b[34m[14:18:16] src/tree/updater_prune.cc:74: tree pruning end, 1 roots, 16 extra nodes, 8 pruned nodes, max_depth=5\u001b[0m\n",
      "\u001b[34m[95]#011train-error:0.1034#011validation-error:0.1605\u001b[0m\n",
      "\u001b[34m[14:18:17] src/tree/updater_prune.cc:74: tree pruning end, 1 roots, 16 extra nodes, 16 pruned nodes, max_depth=5\u001b[0m\n",
      "\u001b[34m[96]#011train-error:0.102733#011validation-error:0.1598\u001b[0m\n",
      "\u001b[34m[14:18:19] src/tree/updater_prune.cc:74: tree pruning end, 1 roots, 26 extra nodes, 8 pruned nodes, max_depth=5\u001b[0m\n",
      "\u001b[34m[97]#011train-error:0.1012#011validation-error:0.1587\u001b[0m\n",
      "\u001b[34m[14:18:20] src/tree/updater_prune.cc:74: tree pruning end, 1 roots, 16 extra nodes, 6 pruned nodes, max_depth=5\u001b[0m\n",
      "\u001b[34m[98]#011train-error:0.099867#011validation-error:0.1581\u001b[0m\n",
      "\u001b[34m[14:18:21] src/tree/updater_prune.cc:74: tree pruning end, 1 roots, 22 extra nodes, 10 pruned nodes, max_depth=5\u001b[0m\n",
      "\u001b[34m[99]#011train-error:0.099067#011validation-error:0.1583\u001b[0m\n",
      "\u001b[34m[14:18:22] src/tree/updater_prune.cc:74: tree pruning end, 1 roots, 12 extra nodes, 2 pruned nodes, max_depth=5\u001b[0m\n",
      "\u001b[34m[100]#011train-error:0.098733#011validation-error:0.1579\u001b[0m\n",
      "\u001b[34m[14:18:24] src/tree/updater_prune.cc:74: tree pruning end, 1 roots, 12 extra nodes, 8 pruned nodes, max_depth=5\u001b[0m\n",
      "\u001b[34m[101]#011train-error:0.099#011validation-error:0.1579\u001b[0m\n",
      "\u001b[34m[14:18:25] src/tree/updater_prune.cc:74: tree pruning end, 1 roots, 20 extra nodes, 0 pruned nodes, max_depth=5\u001b[0m\n",
      "\u001b[34m[102]#011train-error:0.098467#011validation-error:0.1575\u001b[0m\n",
      "\u001b[34m[14:18:26] src/tree/updater_prune.cc:74: tree pruning end, 1 roots, 18 extra nodes, 10 pruned nodes, max_depth=5\u001b[0m\n",
      "\u001b[34m[103]#011train-error:0.0982#011validation-error:0.158\u001b[0m\n",
      "\u001b[34m[14:18:28] src/tree/updater_prune.cc:74: tree pruning end, 1 roots, 28 extra nodes, 12 pruned nodes, max_depth=5\u001b[0m\n",
      "\u001b[34m[104]#011train-error:0.0974#011validation-error:0.1584\u001b[0m\n",
      "\u001b[34m[14:18:29] src/tree/updater_prune.cc:74: tree pruning end, 1 roots, 18 extra nodes, 6 pruned nodes, max_depth=5\u001b[0m\n",
      "\u001b[34m[105]#011train-error:0.096733#011validation-error:0.1574\u001b[0m\n",
      "\u001b[34m[14:18:30] src/tree/updater_prune.cc:74: tree pruning end, 1 roots, 16 extra nodes, 2 pruned nodes, max_depth=5\u001b[0m\n",
      "\u001b[34m[106]#011train-error:0.096067#011validation-error:0.158\u001b[0m\n",
      "\u001b[34m[14:18:32] src/tree/updater_prune.cc:74: tree pruning end, 1 roots, 20 extra nodes, 8 pruned nodes, max_depth=5\u001b[0m\n",
      "\u001b[34m[107]#011train-error:0.096133#011validation-error:0.1573\u001b[0m\n",
      "\u001b[34m[14:18:33] src/tree/updater_prune.cc:74: tree pruning end, 1 roots, 16 extra nodes, 0 pruned nodes, max_depth=5\u001b[0m\n",
      "\u001b[34m[108]#011train-error:0.096133#011validation-error:0.1564\u001b[0m\n",
      "\u001b[34m[14:18:34] src/tree/updater_prune.cc:74: tree pruning end, 1 roots, 16 extra nodes, 6 pruned nodes, max_depth=5\u001b[0m\n",
      "\u001b[34m[109]#011train-error:0.096067#011validation-error:0.1566\u001b[0m\n",
      "\u001b[34m[14:18:35] src/tree/updater_prune.cc:74: tree pruning end, 1 roots, 16 extra nodes, 6 pruned nodes, max_depth=5\u001b[0m\n",
      "\u001b[34m[110]#011train-error:0.096667#011validation-error:0.1552\u001b[0m\n",
      "\u001b[34m[14:18:37] src/tree/updater_prune.cc:74: tree pruning end, 1 roots, 22 extra nodes, 8 pruned nodes, max_depth=5\u001b[0m\n",
      "\u001b[34m[111]#011train-error:0.095533#011validation-error:0.1555\u001b[0m\n",
      "\u001b[34m[14:18:38] src/tree/updater_prune.cc:74: tree pruning end, 1 roots, 24 extra nodes, 8 pruned nodes, max_depth=5\u001b[0m\n",
      "\u001b[34m[112]#011train-error:0.094733#011validation-error:0.1562\u001b[0m\n",
      "\u001b[34m[14:18:39] src/tree/updater_prune.cc:74: tree pruning end, 1 roots, 16 extra nodes, 8 pruned nodes, max_depth=5\u001b[0m\n",
      "\u001b[34m[113]#011train-error:0.0944#011validation-error:0.1552\u001b[0m\n",
      "\u001b[34m[14:18:41] src/tree/updater_prune.cc:74: tree pruning end, 1 roots, 24 extra nodes, 18 pruned nodes, max_depth=5\u001b[0m\n",
      "\u001b[34m[114]#011train-error:0.094133#011validation-error:0.155\u001b[0m\n",
      "\u001b[34m[14:18:42] src/tree/updater_prune.cc:74: tree pruning end, 1 roots, 14 extra nodes, 10 pruned nodes, max_depth=5\u001b[0m\n",
      "\u001b[34m[115]#011train-error:0.094333#011validation-error:0.1556\u001b[0m\n",
      "\u001b[34m[14:18:43] src/tree/updater_prune.cc:74: tree pruning end, 1 roots, 16 extra nodes, 14 pruned nodes, max_depth=5\u001b[0m\n",
      "\u001b[34m[116]#011train-error:0.093733#011validation-error:0.1547\u001b[0m\n",
      "\u001b[34m[14:18:44] src/tree/updater_prune.cc:74: tree pruning end, 1 roots, 12 extra nodes, 2 pruned nodes, max_depth=5\u001b[0m\n",
      "\u001b[34m[117]#011train-error:0.094333#011validation-error:0.154\u001b[0m\n",
      "\u001b[34m[14:18:46] src/tree/updater_prune.cc:74: tree pruning end, 1 roots, 18 extra nodes, 8 pruned nodes, max_depth=5\u001b[0m\n",
      "\u001b[34m[118]#011train-error:0.093133#011validation-error:0.154\u001b[0m\n",
      "\u001b[34m[14:18:47] src/tree/updater_prune.cc:74: tree pruning end, 1 roots, 10 extra nodes, 6 pruned nodes, max_depth=5\u001b[0m\n",
      "\u001b[34m[119]#011train-error:0.092333#011validation-error:0.1535\u001b[0m\n",
      "\u001b[34m[14:18:48] src/tree/updater_prune.cc:74: tree pruning end, 1 roots, 20 extra nodes, 4 pruned nodes, max_depth=5\u001b[0m\n",
      "\u001b[34m[120]#011train-error:0.091867#011validation-error:0.1539\u001b[0m\n",
      "\u001b[34m[14:18:50] src/tree/updater_prune.cc:74: tree pruning end, 1 roots, 18 extra nodes, 10 pruned nodes, max_depth=5\u001b[0m\n",
      "\u001b[34m[121]#011train-error:0.091733#011validation-error:0.1542\u001b[0m\n",
      "\u001b[34m[14:18:51] src/tree/updater_prune.cc:74: tree pruning end, 1 roots, 24 extra nodes, 8 pruned nodes, max_depth=5\u001b[0m\n",
      "\u001b[34m[122]#011train-error:0.090867#011validation-error:0.154\u001b[0m\n",
      "\u001b[34m[14:18:52] src/tree/updater_prune.cc:74: tree pruning end, 1 roots, 10 extra nodes, 2 pruned nodes, max_depth=5\u001b[0m\n",
      "\u001b[34m[123]#011train-error:0.090667#011validation-error:0.154\u001b[0m\n",
      "\u001b[34m[14:18:54] src/tree/updater_prune.cc:74: tree pruning end, 1 roots, 12 extra nodes, 4 pruned nodes, max_depth=5\u001b[0m\n",
      "\u001b[34m[124]#011train-error:0.0904#011validation-error:0.154\u001b[0m\n",
      "\u001b[34m[14:18:55] src/tree/updater_prune.cc:74: tree pruning end, 1 roots, 12 extra nodes, 6 pruned nodes, max_depth=5\u001b[0m\n",
      "\u001b[34m[125]#011train-error:0.0904#011validation-error:0.1529\u001b[0m\n",
      "\u001b[34m[14:18:56] src/tree/updater_prune.cc:74: tree pruning end, 1 roots, 20 extra nodes, 8 pruned nodes, max_depth=5\u001b[0m\n",
      "\u001b[34m[126]#011train-error:0.090267#011validation-error:0.1533\u001b[0m\n",
      "\u001b[34m[14:18:57] src/tree/updater_prune.cc:74: tree pruning end, 1 roots, 12 extra nodes, 2 pruned nodes, max_depth=5\u001b[0m\n",
      "\u001b[34m[127]#011train-error:0.090067#011validation-error:0.1531\u001b[0m\n",
      "\u001b[34m[14:18:59] src/tree/updater_prune.cc:74: tree pruning end, 1 roots, 18 extra nodes, 12 pruned nodes, max_depth=5\u001b[0m\n",
      "\u001b[34m[128]#011train-error:0.089533#011validation-error:0.1535\u001b[0m\n",
      "\u001b[34m[14:19:00] src/tree/updater_prune.cc:74: tree pruning end, 1 roots, 24 extra nodes, 8 pruned nodes, max_depth=5\u001b[0m\n",
      "\u001b[34m[129]#011train-error:0.088533#011validation-error:0.1533\u001b[0m\n",
      "\u001b[34m[14:19:01] src/tree/updater_prune.cc:74: tree pruning end, 1 roots, 16 extra nodes, 4 pruned nodes, max_depth=5\u001b[0m\n",
      "\u001b[34m[130]#011train-error:0.088667#011validation-error:0.1527\u001b[0m\n",
      "\u001b[34m[14:19:03] src/tree/updater_prune.cc:74: tree pruning end, 1 roots, 10 extra nodes, 10 pruned nodes, max_depth=5\u001b[0m\n",
      "\u001b[34m[131]#011train-error:0.088467#011validation-error:0.1523\u001b[0m\n",
      "\u001b[34m[14:19:04] src/tree/updater_prune.cc:74: tree pruning end, 1 roots, 20 extra nodes, 6 pruned nodes, max_depth=5\u001b[0m\n",
      "\u001b[34m[132]#011train-error:0.0878#011validation-error:0.1524\u001b[0m\n",
      "\u001b[34m[14:19:06] src/tree/updater_prune.cc:74: tree pruning end, 1 roots, 12 extra nodes, 0 pruned nodes, max_depth=5\u001b[0m\n",
      "\u001b[34m[133]#011train-error:0.0878#011validation-error:0.1518\u001b[0m\n",
      "\u001b[34m[14:19:07] src/tree/updater_prune.cc:74: tree pruning end, 1 roots, 14 extra nodes, 6 pruned nodes, max_depth=5\u001b[0m\n",
      "\u001b[34m[134]#011train-error:0.087467#011validation-error:0.1519\u001b[0m\n",
      "\u001b[34m[14:19:09] src/tree/updater_prune.cc:74: tree pruning end, 1 roots, 22 extra nodes, 12 pruned nodes, max_depth=5\u001b[0m\n",
      "\u001b[34m[135]#011train-error:0.087#011validation-error:0.151\u001b[0m\n",
      "\u001b[34m[14:19:10] src/tree/updater_prune.cc:74: tree pruning end, 1 roots, 22 extra nodes, 14 pruned nodes, max_depth=5\u001b[0m\n",
      "\u001b[34m[136]#011train-error:0.086067#011validation-error:0.1506\u001b[0m\n",
      "\u001b[34m[14:19:11] src/tree/updater_prune.cc:74: tree pruning end, 1 roots, 10 extra nodes, 10 pruned nodes, max_depth=5\u001b[0m\n",
      "\u001b[34m[137]#011train-error:0.0862#011validation-error:0.1505\u001b[0m\n",
      "\u001b[34m[14:19:13] src/tree/updater_prune.cc:74: tree pruning end, 1 roots, 16 extra nodes, 12 pruned nodes, max_depth=5\u001b[0m\n",
      "\u001b[34m[138]#011train-error:0.085867#011validation-error:0.1507\u001b[0m\n",
      "\u001b[34m[14:19:14] src/tree/updater_prune.cc:74: tree pruning end, 1 roots, 14 extra nodes, 10 pruned nodes, max_depth=5\u001b[0m\n",
      "\u001b[34m[139]#011train-error:0.085533#011validation-error:0.1504\u001b[0m\n",
      "\u001b[34m[14:19:15] src/tree/updater_prune.cc:74: tree pruning end, 1 roots, 12 extra nodes, 8 pruned nodes, max_depth=5\u001b[0m\n",
      "\u001b[34m[140]#011train-error:0.085667#011validation-error:0.1501\u001b[0m\n",
      "\u001b[34m[14:19:17] src/tree/updater_prune.cc:74: tree pruning end, 1 roots, 14 extra nodes, 6 pruned nodes, max_depth=5\u001b[0m\n",
      "\u001b[34m[141]#011train-error:0.0854#011validation-error:0.1496\u001b[0m\n",
      "\u001b[34m[14:19:18] src/tree/updater_prune.cc:74: tree pruning end, 1 roots, 12 extra nodes, 8 pruned nodes, max_depth=5\u001b[0m\n",
      "\u001b[34m[142]#011train-error:0.085#011validation-error:0.1498\u001b[0m\n",
      "\u001b[34m[14:19:19] src/tree/updater_prune.cc:74: tree pruning end, 1 roots, 12 extra nodes, 18 pruned nodes, max_depth=5\u001b[0m\n",
      "\u001b[34m[143]#011train-error:0.084067#011validation-error:0.1491\u001b[0m\n",
      "\u001b[34m[14:19:20] src/tree/updater_prune.cc:74: tree pruning end, 1 roots, 10 extra nodes, 4 pruned nodes, max_depth=5\u001b[0m\n",
      "\u001b[34m[144]#011train-error:0.084467#011validation-error:0.1489\u001b[0m\n",
      "\u001b[34m[14:19:22] src/tree/updater_prune.cc:74: tree pruning end, 1 roots, 20 extra nodes, 4 pruned nodes, max_depth=5\u001b[0m\n",
      "\u001b[34m[145]#011train-error:0.0842#011validation-error:0.1485\u001b[0m\n",
      "\u001b[34m[14:19:23] src/tree/updater_prune.cc:74: tree pruning end, 1 roots, 16 extra nodes, 8 pruned nodes, max_depth=5\u001b[0m\n",
      "\u001b[34m[146]#011train-error:0.0842#011validation-error:0.1481\u001b[0m\n",
      "\u001b[34m[14:19:24] src/tree/updater_prune.cc:74: tree pruning end, 1 roots, 12 extra nodes, 8 pruned nodes, max_depth=5\u001b[0m\n",
      "\u001b[34m[147]#011train-error:0.083933#011validation-error:0.1479\u001b[0m\n",
      "\u001b[34m[14:19:25] src/tree/updater_prune.cc:74: tree pruning end, 1 roots, 14 extra nodes, 10 pruned nodes, max_depth=5\u001b[0m\n",
      "\u001b[34m[148]#011train-error:0.084333#011validation-error:0.1486\u001b[0m\n",
      "\u001b[34m[14:19:27] src/tree/updater_prune.cc:74: tree pruning end, 1 roots, 20 extra nodes, 6 pruned nodes, max_depth=5\u001b[0m\n",
      "\u001b[34m[149]#011train-error:0.083867#011validation-error:0.1487\u001b[0m\n",
      "\u001b[34m[14:19:28] src/tree/updater_prune.cc:74: tree pruning end, 1 roots, 20 extra nodes, 14 pruned nodes, max_depth=5\u001b[0m\n",
      "\u001b[34m[150]#011train-error:0.083067#011validation-error:0.1484\u001b[0m\n",
      "\u001b[34m[14:19:29] src/tree/updater_prune.cc:74: tree pruning end, 1 roots, 12 extra nodes, 6 pruned nodes, max_depth=5\u001b[0m\n",
      "\u001b[34m[151]#011train-error:0.082733#011validation-error:0.1489\u001b[0m\n",
      "\u001b[34m[14:19:31] src/tree/updater_prune.cc:74: tree pruning end, 1 roots, 12 extra nodes, 10 pruned nodes, max_depth=5\u001b[0m\n",
      "\u001b[34m[152]#011train-error:0.082733#011validation-error:0.1491\u001b[0m\n",
      "\u001b[34m[14:19:32] src/tree/updater_prune.cc:74: tree pruning end, 1 roots, 18 extra nodes, 12 pruned nodes, max_depth=5\u001b[0m\n",
      "\u001b[34m[153]#011train-error:0.082067#011validation-error:0.1489\u001b[0m\n",
      "\u001b[34m[14:19:33] src/tree/updater_prune.cc:74: tree pruning end, 1 roots, 14 extra nodes, 0 pruned nodes, max_depth=5\u001b[0m\n",
      "\u001b[34m[154]#011train-error:0.081733#011validation-error:0.1483\u001b[0m\n",
      "\u001b[34m[14:19:34] src/tree/updater_prune.cc:74: tree pruning end, 1 roots, 22 extra nodes, 16 pruned nodes, max_depth=5\u001b[0m\n",
      "\u001b[34m[155]#011train-error:0.081533#011validation-error:0.1474\u001b[0m\n",
      "\u001b[34m[14:19:36] src/tree/updater_prune.cc:74: tree pruning end, 1 roots, 16 extra nodes, 8 pruned nodes, max_depth=5\u001b[0m\n",
      "\u001b[34m[156]#011train-error:0.0818#011validation-error:0.1471\u001b[0m\n",
      "\u001b[34m[14:19:37] src/tree/updater_prune.cc:74: tree pruning end, 1 roots, 10 extra nodes, 10 pruned nodes, max_depth=5\u001b[0m\n",
      "\u001b[34m[157]#011train-error:0.0816#011validation-error:0.1469\u001b[0m\n",
      "\u001b[34m[14:19:38] src/tree/updater_prune.cc:74: tree pruning end, 1 roots, 16 extra nodes, 8 pruned nodes, max_depth=5\u001b[0m\n",
      "\u001b[34m[158]#011train-error:0.081267#011validation-error:0.1467\u001b[0m\n",
      "\u001b[34m[14:19:40] src/tree/updater_prune.cc:74: tree pruning end, 1 roots, 20 extra nodes, 8 pruned nodes, max_depth=5\u001b[0m\n",
      "\u001b[34m[159]#011train-error:0.080333#011validation-error:0.146\u001b[0m\n",
      "\u001b[34m[14:19:41] src/tree/updater_prune.cc:74: tree pruning end, 1 roots, 12 extra nodes, 8 pruned nodes, max_depth=5\u001b[0m\n",
      "\u001b[34m[160]#011train-error:0.0802#011validation-error:0.1462\u001b[0m\n",
      "\u001b[34m[14:19:42] src/tree/updater_prune.cc:74: tree pruning end, 1 roots, 24 extra nodes, 6 pruned nodes, max_depth=5\u001b[0m\n",
      "\u001b[34m[161]#011train-error:0.078867#011validation-error:0.1464\u001b[0m\n",
      "\u001b[34m[14:19:44] src/tree/updater_prune.cc:74: tree pruning end, 1 roots, 16 extra nodes, 4 pruned nodes, max_depth=5\u001b[0m\n",
      "\u001b[34m[162]#011train-error:0.079733#011validation-error:0.1473\u001b[0m\n",
      "\u001b[34m[14:19:45] src/tree/updater_prune.cc:74: tree pruning end, 1 roots, 10 extra nodes, 4 pruned nodes, max_depth=5\u001b[0m\n",
      "\u001b[34m[163]#011train-error:0.0798#011validation-error:0.1468\u001b[0m\n",
      "\u001b[34m[14:19:46] src/tree/updater_prune.cc:74: tree pruning end, 1 roots, 12 extra nodes, 6 pruned nodes, max_depth=5\u001b[0m\n",
      "\u001b[34m[164]#011train-error:0.0798#011validation-error:0.1463\u001b[0m\n",
      "\u001b[34m[14:19:47] src/tree/updater_prune.cc:74: tree pruning end, 1 roots, 14 extra nodes, 4 pruned nodes, max_depth=5\u001b[0m\n",
      "\u001b[34m[165]#011train-error:0.0798#011validation-error:0.1454\u001b[0m\n",
      "\u001b[34m[14:19:49] src/tree/updater_prune.cc:74: tree pruning end, 1 roots, 20 extra nodes, 12 pruned nodes, max_depth=5\u001b[0m\n",
      "\u001b[34m[166]#011train-error:0.0792#011validation-error:0.145\u001b[0m\n",
      "\u001b[34m[14:19:50] src/tree/updater_prune.cc:74: tree pruning end, 1 roots, 18 extra nodes, 10 pruned nodes, max_depth=5\u001b[0m\n",
      "\u001b[34m[167]#011train-error:0.078867#011validation-error:0.145\u001b[0m\n",
      "\u001b[34m[14:19:51] src/tree/updater_prune.cc:74: tree pruning end, 1 roots, 20 extra nodes, 6 pruned nodes, max_depth=5\u001b[0m\n",
      "\u001b[34m[168]#011train-error:0.0792#011validation-error:0.1449\u001b[0m\n",
      "\u001b[34m[14:19:53] src/tree/updater_prune.cc:74: tree pruning end, 1 roots, 18 extra nodes, 12 pruned nodes, max_depth=5\u001b[0m\n",
      "\u001b[34m[169]#011train-error:0.0788#011validation-error:0.1448\u001b[0m\n",
      "\u001b[34m[14:19:54] src/tree/updater_prune.cc:74: tree pruning end, 1 roots, 16 extra nodes, 4 pruned nodes, max_depth=5\u001b[0m\n",
      "\u001b[34m[170]#011train-error:0.078267#011validation-error:0.1446\u001b[0m\n",
      "\u001b[34m[14:19:55] src/tree/updater_prune.cc:74: tree pruning end, 1 roots, 16 extra nodes, 6 pruned nodes, max_depth=5\u001b[0m\n",
      "\u001b[34m[171]#011train-error:0.078067#011validation-error:0.145\u001b[0m\n",
      "\u001b[34m[14:19:56] src/tree/updater_prune.cc:74: tree pruning end, 1 roots, 16 extra nodes, 4 pruned nodes, max_depth=5\u001b[0m\n",
      "\u001b[34m[172]#011train-error:0.078067#011validation-error:0.1447\u001b[0m\n",
      "\u001b[34m[14:19:58] src/tree/updater_prune.cc:74: tree pruning end, 1 roots, 16 extra nodes, 10 pruned nodes, max_depth=5\u001b[0m\n",
      "\u001b[34m[173]#011train-error:0.077667#011validation-error:0.1447\u001b[0m\n",
      "\u001b[34m[14:19:59] src/tree/updater_prune.cc:74: tree pruning end, 1 roots, 16 extra nodes, 4 pruned nodes, max_depth=5\u001b[0m\n",
      "\u001b[34m[174]#011train-error:0.076733#011validation-error:0.1443\u001b[0m\n",
      "\u001b[34m[14:20:00] src/tree/updater_prune.cc:74: tree pruning end, 1 roots, 32 extra nodes, 8 pruned nodes, max_depth=5\u001b[0m\n",
      "\u001b[34m[175]#011train-error:0.0764#011validation-error:0.1451\u001b[0m\n",
      "\u001b[34m[14:20:02] src/tree/updater_prune.cc:74: tree pruning end, 1 roots, 14 extra nodes, 10 pruned nodes, max_depth=5\u001b[0m\n",
      "\u001b[34m[176]#011train-error:0.0764#011validation-error:0.1448\u001b[0m\n",
      "\u001b[34m[14:20:03] src/tree/updater_prune.cc:74: tree pruning end, 1 roots, 20 extra nodes, 14 pruned nodes, max_depth=5\u001b[0m\n",
      "\u001b[34m[177]#011train-error:0.076467#011validation-error:0.1446\u001b[0m\n",
      "\u001b[34m[14:20:04] src/tree/updater_prune.cc:74: tree pruning end, 1 roots, 16 extra nodes, 18 pruned nodes, max_depth=5\u001b[0m\n",
      "\u001b[34m[178]#011train-error:0.076#011validation-error:0.1449\u001b[0m\n",
      "\u001b[34m[14:20:06] src/tree/updater_prune.cc:74: tree pruning end, 1 roots, 10 extra nodes, 10 pruned nodes, max_depth=5\u001b[0m\n",
      "\u001b[34m[179]#011train-error:0.075933#011validation-error:0.1444\u001b[0m\n",
      "\u001b[34m[14:20:08] src/tree/updater_prune.cc:74: tree pruning end, 1 roots, 10 extra nodes, 6 pruned nodes, max_depth=5\u001b[0m\n",
      "\u001b[34m[180]#011train-error:0.075667#011validation-error:0.1446\u001b[0m\n",
      "\u001b[34m[14:20:09] src/tree/updater_prune.cc:74: tree pruning end, 1 roots, 12 extra nodes, 0 pruned nodes, max_depth=5\u001b[0m\n",
      "\u001b[34m[181]#011train-error:0.075467#011validation-error:0.1443\u001b[0m\n",
      "\u001b[34m[14:20:10] src/tree/updater_prune.cc:74: tree pruning end, 1 roots, 20 extra nodes, 8 pruned nodes, max_depth=5\u001b[0m\n",
      "\u001b[34m[182]#011train-error:0.074733#011validation-error:0.1432\u001b[0m\n",
      "\u001b[34m[14:20:11] src/tree/updater_prune.cc:74: tree pruning end, 1 roots, 12 extra nodes, 6 pruned nodes, max_depth=5\u001b[0m\n",
      "\u001b[34m[183]#011train-error:0.074667#011validation-error:0.1427\u001b[0m\n",
      "\u001b[34m[14:20:13] src/tree/updater_prune.cc:74: tree pruning end, 1 roots, 12 extra nodes, 6 pruned nodes, max_depth=5\u001b[0m\n",
      "\u001b[34m[184]#011train-error:0.074267#011validation-error:0.1434\u001b[0m\n",
      "\u001b[34m[14:20:14] src/tree/updater_prune.cc:74: tree pruning end, 1 roots, 10 extra nodes, 16 pruned nodes, max_depth=5\u001b[0m\n",
      "\u001b[34m[185]#011train-error:0.0744#011validation-error:0.1433\u001b[0m\n",
      "\u001b[34m[14:20:15] src/tree/updater_prune.cc:74: tree pruning end, 1 roots, 16 extra nodes, 8 pruned nodes, max_depth=5\u001b[0m\n",
      "\u001b[34m[186]#011train-error:0.0734#011validation-error:0.1432\u001b[0m\n",
      "\u001b[34m[14:20:16] src/tree/updater_prune.cc:74: tree pruning end, 1 roots, 22 extra nodes, 10 pruned nodes, max_depth=5\u001b[0m\n",
      "\u001b[34m[187]#011train-error:0.073667#011validation-error:0.1432\u001b[0m\n",
      "\u001b[34m[14:20:18] src/tree/updater_prune.cc:74: tree pruning end, 1 roots, 18 extra nodes, 8 pruned nodes, max_depth=5\u001b[0m\n",
      "\u001b[34m[188]#011train-error:0.074067#011validation-error:0.1428\u001b[0m\n",
      "\u001b[34m[14:20:19] src/tree/updater_prune.cc:74: tree pruning end, 1 roots, 10 extra nodes, 0 pruned nodes, max_depth=5\u001b[0m\n",
      "\u001b[34m[189]#011train-error:0.074267#011validation-error:0.1423\u001b[0m\n",
      "\u001b[34m[14:20:20] src/tree/updater_prune.cc:74: tree pruning end, 1 roots, 16 extra nodes, 4 pruned nodes, max_depth=5\u001b[0m\n",
      "\u001b[34m[190]#011train-error:0.0734#011validation-error:0.143\u001b[0m\n",
      "\u001b[34m[14:20:22] src/tree/updater_prune.cc:74: tree pruning end, 1 roots, 18 extra nodes, 10 pruned nodes, max_depth=5\u001b[0m\n",
      "\u001b[34m[191]#011train-error:0.072733#011validation-error:0.1432\u001b[0m\n",
      "\u001b[34m[14:20:23] src/tree/updater_prune.cc:74: tree pruning end, 1 roots, 36 extra nodes, 8 pruned nodes, max_depth=5\u001b[0m\n",
      "\u001b[34m[192]#011train-error:0.072#011validation-error:0.1425\u001b[0m\n",
      "\u001b[34m[14:20:24] src/tree/updater_prune.cc:74: tree pruning end, 1 roots, 10 extra nodes, 10 pruned nodes, max_depth=5\u001b[0m\n",
      "\u001b[34m[193]#011train-error:0.0722#011validation-error:0.1425\u001b[0m\n",
      "\u001b[34m[14:20:25] src/tree/updater_prune.cc:74: tree pruning end, 1 roots, 14 extra nodes, 4 pruned nodes, max_depth=5\u001b[0m\n",
      "\u001b[34m[194]#011train-error:0.070867#011validation-error:0.143\u001b[0m\n",
      "\u001b[34m[14:20:27] src/tree/updater_prune.cc:74: tree pruning end, 1 roots, 12 extra nodes, 10 pruned nodes, max_depth=5\u001b[0m\n",
      "\u001b[34m[195]#011train-error:0.070933#011validation-error:0.1437\u001b[0m\n",
      "\u001b[34m[14:20:28] src/tree/updater_prune.cc:74: tree pruning end, 1 roots, 12 extra nodes, 8 pruned nodes, max_depth=5\u001b[0m\n",
      "\u001b[34m[196]#011train-error:0.0706#011validation-error:0.1441\u001b[0m\n",
      "\u001b[34m[14:20:29] src/tree/updater_prune.cc:74: tree pruning end, 1 roots, 18 extra nodes, 8 pruned nodes, max_depth=5\u001b[0m\n",
      "\u001b[34m[197]#011train-error:0.0702#011validation-error:0.1431\u001b[0m\n",
      "\u001b[34m[14:20:31] src/tree/updater_prune.cc:74: tree pruning end, 1 roots, 10 extra nodes, 2 pruned nodes, max_depth=5\u001b[0m\n",
      "\u001b[34m[198]#011train-error:0.070333#011validation-error:0.1435\u001b[0m\n",
      "\u001b[34m[14:20:32] src/tree/updater_prune.cc:74: tree pruning end, 1 roots, 12 extra nodes, 6 pruned nodes, max_depth=5\u001b[0m\n",
      "\u001b[34m[199]#011train-error:0.070267#011validation-error:0.1437\u001b[0m\n",
      "\u001b[34mStopping. Best iteration:\u001b[0m\n",
      "\u001b[34m[189]#011train-error:0.074267#011validation-error:0.1423\n",
      "\u001b[0m\n",
      "\n",
      "2021-01-26 14:21:15 Uploading - Uploading generated training model\n",
      "2021-01-26 14:21:15 Completed - Training job completed\n",
      "Training seconds: 360\n",
      "Billable seconds: 360\n"
     ]
    }
   ],
   "source": [
    "xgb.fit({'train': s3_input_train, 'validation': s3_input_validation})"
   ]
  },
  {
   "cell_type": "markdown",
   "metadata": {},
   "source": [
    "## Step 5: Testing the model\n",
    "\n",
    "Now that we've fit our XGBoost model, it's time to see how well it performs. To do this we will use SageMakers Batch Transform functionality. Batch Transform is a convenient way to perform inference on a large dataset in a way that is not realtime. That is, we don't necessarily need to use our model's results immediately and instead we can perform inference on a large number of samples. An example of this in industry might be performing an end of month report. This method of inference can also be useful to us as it means that we can perform inference on our entire test set. \n",
    "\n",
    "To perform a Batch Transformation we need to first create a transformer objects from our trained estimator object."
   ]
  },
  {
   "cell_type": "code",
   "execution_count": 25,
   "metadata": {},
   "outputs": [
    {
     "name": "stderr",
     "output_type": "stream",
     "text": [
      "Parameter image will be renamed to image_uri in SageMaker Python SDK v2.\n"
     ]
    }
   ],
   "source": [
    "xgb_transformer = xgb.transformer(instance_count = 1, instance_type = 'ml.m4.xlarge')"
   ]
  },
  {
   "cell_type": "markdown",
   "metadata": {},
   "source": [
    "Next we actually perform the transform job. When doing so we need to make sure to specify the type of data we are sending so that it is serialized correctly in the background. In our case we are providing our model with csv data so we specify `text/csv`. Also, if the test data that we have provided is too large to process all at once then we need to specify how the data file should be split up. Since each line is a single entry in our data set we tell SageMaker that it can split the input on each line."
   ]
  },
  {
   "cell_type": "code",
   "execution_count": 26,
   "metadata": {},
   "outputs": [],
   "source": [
    "xgb_transformer.transform(test_location, content_type='text/csv', split_type='Line')"
   ]
  },
  {
   "cell_type": "markdown",
   "metadata": {},
   "source": [
    "Currently the transform job is running but it is doing so in the background. Since we wish to wait until the transform job is done and we would like a bit of feedback we can run the `wait()` method."
   ]
  },
  {
   "cell_type": "code",
   "execution_count": 27,
   "metadata": {},
   "outputs": [
    {
     "name": "stdout",
     "output_type": "stream",
     "text": [
      "............................\u001b[32m2021-01-26T14:26:15.676:[sagemaker logs]: MaxConcurrentTransforms=4, MaxPayloadInMB=6, BatchStrategy=MULTI_RECORD\u001b[0m\n",
      "\u001b[34mArguments: serve\u001b[0m\n",
      "\u001b[34m[2021-01-26 14:26:15 +0000] [1] [INFO] Starting gunicorn 19.7.1\u001b[0m\n",
      "\u001b[35mArguments: serve\u001b[0m\n",
      "\u001b[35m[2021-01-26 14:26:15 +0000] [1] [INFO] Starting gunicorn 19.7.1\u001b[0m\n",
      "\u001b[34m[2021-01-26 14:26:15 +0000] [1] [INFO] Listening at: http://0.0.0.0:8080 (1)\u001b[0m\n",
      "\u001b[34m[2021-01-26 14:26:15 +0000] [1] [INFO] Using worker: gevent\u001b[0m\n",
      "\u001b[34m[2021-01-26 14:26:15 +0000] [36] [INFO] Booting worker with pid: 36\u001b[0m\n",
      "\u001b[34m[2021-01-26 14:26:15 +0000] [37] [INFO] Booting worker with pid: 37\u001b[0m\n",
      "\u001b[34m[2021-01-26 14:26:15 +0000] [38] [INFO] Booting worker with pid: 38\u001b[0m\n",
      "\u001b[34m[2021-01-26 14:26:15 +0000] [39] [INFO] Booting worker with pid: 39\u001b[0m\n",
      "\u001b[34m[2021-01-26:14:26:15:INFO] Model loaded successfully for worker : 36\u001b[0m\n",
      "\u001b[34m[2021-01-26:14:26:15:INFO] Model loaded successfully for worker : 37\u001b[0m\n",
      "\u001b[34m[2021-01-26:14:26:15:INFO] Model loaded successfully for worker : 38\u001b[0m\n",
      "\u001b[34m[2021-01-26:14:26:15:INFO] Model loaded successfully for worker : 39\u001b[0m\n",
      "\u001b[34m[2021-01-26:14:26:15:INFO] Sniff delimiter as ','\u001b[0m\n",
      "\u001b[34m[2021-01-26:14:26:15:INFO] Determined delimiter of CSV input is ','\u001b[0m\n",
      "\u001b[34m[2021-01-26:14:26:16:INFO] Sniff delimiter as ','\u001b[0m\n",
      "\u001b[34m[2021-01-26:14:26:16:INFO] Determined delimiter of CSV input is ','\u001b[0m\n",
      "\u001b[34m[2021-01-26:14:26:16:INFO] Sniff delimiter as ','\u001b[0m\n",
      "\u001b[34m[2021-01-26:14:26:16:INFO] Determined delimiter of CSV input is ','\u001b[0m\n",
      "\u001b[35m[2021-01-26 14:26:15 +0000] [1] [INFO] Listening at: http://0.0.0.0:8080 (1)\u001b[0m\n",
      "\u001b[35m[2021-01-26 14:26:15 +0000] [1] [INFO] Using worker: gevent\u001b[0m\n",
      "\u001b[35m[2021-01-26 14:26:15 +0000] [36] [INFO] Booting worker with pid: 36\u001b[0m\n",
      "\u001b[35m[2021-01-26 14:26:15 +0000] [37] [INFO] Booting worker with pid: 37\u001b[0m\n",
      "\u001b[35m[2021-01-26 14:26:15 +0000] [38] [INFO] Booting worker with pid: 38\u001b[0m\n",
      "\u001b[35m[2021-01-26 14:26:15 +0000] [39] [INFO] Booting worker with pid: 39\u001b[0m\n",
      "\u001b[35m[2021-01-26:14:26:15:INFO] Model loaded successfully for worker : 36\u001b[0m\n",
      "\u001b[35m[2021-01-26:14:26:15:INFO] Model loaded successfully for worker : 37\u001b[0m\n",
      "\u001b[35m[2021-01-26:14:26:15:INFO] Model loaded successfully for worker : 38\u001b[0m\n",
      "\u001b[35m[2021-01-26:14:26:15:INFO] Model loaded successfully for worker : 39\u001b[0m\n",
      "\u001b[35m[2021-01-26:14:26:15:INFO] Sniff delimiter as ','\u001b[0m\n",
      "\u001b[35m[2021-01-26:14:26:15:INFO] Determined delimiter of CSV input is ','\u001b[0m\n",
      "\u001b[35m[2021-01-26:14:26:16:INFO] Sniff delimiter as ','\u001b[0m\n",
      "\u001b[35m[2021-01-26:14:26:16:INFO] Determined delimiter of CSV input is ','\u001b[0m\n",
      "\u001b[35m[2021-01-26:14:26:16:INFO] Sniff delimiter as ','\u001b[0m\n",
      "\u001b[35m[2021-01-26:14:26:16:INFO] Determined delimiter of CSV input is ','\u001b[0m\n",
      "\u001b[34m[2021-01-26:14:26:16:INFO] Sniff delimiter as ','\u001b[0m\n",
      "\u001b[34m[2021-01-26:14:26:16:INFO] Determined delimiter of CSV input is ','\u001b[0m\n",
      "\u001b[35m[2021-01-26:14:26:16:INFO] Sniff delimiter as ','\u001b[0m\n",
      "\u001b[35m[2021-01-26:14:26:16:INFO] Determined delimiter of CSV input is ','\u001b[0m\n",
      "\u001b[34m[2021-01-26:14:26:18:INFO] Sniff delimiter as ','\u001b[0m\n",
      "\u001b[34m[2021-01-26:14:26:18:INFO] Determined delimiter of CSV input is ','\u001b[0m\n",
      "\u001b[34m[2021-01-26:14:26:18:INFO] Sniff delimiter as ','\u001b[0m\n",
      "\u001b[35m[2021-01-26:14:26:18:INFO] Sniff delimiter as ','\u001b[0m\n",
      "\u001b[35m[2021-01-26:14:26:18:INFO] Determined delimiter of CSV input is ','\u001b[0m\n",
      "\u001b[35m[2021-01-26:14:26:18:INFO] Sniff delimiter as ','\u001b[0m\n",
      "\u001b[34m[2021-01-26:14:26:18:INFO] Determined delimiter of CSV input is ','\u001b[0m\n",
      "\u001b[34m[2021-01-26:14:26:18:INFO] Sniff delimiter as ','\u001b[0m\n",
      "\u001b[34m[2021-01-26:14:26:18:INFO] Determined delimiter of CSV input is ','\u001b[0m\n",
      "\u001b[35m[2021-01-26:14:26:18:INFO] Determined delimiter of CSV input is ','\u001b[0m\n",
      "\u001b[35m[2021-01-26:14:26:18:INFO] Sniff delimiter as ','\u001b[0m\n",
      "\u001b[35m[2021-01-26:14:26:18:INFO] Determined delimiter of CSV input is ','\u001b[0m\n",
      "\u001b[34m[2021-01-26:14:26:20:INFO] Sniff delimiter as ','\u001b[0m\n",
      "\u001b[34m[2021-01-26:14:26:20:INFO] Determined delimiter of CSV input is ','\u001b[0m\n",
      "\u001b[35m[2021-01-26:14:26:20:INFO] Sniff delimiter as ','\u001b[0m\n",
      "\u001b[35m[2021-01-26:14:26:20:INFO] Determined delimiter of CSV input is ','\u001b[0m\n",
      "\u001b[34m[2021-01-26:14:26:20:INFO] Sniff delimiter as ','\u001b[0m\n",
      "\u001b[34m[2021-01-26:14:26:20:INFO] Determined delimiter of CSV input is ','\u001b[0m\n",
      "\u001b[35m[2021-01-26:14:26:20:INFO] Sniff delimiter as ','\u001b[0m\n",
      "\u001b[35m[2021-01-26:14:26:20:INFO] Determined delimiter of CSV input is ','\u001b[0m\n",
      "\u001b[34m[2021-01-26:14:26:21:INFO] Sniff delimiter as ','\u001b[0m\n",
      "\u001b[34m[2021-01-26:14:26:21:INFO] Determined delimiter of CSV input is ','\u001b[0m\n",
      "\u001b[34m[2021-01-26:14:26:21:INFO] Sniff delimiter as ','\u001b[0m\n",
      "\u001b[34m[2021-01-26:14:26:21:INFO] Determined delimiter of CSV input is ','\u001b[0m\n",
      "\u001b[35m[2021-01-26:14:26:21:INFO] Sniff delimiter as ','\u001b[0m\n",
      "\u001b[35m[2021-01-26:14:26:21:INFO] Determined delimiter of CSV input is ','\u001b[0m\n",
      "\u001b[35m[2021-01-26:14:26:21:INFO] Sniff delimiter as ','\u001b[0m\n",
      "\u001b[35m[2021-01-26:14:26:21:INFO] Determined delimiter of CSV input is ','\u001b[0m\n",
      "\u001b[34m[2021-01-26:14:26:22:INFO] Sniff delimiter as ','\u001b[0m\n",
      "\u001b[34m[2021-01-26:14:26:22:INFO] Determined delimiter of CSV input is ','\u001b[0m\n",
      "\u001b[35m[2021-01-26:14:26:22:INFO] Sniff delimiter as ','\u001b[0m\n",
      "\u001b[35m[2021-01-26:14:26:22:INFO] Determined delimiter of CSV input is ','\u001b[0m\n",
      "\u001b[34m[2021-01-26:14:26:24:INFO] Sniff delimiter as ','\u001b[0m\n",
      "\u001b[34m[2021-01-26:14:26:24:INFO] Determined delimiter of CSV input is ','\u001b[0m\n",
      "\u001b[35m[2021-01-26:14:26:24:INFO] Sniff delimiter as ','\u001b[0m\n",
      "\u001b[35m[2021-01-26:14:26:24:INFO] Determined delimiter of CSV input is ','\u001b[0m\n",
      "\u001b[34m[2021-01-26:14:26:24:INFO] Sniff delimiter as ','\u001b[0m\n",
      "\u001b[34m[2021-01-26:14:26:24:INFO] Determined delimiter of CSV input is ','\u001b[0m\n",
      "\u001b[34m[2021-01-26:14:26:24:INFO] Sniff delimiter as ','\u001b[0m\n",
      "\u001b[34m[2021-01-26:14:26:24:INFO] Determined delimiter of CSV input is ','\u001b[0m\n",
      "\u001b[35m[2021-01-26:14:26:24:INFO] Sniff delimiter as ','\u001b[0m\n",
      "\u001b[35m[2021-01-26:14:26:24:INFO] Determined delimiter of CSV input is ','\u001b[0m\n",
      "\u001b[35m[2021-01-26:14:26:24:INFO] Sniff delimiter as ','\u001b[0m\n",
      "\u001b[35m[2021-01-26:14:26:24:INFO] Determined delimiter of CSV input is ','\u001b[0m\n",
      "\u001b[34m[2021-01-26:14:26:25:INFO] Sniff delimiter as ','\u001b[0m\n",
      "\u001b[34m[2021-01-26:14:26:25:INFO] Determined delimiter of CSV input is ','\u001b[0m\n",
      "\u001b[35m[2021-01-26:14:26:25:INFO] Sniff delimiter as ','\u001b[0m\n",
      "\u001b[35m[2021-01-26:14:26:25:INFO] Determined delimiter of CSV input is ','\u001b[0m\n",
      "\u001b[34m[2021-01-26:14:26:26:INFO] Sniff delimiter as ','\u001b[0m\n",
      "\u001b[34m[2021-01-26:14:26:26:INFO] Determined delimiter of CSV input is ','\u001b[0m\n",
      "\u001b[35m[2021-01-26:14:26:26:INFO] Sniff delimiter as ','\u001b[0m\n",
      "\u001b[35m[2021-01-26:14:26:26:INFO] Determined delimiter of CSV input is ','\u001b[0m\n",
      "\u001b[34m[2021-01-26:14:26:27:INFO] Sniff delimiter as ','\u001b[0m\n",
      "\u001b[34m[2021-01-26:14:26:27:INFO] Determined delimiter of CSV input is ','\u001b[0m\n",
      "\u001b[34m[2021-01-26:14:26:27:INFO] Sniff delimiter as ','\u001b[0m\n",
      "\u001b[34m[2021-01-26:14:26:27:INFO] Determined delimiter of CSV input is ','\u001b[0m\n",
      "\u001b[34m[2021-01-26:14:26:27:INFO] Sniff delimiter as ','\u001b[0m\n",
      "\u001b[34m[2021-01-26:14:26:27:INFO] Determined delimiter of CSV input is ','\u001b[0m\n",
      "\u001b[34m[2021-01-26:14:26:27:INFO] Sniff delimiter as ','\u001b[0m\n",
      "\u001b[34m[2021-01-26:14:26:27:INFO] Determined delimiter of CSV input is ','\u001b[0m\n",
      "\u001b[35m[2021-01-26:14:26:27:INFO] Sniff delimiter as ','\u001b[0m\n",
      "\u001b[35m[2021-01-26:14:26:27:INFO] Determined delimiter of CSV input is ','\u001b[0m\n",
      "\u001b[35m[2021-01-26:14:26:27:INFO] Sniff delimiter as ','\u001b[0m\n",
      "\u001b[35m[2021-01-26:14:26:27:INFO] Determined delimiter of CSV input is ','\u001b[0m\n",
      "\u001b[35m[2021-01-26:14:26:27:INFO] Sniff delimiter as ','\u001b[0m\n",
      "\u001b[35m[2021-01-26:14:26:27:INFO] Determined delimiter of CSV input is ','\u001b[0m\n",
      "\u001b[35m[2021-01-26:14:26:27:INFO] Sniff delimiter as ','\u001b[0m\n",
      "\u001b[35m[2021-01-26:14:26:27:INFO] Determined delimiter of CSV input is ','\u001b[0m\n",
      "\u001b[34m[2021-01-26:14:26:30:INFO] Sniff delimiter as ','\u001b[0m\n",
      "\u001b[34m[2021-01-26:14:26:30:INFO] Determined delimiter of CSV input is ','\u001b[0m\n",
      "\u001b[34m[2021-01-26:14:26:30:INFO] Sniff delimiter as ','\u001b[0m\n",
      "\u001b[34m[2021-01-26:14:26:30:INFO] Determined delimiter of CSV input is ','\u001b[0m\n",
      "\u001b[35m[2021-01-26:14:26:30:INFO] Sniff delimiter as ','\u001b[0m\n",
      "\u001b[35m[2021-01-26:14:26:30:INFO] Determined delimiter of CSV input is ','\u001b[0m\n",
      "\u001b[35m[2021-01-26:14:26:30:INFO] Sniff delimiter as ','\u001b[0m\n",
      "\u001b[35m[2021-01-26:14:26:30:INFO] Determined delimiter of CSV input is ','\u001b[0m\n",
      "\u001b[34m[2021-01-26:14:26:30:INFO] Sniff delimiter as ','\u001b[0m\n",
      "\u001b[35m[2021-01-26:14:26:30:INFO] Sniff delimiter as ','\u001b[0m\n",
      "\u001b[34m[2021-01-26:14:26:30:INFO] Determined delimiter of CSV input is ','\u001b[0m\n",
      "\u001b[34m[2021-01-26:14:26:30:INFO] Sniff delimiter as ','\u001b[0m\n",
      "\u001b[34m[2021-01-26:14:26:30:INFO] Determined delimiter of CSV input is ','\u001b[0m\n",
      "\u001b[35m[2021-01-26:14:26:30:INFO] Determined delimiter of CSV input is ','\u001b[0m\n",
      "\u001b[35m[2021-01-26:14:26:30:INFO] Sniff delimiter as ','\u001b[0m\n",
      "\u001b[35m[2021-01-26:14:26:30:INFO] Determined delimiter of CSV input is ','\u001b[0m\n",
      "\n",
      "\u001b[34m[2021-01-26:14:26:32:INFO] Determined delimiter of CSV input is ','\u001b[0m\n",
      "\u001b[34m[2021-01-26:14:26:32:INFO] Sniff delimiter as ','\u001b[0m\n",
      "\u001b[34m[2021-01-26:14:26:32:INFO] Determined delimiter of CSV input is ','\u001b[0m\n",
      "\u001b[34m[2021-01-26:14:26:33:INFO] Sniff delimiter as ','\u001b[0m\n",
      "\u001b[34m[2021-01-26:14:26:33:INFO] Determined delimiter of CSV input is ','\u001b[0m\n",
      "\u001b[35m[2021-01-26:14:26:32:INFO] Determined delimiter of CSV input is ','\u001b[0m\n",
      "\u001b[35m[2021-01-26:14:26:32:INFO] Sniff delimiter as ','\u001b[0m\n",
      "\u001b[35m[2021-01-26:14:26:32:INFO] Determined delimiter of CSV input is ','\u001b[0m\n",
      "\u001b[35m[2021-01-26:14:26:33:INFO] Sniff delimiter as ','\u001b[0m\n",
      "\u001b[35m[2021-01-26:14:26:33:INFO] Determined delimiter of CSV input is ','\u001b[0m\n",
      "\u001b[34m[2021-01-26:14:26:35:INFO] Sniff delimiter as ','\u001b[0m\n",
      "\u001b[34m[2021-01-26:14:26:35:INFO] Determined delimiter of CSV input is ','\u001b[0m\n",
      "\u001b[35m[2021-01-26:14:26:35:INFO] Sniff delimiter as ','\u001b[0m\n",
      "\u001b[35m[2021-01-26:14:26:35:INFO] Determined delimiter of CSV input is ','\u001b[0m\n",
      "\u001b[34m[2021-01-26:14:26:35:INFO] Sniff delimiter as ','\u001b[0m\n",
      "\u001b[34m[2021-01-26:14:26:35:INFO] Determined delimiter of CSV input is ','\u001b[0m\n",
      "\u001b[34m[2021-01-26:14:26:35:INFO] Sniff delimiter as ','\u001b[0m\n",
      "\u001b[34m[2021-01-26:14:26:35:INFO] Determined delimiter of CSV input is ','\u001b[0m\n",
      "\u001b[34m[2021-01-26:14:26:35:INFO] Sniff delimiter as ','\u001b[0m\n",
      "\u001b[34m[2021-01-26:14:26:35:INFO] Determined delimiter of CSV input is ','\u001b[0m\n",
      "\u001b[35m[2021-01-26:14:26:35:INFO] Sniff delimiter as ','\u001b[0m\n",
      "\u001b[35m[2021-01-26:14:26:35:INFO] Determined delimiter of CSV input is ','\u001b[0m\n",
      "\u001b[35m[2021-01-26:14:26:35:INFO] Sniff delimiter as ','\u001b[0m\n",
      "\u001b[35m[2021-01-26:14:26:35:INFO] Determined delimiter of CSV input is ','\u001b[0m\n",
      "\u001b[35m[2021-01-26:14:26:35:INFO] Sniff delimiter as ','\u001b[0m\n",
      "\u001b[35m[2021-01-26:14:26:35:INFO] Determined delimiter of CSV input is ','\u001b[0m\n",
      "\u001b[34m[2021-01-26:14:26:37:INFO] Sniff delimiter as ','\u001b[0m\n",
      "\u001b[34m[2021-01-26:14:26:37:INFO] Determined delimiter of CSV input is ','\u001b[0m\n",
      "\u001b[34m[2021-01-26:14:26:37:INFO] Sniff delimiter as ','\u001b[0m\n",
      "\u001b[34m[2021-01-26:14:26:37:INFO] Determined delimiter of CSV input is ','\u001b[0m\n",
      "\u001b[34m[2021-01-26:14:26:37:INFO] Sniff delimiter as ','\u001b[0m\n",
      "\u001b[34m[2021-01-26:14:26:37:INFO] Determined delimiter of CSV input is ','\u001b[0m\n",
      "\u001b[35m[2021-01-26:14:26:37:INFO] Sniff delimiter as ','\u001b[0m\n",
      "\u001b[35m[2021-01-26:14:26:37:INFO] Determined delimiter of CSV input is ','\u001b[0m\n",
      "\u001b[35m[2021-01-26:14:26:37:INFO] Sniff delimiter as ','\u001b[0m\n",
      "\u001b[35m[2021-01-26:14:26:37:INFO] Determined delimiter of CSV input is ','\u001b[0m\n",
      "\u001b[35m[2021-01-26:14:26:37:INFO] Sniff delimiter as ','\u001b[0m\n",
      "\u001b[35m[2021-01-26:14:26:37:INFO] Determined delimiter of CSV input is ','\u001b[0m\n",
      "\u001b[34m[2021-01-26:14:26:37:INFO] Sniff delimiter as ','\u001b[0m\n",
      "\u001b[34m[2021-01-26:14:26:37:INFO] Determined delimiter of CSV input is ','\u001b[0m\n",
      "\u001b[35m[2021-01-26:14:26:37:INFO] Sniff delimiter as ','\u001b[0m\n",
      "\u001b[35m[2021-01-26:14:26:37:INFO] Determined delimiter of CSV input is ','\u001b[0m\n",
      "\u001b[34m[2021-01-26:14:26:39:INFO] Sniff delimiter as ','\u001b[0m\n",
      "\u001b[34m[2021-01-26:14:26:39:INFO] Determined delimiter of CSV input is ','\u001b[0m\n",
      "\u001b[35m[2021-01-26:14:26:39:INFO] Sniff delimiter as ','\u001b[0m\n",
      "\u001b[35m[2021-01-26:14:26:39:INFO] Determined delimiter of CSV input is ','\u001b[0m\n",
      "\u001b[34m[2021-01-26:14:26:39:INFO] Sniff delimiter as ','\u001b[0m\n",
      "\u001b[34m[2021-01-26:14:26:39:INFO] Determined delimiter of CSV input is ','\u001b[0m\n",
      "\u001b[35m[2021-01-26:14:26:39:INFO] Sniff delimiter as ','\u001b[0m\n",
      "\u001b[35m[2021-01-26:14:26:39:INFO] Determined delimiter of CSV input is ','\u001b[0m\n"
     ]
    }
   ],
   "source": [
    "xgb_transformer.wait()"
   ]
  },
  {
   "cell_type": "markdown",
   "metadata": {},
   "source": [
    "Now the transform job has executed and the result, the estimated sentiment of each review, has been saved on S3. Since we would rather work on this file locally we can perform a bit of notebook magic to copy the file to the `data_dir`."
   ]
  },
  {
   "cell_type": "code",
   "execution_count": 28,
   "metadata": {},
   "outputs": [
    {
     "name": "stdout",
     "output_type": "stream",
     "text": [
      "download: s3://sagemaker-us-east-2-793599939935/xgboost-2021-01-26-14-21-41-528/test.csv.out to ../data/sentiment_web_app/test.csv.out\r\n"
     ]
    }
   ],
   "source": [
    "!aws s3 cp --recursive $xgb_transformer.output_path $data_dir"
   ]
  },
  {
   "cell_type": "markdown",
   "metadata": {},
   "source": [
    "The last step is now to read in the output from our model, convert the output to something a little more usable, in this case we want the sentiment to be either `1` (positive) or `0` (negative), and then compare to the ground truth labels."
   ]
  },
  {
   "cell_type": "code",
   "execution_count": 29,
   "metadata": {},
   "outputs": [],
   "source": [
    "predictions = pd.read_csv(os.path.join(data_dir, 'test.csv.out'), header=None)\n",
    "predictions = [round(num) for num in predictions.squeeze().values]"
   ]
  },
  {
   "cell_type": "code",
   "execution_count": 30,
   "metadata": {},
   "outputs": [
    {
     "data": {
      "text/plain": [
       "0.86156"
      ]
     },
     "execution_count": 30,
     "metadata": {},
     "output_type": "execute_result"
    }
   ],
   "source": [
    "from sklearn.metrics import accuracy_score\n",
    "accuracy_score(test_y, predictions)"
   ]
  },
  {
   "cell_type": "markdown",
   "metadata": {},
   "source": [
    "## Step 6: Deploying the model\n",
    "\n",
    "Once we construct and fit our model, SageMaker stores the resulting model artifacts and we can use those to deploy an endpoint (inference code). To see this, look in the SageMaker console and you should see that a model has been created along with a link to the S3 location where the model artifacts have been stored.\n",
    "\n",
    "Deploying an endpoint is a lot like training the model with a few important differences. The first is that a deployed model doesn't change the model artifacts, so as you send it various testing instances the model won't change. Another difference is that since we aren't performing a fixed computation, as we were in the training step or while performing a batch transform, the compute instance that gets started stays running until we tell it to stop. This is important to note as if we forget and leave it running we will be charged the entire time.\n",
    "\n",
    "In other words **If you are no longer using a deployed endpoint, shut it down!**"
   ]
  },
  {
   "cell_type": "code",
   "execution_count": 31,
   "metadata": {},
   "outputs": [
    {
     "name": "stderr",
     "output_type": "stream",
     "text": [
      "Parameter image will be renamed to image_uri in SageMaker Python SDK v2.\n",
      "Using already existing model: xgboost-2021-01-26-14-12-55-267\n"
     ]
    },
    {
     "name": "stdout",
     "output_type": "stream",
     "text": [
      "-------------!"
     ]
    }
   ],
   "source": [
    "xgb_predictor = xgb.deploy(initial_instance_count = 1, instance_type = 'ml.m4.xlarge')"
   ]
  },
  {
   "cell_type": "markdown",
   "metadata": {},
   "source": [
    "### Testing the model (again)\n",
    "\n",
    "Now that we have deployed our endpoint, we can send the testing data to it and get back the inference results. We already did this earlier using the batch transform functionality of SageMaker, however, we will test our model again using the newly deployed endpoint so that we can make sure that it works properly and to get a bit of a feel for how the endpoint works.\n",
    "\n",
    "When using the created endpoint it is important to know that we are limited in the amount of information we can send in each call so we need to break the testing data up into chunks and then send each chunk. Also, we need to serialize our data before we send it to the endpoint to ensure that our data is transmitted properly. Fortunately, SageMaker can do the serialization part for us provided we tell it the format of our data."
   ]
  },
  {
   "cell_type": "code",
   "execution_count": 32,
   "metadata": {},
   "outputs": [],
   "source": [
    "from sagemaker.predictor import csv_serializer\n",
    "\n",
    "# We need to tell the endpoint what format the data we are sending is in so that SageMaker can perform the serialization.\n",
    "xgb_predictor.content_type = 'text/csv'\n",
    "xgb_predictor.serializer = csv_serializer"
   ]
  },
  {
   "cell_type": "code",
   "execution_count": 33,
   "metadata": {},
   "outputs": [],
   "source": [
    "# We split the data into chunks and send each chunk seperately, accumulating the results.\n",
    "\n",
    "def predict(data, rows=512):\n",
    "    split_array = np.array_split(data, int(data.shape[0] / float(rows) + 1))\n",
    "    predictions = ''\n",
    "    for array in split_array:\n",
    "        predictions = ','.join([predictions, xgb_predictor.predict(array).decode('utf-8')])\n",
    "    \n",
    "    return np.fromstring(predictions[1:], sep=',')"
   ]
  },
  {
   "cell_type": "code",
   "execution_count": 34,
   "metadata": {},
   "outputs": [],
   "source": [
    "test_X = pd.read_csv(os.path.join(data_dir, 'test.csv'), header=None).values\n",
    "\n",
    "predictions = predict(test_X)\n",
    "predictions = [round(num) for num in predictions]"
   ]
  },
  {
   "cell_type": "markdown",
   "metadata": {},
   "source": [
    "Lastly, we check to see what the accuracy of our model is."
   ]
  },
  {
   "cell_type": "code",
   "execution_count": 35,
   "metadata": {},
   "outputs": [
    {
     "data": {
      "text/plain": [
       "0.86156"
      ]
     },
     "execution_count": 35,
     "metadata": {},
     "output_type": "execute_result"
    }
   ],
   "source": [
    "from sklearn.metrics import accuracy_score\n",
    "accuracy_score(test_y, predictions)"
   ]
  },
  {
   "cell_type": "markdown",
   "metadata": {},
   "source": [
    "And the results here should agree with the model testing that we did earlier using the batch transform job.\n",
    "\n",
    "### Cleaning up\n",
    "\n",
    "Now that we've determined that deploying our model works as expected, we are going to shut it down. Remember that the longer the endpoint is left running, the greater the cost and since we have a bit more work to do before we are able to use our endpoint with our simple web app, we should shut everything down."
   ]
  },
  {
   "cell_type": "code",
   "execution_count": 36,
   "metadata": {},
   "outputs": [],
   "source": [
    "xgb_predictor.delete_endpoint()"
   ]
  },
  {
   "cell_type": "markdown",
   "metadata": {},
   "source": [
    "## Step 7: Putting our model to work\n",
    "\n",
    "As we've mentioned a few times now, our goal is to have our model deployed and then access it using a very simple web app. The intent is for this web app to take some user submitted data (a review), send it off to our endpoint (the model) and then display the result.\n",
    "\n",
    "However, there is a small catch. Currently the only way we can access the endpoint to send it data is using the SageMaker API. We can, if we wish, expose the actual URL that our model's endpoint is receiving data from, however, if we just send it data ourselves we will not get anything in return. This is because the endpoint created by SageMaker requires the entity accessing it have the correct permissions. So, we would need to somehow authenticate our web app with AWS.\n",
    "\n",
    "Having a website that authenticates to AWS seems a bit beyond the scope of this lesson so we will opt for an alternative approach. Namely, we will create a new endpoint which does not require authentication and which acts as a proxy for the SageMaker endpoint.\n",
    "\n",
    "As an additional constraint, we will try to avoid doing any data processing in the web app itself. Remember that when we constructed and tested our model we started with a movie review, then we simplified it by removing any html formatting and punctuation, then we constructed a bag of words embedding and the resulting vector is what we sent to our model. All of this needs to be done to our user input as well.\n",
    "\n",
    "Fortunately we can do all of this data processing in the backend, using Amazon's Lambda service.\n",
    "\n",
    "<img src=\"Web App Diagram.svg\">\n",
    "\n",
    "The diagram above gives an overview of how the various services will work together. On the far right is the model which we trained above and which will be deployed using SageMaker. On the far left is our web app that collects a user's movie review, sends it off and expects a positive or negative sentiment in return.\n",
    "\n",
    "In the middle is where some of the magic happens. We will construct a Lambda function, which you can think of as a straightforward Python function that can be executed whenever a specified event occurs. This Python function will do the data processing we need to perform on a user submitted review. In addition, we will give this function permission to send and recieve data from a SageMaker endpoint.\n",
    "\n",
    "Lastly, the method we will use to execute the Lambda function is a new endpoint that we will create using API Gateway. This endpoint will be a url that listens for data to be sent to it. Once it gets some data it will pass that data on to the Lambda function and then return whatever the Lambda function returns. Essentially it will act as an interface that lets our web app communicate with the Lambda function.\n",
    "\n",
    "### Processing a single review\n",
    "\n",
    "For now, suppose we are given a movie review by our user in the form of a string, like so:"
   ]
  },
  {
   "cell_type": "code",
   "execution_count": 37,
   "metadata": {},
   "outputs": [],
   "source": [
    "test_review = \"Nothing but a disgusting materialistic pageant of glistening abed remote control greed zombies, totally devoid of any heart or heat. A romantic comedy that has zero romantic chemestry and zero laughs!\""
   ]
  },
  {
   "cell_type": "markdown",
   "metadata": {},
   "source": [
    "How do we go from this string to the bag of words feature vector that is expected by our model?\n",
    "\n",
    "If we recall at the beginning of this notebook, the first step is to remove any unnecessary characters using the `review_to_words` method. Remember that we intentionally did this in a very simplistic way. This is because we are going to have to copy this method to our (eventual) Lambda function (we will go into more detail later) and this means it needs to be rather simplistic."
   ]
  },
  {
   "cell_type": "code",
   "execution_count": 38,
   "metadata": {},
   "outputs": [
    {
     "name": "stdout",
     "output_type": "stream",
     "text": [
      "nothing but a disgusting materialistic pageant of glistening abed remote control greed zombies totally devoid of any heart or heat a romantic comedy that has zero romantic chemestry and zero laughs\n"
     ]
    }
   ],
   "source": [
    "test_words = review_to_words(test_review)\n",
    "print(test_words)"
   ]
  },
  {
   "cell_type": "markdown",
   "metadata": {},
   "source": [
    "Next, we need to construct a bag of words embedding of the `test_words` string. To do this, remember that a bag of words embedding uses a `vocabulary` consisting of the most frequently appearing words in a set of documents. Then, for each word in the vocabulary we record the number of times that word appears in `test_words`. We constructed the `vocabulary` earlier using the training set for our problem so encoding `test_words` is relatively straightforward."
   ]
  },
  {
   "cell_type": "code",
   "execution_count": 39,
   "metadata": {},
   "outputs": [],
   "source": [
    "def bow_encoding(words, vocabulary):\n",
    "    bow = [0] * len(vocabulary) # Start by setting the count for each word in the vocabulary to zero.\n",
    "    for word in words.split():  # For each word in the string\n",
    "        if word in vocabulary:  # If the word is one that occurs in the vocabulary, increase its count.\n",
    "            bow[vocabulary[word]] += 1\n",
    "    return bow"
   ]
  },
  {
   "cell_type": "code",
   "execution_count": 40,
   "metadata": {},
   "outputs": [
    {
     "name": "stdout",
     "output_type": "stream",
     "text": [
      "[0, 0, 0, 0, 0, 0, 0, 0, 0, 0, 0, 0, 0, 0, 0, 0, 0, 0, 0, 0, 0, 0, 0, 0, 0, 0, 0, 0, 0, 0, 0, 0, 0, 0, 0, 0, 0, 0, 0, 0, 0, 0, 0, 0, 0, 0, 0, 0, 0, 0, 0, 0, 0, 0, 0, 0, 0, 0, 0, 0, 0, 0, 0, 0, 0, 0, 0, 0, 0, 0, 0, 0, 0, 0, 0, 0, 0, 0, 0, 0, 0, 0, 0, 0, 0, 0, 0, 0, 0, 0, 0, 0, 0, 0, 0, 0, 0, 0, 0, 0, 0, 0, 0, 0, 0, 0, 0, 0, 0, 0, 0, 0, 0, 0, 0, 0, 0, 0, 0, 0, 0, 0, 0, 0, 0, 0, 0, 0, 0, 0, 0, 0, 0, 0, 0, 0, 0, 0, 0, 0, 0, 0, 0, 0, 0, 0, 0, 0, 0, 0, 0, 0, 0, 0, 0, 0, 0, 0, 0, 0, 0, 0, 0, 0, 0, 0, 0, 0, 0, 0, 0, 0, 0, 0, 0, 0, 0, 0, 0, 0, 0, 0, 0, 0, 0, 0, 0, 0, 0, 0, 0, 0, 0, 0, 0, 0, 0, 0, 0, 0, 0, 0, 0, 0, 0, 0, 0, 0, 0, 0, 0, 0, 0, 0, 0, 0, 0, 0, 0, 0, 0, 0, 0, 0, 0, 0, 1, 0, 0, 0, 0, 0, 0, 0, 0, 0, 0, 0, 0, 0, 0, 0, 0, 0, 0, 0, 0, 0, 0, 0, 0, 0, 0, 0, 0, 0, 1, 0, 0, 0, 0, 0, 0, 0, 0, 0, 0, 0, 0, 0, 0, 0, 0, 0, 0, 0, 0, 0, 0, 0, 0, 0, 0, 0, 0, 0, 0, 0, 0, 0, 0, 0, 0, 0, 0, 0, 0, 0, 0, 0, 0, 0, 0, 0, 0, 0, 0, 0, 0, 0, 0, 0, 0, 0, 0, 0, 0, 0, 0, 0, 0, 0, 0, 0, 0, 0, 0, 0, 0, 0, 0, 0, 0, 0, 0, 0, 0, 0, 0, 0, 0, 0, 0, 0, 0, 0, 0, 0, 0, 0, 0, 0, 0, 0, 0, 0, 0, 0, 0, 0, 0, 0, 0, 0, 0, 0, 0, 0, 0, 0, 0, 0, 0, 0, 0, 0, 0, 0, 0, 0, 0, 0, 0, 0, 0, 0, 0, 0, 0, 0, 0, 0, 0, 0, 0, 0, 0, 0, 0, 0, 0, 0, 0, 0, 0, 0, 0, 0, 0, 0, 0, 0, 0, 0, 0, 0, 0, 0, 0, 0, 0, 0, 0, 0, 0, 0, 0, 0, 0, 0, 0, 0, 0, 0, 0, 0, 0, 0, 0, 0, 0, 0, 0, 0, 0, 0, 0, 0, 0, 0, 0, 0, 0, 0, 0, 0, 0, 0, 0, 0, 0, 0, 0, 0, 0, 0, 0, 0, 0, 0, 0, 0, 0, 0, 0, 0, 0, 0, 0, 0, 0, 0, 0, 0, 0, 0, 0, 0, 0, 0, 0, 0, 0, 0, 0, 0, 0, 0, 0, 0, 0, 0, 0, 0, 0, 0, 0, 0, 0, 0, 0, 0, 0, 0, 0, 0, 0, 0, 0, 0, 0, 0, 0, 0, 0, 0, 0, 0, 0, 0, 0, 0, 0, 0, 0, 0, 0, 0, 0, 0, 0, 0, 0, 0, 0, 0, 0, 0, 0, 0, 0, 0, 0, 0, 0, 0, 0, 0, 0, 0, 0, 0, 0, 0, 0, 0, 0, 0, 0, 0, 0, 0, 0, 0, 0, 0, 0, 0, 0, 0, 0, 0, 0, 0, 0, 0, 0, 0, 0, 0, 0, 0, 0, 0, 0, 0, 0, 0, 0, 0, 0, 0, 0, 0, 0, 0, 0, 0, 0, 0, 0, 0, 0, 0, 0, 0, 0, 0, 0, 0, 0, 0, 0, 0, 0, 0, 0, 0, 0, 0, 0, 0, 0, 0, 0, 0, 1, 0, 0, 0, 0, 0, 0, 0, 0, 0, 0, 0, 0, 0, 0, 0, 0, 0, 0, 0, 0, 0, 0, 0, 0, 0, 0, 0, 0, 0, 0, 0, 0, 0, 0, 0, 0, 0, 0, 0, 0, 0, 0, 0, 0, 0, 0, 0, 0, 0, 0, 0, 0, 0, 0, 0, 0, 0, 0, 0, 0, 0, 0, 0, 0, 0, 0, 0, 0, 0, 0, 0, 0, 0, 0, 0, 0, 0, 0, 0, 0, 0, 0, 0, 0, 0, 0, 0, 0, 0, 0, 0, 0, 0, 0, 0, 0, 0, 0, 0, 0, 0, 0, 0, 0, 0, 0, 0, 0, 0, 0, 0, 0, 0, 0, 0, 0, 0, 0, 0, 0, 0, 0, 0, 0, 0, 0, 0, 0, 0, 0, 0, 0, 0, 0, 0, 0, 0, 0, 0, 0, 0, 0, 0, 0, 0, 0, 0, 0, 0, 0, 0, 0, 0, 0, 0, 0, 0, 0, 0, 0, 0, 0, 0, 0, 0, 0, 0, 0, 0, 0, 0, 0, 0, 0, 0, 0, 0, 0, 0, 0, 0, 0, 0, 0, 0, 0, 0, 0, 0, 0, 0, 0, 0, 0, 0, 0, 0, 0, 0, 0, 0, 0, 0, 0, 0, 0, 0, 0, 0, 0, 0, 0, 0, 0, 0, 0, 0, 0, 0, 0, 0, 0, 0, 0, 0, 0, 0, 0, 0, 0, 0, 0, 0, 0, 0, 0, 0, 0, 0, 0, 0, 0, 0, 0, 0, 0, 0, 0, 0, 0, 0, 0, 0, 1, 0, 0, 0, 0, 0, 0, 0, 0, 0, 0, 0, 0, 0, 0, 0, 0, 0, 0, 0, 0, 0, 0, 0, 0, 0, 0, 0, 0, 0, 0, 0, 0, 0, 0, 0, 0, 0, 0, 0, 0, 0, 0, 0, 0, 0, 0, 0, 0, 0, 0, 0, 0, 0, 0, 0, 0, 0, 0, 0, 0, 0, 0, 0, 0, 0, 0, 0, 0, 0, 0, 0, 0, 0, 0, 0, 0, 0, 0, 0, 0, 0, 0, 0, 0, 0, 0, 1, 0, 0, 0, 0, 0, 0, 0, 0, 0, 0, 0, 0, 0, 0, 0, 0, 0, 0, 0, 0, 0, 0, 0, 0, 0, 0, 0, 0, 0, 0, 0, 0, 0, 0, 0, 0, 0, 0, 0, 0, 0, 0, 0, 0, 0, 0, 0, 0, 0, 0, 0, 0, 0, 0, 0, 0, 0, 0, 0, 0, 0, 0, 0, 0, 0, 0, 0, 0, 0, 0, 0, 0, 0, 0, 0, 0, 0, 0, 0, 0, 0, 0, 0, 0, 0, 0, 0, 0, 0, 0, 0, 0, 0, 0, 0, 0, 0, 0, 0, 0, 0, 0, 0, 0, 0, 0, 0, 0, 0, 0, 0, 0, 0, 0, 0, 0, 0, 0, 0, 0, 0, 0, 0, 0, 0, 0, 0, 0, 0, 0, 0, 0, 0, 0, 0, 0, 0, 0, 0, 0, 0, 0, 0, 0, 0, 0, 0, 0, 0, 0, 0, 0, 0, 0, 0, 0, 0, 0, 0, 0, 0, 0, 0, 0, 0, 0, 0, 0, 0, 0, 0, 0, 0, 0, 0, 0, 0, 0, 0, 0, 0, 0, 0, 0, 0, 0, 0, 0, 0, 0, 0, 0, 0, 0, 0, 0, 0, 0, 0, 0, 0, 0, 0, 0, 0, 0, 0, 0, 0, 0, 0, 0, 0, 0, 0, 0, 0, 0, 0, 0, 0, 0, 0, 0, 0, 0, 0, 0, 0, 0, 0, 0, 0, 0, 0, 0, 0, 0, 0, 0, 0, 0, 0, 0, 0, 0, 0, 0, 0, 0, 0, 0, 1, 0, 0, 0, 0, 0, 0, 0, 0, 0, 0, 0, 0, 0, 0, 0, 0, 0, 0, 0, 0, 0, 0, 0, 0, 0, 0, 0, 0, 0, 0, 0, 0, 0, 0, 0, 0, 0, 0, 0, 0, 0, 0, 0, 0, 0, 0, 0, 0, 0, 0, 0, 0, 0, 0, 0, 1, 0, 0, 0, 0, 0, 0, 0, 0, 0, 0, 0, 0, 0, 0, 0, 0, 0, 0, 0, 0, 0, 0, 0, 0, 0, 0, 0, 0, 0, 0, 0, 0, 0, 0, 0, 0, 0, 0, 0, 0, 0, 0, 0, 0, 0, 0, 0, 0, 0, 0, 0, 0, 0, 0, 0, 0, 0, 0, 0, 0, 0, 0, 0, 0, 0, 0, 0, 0, 0, 0, 0, 0, 0, 0, 0, 0, 0, 0, 0, 0, 0, 0, 0, 0, 0, 0, 0, 0, 0, 0, 0, 0, 0, 0, 0, 0, 0, 0, 0, 0, 0, 0, 0, 0, 0, 0, 0, 0, 0, 0, 0, 0, 0, 0, 0, 0, 0, 0, 0, 0, 0, 0, 0, 0, 0, 0, 0, 0, 0, 0, 0, 0, 0, 0, 0, 0, 0, 0, 0, 0, 0, 0, 0, 0, 0, 0, 0, 0, 0, 0, 0, 0, 0, 0, 0, 0, 0, 0, 0, 0, 0, 0, 0, 0, 0, 0, 0, 0, 0, 0, 0, 0, 0, 0, 0, 0, 0, 0, 0, 0, 0, 0, 0, 0, 0, 0, 0, 0, 0, 0, 0, 0, 0, 0, 0, 0, 0, 0, 0, 0, 0, 0, 0, 0, 0, 0, 0, 0, 0, 0, 0, 0, 0, 0, 0, 0, 0, 0, 0, 0, 0, 0, 0, 0, 0, 0, 0, 0, 0, 0, 0, 0, 0, 0, 0, 0, 0, 0, 0, 0, 0, 0, 0, 0, 0, 0, 0, 0, 0, 0, 0, 0, 0, 0, 0, 0, 0, 0, 0, 0, 0, 0, 0, 0, 0, 0, 0, 0, 0, 0, 0, 0, 0, 0, 0, 0, 0, 0, 0, 0, 0, 0, 0, 0, 0, 0, 0, 0, 0, 0, 0, 0, 0, 0, 0, 0, 0, 0, 0, 0, 0, 0, 0, 0, 0, 0, 0, 0, 0, 0, 0, 0, 0, 0, 0, 0, 0, 0, 0, 0, 0, 0, 0, 0, 0, 0, 0, 0, 0, 0, 0, 0, 0, 0, 0, 0, 0, 0, 0, 0, 0, 0, 0, 0, 0, 0, 0, 0, 0, 0, 0, 0, 0, 0, 0, 0, 0, 0, 0, 0, 0, 0, 0, 0, 0, 0, 0, 0, 0, 0, 0, 0, 0, 0, 0, 0, 0, 0, 0, 0, 0, 0, 0, 0, 0, 0, 0, 0, 0, 0, 0, 0, 0, 0, 0, 0, 0, 0, 0, 0, 0, 0, 0, 0, 0, 0, 0, 0, 0, 0, 0, 0, 0, 0, 0, 0, 0, 0, 0, 0, 0, 0, 0, 0, 0, 0, 0, 0, 0, 0, 0, 0, 0, 0, 0, 0, 0, 0, 0, 0, 0, 0, 0, 0, 0, 0, 0, 0, 0, 0, 0, 0, 0, 0, 0, 0, 0, 0, 0, 0, 0, 0, 0, 0, 0, 0, 0, 0, 0, 0, 0, 0, 0, 0, 0, 0, 0, 0, 0, 0, 0, 0, 0, 0, 0, 0, 0, 0, 0, 0, 0, 0, 0, 0, 0, 0, 0, 0, 0, 0, 0, 0, 0, 0, 0, 0, 0, 0, 0, 0, 0, 0, 0, 0, 0, 0, 0, 0, 0, 0, 0, 0, 0, 0, 0, 0, 0, 0, 0, 0, 0, 0, 0, 0, 0, 0, 0, 0, 0, 0, 0, 0, 0, 0, 0, 0, 0, 0, 0, 0, 0, 0, 0, 0, 0, 0, 0, 0, 0, 0, 0, 0, 0, 0, 0, 0, 0, 0, 0, 0, 0, 0, 0, 0, 0, 0, 0, 0, 0, 0, 0, 0, 0, 0, 0, 0, 0, 0, 0, 0, 0, 0, 0, 0, 0, 0, 0, 0, 0, 0, 0, 0, 0, 0, 0, 0, 0, 0, 0, 0, 0, 0, 0, 0, 0, 0, 0, 0, 0, 0, 0, 0, 0, 0, 0, 0, 0, 0, 0, 0, 0, 0, 0, 0, 0, 0, 0, 0, 0, 0, 0, 0, 0, 0, 0, 0, 0, 0, 0, 0, 0, 0, 0, 0, 0, 0, 0, 0, 0, 0, 0, 0, 0, 0, 0, 0, 0, 0, 0, 0, 0, 0, 0, 0, 0, 0, 0, 0, 0, 0, 0, 1, 0, 0, 0, 0, 0, 0, 0, 0, 0, 0, 0, 0, 0, 0, 0, 0, 0, 0, 0, 0, 0, 0, 0, 0, 0, 0, 0, 0, 0, 0, 0, 0, 0, 0, 0, 0, 0, 0, 0, 0, 0, 0, 0, 0, 0, 0, 0, 0, 0, 0, 0, 0, 0, 0, 0, 0, 0, 0, 0, 0, 0, 0, 0, 0, 0, 0, 0, 0, 0, 0, 0, 0, 0, 0, 1, 0, 0, 0, 0, 0, 0, 0, 0, 0, 0, 0, 0, 0, 0, 0, 0, 0, 0, 0, 0, 1, 0, 0, 1, 0, 0, 0, 0, 0, 0, 0, 0, 0, 0, 0, 0, 0, 0, 0, 0, 0, 0, 0, 0, 0, 0, 0, 0, 0, 0, 0, 0, 0, 0, 0, 0, 0, 0, 0, 0, 0, 0, 0, 0, 0, 0, 0, 0, 0, 0, 0, 0, 0, 0, 0, 0, 0, 0, 0, 0, 0, 0, 0, 0, 0, 0, 0, 0, 0, 0, 0, 0, 0, 0, 0, 0, 0, 0, 0, 0, 0, 0, 0, 0, 0, 0, 0, 0, 0, 0, 0, 0, 0, 0, 0, 0, 0, 0, 0, 0, 0, 0, 0, 0, 0, 0, 0, 0, 0, 0, 0, 0, 0, 0, 0, 0, 0, 0, 0, 0, 0, 0, 0, 0, 0, 0, 0, 0, 0, 0, 0, 0, 0, 0, 0, 0, 0, 0, 0, 0, 0, 0, 0, 0, 0, 0, 0, 0, 0, 0, 0, 0, 0, 0, 0, 0, 0, 0, 0, 0, 0, 0, 0, 0, 0, 0, 0, 0, 0, 0, 0, 0, 0, 0, 0, 0, 0, 0, 0, 0, 0, 0, 0, 0, 0, 0, 0, 0, 0, 0, 0, 0, 0, 0, 0, 0, 0, 0, 0, 0, 0, 0, 0, 0, 0, 0, 0, 0, 0, 0, 0, 0, 0, 0, 0, 0, 0, 0, 0, 0, 0, 0, 0, 0, 0, 0, 0, 0, 0, 0, 0, 0, 0, 0, 0, 0, 0, 0, 0, 0, 0, 0, 0, 0, 0, 0, 0, 0, 0, 0, 0, 0, 0, 0, 0, 0, 0, 0, 0, 0, 0, 0, 0, 0, 0, 0, 0, 0, 0, 0, 0, 0, 0, 0, 0, 0, 0, 0, 0, 0, 0, 0, 0, 0, 0, 0, 0, 0, 0, 0, 0, 0, 0, 0, 0, 0, 0, 0, 0, 0, 0, 0, 0, 0, 0, 0, 0, 0, 0, 0, 0, 0, 0, 0, 0, 0, 0, 0, 0, 0, 0, 0, 0, 0, 0, 0, 0, 0, 0, 0, 0, 0, 0, 0, 0, 0, 0, 0, 0, 0, 0, 0, 0, 0, 0, 0, 0, 0, 0, 0, 0, 0, 0, 0, 0, 0, 0, 0, 0, 0, 0, 0, 0, 0, 0, 0, 0, 0, 0, 0, 0, 0, 0, 0, 0, 0, 0, 0, 0, 0, 0, 0, 0, 0, 0, 0, 0, 0, 0, 0, 0, 0, 0, 0, 0, 0, 0, 0, 0, 0, 0, 0, 0, 0, 0, 0, 0, 0, 0, 0, 0, 0, 0, 0, 0, 0, 0, 0, 0, 0, 0, 0, 0, 0, 0, 0, 0, 0, 0, 0, 0, 0, 0, 0, 0, 0, 0, 0, 0, 0, 0, 0, 0, 0, 0, 0, 0, 0, 0, 0, 0, 0, 0, 0, 0, 0, 0, 0, 0, 0, 0, 0, 0, 0, 0, 0, 0, 0, 0, 0, 1, 0, 0, 0, 0, 0, 0, 0, 0, 0, 0, 0, 0, 0, 0, 0, 0, 0, 0, 0, 0, 0, 0, 0, 0, 0, 0, 0, 0, 0, 0, 0, 0, 0, 0, 0, 0, 0, 0, 0, 0, 0, 0, 0, 0, 0, 0, 0, 0, 0, 0, 0, 0, 0, 0, 0, 0, 0, 0, 0, 0, 0, 0, 0, 0, 0, 0, 0, 0, 0, 0, 0, 0, 0, 0, 0, 0, 0, 0, 0, 0, 0, 0, 0, 0, 0, 0, 0, 0, 0, 0, 0, 0, 0, 0, 0, 0, 0, 0, 0, 0, 0, 0, 0, 0, 0, 0, 0, 0, 0, 0, 0, 0, 0, 0, 0, 0, 0, 0, 0, 0, 0, 0, 0, 0, 0, 0, 0, 0, 0, 0, 0, 0, 0, 0, 0, 0, 0, 0, 0, 0, 0, 0, 0, 0, 0, 0, 0, 0, 0, 0, 0, 0, 0, 0, 0, 0, 0, 0, 0, 0, 0, 0, 0, 0, 0, 0, 0, 0, 0, 0, 0, 0, 0, 0, 0, 0, 0, 0, 0, 0, 0, 0, 0, 0, 0, 0, 0, 0, 0, 0, 0, 0, 0, 0, 0, 0, 0, 0, 0, 0, 0, 0, 0, 0, 0, 0, 0, 0, 0, 0, 0, 0, 0, 0, 0, 0, 0, 0, 0, 0, 0, 0, 0, 0, 0, 0, 0, 0, 0, 0, 0, 0, 0, 0, 0, 0, 0, 0, 0, 0, 0, 0, 0, 0, 0, 0, 0, 0, 0, 0, 0, 0, 0, 0, 0, 0, 0, 0, 0, 0, 0, 0, 0, 0, 0, 0, 0, 0, 0, 0, 0, 0, 0, 0, 0, 0, 0, 0, 0, 0, 0, 0, 0, 0, 0, 0, 0, 0, 0, 0, 0, 0, 0, 0, 0, 0, 0, 0, 0, 0, 0, 0, 0, 0, 0, 0, 0, 0, 0, 0, 0, 0, 0, 0, 0, 0, 0, 0, 0, 0, 0, 0, 0, 0, 0, 0, 0, 0, 0, 0, 0, 0, 0, 0, 0, 0, 0, 0, 0, 0, 0, 0, 0, 0, 0, 0, 0, 0, 0, 0, 0, 0, 0, 0, 0, 0, 0, 0, 0, 0, 0, 0, 0, 0, 0, 0, 0, 0, 0, 0, 0, 0, 0, 0, 0, 0, 0, 0, 0, 0, 0, 0, 0, 0, 0, 0, 0, 0, 0, 0, 0, 0, 0, 0, 0, 0, 0, 0, 0, 0, 0, 0, 0, 0, 0, 0, 0, 0, 0, 0, 0, 0, 0, 0, 0, 0, 0, 0, 0, 0, 0, 0, 0, 0, 0, 0, 0, 0, 0, 0, 0, 0, 0, 0, 0, 0, 0, 0, 0, 0, 0, 0, 0, 0, 0, 0, 0, 0, 0, 0, 0, 0, 0, 0, 0, 0, 0, 0, 0, 0, 0, 0, 0, 0, 0, 0, 0, 0, 0, 0, 0, 0, 0, 0, 0, 0, 0, 0, 0, 0, 0, 0, 0, 0, 0, 0, 0, 0, 0, 0, 0, 0, 0, 0, 0, 0, 0, 0, 0, 0, 0, 0, 0, 0, 0, 0, 0, 0, 0, 0, 0, 0, 1, 0, 0, 0, 0, 0, 0, 0, 0, 0, 0, 0, 0, 0, 0, 0, 0, 0, 0, 0, 0, 0, 0, 0, 0, 0, 0, 0, 0, 0, 0, 0, 0, 0, 0, 0, 2, 0, 0, 0, 0, 0, 0, 0, 0, 0, 0, 0, 0, 0, 0, 0, 0, 0, 0, 0, 0, 0, 0, 0, 0, 0, 0, 0, 0, 0, 0, 0, 0, 0, 0, 0, 0, 0, 0, 0, 0, 1, 0, 0, 0, 0, 0, 0, 0, 0, 0, 0, 0, 0, 0, 0, 0, 0, 0, 0, 0, 0, 0, 0, 0, 0, 0, 0, 0, 0, 0, 0, 0, 0, 0, 0, 0, 0, 0, 0, 0, 0, 0, 0, 0, 0, 0, 0, 0, 0, 0, 0, 0, 0, 0, 0, 0, 0, 0, 0, 0, 0, 0, 0, 0, 0, 0, 0, 0, 0, 0, 0, 0, 0, 0, 0, 0, 0, 0, 0, 0, 0, 0, 0, 0, 0, 0, 0, 0, 0, 0, 0, 0, 0, 0, 0, 0, 0, 0, 0, 0, 0, 0, 0, 0, 0, 0, 0, 0, 0, 0, 0, 0, 0, 0, 0, 0, 0, 0, 0, 0, 0, 0, 0, 0, 0, 0, 0, 0, 0, 0, 0, 0, 0, 0, 0, 0, 0, 0, 0, 0, 0, 0, 0, 0, 0, 0, 0, 0, 0, 0, 0, 0, 0, 0, 0, 0, 0, 0, 0, 0, 0, 0, 0, 0, 0, 0, 0, 0, 0, 0, 0, 0, 0, 0, 0, 0, 0, 0, 0, 0, 0, 0, 0, 0, 0, 0, 0, 0, 0, 0, 0, 0, 0, 0, 0, 0, 0, 0, 0, 0, 0, 0, 0, 0, 0, 0, 0, 0, 0, 0, 0, 0, 0, 0, 0, 0, 0, 0, 0, 0, 0, 0, 0, 0, 0, 0, 0, 0, 0, 0, 0, 0, 0, 0, 0, 0, 0, 0, 0, 0, 0, 0, 0, 0, 0, 0, 0, 0, 0, 0, 0, 0, 0, 0, 0, 0, 0, 0, 0, 0, 0, 0, 0, 0, 0, 0, 0, 0, 0, 0, 0, 0, 0, 0, 0, 0, 0, 0, 0, 0, 0, 0, 0, 0, 0, 0, 0, 0, 0, 0, 0, 0, 0, 0, 0, 0, 0, 0, 0, 0, 0, 0, 0, 0, 0, 0, 0, 0, 0, 0, 0, 0, 0, 0, 0, 0, 0, 0, 0, 0, 0, 0, 0, 0, 0, 0, 0, 0, 0, 0, 0, 0, 0, 0, 0, 0, 0, 0, 0, 0, 0, 0, 0, 0, 0, 0, 0, 0, 0, 0, 0, 0, 0, 0, 0, 0, 0, 0, 0, 0, 0, 0, 0, 0, 0, 0, 0, 0, 0, 0, 0, 0, 0, 0, 0, 0, 0, 0, 0, 0, 0, 0, 0, 0, 0, 0, 0, 0, 0, 0, 0, 0, 0, 0, 0, 0, 0, 0, 0, 0, 0, 0, 0, 0, 0, 0, 0, 0, 0, 0, 0, 0, 0, 0, 0, 0, 0, 0, 0, 0, 0, 0, 0, 0, 0, 0, 0, 0, 0, 0, 0, 0, 0, 0, 0, 0, 0, 0, 0, 0, 0, 0, 0, 0, 0, 0, 0, 0, 0, 0, 0, 0, 0, 0, 0, 0, 0, 0, 0, 0, 0, 0, 0, 0, 0, 0, 0, 0, 0, 0, 0, 0, 0, 0, 0, 0, 0, 0, 0, 0, 0, 0, 0, 0, 0, 0, 0, 0, 0, 0, 0, 0, 0, 0, 0, 0, 0, 0, 1, 0, 0, 0, 0, 0, 0, 0, 0, 0, 0, 0, 0, 0, 0, 0, 0, 0, 0, 0, 0, 0, 0, 0, 0, 0, 0, 0, 0, 0, 0, 0, 0, 0, 0, 0, 0, 0, 0, 0, 0, 0, 0, 0, 0, 0, 0, 0, 0, 0, 0, 0, 0, 0, 0, 0, 0, 0, 0, 0, 0, 0, 0, 0, 0, 0, 0, 0, 0, 0, 0, 0, 0, 0, 0, 0, 0, 0, 0, 0, 0, 0, 0, 0, 0, 0, 0, 0, 0, 0, 0, 0, 0, 0, 0, 0, 0, 0, 0, 0, 0, 0, 0, 0, 0, 0, 0, 0, 0, 0, 0, 2, 0, 0, 0, 0, 0, 0, 0, 0, 0, 0, 0, 0, 0, 0, 0, 0, 0, 0, 0, 0, 0, 0, 0, 0, 0, 0, 0, 0, 0, 0, 0, 0, 0, 0, 0, 0, 0, 0, 0, 0, 0, 0, 0, 0, 0, 0, 0, 0, 0, 0, 0, 0, 0, 0, 0, 0, 0, 0, 0, 0, 0, 0, 0, 0, 0, 0, 0, 0, 0, 0, 0, 0, 0, 0, 0, 0, 0, 0, 0, 0, 0, 0, 0, 0, 0, 0, 0, 0, 0, 0, 0, 0, 0, 0, 0, 0, 0, 0, 0, 0, 0, 0, 0, 0, 0, 0, 0, 0, 0, 0, 0, 0, 0, 0, 0, 0, 0, 0, 0, 0, 0, 0, 0, 0, 0, 0, 0, 0, 0, 0, 0, 0, 0, 0, 0, 0, 0, 0, 0, 0, 0, 0, 0, 0, 0, 0, 0, 0, 0, 0, 0, 0, 0, 0, 0, 0, 0, 0, 0, 0, 0, 0, 0, 0, 0, 0, 0, 0, 0, 0, 0, 0, 0, 0, 0, 0, 0, 0, 0, 0, 0, 0, 0, 0, 0, 0, 0, 0, 0, 0, 0, 0, 0, 0, 0, 0, 0, 0, 0, 0, 0, 0, 0, 0, 0, 0, 0, 0, 0, 0, 0, 0, 0, 0, 0, 0, 0, 0, 0, 0, 0, 0, 0, 0, 0, 0, 0, 0, 0, 0, 0, 0, 0, 0, 0, 0, 0, 0, 0, 0, 0, 0, 0, 0, 0, 0, 0, 0, 0, 0, 0, 0, 0, 0, 0, 0, 0, 0, 0, 0, 0, 0, 0, 0, 0, 0, 0, 0, 0, 0, 0, 0, 0, 0, 0, 0, 0, 0, 0, 0, 0, 0, 0, 0, 0, 0, 0, 0, 0, 0, 0, 0, 0, 0, 0, 0, 0, 0, 0, 0, 0, 0, 0, 0, 0, 0, 0, 0, 0, 0, 0, 0, 0, 0, 0, 0, 0, 0, 0, 0, 0, 0, 0, 0, 0, 0, 0, 0, 0, 0, 0, 0, 0, 0, 0, 0, 0, 0, 0, 0, 0, 0, 0, 0, 0, 0, 0, 0, 0, 0, 0, 0, 0, 0, 0, 0, 0, 0, 0, 0, 0, 0, 0, 0, 0, 0, 0, 0, 0, 0, 0, 0, 0, 0, 0, 0, 0, 0, 0, 0, 0, 0, 0, 0, 0, 0, 0, 0, 0, 0, 0, 0, 0, 0, 0, 0, 0, 0, 0, 0, 0, 0, 0, 0, 0, 0, 0, 0, 0, 0, 0, 0, 0, 0, 0, 0, 0, 0, 0, 0, 0, 0, 0, 0, 0, 0, 0, 0, 0, 0, 0, 0, 0, 0, 0, 0, 0, 0, 0, 0, 0, 0, 0, 0, 0, 0, 0, 0, 0, 0, 0, 0, 0, 0, 0, 0, 0, 0, 0, 0, 0, 0, 0, 0, 0, 0, 0, 0, 0, 0, 0, 0, 0, 0, 0, 0, 0, 0, 0, 0, 0, 0, 0, 0, 0, 0, 0, 0, 0, 0, 0, 0, 0, 0, 0, 0, 0, 0, 0, 0, 0, 0, 0, 0, 0, 0, 0, 0, 0, 0, 0, 0, 0, 0, 0, 0, 0, 0, 0, 0, 0, 0, 0, 0, 0, 0, 0, 0, 0, 0, 0, 0, 0, 0, 0, 0, 0, 0, 0, 0, 0, 0, 0, 0, 0, 0, 0, 0, 0, 0, 0, 0, 0, 0, 0, 0, 0, 0, 0, 0, 0, 0, 0, 0, 0, 0, 0, 0, 0, 0, 0, 0, 0, 0, 0, 0, 0, 0, 0, 0, 0, 0, 0, 0, 0, 0, 0, 0, 0, 0, 0, 0, 0, 0, 0, 0, 0, 0, 0, 0, 0, 0, 0, 0, 0, 0, 0, 0, 0, 0, 0, 0, 0, 0, 0, 0, 0, 0, 0, 0, 0, 0, 0, 0, 0, 0, 0, 0, 0, 0, 0, 0, 0, 0, 0, 0, 0, 0, 0, 0, 0, 0, 0, 0, 0, 0, 0, 0, 0, 0, 0, 0, 0, 0, 0, 0, 0, 0, 0, 0, 0, 0, 0, 0, 0, 0, 0, 0, 0, 0, 0, 0, 0, 0, 0, 0, 0, 0, 0, 0, 0, 0, 0, 0, 0, 0, 0, 0, 0, 0, 1, 0, 0, 0, 0, 0, 0, 0, 0, 0, 0, 0, 0, 0, 0, 0, 0, 0, 0, 0, 0, 0, 0, 0, 0, 0, 0, 0, 0, 0, 0, 0, 0, 0, 0, 0, 0, 0, 0, 0, 0, 0, 0, 0, 0, 0, 0, 0, 0, 0, 0, 0, 0, 0, 0, 0, 0, 0, 0, 0, 0, 0, 0, 0, 0, 0, 0, 0, 0, 0, 0, 0, 0, 0, 0, 0, 0, 0, 0, 0, 0, 0, 0, 0, 0, 0, 0, 0, 0, 0, 0, 0, 0, 0, 0, 0, 0, 0, 0, 0, 0, 0, 0, 0, 0, 0, 0, 0, 1, 0, 0, 0, 0, 0, 0, 0, 0, 0, 0, 0, 0, 0, 0, 0, 0, 0, 0, 0, 0, 0, 0, 0, 0, 0, 0, 0, 0, 0, 0, 0, 0, 0, 0, 0, 0, 0, 0, 0, 0, 0, 0, 0, 0, 0, 0, 0, 0, 0, 0, 0, 0, 0, 0, 0, 0, 0, 0, 0, 0, 0, 0, 0, 0, 0, 0, 0, 0, 0, 0, 0, 0, 0, 0, 0, 0, 0, 0, 0, 0, 0, 0, 0, 0, 0, 0, 0, 0, 0, 0, 0, 0, 0, 0, 0, 0, 0, 0, 0, 0, 0, 0, 0, 0, 0, 0, 0, 0, 0, 0, 0, 0, 0, 0, 0, 0, 0, 0, 0, 0, 0, 0, 0, 0, 0, 0, 0, 0, 0, 0, 0, 0, 0, 0, 0, 0, 0, 0, 0, 0, 0, 0, 0, 0, 0, 0, 0, 0, 0, 0, 0, 0, 0, 0, 0, 0, 0, 0, 0, 0, 0, 0, 0, 0, 0, 0, 0, 0, 0, 0, 0, 0, 0, 0, 0, 0, 0, 0, 0, 0, 0, 0, 0, 0, 0, 0, 0, 0, 0, 0, 0, 0, 0, 0, 0, 0, 0, 0, 0, 0, 0, 0, 0, 0, 0, 0, 0, 0, 0, 0, 0, 0, 0, 0, 0, 0, 0, 0, 0, 0, 0, 0, 0, 0, 0, 0, 0, 0, 0, 0, 0, 0, 0, 0, 0, 0, 0, 0, 0, 0, 0, 0, 0, 0, 0, 0, 0, 0, 0, 0, 0, 0, 0, 0, 0, 0, 0, 0, 0, 0, 0, 0, 0, 0, 0, 0, 0, 0, 0, 0, 0, 0, 0, 0, 0, 0, 0, 0, 0, 0, 0, 0, 0, 0, 0, 0, 0, 0, 0, 0, 0, 0, 0, 0, 0, 0, 0, 0, 0, 0, 0, 0, 0, 0, 0, 0, 0, 0, 0, 0, 0, 0, 0, 0, 0, 0, 0, 0, 0, 0, 0, 0, 0, 0, 0, 0, 0, 0, 0, 0, 0, 0, 0, 0, 0, 0, 0, 0, 0, 0, 0, 0, 0, 0, 0, 0, 0, 0, 0, 0, 0, 0, 0, 0, 0, 0, 0, 0, 0, 0, 0, 0, 0, 0, 0, 0, 0, 0, 0, 0, 0, 0, 0, 0, 0, 0, 0, 0, 0, 0, 0, 0, 0, 0, 0, 0, 0, 0, 0, 0, 0, 0, 0, 0, 0, 0, 0, 0, 0, 0, 0, 0, 0, 0, 0, 0, 0, 0, 0, 0, 0, 0, 0, 0, 0, 0, 0, 0, 0, 0, 0, 0, 0, 0, 0, 0, 0, 0, 0, 0, 0, 0, 0, 0, 0, 0, 0, 0, 0, 0, 0, 0, 0, 0, 0, 0, 0, 0, 0, 0, 0, 0, 0, 0, 0, 0, 0, 0, 0, 0, 0, 0, 0, 2, 0, 1, 0]\n"
     ]
    }
   ],
   "source": [
    "test_bow = bow_encoding(test_words, vocabulary)\n",
    "print(test_bow)"
   ]
  },
  {
   "cell_type": "code",
   "execution_count": 41,
   "metadata": {},
   "outputs": [
    {
     "data": {
      "text/plain": [
       "5000"
      ]
     },
     "execution_count": 41,
     "metadata": {},
     "output_type": "execute_result"
    }
   ],
   "source": [
    "len(test_bow)"
   ]
  },
  {
   "cell_type": "markdown",
   "metadata": {},
   "source": [
    "So now we know how to construct a bag of words encoding of a user provided review, how to we send it to our endpoint? First, we need to start the endpoint back up."
   ]
  },
  {
   "cell_type": "code",
   "execution_count": 42,
   "metadata": {},
   "outputs": [
    {
     "name": "stderr",
     "output_type": "stream",
     "text": [
      "Parameter image will be renamed to image_uri in SageMaker Python SDK v2.\n",
      "Using already existing model: xgboost-2021-01-26-14-12-55-267\n"
     ]
    },
    {
     "name": "stdout",
     "output_type": "stream",
     "text": [
      "-------------!"
     ]
    }
   ],
   "source": [
    "xgb_predictor = xgb.deploy(initial_instance_count = 1, instance_type = 'ml.m4.xlarge')"
   ]
  },
  {
   "cell_type": "markdown",
   "metadata": {},
   "source": [
    "At this point we could just do the same thing that we did earlier when we tested our deployed model and send `test_bow` to our endpoint using the `xgb_predictor` object. However, when we eventually construct our Lambda function we won't have access to this object, so how do we call a SageMaker endpoint?\n",
    "\n",
    "It turns out that Python functions that are used in Lambda have access to another Amazon library called `boto3`. This library provides an API for working with Amazon services, including SageMaker. To start with, we need to get a handle to the SageMaker runtime."
   ]
  },
  {
   "cell_type": "code",
   "execution_count": 43,
   "metadata": {},
   "outputs": [],
   "source": [
    "import boto3\n",
    "\n",
    "runtime = boto3.Session().client('sagemaker-runtime')"
   ]
  },
  {
   "cell_type": "markdown",
   "metadata": {},
   "source": [
    "And now that we have access to the SageMaker runtime, we can ask it to make use of (invoke) an endpoint that has already been created. However, we need to provide SageMaker with the name of the deployed endpoint. To find this out we can print it out using the `xgb_predictor` object."
   ]
  },
  {
   "cell_type": "code",
   "execution_count": 44,
   "metadata": {},
   "outputs": [
    {
     "data": {
      "text/plain": [
       "'xgboost-2021-01-26-14-12-55-267'"
      ]
     },
     "execution_count": 44,
     "metadata": {},
     "output_type": "execute_result"
    }
   ],
   "source": [
    "xgb_predictor.endpoint"
   ]
  },
  {
   "cell_type": "markdown",
   "metadata": {},
   "source": [
    "Using the SageMaker runtime and the name of our endpoint, we can invoke the endpoint and send it the `test_bow` data."
   ]
  },
  {
   "cell_type": "code",
   "execution_count": 45,
   "metadata": {},
   "outputs": [
    {
     "ename": "ParamValidationError",
     "evalue": "Parameter validation failed:\nInvalid type for parameter Body, value: [0, 0, 0, 0, 0, 0, 0, 0, 0, 0, 0, 0, 0, 0, 0, 0, 0, 0, 0, 0, 0, 0, 0, 0, 0, 0, 0, 0, 0, 0, 0, 0, 0, 0, 0, 0, 0, 0, 0, 0, 0, 0, 0, 0, 0, 0, 0, 0, 0, 0, 0, 0, 0, 0, 0, 0, 0, 0, 0, 0, 0, 0, 0, 0, 0, 0, 0, 0, 0, 0, 0, 0, 0, 0, 0, 0, 0, 0, 0, 0, 0, 0, 0, 0, 0, 0, 0, 0, 0, 0, 0, 0, 0, 0, 0, 0, 0, 0, 0, 0, 0, 0, 0, 0, 0, 0, 0, 0, 0, 0, 0, 0, 0, 0, 0, 0, 0, 0, 0, 0, 0, 0, 0, 0, 0, 0, 0, 0, 0, 0, 0, 0, 0, 0, 0, 0, 0, 0, 0, 0, 0, 0, 0, 0, 0, 0, 0, 0, 0, 0, 0, 0, 0, 0, 0, 0, 0, 0, 0, 0, 0, 0, 0, 0, 0, 0, 0, 0, 0, 0, 0, 0, 0, 0, 0, 0, 0, 0, 0, 0, 0, 0, 0, 0, 0, 0, 0, 0, 0, 0, 0, 0, 0, 0, 0, 0, 0, 0, 0, 0, 0, 0, 0, 0, 0, 0, 0, 0, 0, 0, 0, 0, 0, 0, 0, 0, 0, 0, 0, 0, 0, 0, 0, 0, 0, 0, 1, 0, 0, 0, 0, 0, 0, 0, 0, 0, 0, 0, 0, 0, 0, 0, 0, 0, 0, 0, 0, 0, 0, 0, 0, 0, 0, 0, 0, 0, 1, 0, 0, 0, 0, 0, 0, 0, 0, 0, 0, 0, 0, 0, 0, 0, 0, 0, 0, 0, 0, 0, 0, 0, 0, 0, 0, 0, 0, 0, 0, 0, 0, 0, 0, 0, 0, 0, 0, 0, 0, 0, 0, 0, 0, 0, 0, 0, 0, 0, 0, 0, 0, 0, 0, 0, 0, 0, 0, 0, 0, 0, 0, 0, 0, 0, 0, 0, 0, 0, 0, 0, 0, 0, 0, 0, 0, 0, 0, 0, 0, 0, 0, 0, 0, 0, 0, 0, 0, 0, 0, 0, 0, 0, 0, 0, 0, 0, 0, 0, 0, 0, 0, 0, 0, 0, 0, 0, 0, 0, 0, 0, 0, 0, 0, 0, 0, 0, 0, 0, 0, 0, 0, 0, 0, 0, 0, 0, 0, 0, 0, 0, 0, 0, 0, 0, 0, 0, 0, 0, 0, 0, 0, 0, 0, 0, 0, 0, 0, 0, 0, 0, 0, 0, 0, 0, 0, 0, 0, 0, 0, 0, 0, 0, 0, 0, 0, 0, 0, 0, 0, 0, 0, 0, 0, 0, 0, 0, 0, 0, 0, 0, 0, 0, 0, 0, 0, 0, 0, 0, 0, 0, 0, 0, 0, 0, 0, 0, 0, 0, 0, 0, 0, 0, 0, 0, 0, 0, 0, 0, 0, 0, 0, 0, 0, 0, 0, 0, 0, 0, 0, 0, 0, 0, 0, 0, 0, 0, 0, 0, 0, 0, 0, 0, 0, 0, 0, 0, 0, 0, 0, 0, 0, 0, 0, 0, 0, 0, 0, 0, 0, 0, 0, 0, 0, 0, 0, 0, 0, 0, 0, 0, 0, 0, 0, 0, 0, 0, 0, 0, 0, 0, 0, 0, 0, 0, 0, 0, 0, 0, 0, 0, 0, 0, 0, 0, 0, 0, 0, 0, 0, 0, 0, 0, 0, 0, 0, 0, 0, 0, 0, 0, 0, 0, 0, 0, 0, 0, 0, 0, 0, 0, 0, 0, 0, 0, 0, 0, 0, 0, 0, 0, 0, 0, 0, 0, 0, 0, 0, 0, 0, 0, 0, 0, 0, 0, 0, 0, 0, 0, 0, 0, 0, 0, 0, 0, 0, 0, 0, 0, 0, 0, 0, 0, 0, 0, 0, 0, 0, 0, 0, 0, 0, 0, 0, 0, 0, 0, 0, 0, 0, 0, 0, 0, 0, 0, 0, 0, 0, 0, 1, 0, 0, 0, 0, 0, 0, 0, 0, 0, 0, 0, 0, 0, 0, 0, 0, 0, 0, 0, 0, 0, 0, 0, 0, 0, 0, 0, 0, 0, 0, 0, 0, 0, 0, 0, 0, 0, 0, 0, 0, 0, 0, 0, 0, 0, 0, 0, 0, 0, 0, 0, 0, 0, 0, 0, 0, 0, 0, 0, 0, 0, 0, 0, 0, 0, 0, 0, 0, 0, 0, 0, 0, 0, 0, 0, 0, 0, 0, 0, 0, 0, 0, 0, 0, 0, 0, 0, 0, 0, 0, 0, 0, 0, 0, 0, 0, 0, 0, 0, 0, 0, 0, 0, 0, 0, 0, 0, 0, 0, 0, 0, 0, 0, 0, 0, 0, 0, 0, 0, 0, 0, 0, 0, 0, 0, 0, 0, 0, 0, 0, 0, 0, 0, 0, 0, 0, 0, 0, 0, 0, 0, 0, 0, 0, 0, 0, 0, 0, 0, 0, 0, 0, 0, 0, 0, 0, 0, 0, 0, 0, 0, 0, 0, 0, 0, 0, 0, 0, 0, 0, 0, 0, 0, 0, 0, 0, 0, 0, 0, 0, 0, 0, 0, 0, 0, 0, 0, 0, 0, 0, 0, 0, 0, 0, 0, 0, 0, 0, 0, 0, 0, 0, 0, 0, 0, 0, 0, 0, 0, 0, 0, 0, 0, 0, 0, 0, 0, 0, 0, 0, 0, 0, 0, 0, 0, 0, 0, 0, 0, 0, 0, 0, 0, 0, 0, 0, 0, 0, 0, 0, 0, 0, 0, 0, 0, 0, 0, 0, 0, 0, 0, 0, 0, 1, 0, 0, 0, 0, 0, 0, 0, 0, 0, 0, 0, 0, 0, 0, 0, 0, 0, 0, 0, 0, 0, 0, 0, 0, 0, 0, 0, 0, 0, 0, 0, 0, 0, 0, 0, 0, 0, 0, 0, 0, 0, 0, 0, 0, 0, 0, 0, 0, 0, 0, 0, 0, 0, 0, 0, 0, 0, 0, 0, 0, 0, 0, 0, 0, 0, 0, 0, 0, 0, 0, 0, 0, 0, 0, 0, 0, 0, 0, 0, 0, 0, 0, 0, 0, 0, 0, 1, 0, 0, 0, 0, 0, 0, 0, 0, 0, 0, 0, 0, 0, 0, 0, 0, 0, 0, 0, 0, 0, 0, 0, 0, 0, 0, 0, 0, 0, 0, 0, 0, 0, 0, 0, 0, 0, 0, 0, 0, 0, 0, 0, 0, 0, 0, 0, 0, 0, 0, 0, 0, 0, 0, 0, 0, 0, 0, 0, 0, 0, 0, 0, 0, 0, 0, 0, 0, 0, 0, 0, 0, 0, 0, 0, 0, 0, 0, 0, 0, 0, 0, 0, 0, 0, 0, 0, 0, 0, 0, 0, 0, 0, 0, 0, 0, 0, 0, 0, 0, 0, 0, 0, 0, 0, 0, 0, 0, 0, 0, 0, 0, 0, 0, 0, 0, 0, 0, 0, 0, 0, 0, 0, 0, 0, 0, 0, 0, 0, 0, 0, 0, 0, 0, 0, 0, 0, 0, 0, 0, 0, 0, 0, 0, 0, 0, 0, 0, 0, 0, 0, 0, 0, 0, 0, 0, 0, 0, 0, 0, 0, 0, 0, 0, 0, 0, 0, 0, 0, 0, 0, 0, 0, 0, 0, 0, 0, 0, 0, 0, 0, 0, 0, 0, 0, 0, 0, 0, 0, 0, 0, 0, 0, 0, 0, 0, 0, 0, 0, 0, 0, 0, 0, 0, 0, 0, 0, 0, 0, 0, 0, 0, 0, 0, 0, 0, 0, 0, 0, 0, 0, 0, 0, 0, 0, 0, 0, 0, 0, 0, 0, 0, 0, 0, 0, 0, 0, 0, 0, 0, 0, 0, 0, 0, 0, 0, 0, 0, 0, 0, 0, 0, 1, 0, 0, 0, 0, 0, 0, 0, 0, 0, 0, 0, 0, 0, 0, 0, 0, 0, 0, 0, 0, 0, 0, 0, 0, 0, 0, 0, 0, 0, 0, 0, 0, 0, 0, 0, 0, 0, 0, 0, 0, 0, 0, 0, 0, 0, 0, 0, 0, 0, 0, 0, 0, 0, 0, 0, 1, 0, 0, 0, 0, 0, 0, 0, 0, 0, 0, 0, 0, 0, 0, 0, 0, 0, 0, 0, 0, 0, 0, 0, 0, 0, 0, 0, 0, 0, 0, 0, 0, 0, 0, 0, 0, 0, 0, 0, 0, 0, 0, 0, 0, 0, 0, 0, 0, 0, 0, 0, 0, 0, 0, 0, 0, 0, 0, 0, 0, 0, 0, 0, 0, 0, 0, 0, 0, 0, 0, 0, 0, 0, 0, 0, 0, 0, 0, 0, 0, 0, 0, 0, 0, 0, 0, 0, 0, 0, 0, 0, 0, 0, 0, 0, 0, 0, 0, 0, 0, 0, 0, 0, 0, 0, 0, 0, 0, 0, 0, 0, 0, 0, 0, 0, 0, 0, 0, 0, 0, 0, 0, 0, 0, 0, 0, 0, 0, 0, 0, 0, 0, 0, 0, 0, 0, 0, 0, 0, 0, 0, 0, 0, 0, 0, 0, 0, 0, 0, 0, 0, 0, 0, 0, 0, 0, 0, 0, 0, 0, 0, 0, 0, 0, 0, 0, 0, 0, 0, 0, 0, 0, 0, 0, 0, 0, 0, 0, 0, 0, 0, 0, 0, 0, 0, 0, 0, 0, 0, 0, 0, 0, 0, 0, 0, 0, 0, 0, 0, 0, 0, 0, 0, 0, 0, 0, 0, 0, 0, 0, 0, 0, 0, 0, 0, 0, 0, 0, 0, 0, 0, 0, 0, 0, 0, 0, 0, 0, 0, 0, 0, 0, 0, 0, 0, 0, 0, 0, 0, 0, 0, 0, 0, 0, 0, 0, 0, 0, 0, 0, 0, 0, 0, 0, 0, 0, 0, 0, 0, 0, 0, 0, 0, 0, 0, 0, 0, 0, 0, 0, 0, 0, 0, 0, 0, 0, 0, 0, 0, 0, 0, 0, 0, 0, 0, 0, 0, 0, 0, 0, 0, 0, 0, 0, 0, 0, 0, 0, 0, 0, 0, 0, 0, 0, 0, 0, 0, 0, 0, 0, 0, 0, 0, 0, 0, 0, 0, 0, 0, 0, 0, 0, 0, 0, 0, 0, 0, 0, 0, 0, 0, 0, 0, 0, 0, 0, 0, 0, 0, 0, 0, 0, 0, 0, 0, 0, 0, 0, 0, 0, 0, 0, 0, 0, 0, 0, 0, 0, 0, 0, 0, 0, 0, 0, 0, 0, 0, 0, 0, 0, 0, 0, 0, 0, 0, 0, 0, 0, 0, 0, 0, 0, 0, 0, 0, 0, 0, 0, 0, 0, 0, 0, 0, 0, 0, 0, 0, 0, 0, 0, 0, 0, 0, 0, 0, 0, 0, 0, 0, 0, 0, 0, 0, 0, 0, 0, 0, 0, 0, 0, 0, 0, 0, 0, 0, 0, 0, 0, 0, 0, 0, 0, 0, 0, 0, 0, 0, 0, 0, 0, 0, 0, 0, 0, 0, 0, 0, 0, 0, 0, 0, 0, 0, 0, 0, 0, 0, 0, 0, 0, 0, 0, 0, 0, 0, 0, 0, 0, 0, 0, 0, 0, 0, 0, 0, 0, 0, 0, 0, 0, 0, 0, 0, 0, 0, 0, 0, 0, 0, 0, 0, 0, 0, 0, 0, 0, 0, 0, 0, 0, 0, 0, 0, 0, 0, 0, 0, 0, 0, 0, 0, 0, 0, 0, 0, 0, 0, 0, 0, 0, 0, 0, 0, 0, 0, 0, 0, 0, 0, 0, 0, 0, 0, 0, 0, 0, 0, 0, 0, 0, 0, 0, 0, 0, 0, 0, 0, 0, 0, 0, 0, 0, 0, 0, 0, 0, 0, 0, 0, 0, 0, 0, 0, 0, 0, 0, 0, 0, 0, 0, 0, 0, 0, 0, 0, 0, 0, 0, 0, 0, 0, 0, 0, 0, 0, 0, 0, 0, 0, 0, 0, 0, 0, 0, 0, 0, 0, 0, 0, 0, 0, 0, 0, 0, 0, 0, 0, 0, 0, 0, 0, 0, 0, 0, 0, 0, 0, 0, 0, 0, 0, 0, 0, 0, 0, 0, 0, 0, 0, 0, 0, 0, 0, 0, 0, 0, 0, 0, 0, 0, 0, 0, 0, 0, 0, 0, 0, 0, 0, 0, 0, 0, 0, 0, 0, 0, 0, 0, 0, 0, 0, 0, 0, 0, 0, 0, 0, 0, 0, 0, 0, 0, 0, 0, 0, 0, 0, 0, 0, 0, 0, 1, 0, 0, 0, 0, 0, 0, 0, 0, 0, 0, 0, 0, 0, 0, 0, 0, 0, 0, 0, 0, 0, 0, 0, 0, 0, 0, 0, 0, 0, 0, 0, 0, 0, 0, 0, 0, 0, 0, 0, 0, 0, 0, 0, 0, 0, 0, 0, 0, 0, 0, 0, 0, 0, 0, 0, 0, 0, 0, 0, 0, 0, 0, 0, 0, 0, 0, 0, 0, 0, 0, 0, 0, 0, 0, 1, 0, 0, 0, 0, 0, 0, 0, 0, 0, 0, 0, 0, 0, 0, 0, 0, 0, 0, 0, 0, 1, 0, 0, 1, 0, 0, 0, 0, 0, 0, 0, 0, 0, 0, 0, 0, 0, 0, 0, 0, 0, 0, 0, 0, 0, 0, 0, 0, 0, 0, 0, 0, 0, 0, 0, 0, 0, 0, 0, 0, 0, 0, 0, 0, 0, 0, 0, 0, 0, 0, 0, 0, 0, 0, 0, 0, 0, 0, 0, 0, 0, 0, 0, 0, 0, 0, 0, 0, 0, 0, 0, 0, 0, 0, 0, 0, 0, 0, 0, 0, 0, 0, 0, 0, 0, 0, 0, 0, 0, 0, 0, 0, 0, 0, 0, 0, 0, 0, 0, 0, 0, 0, 0, 0, 0, 0, 0, 0, 0, 0, 0, 0, 0, 0, 0, 0, 0, 0, 0, 0, 0, 0, 0, 0, 0, 0, 0, 0, 0, 0, 0, 0, 0, 0, 0, 0, 0, 0, 0, 0, 0, 0, 0, 0, 0, 0, 0, 0, 0, 0, 0, 0, 0, 0, 0, 0, 0, 0, 0, 0, 0, 0, 0, 0, 0, 0, 0, 0, 0, 0, 0, 0, 0, 0, 0, 0, 0, 0, 0, 0, 0, 0, 0, 0, 0, 0, 0, 0, 0, 0, 0, 0, 0, 0, 0, 0, 0, 0, 0, 0, 0, 0, 0, 0, 0, 0, 0, 0, 0, 0, 0, 0, 0, 0, 0, 0, 0, 0, 0, 0, 0, 0, 0, 0, 0, 0, 0, 0, 0, 0, 0, 0, 0, 0, 0, 0, 0, 0, 0, 0, 0, 0, 0, 0, 0, 0, 0, 0, 0, 0, 0, 0, 0, 0, 0, 0, 0, 0, 0, 0, 0, 0, 0, 0, 0, 0, 0, 0, 0, 0, 0, 0, 0, 0, 0, 0, 0, 0, 0, 0, 0, 0, 0, 0, 0, 0, 0, 0, 0, 0, 0, 0, 0, 0, 0, 0, 0, 0, 0, 0, 0, 0, 0, 0, 0, 0, 0, 0, 0, 0, 0, 0, 0, 0, 0, 0, 0, 0, 0, 0, 0, 0, 0, 0, 0, 0, 0, 0, 0, 0, 0, 0, 0, 0, 0, 0, 0, 0, 0, 0, 0, 0, 0, 0, 0, 0, 0, 0, 0, 0, 0, 0, 0, 0, 0, 0, 0, 0, 0, 0, 0, 0, 0, 0, 0, 0, 0, 0, 0, 0, 0, 0, 0, 0, 0, 0, 0, 0, 0, 0, 0, 0, 0, 0, 0, 0, 0, 0, 0, 0, 0, 0, 0, 0, 0, 0, 0, 0, 0, 0, 0, 0, 0, 0, 0, 0, 0, 0, 0, 0, 0, 0, 0, 0, 0, 0, 0, 0, 0, 0, 0, 0, 0, 0, 0, 0, 0, 0, 0, 0, 0, 0, 0, 0, 0, 0, 0, 0, 0, 0, 0, 0, 0, 0, 0, 0, 0, 0, 0, 0, 0, 0, 0, 0, 0, 0, 0, 0, 0, 0, 0, 0, 0, 0, 0, 0, 0, 0, 0, 0, 1, 0, 0, 0, 0, 0, 0, 0, 0, 0, 0, 0, 0, 0, 0, 0, 0, 0, 0, 0, 0, 0, 0, 0, 0, 0, 0, 0, 0, 0, 0, 0, 0, 0, 0, 0, 0, 0, 0, 0, 0, 0, 0, 0, 0, 0, 0, 0, 0, 0, 0, 0, 0, 0, 0, 0, 0, 0, 0, 0, 0, 0, 0, 0, 0, 0, 0, 0, 0, 0, 0, 0, 0, 0, 0, 0, 0, 0, 0, 0, 0, 0, 0, 0, 0, 0, 0, 0, 0, 0, 0, 0, 0, 0, 0, 0, 0, 0, 0, 0, 0, 0, 0, 0, 0, 0, 0, 0, 0, 0, 0, 0, 0, 0, 0, 0, 0, 0, 0, 0, 0, 0, 0, 0, 0, 0, 0, 0, 0, 0, 0, 0, 0, 0, 0, 0, 0, 0, 0, 0, 0, 0, 0, 0, 0, 0, 0, 0, 0, 0, 0, 0, 0, 0, 0, 0, 0, 0, 0, 0, 0, 0, 0, 0, 0, 0, 0, 0, 0, 0, 0, 0, 0, 0, 0, 0, 0, 0, 0, 0, 0, 0, 0, 0, 0, 0, 0, 0, 0, 0, 0, 0, 0, 0, 0, 0, 0, 0, 0, 0, 0, 0, 0, 0, 0, 0, 0, 0, 0, 0, 0, 0, 0, 0, 0, 0, 0, 0, 0, 0, 0, 0, 0, 0, 0, 0, 0, 0, 0, 0, 0, 0, 0, 0, 0, 0, 0, 0, 0, 0, 0, 0, 0, 0, 0, 0, 0, 0, 0, 0, 0, 0, 0, 0, 0, 0, 0, 0, 0, 0, 0, 0, 0, 0, 0, 0, 0, 0, 0, 0, 0, 0, 0, 0, 0, 0, 0, 0, 0, 0, 0, 0, 0, 0, 0, 0, 0, 0, 0, 0, 0, 0, 0, 0, 0, 0, 0, 0, 0, 0, 0, 0, 0, 0, 0, 0, 0, 0, 0, 0, 0, 0, 0, 0, 0, 0, 0, 0, 0, 0, 0, 0, 0, 0, 0, 0, 0, 0, 0, 0, 0, 0, 0, 0, 0, 0, 0, 0, 0, 0, 0, 0, 0, 0, 0, 0, 0, 0, 0, 0, 0, 0, 0, 0, 0, 0, 0, 0, 0, 0, 0, 0, 0, 0, 0, 0, 0, 0, 0, 0, 0, 0, 0, 0, 0, 0, 0, 0, 0, 0, 0, 0, 0, 0, 0, 0, 0, 0, 0, 0, 0, 0, 0, 0, 0, 0, 0, 0, 0, 0, 0, 0, 0, 0, 0, 0, 0, 0, 0, 0, 0, 0, 0, 0, 0, 0, 0, 0, 0, 0, 0, 0, 0, 0, 0, 0, 0, 0, 0, 0, 0, 0, 0, 0, 0, 0, 0, 0, 0, 0, 0, 0, 0, 0, 0, 0, 0, 0, 0, 0, 0, 0, 0, 0, 0, 0, 0, 0, 0, 0, 0, 0, 0, 0, 0, 0, 0, 0, 0, 0, 0, 0, 0, 0, 0, 0, 0, 0, 0, 0, 0, 0, 0, 0, 0, 0, 0, 0, 0, 0, 0, 0, 0, 0, 0, 0, 0, 0, 0, 0, 0, 0, 0, 0, 0, 0, 0, 0, 0, 0, 0, 0, 0, 1, 0, 0, 0, 0, 0, 0, 0, 0, 0, 0, 0, 0, 0, 0, 0, 0, 0, 0, 0, 0, 0, 0, 0, 0, 0, 0, 0, 0, 0, 0, 0, 0, 0, 0, 0, 2, 0, 0, 0, 0, 0, 0, 0, 0, 0, 0, 0, 0, 0, 0, 0, 0, 0, 0, 0, 0, 0, 0, 0, 0, 0, 0, 0, 0, 0, 0, 0, 0, 0, 0, 0, 0, 0, 0, 0, 0, 1, 0, 0, 0, 0, 0, 0, 0, 0, 0, 0, 0, 0, 0, 0, 0, 0, 0, 0, 0, 0, 0, 0, 0, 0, 0, 0, 0, 0, 0, 0, 0, 0, 0, 0, 0, 0, 0, 0, 0, 0, 0, 0, 0, 0, 0, 0, 0, 0, 0, 0, 0, 0, 0, 0, 0, 0, 0, 0, 0, 0, 0, 0, 0, 0, 0, 0, 0, 0, 0, 0, 0, 0, 0, 0, 0, 0, 0, 0, 0, 0, 0, 0, 0, 0, 0, 0, 0, 0, 0, 0, 0, 0, 0, 0, 0, 0, 0, 0, 0, 0, 0, 0, 0, 0, 0, 0, 0, 0, 0, 0, 0, 0, 0, 0, 0, 0, 0, 0, 0, 0, 0, 0, 0, 0, 0, 0, 0, 0, 0, 0, 0, 0, 0, 0, 0, 0, 0, 0, 0, 0, 0, 0, 0, 0, 0, 0, 0, 0, 0, 0, 0, 0, 0, 0, 0, 0, 0, 0, 0, 0, 0, 0, 0, 0, 0, 0, 0, 0, 0, 0, 0, 0, 0, 0, 0, 0, 0, 0, 0, 0, 0, 0, 0, 0, 0, 0, 0, 0, 0, 0, 0, 0, 0, 0, 0, 0, 0, 0, 0, 0, 0, 0, 0, 0, 0, 0, 0, 0, 0, 0, 0, 0, 0, 0, 0, 0, 0, 0, 0, 0, 0, 0, 0, 0, 0, 0, 0, 0, 0, 0, 0, 0, 0, 0, 0, 0, 0, 0, 0, 0, 0, 0, 0, 0, 0, 0, 0, 0, 0, 0, 0, 0, 0, 0, 0, 0, 0, 0, 0, 0, 0, 0, 0, 0, 0, 0, 0, 0, 0, 0, 0, 0, 0, 0, 0, 0, 0, 0, 0, 0, 0, 0, 0, 0, 0, 0, 0, 0, 0, 0, 0, 0, 0, 0, 0, 0, 0, 0, 0, 0, 0, 0, 0, 0, 0, 0, 0, 0, 0, 0, 0, 0, 0, 0, 0, 0, 0, 0, 0, 0, 0, 0, 0, 0, 0, 0, 0, 0, 0, 0, 0, 0, 0, 0, 0, 0, 0, 0, 0, 0, 0, 0, 0, 0, 0, 0, 0, 0, 0, 0, 0, 0, 0, 0, 0, 0, 0, 0, 0, 0, 0, 0, 0, 0, 0, 0, 0, 0, 0, 0, 0, 0, 0, 0, 0, 0, 0, 0, 0, 0, 0, 0, 0, 0, 0, 0, 0, 0, 0, 0, 0, 0, 0, 0, 0, 0, 0, 0, 0, 0, 0, 0, 0, 0, 0, 0, 0, 0, 0, 0, 0, 0, 0, 0, 0, 0, 0, 0, 0, 0, 0, 0, 0, 0, 0, 0, 0, 0, 0, 0, 0, 0, 0, 0, 0, 0, 0, 0, 0, 0, 0, 0, 0, 0, 0, 0, 0, 0, 0, 0, 0, 0, 0, 0, 0, 0, 0, 0, 0, 0, 0, 0, 0, 0, 0, 0, 0, 0, 0, 0, 0, 0, 0, 0, 0, 0, 0, 0, 0, 0, 0, 0, 0, 0, 0, 0, 0, 0, 0, 0, 0, 0, 0, 0, 0, 0, 0, 1, 0, 0, 0, 0, 0, 0, 0, 0, 0, 0, 0, 0, 0, 0, 0, 0, 0, 0, 0, 0, 0, 0, 0, 0, 0, 0, 0, 0, 0, 0, 0, 0, 0, 0, 0, 0, 0, 0, 0, 0, 0, 0, 0, 0, 0, 0, 0, 0, 0, 0, 0, 0, 0, 0, 0, 0, 0, 0, 0, 0, 0, 0, 0, 0, 0, 0, 0, 0, 0, 0, 0, 0, 0, 0, 0, 0, 0, 0, 0, 0, 0, 0, 0, 0, 0, 0, 0, 0, 0, 0, 0, 0, 0, 0, 0, 0, 0, 0, 0, 0, 0, 0, 0, 0, 0, 0, 0, 0, 0, 0, 2, 0, 0, 0, 0, 0, 0, 0, 0, 0, 0, 0, 0, 0, 0, 0, 0, 0, 0, 0, 0, 0, 0, 0, 0, 0, 0, 0, 0, 0, 0, 0, 0, 0, 0, 0, 0, 0, 0, 0, 0, 0, 0, 0, 0, 0, 0, 0, 0, 0, 0, 0, 0, 0, 0, 0, 0, 0, 0, 0, 0, 0, 0, 0, 0, 0, 0, 0, 0, 0, 0, 0, 0, 0, 0, 0, 0, 0, 0, 0, 0, 0, 0, 0, 0, 0, 0, 0, 0, 0, 0, 0, 0, 0, 0, 0, 0, 0, 0, 0, 0, 0, 0, 0, 0, 0, 0, 0, 0, 0, 0, 0, 0, 0, 0, 0, 0, 0, 0, 0, 0, 0, 0, 0, 0, 0, 0, 0, 0, 0, 0, 0, 0, 0, 0, 0, 0, 0, 0, 0, 0, 0, 0, 0, 0, 0, 0, 0, 0, 0, 0, 0, 0, 0, 0, 0, 0, 0, 0, 0, 0, 0, 0, 0, 0, 0, 0, 0, 0, 0, 0, 0, 0, 0, 0, 0, 0, 0, 0, 0, 0, 0, 0, 0, 0, 0, 0, 0, 0, 0, 0, 0, 0, 0, 0, 0, 0, 0, 0, 0, 0, 0, 0, 0, 0, 0, 0, 0, 0, 0, 0, 0, 0, 0, 0, 0, 0, 0, 0, 0, 0, 0, 0, 0, 0, 0, 0, 0, 0, 0, 0, 0, 0, 0, 0, 0, 0, 0, 0, 0, 0, 0, 0, 0, 0, 0, 0, 0, 0, 0, 0, 0, 0, 0, 0, 0, 0, 0, 0, 0, 0, 0, 0, 0, 0, 0, 0, 0, 0, 0, 0, 0, 0, 0, 0, 0, 0, 0, 0, 0, 0, 0, 0, 0, 0, 0, 0, 0, 0, 0, 0, 0, 0, 0, 0, 0, 0, 0, 0, 0, 0, 0, 0, 0, 0, 0, 0, 0, 0, 0, 0, 0, 0, 0, 0, 0, 0, 0, 0, 0, 0, 0, 0, 0, 0, 0, 0, 0, 0, 0, 0, 0, 0, 0, 0, 0, 0, 0, 0, 0, 0, 0, 0, 0, 0, 0, 0, 0, 0, 0, 0, 0, 0, 0, 0, 0, 0, 0, 0, 0, 0, 0, 0, 0, 0, 0, 0, 0, 0, 0, 0, 0, 0, 0, 0, 0, 0, 0, 0, 0, 0, 0, 0, 0, 0, 0, 0, 0, 0, 0, 0, 0, 0, 0, 0, 0, 0, 0, 0, 0, 0, 0, 0, 0, 0, 0, 0, 0, 0, 0, 0, 0, 0, 0, 0, 0, 0, 0, 0, 0, 0, 0, 0, 0, 0, 0, 0, 0, 0, 0, 0, 0, 0, 0, 0, 0, 0, 0, 0, 0, 0, 0, 0, 0, 0, 0, 0, 0, 0, 0, 0, 0, 0, 0, 0, 0, 0, 0, 0, 0, 0, 0, 0, 0, 0, 0, 0, 0, 0, 0, 0, 0, 0, 0, 0, 0, 0, 0, 0, 0, 0, 0, 0, 0, 0, 0, 0, 0, 0, 0, 0, 0, 0, 0, 0, 0, 0, 0, 0, 0, 0, 0, 0, 0, 0, 0, 0, 0, 0, 0, 0, 0, 0, 0, 0, 0, 0, 0, 0, 0, 0, 0, 0, 0, 0, 0, 0, 0, 0, 0, 0, 0, 0, 0, 0, 0, 0, 0, 0, 0, 0, 0, 0, 0, 0, 0, 0, 0, 0, 0, 0, 0, 0, 0, 0, 0, 0, 0, 0, 0, 0, 0, 0, 0, 0, 0, 0, 0, 0, 0, 0, 0, 0, 0, 0, 0, 0, 0, 0, 0, 0, 0, 0, 0, 0, 0, 0, 0, 0, 0, 0, 0, 0, 0, 0, 0, 0, 0, 0, 0, 0, 0, 0, 0, 0, 0, 0, 0, 0, 0, 0, 0, 0, 0, 0, 0, 0, 0, 0, 0, 0, 0, 0, 0, 0, 0, 0, 0, 0, 0, 0, 0, 0, 0, 0, 0, 0, 0, 0, 0, 0, 0, 0, 0, 0, 0, 0, 0, 0, 0, 0, 0, 0, 0, 0, 0, 0, 0, 0, 0, 0, 0, 0, 0, 0, 0, 0, 0, 0, 0, 0, 0, 0, 0, 0, 0, 0, 0, 0, 0, 0, 0, 0, 0, 0, 0, 0, 0, 0, 0, 0, 1, 0, 0, 0, 0, 0, 0, 0, 0, 0, 0, 0, 0, 0, 0, 0, 0, 0, 0, 0, 0, 0, 0, 0, 0, 0, 0, 0, 0, 0, 0, 0, 0, 0, 0, 0, 0, 0, 0, 0, 0, 0, 0, 0, 0, 0, 0, 0, 0, 0, 0, 0, 0, 0, 0, 0, 0, 0, 0, 0, 0, 0, 0, 0, 0, 0, 0, 0, 0, 0, 0, 0, 0, 0, 0, 0, 0, 0, 0, 0, 0, 0, 0, 0, 0, 0, 0, 0, 0, 0, 0, 0, 0, 0, 0, 0, 0, 0, 0, 0, 0, 0, 0, 0, 0, 0, 0, 0, 1, 0, 0, 0, 0, 0, 0, 0, 0, 0, 0, 0, 0, 0, 0, 0, 0, 0, 0, 0, 0, 0, 0, 0, 0, 0, 0, 0, 0, 0, 0, 0, 0, 0, 0, 0, 0, 0, 0, 0, 0, 0, 0, 0, 0, 0, 0, 0, 0, 0, 0, 0, 0, 0, 0, 0, 0, 0, 0, 0, 0, 0, 0, 0, 0, 0, 0, 0, 0, 0, 0, 0, 0, 0, 0, 0, 0, 0, 0, 0, 0, 0, 0, 0, 0, 0, 0, 0, 0, 0, 0, 0, 0, 0, 0, 0, 0, 0, 0, 0, 0, 0, 0, 0, 0, 0, 0, 0, 0, 0, 0, 0, 0, 0, 0, 0, 0, 0, 0, 0, 0, 0, 0, 0, 0, 0, 0, 0, 0, 0, 0, 0, 0, 0, 0, 0, 0, 0, 0, 0, 0, 0, 0, 0, 0, 0, 0, 0, 0, 0, 0, 0, 0, 0, 0, 0, 0, 0, 0, 0, 0, 0, 0, 0, 0, 0, 0, 0, 0, 0, 0, 0, 0, 0, 0, 0, 0, 0, 0, 0, 0, 0, 0, 0, 0, 0, 0, 0, 0, 0, 0, 0, 0, 0, 0, 0, 0, 0, 0, 0, 0, 0, 0, 0, 0, 0, 0, 0, 0, 0, 0, 0, 0, 0, 0, 0, 0, 0, 0, 0, 0, 0, 0, 0, 0, 0, 0, 0, 0, 0, 0, 0, 0, 0, 0, 0, 0, 0, 0, 0, 0, 0, 0, 0, 0, 0, 0, 0, 0, 0, 0, 0, 0, 0, 0, 0, 0, 0, 0, 0, 0, 0, 0, 0, 0, 0, 0, 0, 0, 0, 0, 0, 0, 0, 0, 0, 0, 0, 0, 0, 0, 0, 0, 0, 0, 0, 0, 0, 0, 0, 0, 0, 0, 0, 0, 0, 0, 0, 0, 0, 0, 0, 0, 0, 0, 0, 0, 0, 0, 0, 0, 0, 0, 0, 0, 0, 0, 0, 0, 0, 0, 0, 0, 0, 0, 0, 0, 0, 0, 0, 0, 0, 0, 0, 0, 0, 0, 0, 0, 0, 0, 0, 0, 0, 0, 0, 0, 0, 0, 0, 0, 0, 0, 0, 0, 0, 0, 0, 0, 0, 0, 0, 0, 0, 0, 0, 0, 0, 0, 0, 0, 0, 0, 0, 0, 0, 0, 0, 0, 0, 0, 0, 0, 0, 0, 0, 0, 0, 0, 0, 0, 0, 0, 0, 0, 0, 0, 0, 0, 0, 0, 0, 0, 0, 0, 0, 0, 0, 0, 0, 0, 0, 0, 0, 0, 0, 0, 0, 0, 0, 0, 0, 0, 0, 0, 0, 0, 0, 0, 0, 0, 0, 0, 0, 0, 0, 0, 0, 0, 0, 0, 0, 0, 0, 0, 0, 0, 0, 0, 0, 0, 0, 0, 0, 0, 0, 0, 0, 0, 0, 0, 0, 0, 0, 2, 0, 1, 0], type: <class 'list'>, valid types: <class 'bytes'>, <class 'bytearray'>, file-like object",
     "output_type": "error",
     "traceback": [
      "\u001b[0;31m---------------------------------------------------------------------------\u001b[0m",
      "\u001b[0;31mParamValidationError\u001b[0m                      Traceback (most recent call last)",
      "\u001b[0;32m<ipython-input-45-c9ab54ae3a48>\u001b[0m in \u001b[0;36m<module>\u001b[0;34m\u001b[0m\n\u001b[1;32m      1\u001b[0m response = runtime.invoke_endpoint(EndpointName = xgb_predictor.endpoint, # The name of the endpoint we created\n\u001b[1;32m      2\u001b[0m                                        \u001b[0mContentType\u001b[0m \u001b[0;34m=\u001b[0m \u001b[0;34m'text/csv'\u001b[0m\u001b[0;34m,\u001b[0m                     \u001b[0;31m# The data format that is expected\u001b[0m\u001b[0;34m\u001b[0m\u001b[0;34m\u001b[0m\u001b[0m\n\u001b[0;32m----> 3\u001b[0;31m                                        Body = test_bow)\n\u001b[0m",
      "\u001b[0;32m~/anaconda3/envs/amazonei_mxnet_p36/lib/python3.6/site-packages/botocore/client.py\u001b[0m in \u001b[0;36m_api_call\u001b[0;34m(self, *args, **kwargs)\u001b[0m\n\u001b[1;32m    355\u001b[0m                     \"%s() only accepts keyword arguments.\" % py_operation_name)\n\u001b[1;32m    356\u001b[0m             \u001b[0;31m# The \"self\" in this scope is referring to the BaseClient.\u001b[0m\u001b[0;34m\u001b[0m\u001b[0;34m\u001b[0m\u001b[0;34m\u001b[0m\u001b[0m\n\u001b[0;32m--> 357\u001b[0;31m             \u001b[0;32mreturn\u001b[0m \u001b[0mself\u001b[0m\u001b[0;34m.\u001b[0m\u001b[0m_make_api_call\u001b[0m\u001b[0;34m(\u001b[0m\u001b[0moperation_name\u001b[0m\u001b[0;34m,\u001b[0m \u001b[0mkwargs\u001b[0m\u001b[0;34m)\u001b[0m\u001b[0;34m\u001b[0m\u001b[0;34m\u001b[0m\u001b[0m\n\u001b[0m\u001b[1;32m    358\u001b[0m \u001b[0;34m\u001b[0m\u001b[0m\n\u001b[1;32m    359\u001b[0m         \u001b[0m_api_call\u001b[0m\u001b[0;34m.\u001b[0m\u001b[0m__name__\u001b[0m \u001b[0;34m=\u001b[0m \u001b[0mstr\u001b[0m\u001b[0;34m(\u001b[0m\u001b[0mpy_operation_name\u001b[0m\u001b[0;34m)\u001b[0m\u001b[0;34m\u001b[0m\u001b[0;34m\u001b[0m\u001b[0m\n",
      "\u001b[0;32m~/anaconda3/envs/amazonei_mxnet_p36/lib/python3.6/site-packages/botocore/client.py\u001b[0m in \u001b[0;36m_make_api_call\u001b[0;34m(self, operation_name, api_params)\u001b[0m\n\u001b[1;32m    647\u001b[0m         }\n\u001b[1;32m    648\u001b[0m         request_dict = self._convert_to_request_dict(\n\u001b[0;32m--> 649\u001b[0;31m             api_params, operation_model, context=request_context)\n\u001b[0m\u001b[1;32m    650\u001b[0m \u001b[0;34m\u001b[0m\u001b[0m\n\u001b[1;32m    651\u001b[0m         \u001b[0mservice_id\u001b[0m \u001b[0;34m=\u001b[0m \u001b[0mself\u001b[0m\u001b[0;34m.\u001b[0m\u001b[0m_service_model\u001b[0m\u001b[0;34m.\u001b[0m\u001b[0mservice_id\u001b[0m\u001b[0;34m.\u001b[0m\u001b[0mhyphenize\u001b[0m\u001b[0;34m(\u001b[0m\u001b[0;34m)\u001b[0m\u001b[0;34m\u001b[0m\u001b[0;34m\u001b[0m\u001b[0m\n",
      "\u001b[0;32m~/anaconda3/envs/amazonei_mxnet_p36/lib/python3.6/site-packages/botocore/client.py\u001b[0m in \u001b[0;36m_convert_to_request_dict\u001b[0;34m(self, api_params, operation_model, context)\u001b[0m\n\u001b[1;32m    695\u001b[0m             api_params, operation_model, context)\n\u001b[1;32m    696\u001b[0m         request_dict = self._serializer.serialize_to_request(\n\u001b[0;32m--> 697\u001b[0;31m             api_params, operation_model)\n\u001b[0m\u001b[1;32m    698\u001b[0m         \u001b[0;32mif\u001b[0m \u001b[0;32mnot\u001b[0m \u001b[0mself\u001b[0m\u001b[0;34m.\u001b[0m\u001b[0m_client_config\u001b[0m\u001b[0;34m.\u001b[0m\u001b[0minject_host_prefix\u001b[0m\u001b[0;34m:\u001b[0m\u001b[0;34m\u001b[0m\u001b[0;34m\u001b[0m\u001b[0m\n\u001b[1;32m    699\u001b[0m             \u001b[0mrequest_dict\u001b[0m\u001b[0;34m.\u001b[0m\u001b[0mpop\u001b[0m\u001b[0;34m(\u001b[0m\u001b[0;34m'host_prefix'\u001b[0m\u001b[0;34m,\u001b[0m \u001b[0;32mNone\u001b[0m\u001b[0;34m)\u001b[0m\u001b[0;34m\u001b[0m\u001b[0;34m\u001b[0m\u001b[0m\n",
      "\u001b[0;32m~/anaconda3/envs/amazonei_mxnet_p36/lib/python3.6/site-packages/botocore/validate.py\u001b[0m in \u001b[0;36mserialize_to_request\u001b[0;34m(self, parameters, operation_model)\u001b[0m\n\u001b[1;32m    295\u001b[0m                                                     operation_model.input_shape)\n\u001b[1;32m    296\u001b[0m             \u001b[0;32mif\u001b[0m \u001b[0mreport\u001b[0m\u001b[0;34m.\u001b[0m\u001b[0mhas_errors\u001b[0m\u001b[0;34m(\u001b[0m\u001b[0;34m)\u001b[0m\u001b[0;34m:\u001b[0m\u001b[0;34m\u001b[0m\u001b[0;34m\u001b[0m\u001b[0m\n\u001b[0;32m--> 297\u001b[0;31m                 \u001b[0;32mraise\u001b[0m \u001b[0mParamValidationError\u001b[0m\u001b[0;34m(\u001b[0m\u001b[0mreport\u001b[0m\u001b[0;34m=\u001b[0m\u001b[0mreport\u001b[0m\u001b[0;34m.\u001b[0m\u001b[0mgenerate_report\u001b[0m\u001b[0;34m(\u001b[0m\u001b[0;34m)\u001b[0m\u001b[0;34m)\u001b[0m\u001b[0;34m\u001b[0m\u001b[0;34m\u001b[0m\u001b[0m\n\u001b[0m\u001b[1;32m    298\u001b[0m         return self._serializer.serialize_to_request(parameters,\n\u001b[1;32m    299\u001b[0m                                                      operation_model)\n",
      "\u001b[0;31mParamValidationError\u001b[0m: Parameter validation failed:\nInvalid type for parameter Body, value: [0, 0, 0, 0, 0, 0, 0, 0, 0, 0, 0, 0, 0, 0, 0, 0, 0, 0, 0, 0, 0, 0, 0, 0, 0, 0, 0, 0, 0, 0, 0, 0, 0, 0, 0, 0, 0, 0, 0, 0, 0, 0, 0, 0, 0, 0, 0, 0, 0, 0, 0, 0, 0, 0, 0, 0, 0, 0, 0, 0, 0, 0, 0, 0, 0, 0, 0, 0, 0, 0, 0, 0, 0, 0, 0, 0, 0, 0, 0, 0, 0, 0, 0, 0, 0, 0, 0, 0, 0, 0, 0, 0, 0, 0, 0, 0, 0, 0, 0, 0, 0, 0, 0, 0, 0, 0, 0, 0, 0, 0, 0, 0, 0, 0, 0, 0, 0, 0, 0, 0, 0, 0, 0, 0, 0, 0, 0, 0, 0, 0, 0, 0, 0, 0, 0, 0, 0, 0, 0, 0, 0, 0, 0, 0, 0, 0, 0, 0, 0, 0, 0, 0, 0, 0, 0, 0, 0, 0, 0, 0, 0, 0, 0, 0, 0, 0, 0, 0, 0, 0, 0, 0, 0, 0, 0, 0, 0, 0, 0, 0, 0, 0, 0, 0, 0, 0, 0, 0, 0, 0, 0, 0, 0, 0, 0, 0, 0, 0, 0, 0, 0, 0, 0, 0, 0, 0, 0, 0, 0, 0, 0, 0, 0, 0, 0, 0, 0, 0, 0, 0, 0, 0, 0, 0, 0, 0, 1, 0, 0, 0, 0, 0, 0, 0, 0, 0, 0, 0, 0, 0, 0, 0, 0, 0, 0, 0, 0, 0, 0, 0, 0, 0, 0, 0, 0, 0, 1, 0, 0, 0, 0, 0, 0, 0, 0, 0, 0, 0, 0, 0, 0, 0, 0, 0, 0, 0, 0, 0, 0, 0, 0, 0, 0, 0, 0, 0, 0, 0, 0, 0, 0, 0, 0, 0, 0, 0, 0, 0, 0, 0, 0, 0, 0, 0, 0, 0, 0, 0, 0, 0, 0, 0, 0, 0, 0, 0, 0, 0, 0, 0, 0, 0, 0, 0, 0, 0, 0, 0, 0, 0, 0, 0, 0, 0, 0, 0, 0, 0, 0, 0, 0, 0, 0, 0, 0, 0, 0, 0, 0, 0, 0, 0, 0, 0, 0, 0, 0, 0, 0, 0, 0, 0, 0, 0, 0, 0, 0, 0, 0, 0, 0, 0, 0, 0, 0, 0, 0, 0, 0, 0, 0, 0, 0, 0, 0, 0, 0, 0, 0, 0, 0, 0, 0, 0, 0, 0, 0, 0, 0, 0, 0, 0, 0, 0, 0, 0, 0, 0, 0, 0, 0, 0, 0, 0, 0, 0, 0, 0, 0, 0, 0, 0, 0, 0, 0, 0, 0, 0, 0, 0, 0, 0, 0, 0, 0, 0, 0, 0, 0, 0, 0, 0, 0, 0, 0, 0, 0, 0, 0, 0, 0, 0, 0, 0, 0, 0, 0, 0, 0, 0, 0, 0, 0, 0, 0, 0, 0, 0, 0, 0, 0, 0, 0, 0, 0, 0, 0, 0, 0, 0, 0, 0, 0, 0, 0, 0, 0, 0, 0, 0, 0, 0, 0, 0, 0, 0, 0, 0, 0, 0, 0, 0, 0, 0, 0, 0, 0, 0, 0, 0, 0, 0, 0, 0, 0, 0, 0, 0, 0, 0, 0, 0, 0, 0, 0, 0, 0, 0, 0, 0, 0, 0, 0, 0, 0, 0, 0, 0, 0, 0, 0, 0, 0, 0, 0, 0, 0, 0, 0, 0, 0, 0, 0, 0, 0, 0, 0, 0, 0, 0, 0, 0, 0, 0, 0, 0, 0, 0, 0, 0, 0, 0, 0, 0, 0, 0, 0, 0, 0, 0, 0, 0, 0, 0, 0, 0, 0, 0, 0, 0, 0, 0, 0, 0, 0, 0, 0, 0, 0, 0, 0, 0, 0, 0, 0, 0, 0, 0, 0, 0, 0, 0, 0, 0, 0, 0, 0, 0, 0, 0, 0, 0, 0, 0, 0, 0, 0, 0, 0, 0, 0, 0, 0, 0, 0, 0, 1, 0, 0, 0, 0, 0, 0, 0, 0, 0, 0, 0, 0, 0, 0, 0, 0, 0, 0, 0, 0, 0, 0, 0, 0, 0, 0, 0, 0, 0, 0, 0, 0, 0, 0, 0, 0, 0, 0, 0, 0, 0, 0, 0, 0, 0, 0, 0, 0, 0, 0, 0, 0, 0, 0, 0, 0, 0, 0, 0, 0, 0, 0, 0, 0, 0, 0, 0, 0, 0, 0, 0, 0, 0, 0, 0, 0, 0, 0, 0, 0, 0, 0, 0, 0, 0, 0, 0, 0, 0, 0, 0, 0, 0, 0, 0, 0, 0, 0, 0, 0, 0, 0, 0, 0, 0, 0, 0, 0, 0, 0, 0, 0, 0, 0, 0, 0, 0, 0, 0, 0, 0, 0, 0, 0, 0, 0, 0, 0, 0, 0, 0, 0, 0, 0, 0, 0, 0, 0, 0, 0, 0, 0, 0, 0, 0, 0, 0, 0, 0, 0, 0, 0, 0, 0, 0, 0, 0, 0, 0, 0, 0, 0, 0, 0, 0, 0, 0, 0, 0, 0, 0, 0, 0, 0, 0, 0, 0, 0, 0, 0, 0, 0, 0, 0, 0, 0, 0, 0, 0, 0, 0, 0, 0, 0, 0, 0, 0, 0, 0, 0, 0, 0, 0, 0, 0, 0, 0, 0, 0, 0, 0, 0, 0, 0, 0, 0, 0, 0, 0, 0, 0, 0, 0, 0, 0, 0, 0, 0, 0, 0, 0, 0, 0, 0, 0, 0, 0, 0, 0, 0, 0, 0, 0, 0, 0, 0, 0, 0, 0, 0, 0, 0, 0, 1, 0, 0, 0, 0, 0, 0, 0, 0, 0, 0, 0, 0, 0, 0, 0, 0, 0, 0, 0, 0, 0, 0, 0, 0, 0, 0, 0, 0, 0, 0, 0, 0, 0, 0, 0, 0, 0, 0, 0, 0, 0, 0, 0, 0, 0, 0, 0, 0, 0, 0, 0, 0, 0, 0, 0, 0, 0, 0, 0, 0, 0, 0, 0, 0, 0, 0, 0, 0, 0, 0, 0, 0, 0, 0, 0, 0, 0, 0, 0, 0, 0, 0, 0, 0, 0, 0, 1, 0, 0, 0, 0, 0, 0, 0, 0, 0, 0, 0, 0, 0, 0, 0, 0, 0, 0, 0, 0, 0, 0, 0, 0, 0, 0, 0, 0, 0, 0, 0, 0, 0, 0, 0, 0, 0, 0, 0, 0, 0, 0, 0, 0, 0, 0, 0, 0, 0, 0, 0, 0, 0, 0, 0, 0, 0, 0, 0, 0, 0, 0, 0, 0, 0, 0, 0, 0, 0, 0, 0, 0, 0, 0, 0, 0, 0, 0, 0, 0, 0, 0, 0, 0, 0, 0, 0, 0, 0, 0, 0, 0, 0, 0, 0, 0, 0, 0, 0, 0, 0, 0, 0, 0, 0, 0, 0, 0, 0, 0, 0, 0, 0, 0, 0, 0, 0, 0, 0, 0, 0, 0, 0, 0, 0, 0, 0, 0, 0, 0, 0, 0, 0, 0, 0, 0, 0, 0, 0, 0, 0, 0, 0, 0, 0, 0, 0, 0, 0, 0, 0, 0, 0, 0, 0, 0, 0, 0, 0, 0, 0, 0, 0, 0, 0, 0, 0, 0, 0, 0, 0, 0, 0, 0, 0, 0, 0, 0, 0, 0, 0, 0, 0, 0, 0, 0, 0, 0, 0, 0, 0, 0, 0, 0, 0, 0, 0, 0, 0, 0, 0, 0, 0, 0, 0, 0, 0, 0, 0, 0, 0, 0, 0, 0, 0, 0, 0, 0, 0, 0, 0, 0, 0, 0, 0, 0, 0, 0, 0, 0, 0, 0, 0, 0, 0, 0, 0, 0, 0, 0, 0, 0, 0, 0, 0, 0, 0, 0, 0, 0, 0, 0, 1, 0, 0, 0, 0, 0, 0, 0, 0, 0, 0, 0, 0, 0, 0, 0, 0, 0, 0, 0, 0, 0, 0, 0, 0, 0, 0, 0, 0, 0, 0, 0, 0, 0, 0, 0, 0, 0, 0, 0, 0, 0, 0, 0, 0, 0, 0, 0, 0, 0, 0, 0, 0, 0, 0, 0, 1, 0, 0, 0, 0, 0, 0, 0, 0, 0, 0, 0, 0, 0, 0, 0, 0, 0, 0, 0, 0, 0, 0, 0, 0, 0, 0, 0, 0, 0, 0, 0, 0, 0, 0, 0, 0, 0, 0, 0, 0, 0, 0, 0, 0, 0, 0, 0, 0, 0, 0, 0, 0, 0, 0, 0, 0, 0, 0, 0, 0, 0, 0, 0, 0, 0, 0, 0, 0, 0, 0, 0, 0, 0, 0, 0, 0, 0, 0, 0, 0, 0, 0, 0, 0, 0, 0, 0, 0, 0, 0, 0, 0, 0, 0, 0, 0, 0, 0, 0, 0, 0, 0, 0, 0, 0, 0, 0, 0, 0, 0, 0, 0, 0, 0, 0, 0, 0, 0, 0, 0, 0, 0, 0, 0, 0, 0, 0, 0, 0, 0, 0, 0, 0, 0, 0, 0, 0, 0, 0, 0, 0, 0, 0, 0, 0, 0, 0, 0, 0, 0, 0, 0, 0, 0, 0, 0, 0, 0, 0, 0, 0, 0, 0, 0, 0, 0, 0, 0, 0, 0, 0, 0, 0, 0, 0, 0, 0, 0, 0, 0, 0, 0, 0, 0, 0, 0, 0, 0, 0, 0, 0, 0, 0, 0, 0, 0, 0, 0, 0, 0, 0, 0, 0, 0, 0, 0, 0, 0, 0, 0, 0, 0, 0, 0, 0, 0, 0, 0, 0, 0, 0, 0, 0, 0, 0, 0, 0, 0, 0, 0, 0, 0, 0, 0, 0, 0, 0, 0, 0, 0, 0, 0, 0, 0, 0, 0, 0, 0, 0, 0, 0, 0, 0, 0, 0, 0, 0, 0, 0, 0, 0, 0, 0, 0, 0, 0, 0, 0, 0, 0, 0, 0, 0, 0, 0, 0, 0, 0, 0, 0, 0, 0, 0, 0, 0, 0, 0, 0, 0, 0, 0, 0, 0, 0, 0, 0, 0, 0, 0, 0, 0, 0, 0, 0, 0, 0, 0, 0, 0, 0, 0, 0, 0, 0, 0, 0, 0, 0, 0, 0, 0, 0, 0, 0, 0, 0, 0, 0, 0, 0, 0, 0, 0, 0, 0, 0, 0, 0, 0, 0, 0, 0, 0, 0, 0, 0, 0, 0, 0, 0, 0, 0, 0, 0, 0, 0, 0, 0, 0, 0, 0, 0, 0, 0, 0, 0, 0, 0, 0, 0, 0, 0, 0, 0, 0, 0, 0, 0, 0, 0, 0, 0, 0, 0, 0, 0, 0, 0, 0, 0, 0, 0, 0, 0, 0, 0, 0, 0, 0, 0, 0, 0, 0, 0, 0, 0, 0, 0, 0, 0, 0, 0, 0, 0, 0, 0, 0, 0, 0, 0, 0, 0, 0, 0, 0, 0, 0, 0, 0, 0, 0, 0, 0, 0, 0, 0, 0, 0, 0, 0, 0, 0, 0, 0, 0, 0, 0, 0, 0, 0, 0, 0, 0, 0, 0, 0, 0, 0, 0, 0, 0, 0, 0, 0, 0, 0, 0, 0, 0, 0, 0, 0, 0, 0, 0, 0, 0, 0, 0, 0, 0, 0, 0, 0, 0, 0, 0, 0, 0, 0, 0, 0, 0, 0, 0, 0, 0, 0, 0, 0, 0, 0, 0, 0, 0, 0, 0, 0, 0, 0, 0, 0, 0, 0, 0, 0, 0, 0, 0, 0, 0, 0, 0, 0, 0, 0, 0, 0, 0, 0, 0, 0, 0, 0, 0, 0, 0, 0, 0, 0, 0, 0, 0, 0, 0, 0, 0, 0, 0, 0, 0, 0, 0, 0, 0, 0, 0, 0, 0, 0, 0, 0, 0, 0, 0, 0, 0, 0, 0, 0, 0, 0, 0, 0, 0, 0, 0, 0, 0, 0, 0, 0, 0, 0, 0, 0, 0, 0, 0, 0, 0, 0, 0, 0, 0, 0, 0, 0, 0, 0, 0, 0, 0, 0, 0, 0, 0, 0, 0, 0, 0, 0, 0, 0, 0, 0, 0, 0, 0, 0, 0, 0, 0, 0, 0, 0, 0, 0, 0, 0, 0, 0, 0, 0, 0, 0, 0, 0, 0, 0, 0, 0, 0, 0, 0, 0, 0, 0, 0, 0, 0, 0, 0, 0, 0, 0, 0, 0, 0, 0, 0, 0, 0, 0, 0, 0, 0, 0, 0, 0, 0, 0, 0, 0, 0, 0, 0, 0, 0, 0, 0, 1, 0, 0, 0, 0, 0, 0, 0, 0, 0, 0, 0, 0, 0, 0, 0, 0, 0, 0, 0, 0, 0, 0, 0, 0, 0, 0, 0, 0, 0, 0, 0, 0, 0, 0, 0, 0, 0, 0, 0, 0, 0, 0, 0, 0, 0, 0, 0, 0, 0, 0, 0, 0, 0, 0, 0, 0, 0, 0, 0, 0, 0, 0, 0, 0, 0, 0, 0, 0, 0, 0, 0, 0, 0, 0, 1, 0, 0, 0, 0, 0, 0, 0, 0, 0, 0, 0, 0, 0, 0, 0, 0, 0, 0, 0, 0, 1, 0, 0, 1, 0, 0, 0, 0, 0, 0, 0, 0, 0, 0, 0, 0, 0, 0, 0, 0, 0, 0, 0, 0, 0, 0, 0, 0, 0, 0, 0, 0, 0, 0, 0, 0, 0, 0, 0, 0, 0, 0, 0, 0, 0, 0, 0, 0, 0, 0, 0, 0, 0, 0, 0, 0, 0, 0, 0, 0, 0, 0, 0, 0, 0, 0, 0, 0, 0, 0, 0, 0, 0, 0, 0, 0, 0, 0, 0, 0, 0, 0, 0, 0, 0, 0, 0, 0, 0, 0, 0, 0, 0, 0, 0, 0, 0, 0, 0, 0, 0, 0, 0, 0, 0, 0, 0, 0, 0, 0, 0, 0, 0, 0, 0, 0, 0, 0, 0, 0, 0, 0, 0, 0, 0, 0, 0, 0, 0, 0, 0, 0, 0, 0, 0, 0, 0, 0, 0, 0, 0, 0, 0, 0, 0, 0, 0, 0, 0, 0, 0, 0, 0, 0, 0, 0, 0, 0, 0, 0, 0, 0, 0, 0, 0, 0, 0, 0, 0, 0, 0, 0, 0, 0, 0, 0, 0, 0, 0, 0, 0, 0, 0, 0, 0, 0, 0, 0, 0, 0, 0, 0, 0, 0, 0, 0, 0, 0, 0, 0, 0, 0, 0, 0, 0, 0, 0, 0, 0, 0, 0, 0, 0, 0, 0, 0, 0, 0, 0, 0, 0, 0, 0, 0, 0, 0, 0, 0, 0, 0, 0, 0, 0, 0, 0, 0, 0, 0, 0, 0, 0, 0, 0, 0, 0, 0, 0, 0, 0, 0, 0, 0, 0, 0, 0, 0, 0, 0, 0, 0, 0, 0, 0, 0, 0, 0, 0, 0, 0, 0, 0, 0, 0, 0, 0, 0, 0, 0, 0, 0, 0, 0, 0, 0, 0, 0, 0, 0, 0, 0, 0, 0, 0, 0, 0, 0, 0, 0, 0, 0, 0, 0, 0, 0, 0, 0, 0, 0, 0, 0, 0, 0, 0, 0, 0, 0, 0, 0, 0, 0, 0, 0, 0, 0, 0, 0, 0, 0, 0, 0, 0, 0, 0, 0, 0, 0, 0, 0, 0, 0, 0, 0, 0, 0, 0, 0, 0, 0, 0, 0, 0, 0, 0, 0, 0, 0, 0, 0, 0, 0, 0, 0, 0, 0, 0, 0, 0, 0, 0, 0, 0, 0, 0, 0, 0, 0, 0, 0, 0, 0, 0, 0, 0, 0, 0, 0, 0, 0, 0, 0, 0, 0, 0, 0, 0, 0, 0, 0, 0, 0, 0, 0, 0, 0, 0, 0, 0, 0, 0, 0, 0, 0, 0, 0, 0, 0, 0, 0, 0, 0, 0, 0, 0, 0, 0, 0, 0, 0, 0, 0, 0, 0, 0, 0, 0, 0, 0, 0, 0, 0, 0, 0, 0, 0, 0, 0, 0, 0, 0, 0, 0, 0, 0, 0, 0, 0, 0, 0, 0, 0, 0, 0, 0, 0, 0, 0, 0, 0, 0, 0, 1, 0, 0, 0, 0, 0, 0, 0, 0, 0, 0, 0, 0, 0, 0, 0, 0, 0, 0, 0, 0, 0, 0, 0, 0, 0, 0, 0, 0, 0, 0, 0, 0, 0, 0, 0, 0, 0, 0, 0, 0, 0, 0, 0, 0, 0, 0, 0, 0, 0, 0, 0, 0, 0, 0, 0, 0, 0, 0, 0, 0, 0, 0, 0, 0, 0, 0, 0, 0, 0, 0, 0, 0, 0, 0, 0, 0, 0, 0, 0, 0, 0, 0, 0, 0, 0, 0, 0, 0, 0, 0, 0, 0, 0, 0, 0, 0, 0, 0, 0, 0, 0, 0, 0, 0, 0, 0, 0, 0, 0, 0, 0, 0, 0, 0, 0, 0, 0, 0, 0, 0, 0, 0, 0, 0, 0, 0, 0, 0, 0, 0, 0, 0, 0, 0, 0, 0, 0, 0, 0, 0, 0, 0, 0, 0, 0, 0, 0, 0, 0, 0, 0, 0, 0, 0, 0, 0, 0, 0, 0, 0, 0, 0, 0, 0, 0, 0, 0, 0, 0, 0, 0, 0, 0, 0, 0, 0, 0, 0, 0, 0, 0, 0, 0, 0, 0, 0, 0, 0, 0, 0, 0, 0, 0, 0, 0, 0, 0, 0, 0, 0, 0, 0, 0, 0, 0, 0, 0, 0, 0, 0, 0, 0, 0, 0, 0, 0, 0, 0, 0, 0, 0, 0, 0, 0, 0, 0, 0, 0, 0, 0, 0, 0, 0, 0, 0, 0, 0, 0, 0, 0, 0, 0, 0, 0, 0, 0, 0, 0, 0, 0, 0, 0, 0, 0, 0, 0, 0, 0, 0, 0, 0, 0, 0, 0, 0, 0, 0, 0, 0, 0, 0, 0, 0, 0, 0, 0, 0, 0, 0, 0, 0, 0, 0, 0, 0, 0, 0, 0, 0, 0, 0, 0, 0, 0, 0, 0, 0, 0, 0, 0, 0, 0, 0, 0, 0, 0, 0, 0, 0, 0, 0, 0, 0, 0, 0, 0, 0, 0, 0, 0, 0, 0, 0, 0, 0, 0, 0, 0, 0, 0, 0, 0, 0, 0, 0, 0, 0, 0, 0, 0, 0, 0, 0, 0, 0, 0, 0, 0, 0, 0, 0, 0, 0, 0, 0, 0, 0, 0, 0, 0, 0, 0, 0, 0, 0, 0, 0, 0, 0, 0, 0, 0, 0, 0, 0, 0, 0, 0, 0, 0, 0, 0, 0, 0, 0, 0, 0, 0, 0, 0, 0, 0, 0, 0, 0, 0, 0, 0, 0, 0, 0, 0, 0, 0, 0, 0, 0, 0, 0, 0, 0, 0, 0, 0, 0, 0, 0, 0, 0, 0, 0, 0, 0, 0, 0, 0, 0, 0, 0, 0, 0, 0, 0, 0, 0, 0, 0, 0, 0, 0, 0, 0, 0, 0, 0, 0, 0, 0, 0, 0, 0, 0, 0, 0, 0, 0, 0, 0, 0, 0, 0, 0, 0, 0, 0, 0, 0, 0, 0, 0, 0, 0, 0, 0, 0, 0, 0, 0, 0, 0, 0, 0, 0, 0, 0, 0, 0, 0, 0, 0, 0, 0, 0, 0, 0, 0, 0, 0, 0, 0, 0, 0, 0, 0, 0, 0, 0, 0, 0, 0, 0, 0, 1, 0, 0, 0, 0, 0, 0, 0, 0, 0, 0, 0, 0, 0, 0, 0, 0, 0, 0, 0, 0, 0, 0, 0, 0, 0, 0, 0, 0, 0, 0, 0, 0, 0, 0, 0, 2, 0, 0, 0, 0, 0, 0, 0, 0, 0, 0, 0, 0, 0, 0, 0, 0, 0, 0, 0, 0, 0, 0, 0, 0, 0, 0, 0, 0, 0, 0, 0, 0, 0, 0, 0, 0, 0, 0, 0, 0, 1, 0, 0, 0, 0, 0, 0, 0, 0, 0, 0, 0, 0, 0, 0, 0, 0, 0, 0, 0, 0, 0, 0, 0, 0, 0, 0, 0, 0, 0, 0, 0, 0, 0, 0, 0, 0, 0, 0, 0, 0, 0, 0, 0, 0, 0, 0, 0, 0, 0, 0, 0, 0, 0, 0, 0, 0, 0, 0, 0, 0, 0, 0, 0, 0, 0, 0, 0, 0, 0, 0, 0, 0, 0, 0, 0, 0, 0, 0, 0, 0, 0, 0, 0, 0, 0, 0, 0, 0, 0, 0, 0, 0, 0, 0, 0, 0, 0, 0, 0, 0, 0, 0, 0, 0, 0, 0, 0, 0, 0, 0, 0, 0, 0, 0, 0, 0, 0, 0, 0, 0, 0, 0, 0, 0, 0, 0, 0, 0, 0, 0, 0, 0, 0, 0, 0, 0, 0, 0, 0, 0, 0, 0, 0, 0, 0, 0, 0, 0, 0, 0, 0, 0, 0, 0, 0, 0, 0, 0, 0, 0, 0, 0, 0, 0, 0, 0, 0, 0, 0, 0, 0, 0, 0, 0, 0, 0, 0, 0, 0, 0, 0, 0, 0, 0, 0, 0, 0, 0, 0, 0, 0, 0, 0, 0, 0, 0, 0, 0, 0, 0, 0, 0, 0, 0, 0, 0, 0, 0, 0, 0, 0, 0, 0, 0, 0, 0, 0, 0, 0, 0, 0, 0, 0, 0, 0, 0, 0, 0, 0, 0, 0, 0, 0, 0, 0, 0, 0, 0, 0, 0, 0, 0, 0, 0, 0, 0, 0, 0, 0, 0, 0, 0, 0, 0, 0, 0, 0, 0, 0, 0, 0, 0, 0, 0, 0, 0, 0, 0, 0, 0, 0, 0, 0, 0, 0, 0, 0, 0, 0, 0, 0, 0, 0, 0, 0, 0, 0, 0, 0, 0, 0, 0, 0, 0, 0, 0, 0, 0, 0, 0, 0, 0, 0, 0, 0, 0, 0, 0, 0, 0, 0, 0, 0, 0, 0, 0, 0, 0, 0, 0, 0, 0, 0, 0, 0, 0, 0, 0, 0, 0, 0, 0, 0, 0, 0, 0, 0, 0, 0, 0, 0, 0, 0, 0, 0, 0, 0, 0, 0, 0, 0, 0, 0, 0, 0, 0, 0, 0, 0, 0, 0, 0, 0, 0, 0, 0, 0, 0, 0, 0, 0, 0, 0, 0, 0, 0, 0, 0, 0, 0, 0, 0, 0, 0, 0, 0, 0, 0, 0, 0, 0, 0, 0, 0, 0, 0, 0, 0, 0, 0, 0, 0, 0, 0, 0, 0, 0, 0, 0, 0, 0, 0, 0, 0, 0, 0, 0, 0, 0, 0, 0, 0, 0, 0, 0, 0, 0, 0, 0, 0, 0, 0, 0, 0, 0, 0, 0, 0, 0, 0, 0, 0, 0, 0, 0, 0, 0, 0, 0, 0, 0, 0, 0, 0, 0, 0, 0, 0, 0, 0, 0, 0, 0, 0, 0, 0, 0, 0, 0, 0, 0, 0, 0, 0, 0, 0, 0, 0, 0, 0, 0, 0, 0, 0, 0, 0, 0, 0, 0, 0, 0, 0, 0, 0, 0, 0, 0, 1, 0, 0, 0, 0, 0, 0, 0, 0, 0, 0, 0, 0, 0, 0, 0, 0, 0, 0, 0, 0, 0, 0, 0, 0, 0, 0, 0, 0, 0, 0, 0, 0, 0, 0, 0, 0, 0, 0, 0, 0, 0, 0, 0, 0, 0, 0, 0, 0, 0, 0, 0, 0, 0, 0, 0, 0, 0, 0, 0, 0, 0, 0, 0, 0, 0, 0, 0, 0, 0, 0, 0, 0, 0, 0, 0, 0, 0, 0, 0, 0, 0, 0, 0, 0, 0, 0, 0, 0, 0, 0, 0, 0, 0, 0, 0, 0, 0, 0, 0, 0, 0, 0, 0, 0, 0, 0, 0, 0, 0, 0, 2, 0, 0, 0, 0, 0, 0, 0, 0, 0, 0, 0, 0, 0, 0, 0, 0, 0, 0, 0, 0, 0, 0, 0, 0, 0, 0, 0, 0, 0, 0, 0, 0, 0, 0, 0, 0, 0, 0, 0, 0, 0, 0, 0, 0, 0, 0, 0, 0, 0, 0, 0, 0, 0, 0, 0, 0, 0, 0, 0, 0, 0, 0, 0, 0, 0, 0, 0, 0, 0, 0, 0, 0, 0, 0, 0, 0, 0, 0, 0, 0, 0, 0, 0, 0, 0, 0, 0, 0, 0, 0, 0, 0, 0, 0, 0, 0, 0, 0, 0, 0, 0, 0, 0, 0, 0, 0, 0, 0, 0, 0, 0, 0, 0, 0, 0, 0, 0, 0, 0, 0, 0, 0, 0, 0, 0, 0, 0, 0, 0, 0, 0, 0, 0, 0, 0, 0, 0, 0, 0, 0, 0, 0, 0, 0, 0, 0, 0, 0, 0, 0, 0, 0, 0, 0, 0, 0, 0, 0, 0, 0, 0, 0, 0, 0, 0, 0, 0, 0, 0, 0, 0, 0, 0, 0, 0, 0, 0, 0, 0, 0, 0, 0, 0, 0, 0, 0, 0, 0, 0, 0, 0, 0, 0, 0, 0, 0, 0, 0, 0, 0, 0, 0, 0, 0, 0, 0, 0, 0, 0, 0, 0, 0, 0, 0, 0, 0, 0, 0, 0, 0, 0, 0, 0, 0, 0, 0, 0, 0, 0, 0, 0, 0, 0, 0, 0, 0, 0, 0, 0, 0, 0, 0, 0, 0, 0, 0, 0, 0, 0, 0, 0, 0, 0, 0, 0, 0, 0, 0, 0, 0, 0, 0, 0, 0, 0, 0, 0, 0, 0, 0, 0, 0, 0, 0, 0, 0, 0, 0, 0, 0, 0, 0, 0, 0, 0, 0, 0, 0, 0, 0, 0, 0, 0, 0, 0, 0, 0, 0, 0, 0, 0, 0, 0, 0, 0, 0, 0, 0, 0, 0, 0, 0, 0, 0, 0, 0, 0, 0, 0, 0, 0, 0, 0, 0, 0, 0, 0, 0, 0, 0, 0, 0, 0, 0, 0, 0, 0, 0, 0, 0, 0, 0, 0, 0, 0, 0, 0, 0, 0, 0, 0, 0, 0, 0, 0, 0, 0, 0, 0, 0, 0, 0, 0, 0, 0, 0, 0, 0, 0, 0, 0, 0, 0, 0, 0, 0, 0, 0, 0, 0, 0, 0, 0, 0, 0, 0, 0, 0, 0, 0, 0, 0, 0, 0, 0, 0, 0, 0, 0, 0, 0, 0, 0, 0, 0, 0, 0, 0, 0, 0, 0, 0, 0, 0, 0, 0, 0, 0, 0, 0, 0, 0, 0, 0, 0, 0, 0, 0, 0, 0, 0, 0, 0, 0, 0, 0, 0, 0, 0, 0, 0, 0, 0, 0, 0, 0, 0, 0, 0, 0, 0, 0, 0, 0, 0, 0, 0, 0, 0, 0, 0, 0, 0, 0, 0, 0, 0, 0, 0, 0, 0, 0, 0, 0, 0, 0, 0, 0, 0, 0, 0, 0, 0, 0, 0, 0, 0, 0, 0, 0, 0, 0, 0, 0, 0, 0, 0, 0, 0, 0, 0, 0, 0, 0, 0, 0, 0, 0, 0, 0, 0, 0, 0, 0, 0, 0, 0, 0, 0, 0, 0, 0, 0, 0, 0, 0, 0, 0, 0, 0, 0, 0, 0, 0, 0, 0, 0, 0, 0, 0, 0, 0, 0, 0, 0, 0, 0, 0, 0, 0, 0, 0, 0, 0, 0, 0, 0, 0, 0, 0, 0, 0, 0, 0, 0, 0, 0, 0, 0, 0, 0, 0, 0, 0, 0, 0, 0, 0, 0, 0, 0, 0, 0, 0, 0, 0, 0, 0, 0, 0, 0, 0, 0, 0, 0, 0, 0, 0, 0, 0, 0, 0, 0, 0, 0, 0, 0, 0, 0, 0, 0, 0, 0, 0, 0, 0, 0, 0, 0, 0, 0, 0, 0, 0, 0, 0, 0, 0, 0, 0, 0, 0, 0, 0, 0, 0, 0, 0, 0, 0, 0, 0, 0, 0, 0, 0, 0, 0, 0, 0, 0, 0, 0, 0, 0, 0, 0, 0, 0, 0, 0, 0, 0, 0, 0, 0, 0, 0, 0, 0, 0, 0, 0, 0, 0, 0, 0, 0, 0, 0, 0, 0, 0, 0, 0, 0, 0, 0, 0, 0, 1, 0, 0, 0, 0, 0, 0, 0, 0, 0, 0, 0, 0, 0, 0, 0, 0, 0, 0, 0, 0, 0, 0, 0, 0, 0, 0, 0, 0, 0, 0, 0, 0, 0, 0, 0, 0, 0, 0, 0, 0, 0, 0, 0, 0, 0, 0, 0, 0, 0, 0, 0, 0, 0, 0, 0, 0, 0, 0, 0, 0, 0, 0, 0, 0, 0, 0, 0, 0, 0, 0, 0, 0, 0, 0, 0, 0, 0, 0, 0, 0, 0, 0, 0, 0, 0, 0, 0, 0, 0, 0, 0, 0, 0, 0, 0, 0, 0, 0, 0, 0, 0, 0, 0, 0, 0, 0, 0, 1, 0, 0, 0, 0, 0, 0, 0, 0, 0, 0, 0, 0, 0, 0, 0, 0, 0, 0, 0, 0, 0, 0, 0, 0, 0, 0, 0, 0, 0, 0, 0, 0, 0, 0, 0, 0, 0, 0, 0, 0, 0, 0, 0, 0, 0, 0, 0, 0, 0, 0, 0, 0, 0, 0, 0, 0, 0, 0, 0, 0, 0, 0, 0, 0, 0, 0, 0, 0, 0, 0, 0, 0, 0, 0, 0, 0, 0, 0, 0, 0, 0, 0, 0, 0, 0, 0, 0, 0, 0, 0, 0, 0, 0, 0, 0, 0, 0, 0, 0, 0, 0, 0, 0, 0, 0, 0, 0, 0, 0, 0, 0, 0, 0, 0, 0, 0, 0, 0, 0, 0, 0, 0, 0, 0, 0, 0, 0, 0, 0, 0, 0, 0, 0, 0, 0, 0, 0, 0, 0, 0, 0, 0, 0, 0, 0, 0, 0, 0, 0, 0, 0, 0, 0, 0, 0, 0, 0, 0, 0, 0, 0, 0, 0, 0, 0, 0, 0, 0, 0, 0, 0, 0, 0, 0, 0, 0, 0, 0, 0, 0, 0, 0, 0, 0, 0, 0, 0, 0, 0, 0, 0, 0, 0, 0, 0, 0, 0, 0, 0, 0, 0, 0, 0, 0, 0, 0, 0, 0, 0, 0, 0, 0, 0, 0, 0, 0, 0, 0, 0, 0, 0, 0, 0, 0, 0, 0, 0, 0, 0, 0, 0, 0, 0, 0, 0, 0, 0, 0, 0, 0, 0, 0, 0, 0, 0, 0, 0, 0, 0, 0, 0, 0, 0, 0, 0, 0, 0, 0, 0, 0, 0, 0, 0, 0, 0, 0, 0, 0, 0, 0, 0, 0, 0, 0, 0, 0, 0, 0, 0, 0, 0, 0, 0, 0, 0, 0, 0, 0, 0, 0, 0, 0, 0, 0, 0, 0, 0, 0, 0, 0, 0, 0, 0, 0, 0, 0, 0, 0, 0, 0, 0, 0, 0, 0, 0, 0, 0, 0, 0, 0, 0, 0, 0, 0, 0, 0, 0, 0, 0, 0, 0, 0, 0, 0, 0, 0, 0, 0, 0, 0, 0, 0, 0, 0, 0, 0, 0, 0, 0, 0, 0, 0, 0, 0, 0, 0, 0, 0, 0, 0, 0, 0, 0, 0, 0, 0, 0, 0, 0, 0, 0, 0, 0, 0, 0, 0, 0, 0, 0, 0, 0, 0, 0, 0, 0, 0, 0, 0, 0, 0, 0, 0, 0, 0, 0, 0, 0, 0, 0, 0, 0, 0, 0, 0, 0, 0, 0, 0, 0, 0, 0, 0, 0, 0, 0, 0, 0, 0, 0, 0, 0, 0, 0, 0, 0, 0, 0, 0, 0, 0, 0, 0, 0, 0, 0, 0, 0, 0, 0, 0, 0, 0, 0, 0, 0, 0, 0, 0, 0, 0, 0, 0, 0, 0, 0, 0, 0, 0, 0, 0, 0, 0, 0, 2, 0, 1, 0], type: <class 'list'>, valid types: <class 'bytes'>, <class 'bytearray'>, file-like object"
     ]
    }
   ],
   "source": [
    "response = runtime.invoke_endpoint(EndpointName = xgb_predictor.endpoint, # The name of the endpoint we created\n",
    "                                       ContentType = 'text/csv',                     # The data format that is expected\n",
    "                                       Body = test_bow)"
   ]
  },
  {
   "cell_type": "markdown",
   "metadata": {},
   "source": [
    "So why did we get an error?\n",
    "\n",
    "Because we tried to send the endpoint a list of integers but it expected us to send data of type `text/csv`. So, we need to convert it."
   ]
  },
  {
   "cell_type": "code",
   "execution_count": 46,
   "metadata": {},
   "outputs": [],
   "source": [
    "response = runtime.invoke_endpoint(EndpointName = xgb_predictor.endpoint, # The name of the endpoint we created\n",
    "                                       ContentType = 'text/csv',                     # The data format that is expected\n",
    "                                       Body = ','.join([str(val) for val in test_bow]).encode('utf-8'))"
   ]
  },
  {
   "cell_type": "code",
   "execution_count": 47,
   "metadata": {},
   "outputs": [
    {
     "name": "stdout",
     "output_type": "stream",
     "text": [
      "{'ResponseMetadata': {'RequestId': 'c10ad8ca-a39c-432f-8661-b18ed952e70c', 'HTTPStatusCode': 200, 'HTTPHeaders': {'x-amzn-requestid': 'c10ad8ca-a39c-432f-8661-b18ed952e70c', 'x-amzn-invoked-production-variant': 'AllTraffic', 'date': 'Tue, 26 Jan 2021 14:46:36 GMT', 'content-type': 'text/csv; charset=utf-8', 'content-length': '14'}, 'RetryAttempts': 0}, 'ContentType': 'text/csv; charset=utf-8', 'InvokedProductionVariant': 'AllTraffic', 'Body': <botocore.response.StreamingBody object at 0x7ff7486f7fd0>}\n"
     ]
    }
   ],
   "source": [
    "print(response)"
   ]
  },
  {
   "cell_type": "markdown",
   "metadata": {},
   "source": [
    "As we can see, the response from our model is a somewhat complicated looking dict that contains a bunch of information. The bit that we are most interested in is `'Body'` object which is a streaming object that we need to `read` in order to make use of."
   ]
  },
  {
   "cell_type": "code",
   "execution_count": 48,
   "metadata": {},
   "outputs": [
    {
     "name": "stdout",
     "output_type": "stream",
     "text": [
      "0.588343441486\n"
     ]
    }
   ],
   "source": [
    "response = response['Body'].read().decode('utf-8')\n",
    "print(response)"
   ]
  },
  {
   "cell_type": "markdown",
   "metadata": {},
   "source": [
    "Now that we know how to process the incoming user data we can start setting up the infrastructure to make our simple web app work. To do this we will make use of two different services. Amazon's Lambda and API Gateway services.\n",
    "\n",
    "Lambda is a service which allows someone to write some relatively simple code and have it executed whenever a chosen trigger occurs. For example, you may want to update a database whenever new data is uploaded to a folder stored on S3.\n",
    "\n",
    "API Gateway is a service that allows you to create HTTP endpoints (url addresses) which are connected to other AWS services. One of the benefits to this is that you get to decide what credentials, if any, are required to access these endpoints.\n",
    "\n",
    "In our case we are going to set up an HTTP endpoint through API Gateway which is open to the public. Then, whenever anyone sends data to our public endpoint we will trigger a Lambda function which will send the input (in our case a review) to our model's endpoint and then return the result."
   ]
  },
  {
   "cell_type": "markdown",
   "metadata": {},
   "source": [
    "### Setting up a Lambda function\n",
    "\n",
    "The first thing we are going to do is set up a Lambda function. This Lambda function will be executed whenever our public API has data sent to it. When it is executed it will receive the data, perform any sort of processing that is required, send the data (the review) to the SageMaker endpoint we've created and then return the result.\n",
    "\n",
    "#### Part A: Create an IAM Role for the Lambda function\n",
    "\n",
    "Since we want the Lambda function to call a SageMaker endpoint, we need to make sure that it has permission to do so. To do this, we will construct a role that we can later give the Lambda function.\n",
    "\n",
    "Using the AWS Console, navigate to the **IAM** page and click on **Roles**. Then, click on **Create role**. Make sure that the **AWS service** is the type of trusted entity selected and choose **Lambda** as the service that will use this role, then click **Next: Permissions**.\n",
    "\n",
    "In the search box type `sagemaker` and select the check box next to the **AmazonSageMakerFullAccess** policy. Then, click on **Next: Review**.\n",
    "\n",
    "Lastly, give this role a name. Make sure you use a name that you will remember later on, for example `LambdaSageMakerRole`. Then, click on **Create role**."
   ]
  },
  {
   "cell_type": "markdown",
   "metadata": {},
   "source": [
    "#### Part B: Create a Lambda function\n",
    "\n",
    "Now it is time to actually create the Lambda function. Remember from earlier that in order to process the user provided input and send it to our endpoint we need to gather two pieces of information:\n",
    "\n",
    " - The name of the endpoint, and\n",
    " - the vocabulary object.\n",
    "\n",
    "We will copy these pieces of information to our Lambda function after we create it.\n",
    "\n",
    "To start, using the AWS Console, navigate to the AWS Lambda page and click on **Create a function**. When you get to the next page, make sure that **Author from scratch** is selected. Now, name your Lambda function, using a name that you will remember later on, for example `sentiment_analysis_xgboost_func`. Make sure that the **Python 3.6** runtime is selected and then choose the role that you created in the previous part. Then, click on **Create Function**.\n",
    "\n",
    "On the next page you will see some information about the Lambda function you've just created. If you scroll down you should see an editor in which you can write the code that will be executed when your Lambda function is triggered. Collecting the code we wrote above to process a single review and adding it to the provided example `lambda_handler` we arrive at the following.\n",
    "\n",
    "```python\n",
    "# We need to use the low-level library to interact with SageMaker since the SageMaker API\n",
    "# is not available natively through Lambda.\n",
    "import boto3\n",
    "\n",
    "# And we need the regular expression library to do some of the data processing\n",
    "import re\n",
    "\n",
    "REPLACE_NO_SPACE = re.compile(\"(\\.)|(\\;)|(\\:)|(\\!)|(\\')|(\\?)|(\\,)|(\\\")|(\\()|(\\))|(\\[)|(\\])\")\n",
    "REPLACE_WITH_SPACE = re.compile(\"(<br\\s*/><br\\s*/>)|(\\-)|(\\/)\")\n",
    "\n",
    "def review_to_words(review):\n",
    "    words = REPLACE_NO_SPACE.sub(\"\", review.lower())\n",
    "    words = REPLACE_WITH_SPACE.sub(\" \", words)\n",
    "    return words\n",
    "    \n",
    "def bow_encoding(words, vocabulary):\n",
    "    bow = [0] * len(vocabulary) # Start by setting the count for each word in the vocabulary to zero.\n",
    "    for word in words.split():  # For each word in the string\n",
    "        if word in vocabulary:  # If the word is one that occurs in the vocabulary, increase its count.\n",
    "            bow[vocabulary[word]] += 1\n",
    "    return bow\n",
    "\n",
    "\n",
    "def lambda_handler(event, context):\n",
    "    \n",
    "    vocab = \"*** ACTUAL VOCABULARY GOES HERE ***\"\n",
    "    \n",
    "    words = review_to_words(event['body'])\n",
    "    bow = bow_encoding(words, vocab)\n",
    "\n",
    "    # The SageMaker runtime is what allows us to invoke the endpoint that we've created.\n",
    "    runtime = boto3.Session().client('sagemaker-runtime')\n",
    "\n",
    "    # Now we use the SageMaker runtime to invoke our endpoint, sending the review we were given\n",
    "    response = runtime.invoke_endpoint(EndpointName = '***ENDPOINT NAME HERE***',# The name of the endpoint we created\n",
    "                                       ContentType = 'text/csv',                 # The data format that is expected\n",
    "                                       Body = ','.join([str(val) for val in bow]).encode('utf-8')) # The actual review\n",
    "\n",
    "    # The response is an HTTP response whose body contains the result of our inference\n",
    "    result = response['Body'].read().decode('utf-8')\n",
    "    \n",
    "    # Round the result so that our web app only gets '1' or '0' as a response.\n",
    "    result = round(float(result))\n",
    "\n",
    "    return {\n",
    "        'statusCode' : 200,\n",
    "        'headers' : { 'Content-Type' : 'text/plain', 'Access-Control-Allow-Origin' : '*' },\n",
    "        'body' : str(result)\n",
    "    }\n",
    "```"
   ]
  },
  {
   "cell_type": "markdown",
   "metadata": {},
   "source": [
    "Once you have copy and pasted the code above into the Lambda code editor, replace the `**ENDPOINT NAME HERE**` portion with the name of the endpoint that we deployed earlier. You can determine the name of the endpoint using the code cell below."
   ]
  },
  {
   "cell_type": "code",
   "execution_count": 49,
   "metadata": {},
   "outputs": [
    {
     "data": {
      "text/plain": [
       "'xgboost-2021-01-26-14-12-55-267'"
      ]
     },
     "execution_count": 49,
     "metadata": {},
     "output_type": "execute_result"
    }
   ],
   "source": [
    "xgb_predictor.endpoint"
   ]
  },
  {
   "cell_type": "markdown",
   "metadata": {},
   "source": [
    "In addition, you will need to copy the vocabulary dict to the appropriate place in the code at the beginning of the `lambda_handler` method. The cell below prints out the vocabulary dict in a way that is easy to copy and paste."
   ]
  },
  {
   "cell_type": "code",
   "execution_count": 50,
   "metadata": {},
   "outputs": [
    {
     "name": "stdout",
     "output_type": "stream",
     "text": [
      "{'remember': 3616, 'this': 4457, 'show': 3953, 'as': 311, 'it': 2366, 'became': 431, 'regular': 3592, 'viewing': 4740, 'on': 3105, 'saturday': 3792, 'evening': 1534, 'is': 2360, 'young': 4989, 'girl': 1909, 'who': 4871, 'moves': 2925, 'in': 2257, 'with': 4911, 'her': 2085, 'turns': 4609, 'out': 3141, 'are': 285, 'witches': 4910, 'and': 226, 'she': 3923, 'one': 3107, 'to': 4507, 'so': 4046, 'must': 2950, 'learn': 2550, 'how': 2181, 'control': 977, 'powers': 3361, 'use': 4692, 'them': 4432, 'effectively': 1430, 'also': 199, 'deal': 1135, 'school': 3813, 'vicious': 4728, 'rival': 3706, 'named': 2961, 'best': 469, 'friend': 1835, 'boyfriend': 558, 'harvey': 2042, 'the': 4426, 'was': 4805, 'funny': 1852, 'entertaining': 1499, 'kept': 2456, 'for': 1784, '10': 0, 'year': 4978, 'old': 3100, 'made': 2697, 'him': 2110, 'laugh': 2529, 'synopsis': 4344, 'future': 1856, 'seen': 3865, 'from': 1840, 'england': 1482, 'war': 4792, 'over': 3148, 'europe': 1529, 'of': 3083, 'will': 4886, 'not': 3040, 'be': 418, 'found': 1811, 'politics': 3326, 'past': 3207, 'up': 4683, 'brave': 567, 'new': 3003, 'world': 4946, 'science': 3816, 'overcome': 3151, 'mans': 2730, 'mistakes': 2873, 'concept': 930, 'relation': 3595, 'viewer': 4738, 'your': 4991, 'what': 4858, 'you': 4986, 'told': 4513, 'thinking': 4453, 'outside': 3146, 'box': 555, 'can': 665, 'lead': 2545, 'there': 4438, 'always': 203, 'descent': 1193, 'fear': 1676, 'learning': 2552, 'our': 3139, 'only': 3110, 'hope': 2155, 'had': 2003, 'film': 1716, 'long': 2644, 'ago': 154, 'recently': 3567, 'off': 3084, 'internet': 2327, 'public': 3460, 'fascinating': 1658, 'work': 4940, 'numerous': 3062, 'levels': 2585, 'since': 3990, 'story': 4207, 'about': 67, 'has': 2043, 'obvious': 3071, 'flaws': 1752, 'vision': 4754, 'both': 547, 'terrifying': 4410, 'cutting': 1092, 'edge': 1418, 'its': 2370, 'day': 1129, 'special': 4097, 'effects': 1431, 'very': 4723, 'good': 1937, 'line': 2610, 'acting': 99, 'suffers': 4278, 'bit': 488, 'british': 589, 'theatrical': 4430, 'sense': 3877, 'that': 4424, 'toward': 4539, 'shakespeare': 3915, 'underlying': 4641, 'themes': 4434, 'technology': 4385, 'solve': 4060, 'all': 187, 'problems': 3409, 'which': 4867, 'we': 4823, 'now': 3054, 'know': 2489, 'true': 4596, 'films': 1721, 'other': 3135, 'plot': 3309, 'charismatic': 763, 'curse': 1086, 'human': 2188, 'existence': 1571, 'probably': 3407, 'us': 4690, 'almost': 193, 'later': 2525, 'fiction': 1702, 'movies': 2927, 'set': 3898, 'design': 1202, 'forbidden': 1785, 'planet': 3289, '2001': 31, 'space': 4090, 'even': 1533, 'landscapes': 2514, 'star': 4150, 'wars': 4804, 'some': 4061, 'amount': 219, 'inspiration': 2300, 'ending': 1471, 'leaves': 2556, 'while': 4868, 'sequence': 3887, 'reaching': 3539, 'stars': 4155, 'left': 2561, 'wonder': 4926, 'if': 2222, 'ever': 1538, 'able': 66, 'make': 2713, 'reach': 3536, 'those': 4460, 'trying': 4601, 'hold': 2129, 'back': 378, 'interesting': 2325, 'humorous': 2193, 'by': 642, 'todays': 4509, 'standards': 4145, 'huge': 2185, 'flying': 1764, 'machines': 2694, 'guns': 1998, 'could': 1007, 'shoot': 3942, 'people': 3221, 'into': 2332, 'never': 3001, 'real': 3547, 'but': 636, 'they': 4442, 'were': 4848, 'considered': 951, 'next': 3007, 'logical': 2639, 'step': 4175, 'many': 2732, 'great': 1964, 'actors': 104, 'men': 2805, 'ralph': 3510, 'richardson': 3688, 'most': 2909, 'recognized': 3570, 'their': 4431, 'skills': 4014, 'evident': 1547, 'here': 2086, 'raymond': 3534, 'curious': 1083, 'choice': 797, 'play': 3296, 'character': 758, 'his': 2118, 'comes': 891, 'across': 96, 'christ': 807, 'sent': 3880, 'save': 3794, 'own': 3158, 'destruction': 1216, 'religion': 3607, 'piece': 3272, 'cinema': 816, 'history': 2121, 'whose': 4877, 'still': 4188, 'relevant': 3604, 'today': 4508, 'missed': 2867, 'mark': 2739, 'fails': 1628, 'capture': 676, 'any': 256, 'mystery': 2956, 'intrigue': 2333, 'book': 535, 'offers': 3090, 'main': 2707, 'point': 3316, 'hardly': 2036, 'touched': 4534, 'upon': 4684, 'leaving': 2557, 'wondering': 4930, 'exactly': 1551, 'why': 4878, 'everyone': 1542, 'making': 2718, 'such': 4268, 'big': 478, 'willing': 4889, 'risk': 3704, 'lives': 2628, 'development': 1225, 'at': 331, 'no': 3020, 'background': 380, 'or': 3124, 'personal': 3240, 'audience': 352, 'really': 3556, 'caring': 691, 'happens': 2029, 'action': 100, 'sequences': 3888, 'fall': 1637, 'flat': 1748, 'search': 3841, 'ends': 1474, 'explanation': 1590, 'whole': 4873, 'worst': 4952, 'have': 2052, 'horrible': 2163, 'waste': 4808, 'time': 4495, 'read': 3543, 'skip': 4016, 'movie': 2926, 'poorly': 3329, 'done': 1322, 'ridiculous': 3693, 'shame': 3918, 'too': 4522, 'because': 432, 'been': 438, 'success': 4265, 'would': 4957, 'get': 1899, 'screenwriter': 3833, 'please': 3304, 'dont': 1324, 'selling': 3873, 'killings': 2473, 'after': 143, 'surface': 4310, 'associated': 327, 'con': 928, 'woman': 4921, 'few': 1700, 'years': 4979, 'took': 4523, 'certain': 737, 'dramatic': 1348, 'maker': 2714, 'prove': 3445, 'substance': 4258, 'follows': 1775, 'insight': 2298, 'personality': 3242, 'someone': 4064, 'whos': 4876, 'makes': 2716, 'unless': 4669, 'saying': 3800, 'yet': 4984, 'seemingly': 3863, 'anything': 260, 'often': 3095, 'false': 1641, 'impossible': 2249, 'imagine': 2238, 'ms': 2931, 'hoped': 2156, 'gain': 1863, 'appearing': 277, 'celebrity': 729, 'does': 1308, 'achieve': 92, 'project': 3427, 'image': 2233, 'herself': 2092, 'deeply': 1156, 'individual': 2277, 'cannot': 670, 'taken': 4350, 'face': 1616, 'value': 4709, 'director': 1264, 'anna': 245, 'appears': 278, 'increasingly': 2268, 'camera': 659, 'progresses': 3426, 'boot': 538, 'finally': 1724, 'remarkable': 3613, 'although': 201, 'scary': 3807, 'disturbing': 1300, 'tale': 4353, 'tell': 4395, 'reminds': 3620, 'thoroughly': 4459, 'weird': 4841, 'live': 2625, 'ive': 2372, 'better': 472, 'predictable': 3367, 'crew': 1053, 'horror': 2168, 'place': 3282, 'where': 4864, 'murders': 2943, 'occurred': 3077, 'three': 4469, 'isnt': 2362, 'total': 4531, 'bomb': 531, 'cast': 710, 'fairly': 1631, 'john': 2409, 'ireland': 2352, 'faith': 1633, 'carradine': 695, 'giving': 1915, 'performances': 3229, 'reasonably': 3559, 'well': 4843, 'low': 2676, 'budget': 610, 'just': 2437, 'expect': 1575, 'nudity': 3059, 'blood': 512, 'gore': 1941, 'mild': 2839, 'pg': 3250, 'rating': 3529, 'totally': 4532, 'bored': 541, 'ok': 3098, 'quiet': 3492, 'night': 3013, 'saw': 3798, 'video': 4733, 'print': 3399, 'dark': 1115, 'scenes': 3811, 'see': 3855, 'didnt': 1242, 'hate': 2046, 'cool': 989, 'surprised': 4313, 'me': 2778, 'basically': 407, 'nothing': 3047, 'till': 4493, 'then': 4436, 'catches': 715, 'guard': 1988, 'worth': 4953, 'seeing': 3857, 'youre': 4992, 'oliver': 3102, 'twist': 4617, 'following': 1774, 'dickens': 1240, 'picture': 3269, 'life': 2592, 'urban': 4688, 'something': 4066, 'shocking': 3940, 'central': 735, 'figures': 1713, 'novel': 3052, 'include': 2261, 'criminals': 1058, 'another': 250, 'he': 2056, 'walking': 4779, 'london': 2641, 'passed': 3202, 'friendly': 1836, 'said': 3774, 'hello': 2078, 'rather': 3528, 'stiff': 4187, 'understand': 4643, 'days': 1130, 'met': 2822, 'again': 146, 'asked': 317, 'upset': 4687, 'did': 1241, 'like': 2599, 'last': 2521, 'else': 1448, 'thinks': 4454, 'highly': 2105, 'whats': 4860, 'wrong': 4973, 'oh': 3096, 'charles': 764, 'im': 2232, 'jewish': 2401, 'expected': 1577, 'trial': 4580, 'thief': 4448, 'hes': 2093, 'model': 2880, 'settle': 3902, 'things': 4451, 'yes': 4982, 'got': 1944, 'deserved': 1200, 'call': 651, 'plan': 3287, 'murder': 2939, 'admit': 122, 'might': 2835, 'gotten': 1947, 'carried': 698, 'away': 369, 'several': 3905, 'tried': 4584, 'improve': 2254, 'an': 223, 'idea': 2213, 'chapter': 757, 'called': 652, 'alive': 186, 'showing': 3958, 'fears': 1677, 'man': 2721, 'faced': 1617, 'hanging': 2023, 'added': 116, 'details': 1219, 'let': 2579, 'female': 1693, 'change': 749, 'friends': 1837, 'house': 2178, 'looked': 2647, 'though': 4461, 'crazy': 1035, 'changes': 751, 'villain': 4744, 'keep': 2449, 'death': 1141, 'cell': 730, 'prison': 3401, 'noticed': 3049, 'felt': 1692, 'suffering': 4277, 'right': 3696, 'little': 2624, 'when': 4862, 'first': 1736, 'himself': 2111, 'expecting': 1578, 'sign': 3970, 'recognition': 3568, 'instead': 2307, 'lady': 2507, 'confused': 941, 'brilliant': 583, 'dinner': 1254, 'eating': 1413, 'my': 2951, 'head': 2057, 'speak': 4094, 'situation': 4008, 'attempt': 340, 'minor': 2857, 'mr': 2929, 'used': 4693, 'high': 2100, 'poor': 3328, 'unbelievable': 4634, 'hed': 2072, 'chase': 769, 'stick': 4185, 'anti': 254, 'measure': 2786, 'genius': 1887, 'writer': 4968, 'however': 2183, 'causes': 725, 'screenplay': 3831, 'writers': 4969, 'directors': 1266, 'do': 1302, 'treatment': 4574, 'worthy': 4956, 'without': 4913, 'david': 1124, 'showed': 3956, 'having': 2054, 'appear': 273, 'two': 4620, 'side': 3965, 'mob': 2879, 'end': 1468, 'dignity': 1252, 'sir': 4000, 'carol': 693, 'reed': 3580, 'musical': 2947, 'version': 4720, 'due': 1382, 'original': 3129, 'musicals': 2948, 'script': 3834, 'west': 4852, 'hit': 2122, 'middle': 2833, '1960s': 15, 'broadway': 592, 'wonderful': 4928, 'score': 3822, 'including': 2264, 'food': 1778, 'glorious': 1921, 'am': 204, 'consider': 949, 'yourself': 4993, 'boy': 557, 'buy': 640, 'needs': 2990, 'casting': 711, 'roles': 3727, 'ron': 3734, 'moody': 2899, 'jack': 2373, 'wild': 4885, 'nancy': 2964, 'harry': 2039, 'hollywood': 2137, 'decade': 1144, 'win': 4892, 'oscar': 3133, 'won': 4925, '1968': 16, 'handle': 2018, 'problem': 3408, 'captured': 677, 'executed': 1565, 'committed': 905, 'actions': 101, 'realizes': 3554, 'getting': 1901, 'kind': 2476, 'loses': 2657, 'stolen': 4195, 'knew': 2486, 'beauty': 430, 'decides': 1150, 'allowed': 190, 'accompanied': 86, 'faithful': 1634, 'think': 4452, 'appreciated': 280, 'modern': 2882, 'certainly': 738, 'fitting': 1742, 'le': 2544, 'robert': 3713, 'thrillers': 4473, 'worked': 4941, 'charge': 761, 'direct': 1258, 'pictures': 3270, 'desert': 1198, 'road': 3709, 'beautiful': 428, 'blonde': 511, 'mysterious': 2955, 'finds': 1728, 'begins': 444, 'cat': 713, 'mouse': 2919, 'sisters': 4002, 'criminal': 1057, 'kill': 2468, 'hero': 2088, 'late': 2523, 'turn': 4605, 'lights': 2597, 'before': 440, 'suspenseful': 4331, 'childhood': 790, 'favorites': 1672, 'say': 3799, 'unlike': 4670, 'liked': 2600, 'period': 3236, 'held': 2074, 'quality': 3484, 'grew': 1972, 'merely': 2815, 'enjoyed': 1486, 'children': 792, 'watched': 4813, 'adults': 126, 'bad': 382, 'compared': 912, 'nowadays': 3055, 'child': 789, 'remembered': 3617, 'course': 1019, 'ten': 4399, 'id': 2212, 'watches': 4814, 'seeks': 3860, 'stories': 4205, 'entertainment': 1500, 'provides': 3450, 'mind': 2849, 'adventure': 130, '20th': 38, 'century': 736, 'coming': 896, 'feel': 1684, 'jones': 2418, 'quite': 3495, 'comedy': 890, 'romance': 3732, 'creates': 1038, 'mixture': 2878, 'beginning': 443, 'until': 4680, 'music': 2946, 'style': 4249, 'clearly': 840, 'succeeds': 4264, 'being': 448, 'mainly': 2708, 'directing': 1260, 'department': 1182, 'stand': 4143, 'providing': 3451, 'comedic': 888, 'chilling': 794, 'elements': 1443, 'part': 3193, 'definitely': 1162, 'brain': 562, 'guts': 1999, 'release': 3602, 'dvd': 1391, 'favorite': 1671, 'least': 2554, 'times': 4497, 'cry': 1073, 'every': 1539, 'family': 1645, 'watch': 4811, 'wont': 4932, 'crying': 1074, 'fit': 1740, 'love': 2669, 'written': 4972, 'much': 2934, 'top': 4525, 'notch': 3043, 'perfect': 3224, 'role': 3726, 'denzel': 1181, 'washington': 4806, 'far': 1653, 'care': 684, 'born': 544, 'jail': 2376, 'precious': 3366, 'fight': 1707, 'going': 1931, 'happy': 2032, 'safe': 3771, 'loved': 2670, 'more': 2904, 'meeting': 2794, 'cant': 671, 'enough': 1491, 'ed': 1415, 'wood': 4933, 'becomes': 434, 'orson': 3132, 'welles': 4844, 'fantastic': 1651, 'vampire': 4711, 'terribly': 4408, 'choreographed': 801, 'dialog': 1232, 'breaking': 570, 'laughter': 2535, 'chance': 747, 'against': 147, 'described': 1195, 'psychic': 3456, 'stephen': 4176, 'masterpiece': 2759, 'producers': 3416, 'repeatedly': 3632, 'using': 4698, 'cold': 872, 'looks': 2649, 'than': 4420, 'devil': 1228, 'lower': 2677, 'rate': 3526, 'elvira': 1450, 'thing': 4450, 'badly': 383, 'american': 213, 'flight': 1757, 'actually': 109, 'seem': 3861, 'longer': 2645, 'potential': 3355, 'wouldnt': 4958, 'accidentally': 85, 'kills': 2474, 'elvis': 1451, 'meets': 2795, 'million': 2847, 'different': 1248, 'writing': 4971, 'towards': 4540, 'scene': 3809, 'gang': 1867, 'sky': 4017, 'return': 3665, 'group': 1980, 'together': 4511, 'form': 1798, 'shoots': 3944, 'through': 4477, 'theme': 4433, 'avoid': 363, 'costs': 1004, 'ask': 316, 'usually': 4700, 'art': 304, 'de': 1131, 'dressed': 1358, 'alone': 194, 'pretty': 3384, 'represents': 3639, 'everything': 1544, 'want': 4788, 'pure': 3471, 'way': 4820, 'truly': 4597, 'amazing': 209, 'entire': 1502, 'works': 4945, 'same': 3778, 'artistic': 308, 'dream': 1354, 'clever': 841, 'hell': 2077, 'intelligence': 2313, 'dozen': 1338, 'put': 3480, 'important': 2247, 'topic': 4526, 'discussion': 1284, 'solely': 4056, 'technique': 4383, 'message': 2819, 'service': 3896, 'short': 3946, 'logic': 2638, 'case': 707, 'handled': 2019, 'properly': 3437, 'feature': 1678, 'length': 2569, 'sure': 4308, 'michael': 2829, 'caine': 647, 'allen': 188, 'gordon': 1940, 'give': 1912, 'possibilities': 3348, 'medium': 2792, 'hitchcock': 2123, 'pays': 3218, 'homage': 2141, 'spoil': 4121, 'surprises': 4314, 'manages': 2725, 'create': 1036, 'career': 686, 'heart': 2064, 'given': 1913, 'corny': 997, 'these': 4441, 'gotta': 1946, 'figure': 1711, 'fun': 1848, 'focuses': 1768, 'strangely': 4212, 'author': 359, 'hair': 2005, 'gets': 1900, 'haunted': 2050, 'philip': 3252, 'peter': 3247, 'close': 853, 'christopher': 811, 'lee': 2559, 'daughters': 1122, 'apparently': 270, 'actor': 103, 'paul': 3214, 'jon': 2416, 'aside': 315, 'neat': 2982, 'calling': 653, 'question': 3487, 'issue': 2364, 'vs': 4767, 'assumed': 329, 'shining': 3933, 'whether': 4866, 'hotel': 2175, 'itself': 2371, 'holds': 2131, 'memory': 2804, 'events': 1536, 'absolutely': 72, 'pitt': 3280, 'co': 867, 'hot': 2174, 'around': 297, 'came': 656, 'starred': 4153, 'dracula': 1341, 'lovers': 2673, 'maybe': 2776, 'barbara': 397, 'remain': 3609, 'known': 2492, 'scream': 3826, 'queen': 3485, 'words': 4938, 'guess': 1989, 'wearing': 4831, 'pink': 3277, 'shirt': 3937, 'name': 2960, 'anyway': 261, 'spoilers': 4124, 'major': 2711, 'fan': 1648, 'normal': 3033, 'excellent': 1555, 'tons': 4520, 'gave': 1875, 'series': 3890, 'sad': 3767, 'turned': 4606, 'murderer': 2941, 'overall': 3150, 'feeling': 1685, 'satisfied': 3789, 'cartoons': 705, 'bugs': 613, 'dog': 1310, 'included': 2262, 'tunes': 4603, 'episode': 1507, 'cartoon': 704, 'animation': 242, 'prepared': 3371, 'slightly': 4029, 'boring': 543, 'earth': 1403, 'creature': 1045, 'bring': 585, 'mars': 2746, 'sets': 3899, 'soon': 4074, 'tracks': 4545, 'rabbit': 3498, 'treats': 4575, 'trick': 4582, 'costumes': 1006, 'realise': 3548, 'themselves': 4435, 'take': 4349, 'recommend': 3571, 'anyone': 259, 'likes': 2602, 'general': 1880, 'concerned': 932, 'likely': 2601, 'enjoy': 1484, 'silent': 3975, '24': 39, '2005': 35, 'mary': 2751, 'thousands': 4466, 'unforgettable': 4652, 'ray': 3533, 'source': 4086, 'started': 4157, 'watching': 4815, 'storm': 4206, 'country': 1014, 'hours': 2177, 'realized': 3553, 'women': 4923, 'playing': 3300, 'perfectly': 3226, 'suited': 4286, 'gorgeous': 1942, 'setting': 3900, 'couldnt': 1008, 'kings': 2481, 'english': 1483, 'admire': 121, 'start': 4156, 'collection': 874, '100': 1, 'retarded': 3663, 'besides': 468, 'killing': 2472, 'money': 2888, 'store': 4204, 'mad': 2696, 'sat': 3786, 'garbage': 1870, 'spent': 4108, 'awful': 372, 'drama': 1346, 'italian': 2367, 'widow': 4883, 'planning': 3291, 'marry': 2745, 'shes': 3930, 'comfortable': 892, 'danny': 1112, 'falls': 1640, 'angry': 238, 'brother': 598, 'nicholas': 3010, 'cage': 645, 'sharp': 3922, 'plenty': 3307, 'lines': 2612, 'accents': 79, 'letter': 2581, 'cinematography': 820, 'york': 4985, 'screen': 3829, 'primarily': 3393, 'theyre': 4445, 'oscars': 3134, 'walked': 4776, 'job': 2405, 'proud': 3444, 'turkey': 4604, 'hired': 2117, 'fantasy': 1652, 'meaning': 2780, 'filled': 1715, 'displayed': 1292, 'week': 4837, 'wish': 4904, 'sequel': 3885, 'dad': 1095, 'susan': 4326, 'baby': 376, 'sister': 4001, 'lincoln': 2608, 'walker': 4778, 'simply': 3986, 'played': 3297, 'tv': 4610, 'shows': 3960, 'should': 3951, 'lisa': 2616, 'hudson': 2184, 'aka': 168, 'kiss': 2483, 'eg': 1434, 'exception': 1557, 'intentionally': 2320, 'campy': 664, 'despite': 1211, 'fact': 1621, 'civil': 826, 'brand': 565, 'cinematic': 818, 'tour': 4538, 'force': 1786, 'starring': 4154, 'rented': 3628, 'ignored': 2225, 'instinct': 2308, 'oz': 3160, 'ended': 1470, 'figured': 1712, 'lover': 2672, 'definite': 1161, 'unintentionally': 4659, 'killed': 2469, 'band': 391, 'led': 2558, 'bobby': 525, 'brown': 601, 'supposedly': 4307, 'based': 404, 'go': 1924, 'exact': 1550, 'revenge': 3675, 'along': 195, 'theres': 4440, 'subplot': 4255, 'gold': 1932, 'buried': 624, 'town': 4541, 'nice': 3008, 'riding': 3695, 'funniest': 1851, 'look': 2646, 'introduce': 2336, 'convincing': 985, 'asian': 314, 'chick': 786, 'macy': 2695, 'talking': 4360, 'paid': 3169, 'etc': 1527, 'eye': 1611, 'names': 2963, 'characters': 760, 'laughing': 2533, 'hard': 2033, 'introduced': 2337, 'gone': 1935, 'parody': 3192, 'broad': 590, 'unfortunately': 4654, 'tries': 4585, 'seriously': 3892, 'taking': 4352, 'sound': 4081, 'defense': 1159, 'hip': 2114, 'hop': 2154, 'difficult': 1249, 'nor': 3032, 'historical': 2119, 'research': 3644, 'teeth': 4393, 'thats': 4425, 'myself': 2953, 'answer': 251, '80s': 59, 'nearly': 2981, 'forgotten': 1797, 'second': 3846, 'especially': 1520, 'glenn': 1918, 'jason': 2383, 'twelve': 4611, 'feels': 1687, 'responsible': 3656, 'shooting': 3943, 'older': 3101, 'superb': 4296, 'genuine': 1891, 'understated': 4646, 'moving': 2928, 'dialogue': 1234, 'telling': 4396, 'outstanding': 3147, 'sort': 4077, 'rural': 3758, 'ordinary': 3128, 'psychiatrist': 3455, 'equally': 1510, 'impressive': 2253, 'stone': 4197, 'emotional': 1459, 'energy': 1478, 'involved': 2346, 'international': 2326, 'business': 633, 'class': 833, 'documentary': 1307, 'luck': 2681, 'surprise': 4312, 'cultural': 1078, 'differences': 1247, 'need': 2987, 'anywhere': 263, 'culture': 1079, 'ourselves': 3140, 'gives': 1914, 'wake': 4774, 'wants': 4791, 'half': 2007, 'dead': 1132, 'steven': 4182, 'seagal': 3839, 'lose': 2654, 'less': 2575, 'aspects': 322, 'during': 1387, 'popcorn': 3331, 'former': 1800, 'sequels': 3886, 'bill': 481, 'goldberg': 1933, 'below': 462, 'average': 362, 'comedian': 887, 'rest': 3657, 'alright': 198, 'technical': 4381, 'production': 3419, 'disaster': 1276, 'direction': 1261, 'acceptable': 81, 'whatever': 4859, 'either': 1438, 'gratuitous': 1961, 'parts': 3199, 'cheesy': 781, 'acted': 98, 'directed': 1259, 'sucked': 4270, 'seemed': 3862, 'except': 1556, 'lot': 2661, 'matters': 2770, 'plastic': 3294, 'jump': 2429, 'suit': 4284, 'wore': 4939, 'wow': 4962, 'stunning': 4244, 'outfit': 3144, 'mean': 2779, 'single': 3996, 'help': 2079, 'check': 777, 'near': 2979, 'completely': 922, 'buff': 611, 'hopeless': 2158, 'car': 680, 'romantic': 3733, 'comedies': 889, 'riveting': 3708, 'doesnt': 1309, 'moment': 2886, 'largely': 2518, 'intelligent': 2314, 'between': 475, 'crisis': 1060, 'efforts': 1433, 'survive': 4321, 'repeat': 3630, 'prefer': 3368, 'fine': 1729, 'spend': 4105, 'taste': 4369, 'continue': 969, 'seek': 3858, 'accused': 91, 'criticism': 1063, 'hamlet': 2013, 'whenever': 4863, 'subject': 4253, 'consists': 955, 'ideas': 2215, 'conflicts': 940, 'values': 4710, 'noble': 3021, 'birth': 486, 'ultimate': 4627, 'test': 4416, 'takes': 4351, 'believe': 454, 'path': 3209, 'responsibility': 3655, 'person': 3238, 'hear': 2061, 'crime': 1055, 'punishment': 3467, 'leads': 2548, 'lucy': 2684, 'russell': 3761, 'speaks': 4096, 'french': 1830, 'language': 2516, 'favor': 1670, 'may': 2775, 'master': 2757, 'friday': 1834, 'morning': 2906, 'sunday': 4293, 'che': 773, 'forward': 1808, '60s': 54, 'moved': 2922, 'hills': 2109, 'south': 4087, 'america': 212, 'surviving': 4323, 'water': 4816, 'border': 539, 'government': 1948, 'forces': 1788, 'down': 1335, 'places': 3284, 'experience': 1580, 'air': 164, 'proves': 3447, 'boredom': 542, 'lets': 2580, 'fault': 1668, 'del': 1165, 'drive': 1363, 'somewhere': 4069, 'managed': 2723, 'disappointing': 1274, 'looking': 2648, 'pulled': 3462, 'heard': 2062, 'borrowed': 545, 'sounded': 4082, 'rip': 3700, 'copy': 994, 'william': 4887, 'hurt': 2202, 'spoiler': 4123, 'warning': 4800, 'remains': 3611, 'behind': 447, 'camp': 662, 'williams': 4888, 'jerk': 2395, 'matt': 2768, 'craven': 1034, 'jeff': 2390, 'find': 1726, 'interest': 2323, 'lou': 2663, '20': 29, 'plus': 3311, 'wasnt': 4807, 'fell': 1690, 'bed': 436, 'wife': 4884, 'endearing': 1469, 'sleeping': 4025, 'none': 3028, 'forever': 1792, 'impression': 2252, 'home': 2142, 'lost': 2660, 'respect': 3652, 'brady': 561, 'bunch': 623, 'thought': 4462, 'chuck': 812, 'horrendous': 2162, 'evil': 1548, 'impact': 2244, 'womens': 4924, 'state': 4160, 'doing': 1312, 'bible': 477, 'church': 813, 'discuss': 1283, 'talk': 4358, 'radio': 3504, 'kinda': 2477, 'truth': 4599, 'happened': 2027, 'genre': 1888, 'basic': 406, 'necessarily': 2983, 'means': 2783, 'essence': 1521, 'filmmakers': 1720, 'punk': 3468, 'conclusion': 936, 'beautifully': 429, 'crafted': 1029, 'level': 2584, 'ride': 3692, 'familiar': 1643, 'cruise': 1071, 'stretch': 4221, 'spooky': 4128, 'flop': 1760, 'stay': 4166, 'mother': 2911, 'rise': 3702, 'terms': 4406, 'realize': 3552, 'shown': 3959, 'otherwise': 3137, 'gross': 1978, 'professional': 3421, 'witness': 4914, 'waiting': 4772, 'married': 2744, 'court': 1020, 'helped': 2080, 'slowly': 4032, 'clear': 839, 'similar': 3978, 'feelings': 1686, 'complete': 921, 'belongs': 460, 'eyes': 1613, 'innocence': 2293, 'keeps': 2451, 'season': 3843, 'cause': 723, 'title': 4504, 'arent': 288, 'fans': 1650, 'join': 2412, 'club': 863, 'picking': 3267, 'junior': 2435, 'putting': 3482, 'bullet': 620, 'tony': 4521, 'whatsoever': 4861, 'speaking': 4095, 'accent': 78, 'seems': 3864, 'kevin': 2457, 'mess': 2818, 'leave': 2555, 'naturally': 2974, 'tradition': 4549, 'doctors': 1305, 'regarding': 3589, 'fate': 1665, 'worried': 4949, 'sick': 3963, 'anthony': 253, 'jr': 2423, 'fathers': 1667, 'dreams': 1355, 'frequently': 1832, 'spiritual': 4116, 'protagonists': 3442, 'notably': 3042, 'five': 1743, 'qualities': 3483, 'program': 3424, 'already': 197, 'previous': 3387, 'episodes': 1508, 'poem': 3312, 'caused': 724, 'four': 1812, 'seasons': 3844, 'section': 3853, 'points': 3319, 'word': 4937, 'fetched': 1698, 'created': 1037, 'ups': 4686, 'sake': 3775, 'helps': 2082, 'narrative': 2966, 'above': 68, 'tad': 4347, 'trio': 4587, 'continued': 970, 'earlier': 1399, 'versions': 4721, 'comic': 893, 'joke': 2414, 'pay': 3216, 'serious': 3891, 'health': 2060, 'issues': 2365, 'introduces': 2338, 'james': 2378, 'small': 4033, 'type': 4621, 'intellectual': 2312, 'saved': 3795, 'tells': 4397, 'buying': 641, 'news': 3005, 'shop': 3945, 'chain': 741, 'latter': 2528, 'amazed': 208, 'ex': 1549, 'bank': 394, 'manager': 2724, 'felix': 1689, 'ill': 2228, 'unintentional': 4658, 'ironic': 2355, 'according': 88, 'max': 2774, 'patrick': 3213, 'east': 1407, 'trip': 4588, 'room': 3735, 'mate': 2765, 'grey': 1973, 'proper': 3436, 'hyde': 2206, 'white': 4870, 'somewhat': 4068, 'heavily': 2069, 'ships': 3935, 'resembles': 3646, 'non': 3027, 'china': 795, 'bet': 470, 'fake': 1635, 'describe': 1194, 'occasion': 3073, 'segment': 3867, 'plays': 3301, 'fictional': 1703, 'ego': 1435, 'spy': 4135, 'secret': 3849, 'agent': 150, 'couple': 1016, 'months': 2897, 'jean': 2389, 'simmons': 3981, 'patient': 3211, 'anger': 235, 'threatening': 4468, 'illness': 2230, 'among': 217, 'dealing': 1136, 'follow': 1772, 'doubts': 1333, 'each': 1395, 'minute': 2858, 'seeking': 3859, 'explicit': 1591, 'portrait': 3339, 'strange': 4211, 'husband': 2204, 'sexual': 3908, 'content': 966, 'storyline': 4208, 'sometimes': 4067, 'unexpected': 4650, 'award': 366, 'caught': 722, 'extremely': 1610, 'powerful': 3360, 'advice': 133, 'dislike': 1288, 'available': 361, 'comment': 898, 'mine': 2853, 'view': 4736, 'user': 4696, 'commented': 900, 'viewed': 4737, 'perspective': 3245, 'touches': 4535, 'sensitive': 3879, 'slightest': 4028, 'detail': 1217, 'importance': 2246, 'directly': 1263, 'depicted': 1183, 'festival': 1697, 'nervous': 2999, 'opinion': 3118, 'portrayed': 3342, 'atmosphere': 333, 'extreme': 1609, 'tension': 4404, 'viewers': 4739, 'alien': 183, 'surprising': 4315, 'terrorist': 4413, 'attack': 337, 'therefore': 4439, 'quote': 3496, 'newspaper': 3006, '50': 51, 'living': 2629, 'violence': 4747, 'possible': 3350, 'easier': 1405, 'commit': 904, 'suicide': 4283, 'reason': 3557, 'private': 3404, 'detective': 1220, 'somehow': 4063, 'thanks': 4423, 'system': 4345, 'advantage': 129, 'pointed': 3317, 'attention': 345, 'reviewer': 3677, 'humor': 2192, 'sum': 4289, 'unique': 4662, 'kudos': 2497, 'controversial': 978, 'rape': 3521, '1980s': 21, 'rights': 3697, 'emotions': 1461, 'rarely': 3524, 'followed': 1773, 'adequate': 120, 'obsessed': 3069, 'diana': 1237, 'legal': 2563, 'consequences': 947, 'victim': 4729, 'throws': 4482, 'pan': 3180, 'oil': 3097, 'classic': 835, 'deserves': 1201, 'rage': 3505, 'victims': 4730, 'physically': 3263, 'mentally': 2809, 'recommended': 3572, 'contemporary': 965, 'dramas': 1347, 'smith': 4038, 'super': 4295, 'pursuit': 3476, 'happiness': 2031, 'son': 4070, 'natural': 2973, 'stood': 4199, 'act': 97, 'write': 4967, 'talks': 4361, 'minimum': 2856, 'youll': 4988, 'regret': 3591, 'ha': 2002, 'excited': 1561, 'miss': 2866, 'silly': 3976, 'post': 3352, 'drag': 1342, 'spin': 4112, 'independent': 2272, 'under': 4639, 'influence': 2286, 'working': 4944, 'mental': 2808, 'nick': 3012, 'falk': 1636, 'blue': 518, 'worker': 4942, 'trouble': 4592, 'quirky': 3493, 'minutes': 2859, 'damn': 1100, 'hide': 2097, 'workers': 4943, 'particularly': 3195, 'incident': 2260, 'asks': 319, 'shell': 3927, 'okay': 3099, 'particular': 3194, 'mostly': 2910, 'present': 3374, 'frankly': 1823, 'nuts': 3064, 'six': 4010, 'ready': 3546, 'come': 886, 'hospital': 2172, 'party': 3200, 'welcome': 4842, 'acts': 107, 'stupid': 4247, 'strangers': 4214, 'idiotic': 2219, 'father': 1666, 'screaming': 3827, 'wanting': 4790, 'eat': 1411, 'daughter': 1121, 'calm': 655, 'goes': 1930, 'brings': 587, 'send': 3875, 'various': 4715, 'decision': 1151, 'aspect': 321, 'forgot': 1796, 'scared': 3805, 'amazingly': 210, 'intense': 2316, 'impressed': 2251, 'awkward': 374, 'appreciate': 279, 'attached': 336, 'helping': 2081, 'realistic': 3550, 'ways': 4822, 'insane': 2296, 'saving': 3797, 'grace': 1950, 'douglas': 1334, 'once': 3106, 'distance': 1294, 'trash': 4565, 'contains': 964, 'statement': 4162, 'body': 527, 'includes': 2263, 'stage': 4139, 'westerns': 4854, 'famous': 1647, 'tone': 4517, 'masterful': 2758, 'aint': 163, 'imitation': 2241, 'reality': 3551, 'contrary': 974, 'generation': 1883, 'provided': 3449, 'artificial': 306, 'golden': 1934, 'social': 4049, 'jungle': 2434, 'rebel': 3561, 'meant': 2784, 'touch': 4533, 'try': 4600, 'grasp': 1960, 'meet': 2793, 'glass': 1917, 'anybody': 257, 'wind': 4893, 'count': 1010, 'images': 2235, 'hall': 2009, 'full': 1846, 'difference': 1246, 'nobody': 3022, 'hideous': 2098, 'affected': 137, 'visible': 4753, 'pushed': 3478, 'dorothy': 1330, 'example': 1553, 'angles': 237, 'thoughts': 4464, 'lighting': 2596, 'philosophy': 3254, 'traditional': 4550, 'light': 2595, 'shadows': 3913, 'connected': 945, 'strictly': 4223, 'tragedy': 4551, 'photography': 3260, 'inner': 2292, 'clothes': 860, 'wear': 4830, 'thus': 4486, 'element': 1442, 'craft': 1028, 'standard': 4144, 'material': 2766, 'assigned': 325, 'purpose': 3474, 'hands': 2020, 'frank': 1821, '50s': 52, 'melodrama': 2797, 'advertising': 132, 'sport': 4129, 'cars': 702, 'audiences': 353, 'game': 1864, 'sides': 3967, 'regard': 3588, 'cult': 1077, 'bizarre': 492, 'anymore': 258, 'todd': 4510, 'heaven': 2068, 'painting': 3175, 'moore': 2901, 'aforementioned': 139, 'understood': 4647, 'rock': 3720, 'bacall': 377, 'split': 4120, 'ones': 3108, 'balance': 387, 'surprisingly': 4316, 'root': 3737, 'interested': 2324, 'flies': 1756, 'plane': 3288, 'sorts': 4078, 'mundane': 2938, 'fascinated': 1657, 'painfully': 3172, 'river': 3707, 'universe': 4666, 'studio': 4240, 'negative': 2991, 'fond': 1776, 'greek': 1970, 'endings': 1472, 'final': 1722, 'fits': 1741, 'flashback': 1746, 'nevertheless': 3002, 'similarities': 3979, 'godfather': 1927, 'saga': 3773, 'agree': 155, 'parallel': 3185, 'share': 3920, 'empire': 1464, 'physical': 3262, 'resemblance': 3645, 'jimmy': 2403, 'fighting': 1709, 'male': 2719, 'trust': 4598, 'common': 906, 'families': 1644, 'carry': 700, 'access': 83, 'property': 3438, 'covered': 1023, 'suggest': 4280, 'power': 3359, 'event': 1535, 'easily': 1406, 'tied': 4489, 'deals': 1137, 'uses': 4697, 'citizen': 824, 'kane': 2442, 'starting': 4158, 'familys': 1646, 'fortune': 1806, 'wayne': 4821, 'foster': 1809, 'perform': 3227, 'execution': 1566, 'highlight': 2103, 'magnificent': 2705, 'obsession': 3070, 'allows': 192, 'bollywood': 530, 'bride': 577, 'theater': 4427, 'within': 4912, 'decide': 1148, 'wanted': 4789, 'sloppy': 4030, 'lazy': 2543, 'scripts': 3836, 'millions': 2848, 'surely': 4309, 'exist': 1569, 'land': 2511, 'smart': 4035, 'driver': 1366, 'street': 4216, 'foreign': 1790, 'locations': 2636, 'pointless': 3318, 'streets': 4217, 'cliché': 844, 'india': 2273, 'weak': 4824, 'board': 522, 'talented': 4355, 'wonders': 4931, 'pick': 3265, 'king': 2479, 'raised': 3508, 'flicks': 1755, 'hopefully': 2157, 'scares': 3806, 'theory': 4437, 'condition': 937, 'pass': 3201, 'stop': 4201, '30': 42, 'terror': 4412, 'proof': 3434, 'halloween': 2010, 'iii': 2227, 'witch': 4909, 'rated': 3527, 'stellar': 4174, 'wit': 4908, 'conversation': 980, 're': 3535, 'pro': 3406, 'actress': 105, 'stands': 4147, 'distracting': 1297, 'teen': 4388, 'age': 148, 'girls': 1911, '1950s': 14, 'marriage': 2743, 'barely': 399, 'doubt': 1332, 'teens': 4392, 'self': 3869, 'complex': 923, 'situations': 4009, 'teenagers': 4391, 'clumsy': 866, 'experiment': 1583, 'adult': 125, 'experienced': 1581, 'medical': 2790, 'doctor': 1304, 'busy': 635, 'bland': 500, 'expert': 1585, 'drawn': 1351, 'enter': 1494, 'hang': 2022, 'inside': 2297, 'environment': 1505, 'parents': 3188, 'staff': 4138, 'prevent': 3385, 'throughout': 4478, 'hey': 2095, 'teenage': 4389, 'detailed': 1218, 'reference': 3582, 'generous': 1886, 'misery': 2865, 'sports': 4130, 'term': 4405, 'persons': 3244, 'ring': 3698, 'competent': 917, 'dude': 1381, 'featuring': 1681, 'expectations': 1576, 'confusing': 942, 'loud': 2664, 'earned': 1401, 'concern': 931, 'subtle': 4260, 'bbc': 417, 'pre': 3365, 'recorded': 3574, 'voices': 4763, 'match': 2762, 'animal': 239, 'sounds': 4084, 'dogs': 1311, 'shot': 3949, 'bore': 540, 'personally': 3243, 'says': 3801, 'ellen': 1446, 'page': 3167, 'supporting': 4304, 'examples': 1554, 'train': 4556, 'explain': 1586, 'obviously': 3072, 'definition': 1163, 'rental': 3627, 'price': 3389, 'free': 1827, 'released': 3603, 'kid': 2464, 'vhs': 4725, 'tape': 4365, 'superman': 4301, 'market': 2740, 'decided': 1149, 'knowing': 2490, 'pleasantly': 3303, 'watchable': 4812, 'usual': 4699, 'desired': 1206, 'forget': 1793, 'went': 4847, 'kicked': 2461, 'scare': 3803, 'sheriff': 3929, 'valley': 4707, 'pop': 3330, 'walter': 4784, 'faces': 1618, 'recognize': 3569, 'captain': 674, 'ship': 3934, 'kong': 2494, 'rolling': 3730, 'ball': 388, 'jerry': 2396, 'mayor': 2777, 'handed': 2016, 'wealth': 4826, 'billy': 482, 'curtis': 1087, 'clint': 850, 'eastwood': 1409, 'incredible': 2269, 'luckily': 2682, 'titled': 4505, 'wizard': 4919, 'lane': 2515, 'george': 1893, 'clark': 832, 'strong': 4229, 'bottom': 551, 'outer': 3143, 'gifted': 1907, 'excitement': 1562, 'bird': 484, 'fashioned': 1660, 'jackson': 2375, 'majority': 2712, 'dancing': 1107, 'breathtaking': 574, 'listen': 2619, 'finest': 1730, 'videos': 4734, 'concert': 935, 'footage': 1782, 'code': 869, 'format': 1799, 'blind': 506, 'journalist': 2420, 'fellow': 1691, 'reporter': 3636, 'investigate': 2342, 'lab': 2501, 'killer': 2470, 'rushed': 3760, 'directorial': 1265, 'debut': 1143, 'conceived': 929, 'giallo': 1904, 'thriller': 4472, 'fresh': 1833, 'appearance': 274, 'rising': 3703, 'sadly': 3769, 'resulting': 3661, 'claimed': 829, 'nine': 3017, 'photographed': 3258, 'sympathetic': 4342, 'cinematographer': 819, 'wide': 4880, 'frame': 1815, 'convey': 982, 'hearted': 2065, 'scenario': 3808, 'unfolds': 4651, 'involving': 2349, 'catherine': 719, 'amounts': 220, 'unnecessary': 4672, 'highlights': 2104, 'encounter': 1466, 'black': 493, 'station': 4164, 'edited': 1420, 'franco': 1820, 'clue': 864, 'killers': 2471, 'brilliance': 582, 'failed': 1626, 'nicely': 3009, 'pacino': 3164, 'scenery': 3810, 'effective': 1429, 'moments': 2887, 'pulling': 3463, 'beloved': 461, 'city': 825, 'engaging': 1481, 'ear': 1397, 'office': 3091, 'required': 3641, 'began': 441, 'shed': 3924, 'national': 2970, 'united': 4664, 'states': 4163, 'japan': 2381, 'others': 3136, 'throat': 4476, 'race': 3499, 'union': 4661, 'japanese': 2382, 'americans': 214, 'era': 1513, 'global': 1920, 'howard': 2182, 'ho': 2127, 'drew': 1360, 'dated': 1119, 'tongue': 4518, 'cheek': 779, 'hunt': 2198, 'keaton': 2448, 'depressed': 1187, 'visit': 4755, 'company': 910, 'considering': 952, 'operation': 3117, 'empty': 1465, 'plant': 3293, 'hundreds': 2196, 'move': 2921, 'hand': 2015, 'pride': 3391, 'trade': 4547, 'devoted': 1231, 'lacking': 2504, 'survival': 4320, 'jobs': 2406, 'likable': 2598, 'guy': 2000, 'fair': 1630, 'sink': 3999, 'heads': 2059, 'members': 2801, 'whom': 4875, 'headed': 2058, 'sympathy': 4343, 'constantly': 958, 'desperate': 1208, 'spot': 4131, 'order': 3126, 'fare': 1655, 'solid': 4057, 'performance': 3228, 'indeed': 2271, 'paper': 3183, 'string': 4227, 'mom': 2885, 'team': 4378, 'batman': 413, 'cop': 991, 'odd': 3080, 'wears': 4832, 'unit': 4663, 'rogers': 3725, 'girlfriend': 1910, 'received': 3564, 'composed': 926, 'thomas': 4458, 'soundtrack': 4085, 'songs': 4072, 'wall': 4781, 'lived': 2626, 'abc': 63, 'commentary': 899, 'twenty': 4612, 'changed': 750, 'audio': 354, 'dubbing': 1380, 'subtitles': 4259, 'extras': 1608, 'trailer': 4554, 'digital': 1251, 'transfer': 4559, 'opening': 3114, 'credits': 1050, 'complain': 919, 'presentation': 3375, 'explosion': 1596, 'glad': 1916, 'tom': 4514, 'shock': 3938, 'kate': 2446, 'kids': 2467, 'actual': 108, 'renting': 3629, '40': 48, 'bought': 552, 'talent': 4354, 'wasted': 4809, 'porno': 3337, 'lame': 2510, 'mention': 2810, 'sex': 3907, 'candy': 668, 'song': 4071, 'equipment': 1511, 'record': 3573, 'edition': 1422, 'pilot': 3276, 'existent': 1572, 'succeeded': 4263, 'thrown': 4481, 'actresses': 106, 'steve': 4181, 'miller': 2846, 'invisible': 2344, '1933': 12, 'appeared': 276, 'ahead': 159, 'shocked': 3939, '2000': 30, 'computer': 927, 'blown': 516, 'disappointed': 1273, 'hollow': 2135, 'wells': 4845, 'biggest': 480, 'recall': 3562, 'scientist': 3818, 'yeah': 4977, 'higher': 2101, 'sacrifice': 3766, 'pig': 3274, 'process': 3412, 'dire': 1257, 'die': 1243, 'violent': 4748, 'sexy': 3911, 'neighbor': 2992, 'linda': 2609, 'supernatural': 4302, 'laughable': 2530, 'realism': 3549, 'explored': 1595, 'presence': 3373, 'mike': 2838, 'adam': 111, 'sandler': 3781, 'don': 1320, 'questions': 3489, 'begin': 442, 'tragic': 4552, 'rare': 3523, 'transition': 4561, 'punch': 3466, 'drunk': 1375, 'significant': 3972, 'nomination': 3026, 'continues': 971, 'hanks': 2025, 'jim': 2402, 'carrey': 696, 'channel': 753, 'hoffman': 2128, 'rain': 3506, 'reasons': 3560, 'trapped': 4564, 'worlds': 4947, 'confusion': 943, 'crash': 1033, 'weve': 4856, 'honesty': 2148, 'broken': 594, 'struggling': 4236, 'profound': 3423, 'dentist': 1180, 'struggle': 4234, 'damon': 1101, 'robin': 3715, 'hunting': 2201, 'searching': 3842, 'filming': 1718, 'suffered': 4276, 'donald': 1321, 'sutherland': 4333, 'delivered': 1170, 'connect': 944, 'friendship': 1838, 'disappoint': 1272, 'draws': 1352, 'reputation': 3640, 'driven': 1365, 'charming': 768, 'honest': 2146, 'passes': 3203, 'knows': 2493, 'rules': 3754, 'suffer': 4275, 'result': 3660, 'mass': 2753, 'noise': 3024, 'countries': 1013, 'dubbed': 1379, 'strikes': 4225, 'classical': 836, 'straight': 4210, 'raw': 3532, 'unpleasant': 4674, 'stress': 4220, 'shots': 3950, 'un': 4630, 'innovative': 2295, 'believing': 457, 'dies': 1245, 'neither': 2996, 'mountain': 2917, 'loss': 2659, 'happen': 2026, 'cute': 1090, 'boys': 559, 'capable': 672, 'causing': 726, 'la': 2500, 'jane': 2380, 'eyre': 1614, 'classics': 837, 'believed': 455, 'overrated': 3156, 'plots': 3310, 'fabulous': 1615, 'portrayal': 3341, 'delightful': 1168, 'nature': 2975, 'matches': 2764, 'timothy': 4499, 'dalton': 1098, 'rochester': 3719, 'passion': 3205, 'sleep': 4024, 'haunting': 2051, 'inspiring': 2302, 'performed': 3230, 'closely': 855, '1983': 22, 'ah': 158, 'spirit': 4113, 'paris': 3189, 'running': 3756, 'britain': 588, 'revolution': 3680, 'dear': 1140, 'focusing': 1769, 'schools': 3814, 'lacks': 2505, 'contrast': 975, 'fire': 1734, 'photos': 3261, 'wing': 4896, 'depiction': 1185, 'upper': 4685, 'rule': 3753, 'unusual': 4681, 'bits': 490, 'occasionally': 3075, 'colour': 880, 'expression': 1602, 'poignant': 3315, 'demands': 1175, 'dull': 1384, 'exercise': 1568, 'political': 3324, 'testament': 4417, 'sixties': 4011, 'education': 1424, 'anderson': 227, 'gene': 1879, 'pieces': 3273, 'information': 2288, 'supposed': 4306, 'annoying': 249, 'mission': 2870, 'messed': 2821, 'orders': 3127, 'everybody': 1540, 'cover': 1022, 'reviewers': 3678, 'originally': 3131, 'twice': 4613, 'translation': 4562, 'tend': 4400, 'richard': 3686, 'widmark': 4882, 'mickey': 2831, 'edward': 1426, 'albert': 174, 'fbi': 1675, 'cia': 814, 'broadcast': 591, 'television': 4394, 'weekend': 4838, 'tonight': 4519, 'screening': 3830, 'compare': 911, 'structure': 4233, 'third': 4455, 'red': 3576, 'occur': 3076, 'massive': 2756, 'essential': 1522, 'explained': 1587, 'depth': 1190, 'ruins': 3752, 'mentioned': 2811, 'notice': 3048, 'capital': 673, 'letters': 2582, 'via': 4726, 'spoken': 4126, 'effort': 1432, 'twists': 4619, 'cheap': 774, 'premise': 3370, 'hilarious': 2106, 'fights': 1710, 'awfully': 373, 'walk': 4775, 'open': 3112, 'field': 1704, 'gun': 1996, 'starts': 4159, 'memories': 2803, 'buck': 605, 'effect': 1428, 'chinese': 796, 'core': 995, 'combine': 884, 'travesty': 4570, 'winds': 4895, 'opposed': 3122, 'partner': 3198, 'cried': 1054, 'imaginative': 2237, 'achieved': 93, 'flow': 1762, 'circumstances': 822, 'extent': 1605, 'aware': 368, 'dress': 1357, 'attractive': 351, 'epic': 1506, 'dollars': 1315, 'countless': 1012, 'local': 2634, 'beats': 426, 'lately': 2524, 'wait': 4770, 'dreary': 1356, 'pretentious': 3383, 'lengthy': 2570, 'aged': 149, 'divorce': 1301, 'picked': 3266, 'waitress': 4773, 'shelley': 3928, 'winters': 4901, 'drops': 1372, 'heavy': 2070, 'hints': 2113, 'desire': 1205, 'glimpse': 1919, 'terrible': 4407, 'revealing': 3672, 'pretending': 3382, 'embarrassing': 1454, 'listening': 2620, 'voice': 4761, 'early': 1400, 'chorus': 803, 'quotes': 3497, 'leading': 2547, 'chess': 783, 'player': 3298, 'attempting': 342, 'italy': 2368, 'emily': 1456, 'resort': 3650, 'scope': 3821, 'handsome': 2021, 'become': 433, 'lovely': 2671, 'rich': 3685, 'utter': 4701, 'perfection': 3225, 'shy': 3962, 'variety': 4714, 'flashbacks': 1747, 'motion': 2913, 'creation': 1040, 'warming': 4795, 'burt': 629, 'ward': 4793, 'julie': 2428, 'jumped': 2430, 'costume': 1005, 'number': 3060, 'chose': 804, 'wished': 4905, 'thank': 4421, 'reunion': 3669, 'merits': 2817, 'references': 3583, 'date': 1118, 'worse': 4951, 'color': 877, 'hopes': 2159, 'hour': 2176, 'vast': 4716, 'reviews': 3679, 'site': 4005, 'theyve': 4446, 'summer': 4291, 'bourne': 554, 'editing': 1421, 'fast': 1661, 'changing': 752, 'easy': 1410, 'quickly': 3491, 'wishing': 4907, 'attempts': 343, 'installment': 2303, 'suspense': 4330, 'worry': 4950, '2007': 37, 'quit': 3494, 'entirely': 1503, 'kinds': 2478, 'chooses': 800, 'types': 4622, 'anyways': 262, 'disappointment': 1275, 'identity': 2217, 'reading': 3544, 'books': 536, 'pleasure': 3306, 'loose': 2650, 'assistant': 326, 'wooden': 4934, 'grand': 1953, 'chest': 784, 'laughs': 2534, 'topless': 4527, 'native': 2972, 'porn': 3336, 'prisoners': 3403, 'dumb': 1385, 'painful': 3171, '75': 57, '80': 58, 'brad': 560, 'stole': 4194, 'giant': 1905, 'review': 3676, 'thankfully': 4422, 'graphic': 1958, 'bar': 396, 'underrated': 4642, 'insult': 2309, 'sitting': 4007, 'damage': 1099, 'sight': 3969, 'ability': 65, 'load': 2631, 'imdb': 2240, 'becoming': 435, 'produce': 3413, 'shelf': 3926, 'dust': 1388, 'answers': 252, 'philosophical': 3253, 'tree': 4576, 'woods': 4935, 'havent': 2053, 'goal': 1925, 'fat': 1663, 'wins': 4899, 'bite': 489, 'attorney': 348, 'weight': 4840, 'rocks': 3722, 'bathroom': 412, 'happily': 2030, 'displays': 1293, 'sleazy': 4023, 'mafia': 2700, 'joe': 2407, 'games': 1865, 'driving': 1368, 'hits': 2125, 'occurs': 3078, 'lawyer': 2541, 'suddenly': 4273, 'matter': 2769, 'refuses': 3587, 'desperately': 1209, 'struggles': 4235, 'learns': 2553, 'loyal': 2679, 'laughably': 2531, 'inept': 2281, 'flick': 1754, 'stereotypes': 4179, 'served': 3894, 'contained': 963, 'hook': 2152, 'mouth': 2920, 'stereotypical': 4180, 'behavior': 446, 'depicts': 1186, 'scheme': 3812, 'winning': 4898, 'van': 4713, 'artist': 307, 'bob': 524, 'succeed': 4262, 'stomach': 4196, 'god': 1926, 'jaw': 2384, 'dropping': 1371, 'perhaps': 3235, 'werent': 4849, 'overwhelming': 3157, 'kelly': 2452, 'sidney': 3968, 'lumet': 2688, 'brothers': 599, 'ethan': 1528, 'rob': 3710, 'noted': 3045, 'charlie': 765, 'robbery': 3711, 'device': 1227, 'adding': 117, 'affair': 135, 'decent': 1147, 'throw': 4479, 'extra': 1606, 'drug': 1373, 'hates': 2048, 'pain': 3170, 'youve': 4995, 'exposed': 1598, 'charm': 767, 'pretend': 3381, 'ignorant': 2223, 'chosen': 805, 'returns': 3668, 'nonsense': 3030, 'study': 4242, 'conspiracy': 956, 'involves': 2348, 'status': 4165, 'ratings': 3530, 'tag': 4348, 'universal': 4665, 'range': 3516, 'folk': 1770, 'rent': 3626, 'bloody': 513, 'hidden': 2096, 'beneath': 464, 'dirty': 1268, 'disappeared': 1271, 'faster': 1662, 'firstly': 1737, 'finish': 1732, 'symbolism': 4341, 'onto': 3111, 'proceeds': 3411, 'separate': 3883, 'territory': 4411, 'initial': 2290, 'lies': 2591, 'revolves': 3682, 'subsequent': 4257, 'horrifying': 2167, 'tales': 4357, 'alternate': 200, 'battle': 414, 'endure': 1475, 'indian': 2274, 'chief': 788, 'baseball': 403, 'cringe': 1059, 'needless': 2989, 'foul': 1810, 'bears': 421, '15': 7, 'texas': 4418, '12': 3, '2nd': 41, '3rd': 47, 'reaches': 3538, 'teenager': 4390, 'adorable': 124, 'princess': 3397, 'fairy': 1632, 'roger': 3724, 'accurate': 90, 'marketing': 2741, 'signed': 3971, 'cases': 708, 'iron': 2354, 'mood': 2898, 'possessed': 3347, 'martin': 2748, 'remake': 3612, 'ruin': 3750, 'nonsensical': 3031, 'overdone': 3152, 'religious': 3608, 'attitudes': 347, 'laid': 2508, 'ignore': 2224, 'opens': 3115, 'front': 1841, 'von': 4765, 'brutally': 604, 'slaughter': 4021, 'elderly': 1440, 'machine': 2693, 'murdered': 2940, 'savage': 3793, 'brutal': 603, 'innocent': 2294, 'guys': 2001, 'complicated': 925, 'reasonable': 3558, 'swear': 4334, 'thoughtful': 4463, 'everywhere': 1545, 'closer': 856, 'hatred': 2049, 'intensity': 2317, 'beyond': 476, 'sinister': 3998, 'official': 3094, 'whoever': 4872, 'argue': 290, 'rotten': 3740, 'semi': 3874, 'navy': 2976, 'tie': 4488, 'believable': 453, 'kidnapped': 2466, 'holding': 2130, 'emotionally': 1460, 'wounded': 4961, 'relationship': 3597, 'cliff': 847, 'double': 1331, 'apartment': 265, 'wandering': 4785, 'neighborhood': 2993, 'triumph': 4590, 'foot': 1781, 'jesse': 2397, 'dangerous': 1110, 'eastern': 1408, 'wendy': 4846, 'receive': 3563, 'method': 2824, 'frustrated': 1842, 'bothered': 549, 'mentioning': 2812, 'moon': 2900, 'talked': 4359, 'cake': 648, 'exists': 1573, 'rose': 3739, 'heat': 2067, 'sun': 4292, 'eight': 1436, 'heroic': 2090, 'stealing': 4171, 'spread': 4133, 'teachers': 4376, 'warriors': 4803, 'soldiers': 4054, 'serves': 3895, 'connection': 946, 'destroy': 1213, 'understandable': 4644, 'knowledge': 2491, 'destroying': 1215, 'priceless': 3390, 'producer': 3415, 'credit': 1049, 'stereotype': 4178, 'mid': 2832, 'wouldve': 4959, 'uninteresting': 4660, 'scale': 3802, 'opportunity': 3121, 'village': 4743, 'area': 286, 'laughed': 2532, 'slapstick': 4019, 'performs': 3234, 'slow': 4031, 'dry': 1377, 'segments': 3868, 'creativity': 1042, 'performers': 3232, 'considerable': 950, 'downright': 1337, 'climactic': 848, 'horse': 2170, 'thrilling': 4474, 'bond': 532, '14': 6, 'appearances': 275, 'hardy': 2037, 'exceptionally': 1559, 'martial': 2747, 'arts': 310, 'fighter': 1708, 'nasty': 2968, 'butt': 638, 'tough': 4537, 'beating': 425, 'smoking': 4040, 'utterly': 4702, 'nude': 3058, 'irritating': 2359, 'harsh': 2040, 'sheer': 3925, 'ears': 1402, 'concerning': 933, 'delivery': 1173, 'park': 3190, 'sole': 4055, 'angel': 231, 'briefly': 580, 'stuff': 4243, 'shower': 3957, 'lesbian': 2573, 'severe': 3906, 'buddy': 609, 'arm': 292, 'constant': 957, 'pace': 3161, 'pull': 3461, 'stops': 4203, 'exciting': 1563, 'gritty': 1977, 'immensely': 2243, 'enjoyable': 1485, 'exploitation': 1592, 'hardcore': 2034, 'grade': 1951, 'junk': 2436, 'pleasant': 3302, 'successful': 4266, 'legend': 2564, 'community': 908, 'bay': 416, 'deep': 1154, 'sitcom': 4004, 'bear': 420, 'gentle': 1890, 'rescue': 3643, 'simple': 3983, 'capturing': 679, 'drawing': 1350, 'warmth': 4796, 'developing': 1224, 'manner': 2729, 'sappy': 3784, 'dawn': 1127, 'ann': 244, 'island': 2361, 'loving': 2675, 'wilson': 4891, 'offer': 3087, 'support': 4303, 'civilization': 827, 'flesh': 1753, 'addition': 118, 'praise': 3364, '90s': 61, 'advance': 127, 'styles': 4250, 'product': 3418, 'eighties': 1437, 'grant': 1956, 'winner': 4897, 'farce': 1654, 'fix': 1744, 'discovered': 1280, 'makers': 2715, 'european': 1530, 'daniel': 1111, 'covers': 1024, 'staying': 4168, 'narration': 2965, 'animated': 241, 'replaced': 3634, 'sarah': 3785, 'results': 3662, 'deliver': 1169, 'arrival': 299, 'wanna': 4786, 'bakshi': 386, 'mixed': 2877, 'influenced': 2287, 'disneys': 1290, 'legendary': 2565, 'response': 3654, 'sidekick': 3966, 'vice': 4727, 'barry': 401, 'escape': 1517, 'stuck': 4237, 'police': 3322, 'fox': 1814, 'annoyed': 248, 'forgive': 1795, 'battles': 415, 'run': 3755, 'mill': 2845, 'newly': 3004, 'opened': 3113, 'ghost': 1902, 'atmospheric': 334, 'features': 1680, 'lots': 2662, 'gruesome': 1986, 'simplistic': 3985, 'offensive': 3086, 'importantly': 2248, 'heroes': 2089, 'critics': 1064, 'formulaic': 1803, 'missing': 2869, 'glory': 1922, 'restored': 3659, 'boat': 523, 'museum': 2945, 'reduced': 3579, 'speed': 4103, 'thrill': 4471, 'wound': 4960, 'imagined': 2239, 'hitting': 2126, 'buffs': 612, 'latest': 2526, 'smile': 4036, 'jake': 2377, 'lloyd': 2630, 'rocky': 3723, 'bridge': 578, 'brought': 600, 'add': 115, 'existed': 1570, 'explains': 1589, 'sorry': 4076, 'huh': 2187, 'related': 3594, 'fields': 1705, 'died': 1244, 'industry': 2280, 'technically': 4382, 'disease': 1285, 'reaction': 3541, 'dying': 1393, 'deadly': 1133, 'unknown': 4668, 'sounding': 4083, 'bargain': 400, 'basement': 405, 'settings': 3901, 'appealing': 272, 'lack': 2502, 'compelling': 916, 'offended': 3085, 'serve': 3893, 'raped': 3522, 'packed': 3166, 'folks': 1771, 'merit': 2816, 'competition': 918, 'amongst': 218, 'choose': 799, 'lacked': 2503, 'spending': 4106, 'possibly': 3351, 'par': 3184, 'rubbish': 3748, 'satan': 3787, 'christmas': 810, 'doors': 1329, 'scripted': 3835, 'developed': 1223, 'uk': 4626, 'absolute': 71, 'crap': 1031, 'cash': 709, 'whilst': 4869, 'idiots': 2220, 'drop': 1369, 'law': 2538, 'kay': 2447, 'convince': 983, 'wishes': 4906, 'eventually': 1537, 'abandoned': 62, 'vincent': 4746, 'gangster': 1868, 'meanwhile': 2785, 'horrid': 2165, 'ii': 2226, 'soap': 4047, 'opera': 3116, '16': 8, 'break': 569, 'franchise': 1817, 'francis': 1818, 'ford': 1789, '1970s': 17, 'hasnt': 2044, 'seed': 3856, 'priest': 3392, 'abilities': 64, 'inappropriate': 2259, 'daddy': 1096, 'climax': 849, 'description': 1197, 'petty': 3249, 'irrelevant': 2358, 'switch': 4339, 'filmed': 1717, 'hadnt': 2004, 'ps': 3453, 'month': 2896, 'random': 3514, 'sees': 3866, 'soul': 4079, 'quest': 3486, 'fully': 1847, 'deeper': 1155, 'mask': 2752, 'bruce': 602, 'villains': 4745, 'consistent': 953, 'breath': 573, 'godzilla': 1929, 'shape': 3919, 'warrior': 4802, 'ancient': 225, 'korean': 2495, 'kissing': 2484, 'pair': 3176, 'appalling': 268, 'tedious': 4387, 'finale': 1723, 'closing': 859, 'ran': 3513, 'rendition': 3625, 'comparing': 913, 'clichés': 846, 'appeal': 271, 'melodramatic': 2798, 'popular': 3333, 'ticket': 4487, 'theaters': 4428, 'altogether': 202, 'football': 1783, 'ted': 4386, 'excuse': 1564, 'pulp': 3465, 'mario': 2738, 'pops': 3332, 'cameo': 657, 'ladies': 2506, 'projects': 3428, 'kim': 2475, 'marie': 2737, 'boss': 546, 'center': 732, 'spain': 4091, 'conflict': 939, '30s': 44, 'directs': 1267, 'numbers': 3061, 'adds': 119, 'landscape': 2513, 'maria': 2736, 'teacher': 4375, 'spanish': 4092, 'student': 4238, 'outrageous': 3145, 'temple': 4398, 'counter': 1011, 'stated': 4161, 'storytelling': 4209, 'tim': 4494, 'convincingly': 986, 'portrays': 3344, 'compelled': 915, 'bold': 528, 'achievement': 94, 'understanding': 4645, 'amusing': 221, 'courage': 1018, 'explore': 1594, 'awesome': 371, 'carl': 692, 'honor': 2150, 'greatest': 1966, 'mere': 2814, 'enthusiasm': 1501, 'dialogues': 1235, 'monster': 2892, 'green': 1971, 'titanic': 4503, 'sucks': 4271, 'balls': 390, 'complaint': 920, 'kapoor': 2443, 'attraction': 350, 'sci': 3815, 'fi': 1701, 'dinosaur': 1255, 'rex': 3683, 'juvenile': 2441, 'extraordinary': 1607, 'mysteries': 2954, 'confidence': 938, 'revealed': 3671, 'repetitive': 3633, 'mexican': 2826, 'soft': 4051, 'location': 2635, 'university': 4667, 'mexico': 2827, 'wondered': 4927, 'built': 618, 'falling': 1639, 'asleep': 320, 'display': 1291, 'movement': 2923, 'shadow': 3912, '90': 60, 'flawed': 1750, 'imagination': 2236, 'granted': 1957, 'vacation': 4704, 'remote': 3622, 'cabin': 643, 'hunter': 2199, 'larry': 2520, 'build': 614, 'unsettling': 4679, 'matthau': 2771, 'burns': 628, 'al': 170, 'gem': 1877, 'retired': 3664, 'exaggerated': 1552, 'characterization': 759, 'timing': 4498, 'nowhere': 3056, 'memorable': 2802, 'stayed': 4167, 'subjects': 4254, 'lawrence': 2539, 'positive': 3346, 'glover': 1923, 'opposite': 3123, 'garbo': 1871, 'joan': 2404, 'presented': 3376, 'authority': 360, 'throwing': 4480, 'gags': 1862, 'arrested': 298, 'funnier': 1850, 'catch': 714, 'turner': 4607, 'alexander': 180, 'engaged': 1480, 'list': 2617, 'hooked': 2153, 'creative': 1041, 'expressions': 1603, 'cagney': 646, 'enemy': 1477, 'fooled': 1780, 'paced': 3162, 'womans': 4922, 'vietnam': 4735, 'snake': 4042, 'command': 897, 'building': 615, 'truck': 4595, 'burn': 625, 'consistently': 954, 'wrestling': 4966, 'gay': 1876, 'younger': 4990, 'established': 1524, 'slight': 4027, 'instance': 2304, 'productions': 3420, 'produced': 3414, 'bucks': 606, 'multi': 2935, 'valuable': 4708, 'splendid': 4119, 'afford': 138, 'overly': 3155, 'large': 2517, 'clean': 838, 'afraid': 140, 'thick': 4447, 'improved': 2255, 'fred': 1825, 'pitch': 3279, 'tight': 4492, 'theyd': 4443, 'limited': 2606, 'mistake': 2871, 'necessary': 2984, 'suppose': 4305, 'goofy': 1939, 'wrote': 4974, 'mountains': 2918, 'hole': 2132, 'writes': 4970, 'planned': 3290, 'immediately': 2242, 'blows': 517, 'nose': 3037, 'walks': 4780, 'wicked': 4879, 'relationships': 3598, 'horrors': 2169, 'seconds': 3848, 'object': 3066, 'forth': 1804, 'map': 2733, 'abuse': 74, 'claire': 831, 'intimate': 2331, 'category': 718, 'lips': 2615, 'russian': 3762, 'cut': 1089, 'viewings': 4741, 'crucial': 1068, 'pages': 3168, 'silence': 3974, 'multiple': 2936, 'superbly': 4297, 'darkness': 1117, 'essentially': 1523, 'bitter': 491, 'childish': 791, 'torture': 4529, 'accident': 84, 'approach': 282, 'meaningful': 2781, 'eve': 1532, 'guide': 1993, 'intended': 2315, 'reveals': 3673, 'owner': 3159, 'factory': 1623, 'intriguing': 2335, 'guilt': 1994, 'spoiled': 4122, 'chris': 806, 'protect': 3443, 'strip': 4228, 'combination': 883, 'gonna': 1936, 'youth': 4994, 'shut': 3961, 'tense': 4403, 'danger': 1109, 'decisions': 1152, 'plain': 3286, 'arthur': 305, 'skin': 4015, 'standing': 4146, 'hunters': 2200, 'domino': 1319, 'carries': 699, 'bath': 411, 'june': 2433, 'sexuality': 3909, 'interview': 2329, 'facts': 1624, 'basketball': 409, 'professor': 3422, 'cure': 1081, 'aging': 153, 'monkey': 2890, 'initially': 2291, 'strength': 4219, 'crappy': 1032, 'incredibly': 2270, 'further': 1853, 'absurd': 73, 'laura': 2536, 'tear': 4379, 'marks': 2742, 'removed': 3624, 'rid': 3690, 'fancy': 1649, 'restaurant': 3658, 'liners': 2611, 'hat': 2045, 'emotion': 1458, 'strongly': 4231, 'fifteen': 1706, 'plausible': 3295, 'pregnant': 3369, 'dreadful': 1353, 'redeeming': 3577, 'sally': 3776, 'tribute': 4581, 'guarantee': 1987, 'singing': 3995, 'unreal': 4676, 'cgi': 740, 'backgrounds': 381, 'focus': 1766, 'scooby': 3820, 'doo': 1325, 'adaptation': 113, 'magic': 2703, 'lay': 2542, 'blame': 499, 'generally': 1881, 'childrens': 793, 'amanda': 205, 'cruel': 1070, 'mrs': 2930, 'window': 4894, 'spots': 4132, 'enormous': 1490, 'discovers': 1281, 'relief': 3605, 'member': 2800, 'species': 4098, 'humans': 2190, 'angela': 232, 'army': 295, 'agrees': 157, 'ruined': 3751, 'uninspired': 4657, 'similarly': 3980, 'designed': 1203, 'occasional': 3074, 'drags': 1345, 'humour': 2194, 'unfunny': 4655, 'enjoyment': 1488, 'omen': 3104, 'bergman': 466, 'distinct': 1296, 'christian': 808, 'taught': 4370, 'willis': 4890, 'modesty': 2883, 'trap': 4563, 'novels': 3053, 'financial': 1725, 'credible': 1048, 'thin': 4449, 'heroine': 2091, 'needed': 2988, 'integrity': 2311, 'claim': 828, 'disney': 1289, 'cared': 685, 'careful': 688, 'techniques': 4384, 'relative': 3599, 'forest': 1791, 'household': 2179, 'wise': 4903, 'larger': 2519, 'visuals': 4759, 'critical': 1062, 'miserable': 2863, 'faults': 1669, 'task': 4368, 'winter': 4900, 'alike': 185, 'round': 3742, 'dr': 1340, 'quick': 3490, 'mile': 2842, 'stranger': 4213, 'colonel': 876, 'jonathan': 2417, 'torn': 4528, 'apart': 264, 'somebody': 4062, 'canadian': 667, 'possibility': 3349, 'phone': 3255, 'soldier': 4053, 'finding': 1727, 'beach': 419, 'aliens': 184, 'nightmare': 3014, 'adapted': 114, 'holmes': 2139, 'builds': 617, 'alongside': 196, 'proceedings': 3410, 'emphasis': 1463, 'fish': 1738, 'screams': 3828, 'outcome': 3142, 'clues': 865, 'scottish': 3825, 'exceptional': 1558, 'delight': 1167, 'hammer': 2014, 'account': 89, 'meat': 2787, 'irony': 2357, 'wave': 4818, 'expensive': 1579, 'cook': 988, 'curiosity': 1082, 'respected': 3653, 'alan': 171, 'absence': 70, 'officer': 3092, 'da': 1094, 'phantom': 3251, 'dig': 1250, 'inspector': 2299, 'secretary': 3850, 'witnesses': 4916, 'closed': 854, 'featured': 1679, 'jazz': 2387, 'roll': 3728, 'zero': 4996, 'suggests': 4282, 'manhattan': 2726, 'virtually': 4751, 'expressed': 1601, 'reached': 3537, 'recent': 3566, 'guessed': 1990, 'wannabe': 4787, 'disgusting': 1286, 'visual': 4757, 'dragon': 1344, 'amateurish': 207, 'lousy': 2667, 'strike': 4224, 'sold': 4052, 'analysis': 224, 'chemistry': 782, 'incomprehensible': 2267, 'trite': 4589, 'inspired': 2301, 'pathetic': 3210, 'shines': 3932, 'afternoon': 144, 'comments': 901, 'deserve': 1199, 'april': 284, 'cinemas': 817, 'devoid': 1230, 'screens': 3832, 'gray': 1963, 'pat': 3208, 'aunt': 355, 'uncle': 4636, 'hoping': 2160, 'farm': 1656, 'neighbors': 2994, 'shirley': 3936, 'develops': 1226, 'crush': 1072, 'fill': 1714, 'opportunities': 3120, 'talents': 4356, 'refreshing': 3586, 'troubles': 4594, 'enjoying': 1487, 'andy': 230, 'bag': 384, 'elm': 1447, 'freddy': 1826, 'zombies': 4998, 'hiding': 2099, 'bush': 632, 'psychological': 3458, 'grown': 1984, 'awake': 365, 'dolls': 1316, 'cameos': 658, 'titles': 4506, '70s': 56, 'richards': 3687, 'blair': 497, 'assume': 328, 'joseph': 2419, 'awe': 370, 'reflection': 3585, 'souls': 4080, 'beliefs': 452, 'li': 2587, 'lake': 2509, 'creatures': 1046, 'twisted': 4618, 'demon': 1177, 'growing': 1983, 'attracted': 349, 'directions': 1262, 'affect': 136, 'wasting': 4810, 'trilogy': 4586, 'dropped': 1370, 'weeks': 4839, 'aimed': 162, 'western': 4853, 'joy': 2422, 'summary': 4290, 'teach': 4374, 'lesson': 2577, 'bus': 631, 'proved': 3446, 'endless': 1473, 'population': 3335, 'suck': 4269, 'americas': 215, 'henry': 2084, 'wonderfully': 4929, 'bonus': 534, 'panic': 3181, 'delivers': 1172, 'bumbling': 622, 'key': 2458, 'captures': 678, 'hearts': 2066, 'alex': 179, 'unhappy': 4656, 'campbell': 663, 'ritter': 3705, 'lust': 2689, 'ultimately': 4628, 'genres': 1889, 'warm': 4794, 'maintain': 2710, 'caliber': 649, 'ages': 152, 'jokes': 2415, 'table': 4346, 'ease': 1404, 'mix': 2876, 'birthday': 487, 'previously': 3388, 'favourite': 1673, 'atrocious': 335, 'unoriginal': 4673, 'cuts': 1091, 'fever': 1699, 'identify': 2216, 'inevitable': 2282, 'spite': 4117, 'ben': 463, 'veteran': 4724, 'seven': 3903, 'travels': 4569, 'florida': 1761, 'spring': 4134, 'training': 4558, 'misses': 2868, 'attend': 344, 'bedroom': 437, 'grow': 1982, 'size': 4012, '2004': 34, 'manage': 2722, 'gag': 1861, 'mistaken': 2872, 'guilty': 1995, 'bo': 521, 'revolutionary': 3681, 'worthwhile': 4955, 'transformation': 4560, 'exotic': 1574, 'eager': 1396, 'promising': 3433, 'holes': 2133, 'happening': 2028, 'corner': 996, 'continuity': 972, 'asking': 318, 'politically': 3325, 'humanity': 2189, 'link': 2613, 'attacked': 338, 'dvds': 1392, 'carefully': 689, 'cleverly': 842, 'context': 968, 'jay': 2386, 'lucky': 2683, 'resolution': 3649, 'portion': 3338, 'tarzan': 4367, 'requires': 3642, 'facing': 1620, 'championship': 745, 'kick': 2460, 'fourth': 1813, 'victoria': 4732, 'ashley': 313, 'michelle': 2830, 'masters': 2761, 'kurt': 2499, 'angle': 236, 'challenge': 743, 'breaks': 571, 'beat': 423, 'fortunately': 1805, 'note': 3044, 'spider': 4109, 'superhero': 4299, 'web': 4833, 'shouldnt': 3952, 'harder': 2035, 'resources': 3651, 'suspect': 4327, 'cameron': 661, 'andrew': 228, 'blake': 498, 'thru': 4483, 'construction': 960, 'discovery': 1282, 'lessons': 2578, 'gary': 1873, 'contrived': 976, 'fail': 1625, 'society': 4050, 'backdrop': 379, 'cg': 739, 'wholly': 4874, 'documentaries': 1306, 'relatively': 3600, 'ugly': 4625, 'ultra': 4629, 'conservative': 948, 'groups': 1981, 'usa': 4691, 'isolated': 2363, 'per': 3223, 'basis': 408, 'australia': 356, 'neo': 2998, 'nazi': 2977, 'deliberately': 1166, 'lie': 2590, 'views': 4742, 'military': 2844, 'miserably': 2864, 'couldve': 1009, 'track': 4544, 'nostalgic': 3039, 'hearing': 2063, 'realizing': 3555, 'alert': 178, 'media': 2789, 'intention': 2319, 'warned': 4798, 'practically': 3362, 'forced': 1787, 'hated': 2047, 'downhill': 1336, 'indie': 2276, 'itll': 2369, 'madness': 2698, 'odds': 3082, 'amateur': 206, 'scientists': 3819, 'discover': 1279, 'cave': 727, 'burning': 627, 'monsters': 2893, 'lying': 2690, 'thousand': 4465, 'literally': 2622, 'pile': 3275, 'wacky': 4769, 'adventures': 131, 'spell': 4104, 'laurel': 2537, 'chasing': 772, 'thugs': 4484, 'traveling': 4568, 'halfway': 2008, 'players': 3299, 'twilight': 4614, 'accomplished': 87, 'blew': 505, 'failure': 1629, 'poverty': 3357, 'sit': 4003, 'cheese': 780, 'rolled': 3729, 'joey': 2408, 'frustration': 1843, 'plague': 3285, 'beaten': 424, 'treated': 4573, 'ass': 323, 'treat': 4572, 'heck': 2071, 'doom': 1326, 'kitchen': 2485, 'resist': 3648, 'streep': 4215, 'nicholson': 3011, 'et': 1526, 'pit': 3278, 'beast': 422, 'ties': 4490, 'equal': 1509, 'lord': 2652, 'elegant': 1441, 'cross': 1066, 'devils': 1229, 'ashamed': 312, 'africa': 141, 'gandhi': 1866, 'freedom': 1828, 'liberal': 2588, 'editor': 1423, 'african': 142, 'allow': 189, 'nominated': 3025, 'tremendous': 4579, 'sends': 3876, 'albeit': 173, 'fashion': 1659, 'current': 1084, 'everyones': 1543, 'german': 1896, 'bodies': 526, 'suspicious': 4332, 'vampires': 4712, 'loves': 2674, 'ruth': 3763, 'fay': 1674, 'whale': 4857, 'keeping': 2450, 'weakest': 4825, 'infamous': 2284, 'mature': 2773, '35': 45, 'dealt': 1138, 'potentially': 3356, 'hong': 2149, 'laws': 2540, 'danes': 1108, 'terrific': 4409, 'typical': 4623, 'methods': 2825, 'disturbed': 1299, 'reminiscent': 3621, 'serial': 3889, 'bigger': 479, 'safety': 3772, 'educational': 1425, 'checking': 778, 'remarkably': 3614, 'fonda': 1777, 'uneven': 4649, 'ham': 2011, 'suitable': 4285, 'jeffrey': 2391, 'contract': 973, 'charisma': 762, 'hood': 2151, 'empathy': 1462, 'forgettable': 1794, 'showcase': 3954, 'alcoholic': 177, 'alcohol': 176, 'erotic': 1515, 'luke': 2687, 'solo': 4058, 'twin': 4615, 'naive': 2958, 'determined': 1221, 'earl': 1398, 'ian': 2209, 'ruthless': 3764, 'sword': 4340, 'midnight': 2834, 'afterwards': 145, 'remaining': 3610, 'destroyed': 1214, 'generated': 1882, 'prisoner': 3402, 'remarks': 3615, 'louis': 2665, 'sudden': 4272, 'notable': 3041, 'deceased': 1146, 'gradually': 1952, 'france': 1816, 'coherent': 871, 'tune': 4602, 'represented': 3638, 'revelation': 3674, 'surreal': 4317, 'bare': 398, 'creators': 1044, 'reminded': 3619, 'hence': 2083, 'push': 3477, 'listed': 2618, 'lewis': 2586, 'convinced': 984, 'peace': 3219, 'canada': 666, 'leader': 2546, 'theyll': 4444, 'pot': 3354, 'baker': 385, 'mitchell': 2875, 'sits': 4006, 'cowboy': 1025, 'vaguely': 4706, 'embarrassment': 1455, 'vague': 4705, 'ninja': 3018, 'freak': 1824, 'escapes': 1519, 'sea': 3838, 'mentions': 2813, 'julia': 2427, 'louise': 2666, 'colorful': 878, 'tomatoes': 4515, 'monk': 2889, 'angels': 234, 'underground': 4640, 'columbo': 881, 'plans': 3292, 'steps': 4177, 'spielberg': 4110, 'portray': 3340, 'rat': 3525, 'staged': 4140, 'survivor': 4324, 'johnny': 2410, 'irish': 2353, 'turning': 4608, 'photo': 3257, 'floor': 1759, 'beer': 439, 'piano': 3264, 'critic': 1061, 'miike': 2837, 'regardless': 3590, 'originality': 3130, 'superficial': 4298, 'wed': 4835, 'ground': 1979, 'blues': 519, 'cynical': 1093, 'minimal': 2855, 'comical': 894, 'hint': 2112, 'wallace': 4782, '1999': 27, 'staring': 4152, 'smoke': 4039, 'drinking': 1362, 'zombie': 4997, 'warren': 4801, 'homeless': 2143, 'legs': 2566, 'blend': 504, 'chicago': 785, 'timeless': 4496, 'arnold': 296, 'corrupt': 1001, 'toys': 4543, 'pleased': 3305, 'nations': 2971, 'slave': 4022, 'defined': 1160, 'pacing': 3163, 'spectacular': 4101, 'stilted': 4190, 'miles': 2843, 'stunt': 4245, 'cube': 1076, 'dialogs': 1233, 'rats': 3531, '2002': 32, 'trailers': 4555, 'satire': 3788, 'prime': 3395, 'forty': 1807, 'animals': 240, 'interaction': 2322, 'matched': 2763, 'brooks': 596, 'thirty': 4456, 'scott': 3824, 'perry': 3237, 'dick': 1239, 'broke': 593, 'vegas': 4717, 'cops': 993, 'slasher': 4020, 'nation': 2969, 'heres': 2087, 'presents': 3377, 'complexity': 924, 'brief': 579, 'satisfying': 3791, 'khan': 2459, 'door': 1328, 'vulnerable': 4768, 'enters': 1496, 'sweet': 4336, 'singer': 3993, 'stinks': 4192, '25': 40, 'pamela': 3179, 'taylor': 4372, 'san': 3780, 'francisco': 1819, 'genuinely': 1892, 'depicting': 1184, 'horribly': 2164, 'alice': 182, 'harris': 2038, 'walken': 4777, 'allowing': 191, 'fool': 1779, 'grim': 1974, 'husbands': 2205, 'threat': 4467, 'security': 3854, 'convoluted': 987, 'parker': 3191, 'terrorists': 4414, 'uncomfortable': 4637, 'agents': 151, 'ryan': 3765, 'vivid': 4760, 'suits': 4287, 'madonna': 2699, 'tracy': 4546, 'blowing': 515, 'peoples': 3222, 'blow': 514, 'illogical': 2231, 'steal': 4170, 'shallow': 3917, 'lit': 2621, 'finished': 1733, 'brian': 576, 'cheating': 776, 'unrealistic': 4677, 'saves': 3796, 'greedy': 1969, 'businessman': 634, 'finger': 1731, 'chaplin': 756, '11': 2, 'attacks': 339, '70': 55, 'eccentric': 1414, 'greatly': 1967, 'experiences': 1582, 'santa': 3783, 'rick': 3689, 'garden': 1872, 'toilet': 4512, 'smaller': 4034, 'tiny': 4500, 'domestic': 1318, 'duo': 1386, 'disappear': 1270, '1973': 19, 'tired': 4501, 'robinson': 3716, 'stanwyck': 4149, 'wreck': 4965, 'creepy': 1052, 'psycho': 3457, 'jealous': 2388, 'noir': 3023, 'darker': 1116, 'creating': 1039, 'cameras': 660, 'notion': 3050, 'suspects': 4328, 'solution': 4059, 'notes': 3046, 'gods': 1928, 'corpse': 999, 'corporate': 998, 'experiments': 1584, 'explosions': 1597, 'cable': 644, 'obscure': 3068, 'extended': 1604, 'hal': 2006, 'offered': 3088, 'appropriate': 283, 'eva': 1531, 'facial': 1619, 'mediocre': 2791, 'judging': 2425, 'filmmaker': 1719, 'victor': 4731, 'argument': 291, 'specific': 4099, 'successfully': 4267, 'unable': 4631, 'mann': 2728, 'stewart': 4184, 'morris': 2908, 'north': 3036, 'trail': 4553, 'manipulative': 2727, 'castle': 712, 'roman': 3731, 'believes': 456, 'judge': 2424, 'runs': 3757, 'dawson': 1128, 'highest': 2102, 'claims': 830, 'warn': 4797, 'arms': 294, 'naked': 2959, 'guessing': 1991, 'mel': 2796, 'paulie': 3215, 'subplots': 4256, 'president': 3378, 'mistress': 2874, 'agreed': 156, 'college': 875, 'students': 4239, 'soviet': 4089, 'hitler': 2124, 'nonetheless': 3029, 'sell': 3871, 'prequel': 3372, 'card': 681, 'combined': 885, 'entry': 1504, 'clip': 851, 'drunken': 1376, 'justify': 2439, '13': 4, 'blob': 507, 'grows': 1985, 'yellow': 4981, 'surrounded': 4318, 'centered': 733, 'swedish': 4335, 'lena': 2568, 'opinions': 3119, 'arguably': 289, 'purposes': 3475, 'anime': 243, 'tricks': 4583, '3d': 46, 'entertain': 1497, 'bin': 483, 'purchased': 3470, 'companion': 909, 'reynolds': 3684, 'prior': 3400, 'jeremy': 2394, 'interviews': 2330, 'fatal': 1664, 'surrounding': 4319, 'represent': 3637, '1990s': 25, 'dressing': 1359, 'fed': 1682, 'cd': 728, 'network': 3000, 'cost': 1003, 'reveal': 3670, 'matrix': 2767, 'hype': 2207, 'terry': 4415, 'sub': 4252, 'graphics': 1959, 'shake': 3914, 'disbelief': 1277, 'bette': 471, 'germany': 1898, 'wwii': 4975, 'sophisticated': 4075, 'morality': 2903, 'nazis': 2978, 'seat': 3845, 'everyday': 1541, 'escaped': 1518, 'miscast': 2862, 'express': 1600, 'meaningless': 2782, 'academy': 77, 'shall': 3916, 'thrills': 4475, 'primary': 3394, 'drugs': 1374, 'ensues': 1493, 'prize': 3405, 'sin': 3988, 'remind': 3618, 'blade': 495, 'gothic': 1945, 'fame': 1642, 'icon': 2211, 'brilliantly': 584, 'encounters': 1467, 'edgar': 1417, 'georges': 1894, 'eerie': 1427, 'resident': 3647, 'comparison': 914, 'margaret': 2735, 'correct': 1000, 'mini': 2854, 'sam': 3777, 'minded': 2850, 'lemmon': 2567, 'witty': 4917, 'dedicated': 1153, 'instantly': 2306, 'trained': 4557, 'someones': 4065, 'steals': 4172, 'roots': 3738, 'likewise': 2603, 'buildings': 616, 'passing': 3204, 'puts': 3481, 'journey': 2421, 'lively': 2627, 'travel': 4567, 'chair': 742, 'presumably': 3380, 'gas': 1874, 'promise': 3430, 'progress': 3425, 'minds': 2852, 'carrie': 697, 'zone': 4999, 'pet': 3246, 'bone': 533, 'inducing': 2279, 'rachel': 3500, 'horrific': 2166, 'nightmares': 3015, 'lucas': 2680, 'theatre': 4429, 'grinch': 1975, 'molly': 2884, 'sing': 3992, 'secrets': 3852, 'stronger': 4230, 'holiday': 2134, 'feet': 1688, 'partly': 3197, 'troubled': 4593, 'helen': 2075, 'press': 3379, 'greater': 1965, 'frankenstein': 1822, 'calls': 654, 'showdown': 3955, 'specifically': 4100, 'pulls': 3464, 'handful': 2017, 'blond': 510, 'drives': 1367, 'explaining': 1588, 'stylish': 4251, 'murderous': 2942, 'rough': 3741, 'justice': 2438, 'carpenter': 694, 'jennifer': 2392, 'currently': 1085, 'cooper': 990, 'toy': 4542, 'tears': 4380, '17': 9, 'destiny': 1212, 'california': 650, 'pal': 3177, 'degree': 1164, 'notorious': 3051, 'bettie': 473, 'suggested': 4281, 'models': 2881, 'investigation': 2343, 'ghosts': 1903, 'cities': 823, 'disagree': 1269, 'row': 3744, 'survived': 4322, 'clips': 852, 'credibility': 1047, 'enemies': 1476, '1st': 28, 'doc': 1303, 'ginger': 1908, 'exposure': 1599, 'abysmal': 76, 'southern': 4088, 'massacre': 2754, 'shoes': 3941, 'develop': 1222, 'locked': 2637, 'unfortunate': 4653, 'spirited': 4114, 'wes': 4851, 'constructed': 959, 'satisfy': 3790, 'distribution': 1298, 'weapon': 4828, 'advise': 134, 'illegal': 2229, 'mst3k': 2932, 'unwatchable': 4682, 'button': 639, 'insulting': 2310, 'annie': 247, 'unlikely': 4671, 'suspend': 4329, 'belief': 451, 'combat': 882, 'armed': 293, 'movements': 2924, 'superior': 4300, 'chances': 748, 'accept': 80, 'incompetent': 2266, 'provoking': 3452, 'fulci': 1845, 'knife': 2487, 'nearby': 2980, 'daily': 1097, 'activities': 102, 'commercial': 902, '1980': 20, 'oddly': 3081, 'rooms': 3736, 'shorts': 3948, 'sons': 4073, 'dimensional': 1253, 'struck': 4232, 'mechanical': 2788, 'horses': 2171, 'jaws': 2385, 'fallen': 1638, 'nostalgia': 3038, 'helicopter': 2076, 'vehicle': 4718, 'elizabeth': 1445, 'brosnan': 597, 'sean': 3840, 'scores': 3823, 'awards': 367, 'lesser': 2576, 'metal': 2823, 'stays': 4169, 'troops': 4591, 'gripping': 1976, 'preview': 3386, 'cary': 706, 'elephant': 1444, 'unconvincing': 4638, 'ruby': 3749, 'authentic': 358, 'liking': 2604, 'distant': 1295, 'frightening': 1839, 'mainstream': 2709, 'crowd': 1067, 'gerard': 1895, 'literature': 2623, 'speech': 4102, 'relate': 3593, 'catholic': 720, 'protagonist': 3441, 'moral': 2902, 'accepted': 82, 'nyc': 3065, 'ought': 3138, 'em': 1452, 'namely': 2962, 'apes': 267, 'raise': 3507, 'derek': 1192, 'overacting': 3149, 'ape': 266, 'shortly': 3947, 'poetry': 3314, 'aid': 160, 'brains': 563, 'challenging': 744, 'tortured': 4530, 'knock': 2488, 'conventional': 979, 'tiger': 4491, 'fury': 1855, 'jesus': 2399, 'stock': 4193, 'vote': 4766, 'placed': 3283, 'overlooked': 3154, 'visually': 4758, 'ripped': 3701, 'loosely': 2651, 'threw': 4470, 'generic': 1885, 'prince': 3396, 'purple': 3473, 'disc': 1278, 'repeated': 3631, 'album': 175, 'lyrics': 2692, 'block': 508, 'mirror': 2861, 'eddie': 1416, 'murphy': 2944, 'flawless': 1751, 'motivations': 2915, 'celluloid': 731, 'ingredients': 2289, 'indians': 2275, 'marvelous': 2750, 'signs': 3973, 'crack': 1027, 'sexually': 3910, 'text': 4419, 'careers': 687, 'imagery': 2234, 'principal': 3398, 'portraying': 3343, 'cheated': 775, 'racism': 3502, 'dutch': 1389, 'copies': 992, 'props': 3439, 'messages': 2820, 'reactions': 3542, 'hill': 2108, 'waters': 4817, 'racist': 3503, 'blacks': 494, 'davis': 1126, 'australian': 357, 'losing': 2658, 'menace': 2806, 'performer': 3231, 'coffee': 870, 'warner': 4799, 'abusive': 75, 'letting': 2583, 'cards': 683, 'slap': 4018, 'magical': 2704, 'artists': 309, 'involve': 2345, 'couples': 1017, 'historically': 2120, 'captivating': 675, 'colors': 879, 'hung': 2197, 'walls': 4783, 'practice': 3363, 'factor': 1622, 'anne': 246, 'chaos': 755, 'honestly': 2147, 'acid': 95, 'chased': 770, 'trees': 4577, 'samurai': 3779, 'lone': 2642, 'wolf': 4920, 'trademark': 4548, 'tiresome': 4502, 'receives': 3565, 'wrap': 4963, 'producing': 3417, 'remotely': 3623, 'sticks': 4186, 'focused': 1767, 'menacing': 2807, 'hank': 2024, 'belong': 459, 'eaten': 1412, 'grab': 1949, 'carrying': 701, 'attitude': 346, '1940s': 13, 'ridiculously': 3694, 'countryside': 1015, 'kenneth': 2455, 'arrives': 302, 'stinker': 4191, 'studios': 4241, 'gory': 1943, 'jumping': 2431, 'fly': 1763, 'relations': 3596, 'cuba': 1075, 'suffice': 4279, 'decades': 1145, 'ludicrous': 2685, 'leg': 2562, 'seventies': 3904, 'vengeance': 4719, 'dinosaurs': 1256, 'rubber': 3747, 'arrive': 300, 'bother': 548, 'cares': 690, 'thumbs': 4485, 'entertained': 1498, 'hollywoods': 2138, 'draw': 1349, 'drivel': 1364, 'jamie': 2379, 'learned': 2551, 'nuclear': 3057, 'league': 2549, 'dollar': 1314, 'mummy': 2937, 'babe': 375, 'feed': 1683, 'wedding': 4836, 'silver': 3977, 'picks': 3268, 'offering': 3089, 'loads': 2633, 'gift': 1906, 'hilariously': 2107, 'pack': 3165, 'gabriel': 1859, 'humble': 2191, 'jessica': 2398, 'simpson': 3987, 'witnessed': 4915, 'secondly': 3847, 'admittedly': 123, 'dance': 1103, 'parties': 3196, 'boxing': 556, 'soccer': 4048, 'kung': 2498, 'fu': 1844, 'inferior': 2285, 'choreography': 802, 'sings': 3997, 'nights': 3016, 'daring': 1114, 'carter': 703, 'commercials': 903, 'dating': 1120, 'chases': 771, 'returning': 3667, 'classes': 834, 'sincere': 3991, 'delivering': 1171, 'depressing': 1188, 'passionate': 3206, 'sinatra': 3989, 'comics': 895, 'wrapped': 4964, 'website': 4834, 'persona': 3239, 'houses': 2180, 'youd': 4987, 'ensemble': 1492, 'jumps': 2432, 'dare': 1113, 'maggie': 2702, 'ambitious': 211, 'relatives': 3601, 'dolph': 1317, 'whereas': 4865, 'apparent': 269, 'benefit': 465, 'latin': 2527, 'los': 2653, 'angeles': 233, 'dean': 1139, '18': 10, 'tame': 4363, 'narrator': 2967, 'overlook': 3153, 'dub': 1378, 'gangsters': 1869, 'eric': 1514, 'neck': 2985, 'performing': 3233, 'pity': 3281, 'stunts': 4246, '1984': 23, 'hysterical': 2208, 'improvement': 2256, 'purely': 3472, 'sullivan': 4288, 'ned': 2986, 'evidence': 1546, 'bound': 553, 'demented': 1176, 'disjointed': 1287, 'bright': 581, 'choices': 798, 'taxi': 4371, 'appreciation': 281, 'reel': 3581, 'stones': 4198, 'landing': 2512, 'diane': 1238, 'worthless': 4954, 'cole': 873, 'enjoys': 1489, 'aired': 165, 'astaire': 330, 'catchy': 717, 'tap': 4364, 'routine': 3743, 'grandmother': 1955, 'intentions': 2321, 'involvement': 2347, 'creator': 1043, 'arrogant': 303, 'motivation': 2914, 'returned': 3666, 'ice': 2210, 'bullets': 621, 'estate': 1525, 'wisdom': 4902, 'describes': 1196, 'blunt': 520, 'beings': 449, 'loser': 2655, 'ironically': 2356, 'intrigued': 2334, 'lifestyle': 2593, 'stale': 4141, 'rank': 3518, 'waves': 4819, 'dancer': 1104, 'unaware': 4632, 'dynamic': 1394, 'formula': 1802, 'obnoxious': 3067, 'davies': 1125, 'executive': 1567, 'hire': 2116, 'royal': 3746, 'mgm': 2828, 'roy': 3745, 'mindless': 2851, 'propaganda': 3435, 'idiot': 2218, 'promises': 3432, 'invasion': 2340, 'stretched': 4222, 'futuristic': 1857, '45': 50, 'introduction': 2339, 'olivier': 3103, 'officers': 3093, 'sentimental': 3882, '1990': 24, 'redemption': 3578, 'ad': 110, 'clichéd': 845, 'montage': 2894, 'host': 2173, 'homosexual': 2145, 'nurse': 3063, 'unbelievably': 4635, 'defeat': 1157, 'provide': 3448, 'ranks': 3519, 'simon': 3982, 'lol': 2640, 'flash': 1745, 'weapons': 4829, 'tender': 4401, 'react': 3540, 'spends': 4107, 'striking': 4226, 'attempted': 341, 'fisher': 1739, 'guest': 1992, 'closet': 858, '1930s': 11, 'karloff': 2445, 'lugosi': 2686, 'smooth': 4041, 'stargate': 4151, 'atlantis': 332, 'kidding': 2465, 'patients': 3212, 'judy': 2426, 'desperation': 1210, 'mall': 2720, 'charlotte': 766, 'drink': 1361, 'cup': 1080, 'duty': 1390, 'lion': 2614, 'raising': 3509, 'circle': 821, 'matthew': 2772, 'stiller': 4189, 'amy': 222, 'library': 2589, 'floating': 1758, 'chicks': 787, 'poster': 3353, 'doll': 1313, 'roberts': 3714, 'failing': 1627, 'werewolf': 4850, 'kicks': 2463, 'swimming': 4338, 'feminist': 1695, 'fest': 1696, 'virus': 4752, 'aids': 161, 'cousin': 1021, 'funeral': 1849, 'corruption': 1002, 'norman': 3035, 'craig': 1030, 'touching': 4536, 'tea': 4373, 'sunshine': 4294, 'grave': 1962, 'greed': 1968, 'forms': 1801, 'closest': 857, 'deaf': 1134, 'useful': 4694, 'scientific': 3817, 'plight': 3308, 'survivors': 4325, 'waited': 4771, 'pseudo': 3454, 'cardboard': 682, 'paying': 3217, 'behave': 445, 'masses': 2755, 'stopped': 4202, 'ken': 2453, 'report': 3635, '60': 53, 'iraq': 2351, 'tommy': 4516, 'smiling': 4037, 'crude': 1069, 'robot': 3717, 'pants': 3182, 'adams': 112, 'channels': 754, 'lifetime': 2594, 'base': 402, 'tends': 4402, 'ocean': 3079, 'undoubtedly': 4648, 'interpretation': 2328, 'simplicity': 3984, 'wives': 4918, 'stanley': 4148, 'donna': 1323, 'mildly': 2840, 'brooklyn': 595, 'ballet': 389, 'abraham': 69, 'intent': 2318, 'makeup': 2717, 'errors': 1516, 'loaded': 2632, '1972': 18, 'dances': 1106, 'cox': 1026, 'poetic': 3313, 'teaching': 4377, 'arrived': 301, 'woody': 4936, 'embarrassed': 1453, 'mansion': 2731, 'bull': 619, 'johnson': 2411, 'miracle': 2860, 'exploration': 1593, 'airplane': 166, 'females': 1694, 'paint': 3173, 'hopper': 2161, 'worn': 4948, 'cinderella': 815, 'edie': 1419, 'st': 4137, 'shark': 3921, 'bringing': 586, 'kingdom': 2480, 'demons': 1178, 'branagh': 564, 'karen': 2444, 'moronic': 2907, 'pearl': 3220, 'betty': 474, 'dan': 1102, 'sandra': 3782, 'spoke': 4125, 'sadness': 3770, 'conversations': 981, 'promised': 3431, 'personalities': 3241, 'niro': 3019, 'spoof': 4127, 'emma': 1457, 'parent': 3187, 'designs': 1204, 'randomly': 3515, 'justin': 2440, 'antics': 255, 'stan': 4142, 'incoherent': 2265, 'butler': 637, 'wealthy': 4827, 'inevitably': 2283, 'robbins': 3712, 'beatty': 427, 'versus': 4722, 'buddies': 608, 'rings': 3699, 'blockbuster': 509, 'cannibal': 669, 'limits': 2607, 'diamond': 1236, 'lasted': 2522, 'myers': 2952, 'banned': 395, 'elsewhere': 1449, 'hundred': 2195, 'kicking': 2462, 'lonely': 2643, 'splatter': 4118, 'losers': 2656, 'phony': 3256, 'snl': 4044, 'yelling': 4980, 'mothers': 2912, 'paltrow': 3178, 'burton': 630, 'instant': 2305, 'monkeys': 2891, 'nelson': 2997, 'shine': 3931, 'kubrick': 2496, 'urge': 4689, 'photographer': 3259, 'spare': 4093, 'kennedy': 2454, 'holy': 2140, 'unpredictable': 4675, 'uwe': 4703, 'boll': 529, 'wet': 4855, 'joined': 2413, 'blatant': 502, 'deaths': 1142, 'relies': 3606, 'march': 2734, 'sadistic': 3768, 'dragged': 1343, 'leonard': 2572, 'fired': 1735, 'individuals': 2278, 'birds': 485, 'despair': 1207, 'engage': 1479, 'impress': 2250, 'coach': 868, 'concerns': 934, 'trek': 4578, 'kirk': 2482, 'brazil': 568, 'excessive': 1560, 'scarecrow': 3804, 'breasts': 572, 'generations': 1884, 'gender': 1878, 'lovable': 2668, 'widely': 4881, 'alfred': 181, 'bell': 458, 'cusack': 1088, 'leslie': 2574, 'purchase': 3469, '40s': 49, 'pool': 3327, 'bands': 392, 'spike': 4111, 'duke': 1383, 'hamilton': 2012, 'creep': 1051, 'virginia': 4750, 'defend': 1158, 'implausible': 2245, 'inventive': 2341, 'rambo': 3511, 'scrooge': 3837, 'alas': 172, 'unseen': 4678, 'der': 1191, 'ie': 2221, 'sue': 4274, 'september': 3884, 'centers': 734, 'mighty': 2836, 'furthermore': 1854, 'contact': 961, 'steel': 4173, 'useless': 4695, 'christians': 809, '1996': 26, 'doomed': 1327, 'contain': 962, 'normally': 3034, 'unbearable': 4633, 'senseless': 3878, 'hart': 2041, 'rush': 3759, 'catching': 716, 'assault': 324, 'skill': 4013, 'ya': 4976, 'target': 4366, 'orange': 3125, 'morgan': 2905, 'freeman': 1829, 'mildred': 2841, 'inane': 2258, 'berlin': 467, 'magazine': 2701, 'clown': 862, 'advanced': 128, 'jackie': 2374, 'chan': 746, 'sneak': 4043, 'montana': 2895, 'slick': 4026, 'demand': 1174, 'powell': 3358, 'online': 3109, 'tall': 4362, 'yesterday': 4983, 'tooth': 4524, 'bat': 410, 'crimes': 1056, 'dozens': 1339, '2006': 36, 'hurts': 2203, 'bang': 393, 'selfish': 3870, 'cliche': 843, 'depression': 1189, 'gadget': 1860, 'voiced': 4762, 'iran': 2350, 'communist': 907, 'treasure': 4571, 'clothing': 861, 'reflect': 3584, 'bleak': 503, 'square': 4136, 'lily': 2605, 'mail': 2706, 'heights': 2073, 'pushing': 3479, 'fx': 1858, '13th': 5, 'typically': 4624, 'rap': 3520, 'mtv': 2933, 'frequent': 1831, 'hippie': 2115, 'recording': 3575, 'elaborate': 1439, 'lees': 2560, 'eyed': 1612, 'equivalent': 1512, '3000': 43, 'hugh': 2186, 'brenda': 575, '2003': 33, 'bottle': 550, 'lowest': 2678, 'akshay': 169, 'amitabh': 216, 'paranoia': 3186, 'secretly': 3851, 'visits': 4756, 'ramones': 3512, 'muslim': 2949, 'cats': 721, 'flaw': 1749, 'neil': 2995, 'serving': 3897, 'spirits': 4115, 'dancers': 1105, 'motives': 2916, 'enterprise': 1495, 'subtlety': 4261, 'contest': 967, 'germans': 1897, 'lynch': 2691, 'stupidity': 4248, 'snow': 4045, 'airport': 167, 'position': 3345, 'melting': 2799, 'grandfather': 1954, 'virgin': 4749, 'dennis': 1179, 'burned': 626, 'singers': 3994, 'bela': 450, 'leo': 2571, 'boom': 537, 'popularity': 3334, 'heston': 2094, 'trashy': 4566, 'robots': 3718, 'hbo': 2055, 'prostitute': 3440, 'psychotic': 3459, 'sid': 3964, 'twins': 4616, 'brando': 566, 'ideal': 2214, 'holly': 2136, 'gundam': 1997, 'jet': 2400, 'goodness': 1938, 'marty': 2749, 'rocket': 3721, 'questionable': 3488, 'reads': 3545, 'stevens': 4183, 'blank': 501, 'voight': 4764, 'masterpieces': 2760, 'flynn': 1765, 'streisand': 4218, 'polished': 3323, 'racial': 3501, 'pie': 3271, 'andrews': 229, 'stooges': 4200, 'dave': 1123, 'jenny': 2393, 'nail': 2957, 'pokemon': 3320, 'sentence': 3881, 'blah': 496, 'surfing': 4311, 'crocodile': 1065, 'ridden': 3691, 'areas': 287, 'swim': 4337, 'sellers': 3872, 'bud': 607, 'prom': 3429, 'painted': 3174, 'peters': 3248, 'rangers': 3517, 'avoided': 364, 'homer': 2144, 'polanski': 3321}\n"
     ]
    }
   ],
   "source": [
    "print(str(vocabulary))"
   ]
  },
  {
   "cell_type": "markdown",
   "metadata": {},
   "source": [
    "Once you have added the endpoint name to the Lambda function, click on **Save**. Your Lambda function is now up and running. Next we need to create a way for our web app to execute the Lambda function."
   ]
  },
  {
   "cell_type": "markdown",
   "metadata": {},
   "source": [
    "### Setting up API Gateway\n",
    "\n",
    "Now that our Lambda function is set up, it is time to create a new API using API Gateway that will trigger the Lambda function we have just created.\n",
    "\n",
    "Using AWS Console, navigate to **Amazon API Gateway** and then click on **Get started**.\n",
    "\n",
    "On the next page, make sure that **New API** is selected and give the new api a name, for example, `sentiment_analysis_web_app`. Then, click on **Create API**.\n",
    "\n",
    "Now we have created an API, however it doesn't currently do anything. What we want it to do is to trigger the Lambda function that we created earlier.\n",
    "\n",
    "Select the **Actions** dropdown menu and click **Create Method**. A new blank method will be created, select its dropdown menu and select **POST**, then click on the check mark beside it.\n",
    "\n",
    "For the integration point, make sure that **Lambda Function** is selected and click on the **Use Lambda Proxy integration**. This option makes sure that the data that is sent to the API is then sent directly to the Lambda function with no processing. It also means that the return value must be a proper response object as it will also not be processed by API Gateway.\n",
    "\n",
    "Type the name of the Lambda function you created earlier into the **Lambda Function** text entry box and then click on **Save**. Click on **OK** in the pop-up box that then appears, giving permission to API Gateway to invoke the Lambda function you created.\n",
    "\n",
    "The last step in creating the API Gateway is to select the **Actions** dropdown and click on **Deploy API**. You will need to create a new Deployment stage and name it anything you like, for example `prod`.\n",
    "\n",
    "You have now successfully set up a public API to access your SageMaker model. Make sure to copy or write down the URL provided to invoke your newly created public API as this will be needed in the next step. This URL can be found at the top of the page, highlighted in blue next to the text **Invoke URL**."
   ]
  },
  {
   "cell_type": "markdown",
   "metadata": {},
   "source": [
    "## Step 7: Deploying our web app\n",
    "\n",
    "Now that we have a publicly available API, we can start using it in a web app. For our purposes, we have provided a simple static html file which can make use of the public api you created earlier.\n",
    "\n",
    "In the `website` folder there should be a file called `index.html`. Download the file to your computer and open that file up in a text editor of your choice. There should be a line which contains **\\*\\*REPLACE WITH PUBLIC API URL\\*\\***. Replace this string with the url that you wrote down in the last step and then save the file.\n",
    "\n",
    "Now, if you open `index.html` on your local computer, your browser will behave as a local web server and you can use the provided site to interact with your SageMaker model.\n",
    "\n",
    "If you'd like to go further, you can host this html file anywhere you'd like, for example using github or hosting a static site on Amazon's S3. Once you have done this you can share the link with anyone you'd like and have them play with it too!\n",
    "\n",
    "> **Important Note** In order for the web app to communicate with the SageMaker endpoint, the endpoint has to actually be deployed and running. This means that you are paying for it. Make sure that the endpoint is running when you want to use the web app but that you shut it down when you don't need it, otherwise you will end up with a surprisingly large AWS bill."
   ]
  },
  {
   "cell_type": "markdown",
   "metadata": {},
   "source": [
    "### Delete the endpoint\n",
    "\n",
    "Remember to always shut down your endpoint if you are no longer using it. You are charged for the length of time that the endpoint is running so if you forget and leave it on you could end up with an unexpectedly large bill."
   ]
  },
  {
   "cell_type": "code",
   "execution_count": 51,
   "metadata": {},
   "outputs": [],
   "source": [
    "xgb_predictor.delete_endpoint()"
   ]
  },
  {
   "cell_type": "markdown",
   "metadata": {},
   "source": [
    "## Optional: Clean up\n",
    "\n",
    "The default notebook instance on SageMaker doesn't have a lot of excess disk space available. As you continue to complete and execute notebooks you will eventually fill up this disk space, leading to errors which can be difficult to diagnose. Once you are completely finished using a notebook it is a good idea to remove the files that you created along the way. Of course, you can do this from the terminal or from the notebook hub if you would like. The cell below contains some commands to clean up the created files from within the notebook."
   ]
  },
  {
   "cell_type": "code",
   "execution_count": 53,
   "metadata": {},
   "outputs": [
    {
     "ename": "OSError",
     "evalue": "[Errno 12] Cannot allocate memory",
     "output_type": "error",
     "traceback": [
      "\u001b[0;31m---------------------------------------------------------------------------\u001b[0m",
      "\u001b[0;31mOSError\u001b[0m                                   Traceback (most recent call last)",
      "\u001b[0;32m<ipython-input-53-2c87d8eefdf2>\u001b[0m in \u001b[0;36m<module>\u001b[0;34m\u001b[0m\n\u001b[1;32m      1\u001b[0m \u001b[0;31m# First we will remove all of the files contained in the data_dir directory\u001b[0m\u001b[0;34m\u001b[0m\u001b[0;34m\u001b[0m\u001b[0;34m\u001b[0m\u001b[0m\n\u001b[0;32m----> 2\u001b[0;31m \u001b[0mget_ipython\u001b[0m\u001b[0;34m(\u001b[0m\u001b[0;34m)\u001b[0m\u001b[0;34m.\u001b[0m\u001b[0msystem\u001b[0m\u001b[0;34m(\u001b[0m\u001b[0;34m'rm $data_dir/*'\u001b[0m\u001b[0;34m)\u001b[0m\u001b[0;34m\u001b[0m\u001b[0;34m\u001b[0m\u001b[0m\n\u001b[0m\u001b[1;32m      3\u001b[0m \u001b[0;34m\u001b[0m\u001b[0m\n\u001b[1;32m      4\u001b[0m \u001b[0;31m# And then we delete the directory itself\u001b[0m\u001b[0;34m\u001b[0m\u001b[0;34m\u001b[0m\u001b[0;34m\u001b[0m\u001b[0m\n\u001b[1;32m      5\u001b[0m \u001b[0mget_ipython\u001b[0m\u001b[0;34m(\u001b[0m\u001b[0;34m)\u001b[0m\u001b[0;34m.\u001b[0m\u001b[0msystem\u001b[0m\u001b[0;34m(\u001b[0m\u001b[0;34m'rmdir $data_dir'\u001b[0m\u001b[0;34m)\u001b[0m\u001b[0;34m\u001b[0m\u001b[0;34m\u001b[0m\u001b[0m\n",
      "\u001b[0;32m~/anaconda3/envs/amazonei_mxnet_p36/lib/python3.6/site-packages/IPython/core/interactiveshell.py\u001b[0m in \u001b[0;36msystem_piped\u001b[0;34m(self, cmd)\u001b[0m\n\u001b[1;32m   2454\u001b[0m         \u001b[0;31m# a non-None value would trigger :func:`sys.displayhook` calls.\u001b[0m\u001b[0;34m\u001b[0m\u001b[0;34m\u001b[0m\u001b[0;34m\u001b[0m\u001b[0m\n\u001b[1;32m   2455\u001b[0m         \u001b[0;31m# Instead, we store the exit_code in user_ns.\u001b[0m\u001b[0;34m\u001b[0m\u001b[0;34m\u001b[0m\u001b[0;34m\u001b[0m\u001b[0m\n\u001b[0;32m-> 2456\u001b[0;31m         \u001b[0mself\u001b[0m\u001b[0;34m.\u001b[0m\u001b[0muser_ns\u001b[0m\u001b[0;34m[\u001b[0m\u001b[0;34m'_exit_code'\u001b[0m\u001b[0;34m]\u001b[0m \u001b[0;34m=\u001b[0m \u001b[0msystem\u001b[0m\u001b[0;34m(\u001b[0m\u001b[0mself\u001b[0m\u001b[0;34m.\u001b[0m\u001b[0mvar_expand\u001b[0m\u001b[0;34m(\u001b[0m\u001b[0mcmd\u001b[0m\u001b[0;34m,\u001b[0m \u001b[0mdepth\u001b[0m\u001b[0;34m=\u001b[0m\u001b[0;36m1\u001b[0m\u001b[0;34m)\u001b[0m\u001b[0;34m)\u001b[0m\u001b[0;34m\u001b[0m\u001b[0;34m\u001b[0m\u001b[0m\n\u001b[0m\u001b[1;32m   2457\u001b[0m \u001b[0;34m\u001b[0m\u001b[0m\n\u001b[1;32m   2458\u001b[0m     \u001b[0;32mdef\u001b[0m \u001b[0msystem_raw\u001b[0m\u001b[0;34m(\u001b[0m\u001b[0mself\u001b[0m\u001b[0;34m,\u001b[0m \u001b[0mcmd\u001b[0m\u001b[0;34m)\u001b[0m\u001b[0;34m:\u001b[0m\u001b[0;34m\u001b[0m\u001b[0;34m\u001b[0m\u001b[0m\n",
      "\u001b[0;32m~/anaconda3/envs/amazonei_mxnet_p36/lib/python3.6/site-packages/IPython/utils/_process_posix.py\u001b[0m in \u001b[0;36msystem\u001b[0;34m(self, cmd)\u001b[0m\n\u001b[1;32m    154\u001b[0m                 \u001b[0mchild\u001b[0m \u001b[0;34m=\u001b[0m \u001b[0mpexpect\u001b[0m\u001b[0;34m.\u001b[0m\u001b[0mspawnb\u001b[0m\u001b[0;34m(\u001b[0m\u001b[0mself\u001b[0m\u001b[0;34m.\u001b[0m\u001b[0msh\u001b[0m\u001b[0;34m,\u001b[0m \u001b[0margs\u001b[0m\u001b[0;34m=\u001b[0m\u001b[0;34m[\u001b[0m\u001b[0;34m'-c'\u001b[0m\u001b[0;34m,\u001b[0m \u001b[0mcmd\u001b[0m\u001b[0;34m]\u001b[0m\u001b[0;34m)\u001b[0m \u001b[0;31m# Pexpect-U\u001b[0m\u001b[0;34m\u001b[0m\u001b[0;34m\u001b[0m\u001b[0m\n\u001b[1;32m    155\u001b[0m             \u001b[0;32melse\u001b[0m\u001b[0;34m:\u001b[0m\u001b[0;34m\u001b[0m\u001b[0;34m\u001b[0m\u001b[0m\n\u001b[0;32m--> 156\u001b[0;31m                 \u001b[0mchild\u001b[0m \u001b[0;34m=\u001b[0m \u001b[0mpexpect\u001b[0m\u001b[0;34m.\u001b[0m\u001b[0mspawn\u001b[0m\u001b[0;34m(\u001b[0m\u001b[0mself\u001b[0m\u001b[0;34m.\u001b[0m\u001b[0msh\u001b[0m\u001b[0;34m,\u001b[0m \u001b[0margs\u001b[0m\u001b[0;34m=\u001b[0m\u001b[0;34m[\u001b[0m\u001b[0;34m'-c'\u001b[0m\u001b[0;34m,\u001b[0m \u001b[0mcmd\u001b[0m\u001b[0;34m]\u001b[0m\u001b[0;34m)\u001b[0m  \u001b[0;31m# Vanilla Pexpect\u001b[0m\u001b[0;34m\u001b[0m\u001b[0;34m\u001b[0m\u001b[0m\n\u001b[0m\u001b[1;32m    157\u001b[0m             \u001b[0mflush\u001b[0m \u001b[0;34m=\u001b[0m \u001b[0msys\u001b[0m\u001b[0;34m.\u001b[0m\u001b[0mstdout\u001b[0m\u001b[0;34m.\u001b[0m\u001b[0mflush\u001b[0m\u001b[0;34m\u001b[0m\u001b[0;34m\u001b[0m\u001b[0m\n\u001b[1;32m    158\u001b[0m             \u001b[0;32mwhile\u001b[0m \u001b[0;32mTrue\u001b[0m\u001b[0;34m:\u001b[0m\u001b[0;34m\u001b[0m\u001b[0;34m\u001b[0m\u001b[0m\n",
      "\u001b[0;32m~/anaconda3/envs/amazonei_mxnet_p36/lib/python3.6/site-packages/pexpect/pty_spawn.py\u001b[0m in \u001b[0;36m__init__\u001b[0;34m(self, command, args, timeout, maxread, searchwindowsize, logfile, cwd, env, ignore_sighup, echo, preexec_fn, encoding, codec_errors, dimensions, use_poll)\u001b[0m\n\u001b[1;32m    203\u001b[0m             \u001b[0mself\u001b[0m\u001b[0;34m.\u001b[0m\u001b[0mname\u001b[0m \u001b[0;34m=\u001b[0m \u001b[0;34m'<pexpect factory incomplete>'\u001b[0m\u001b[0;34m\u001b[0m\u001b[0;34m\u001b[0m\u001b[0m\n\u001b[1;32m    204\u001b[0m         \u001b[0;32melse\u001b[0m\u001b[0;34m:\u001b[0m\u001b[0;34m\u001b[0m\u001b[0;34m\u001b[0m\u001b[0m\n\u001b[0;32m--> 205\u001b[0;31m             \u001b[0mself\u001b[0m\u001b[0;34m.\u001b[0m\u001b[0m_spawn\u001b[0m\u001b[0;34m(\u001b[0m\u001b[0mcommand\u001b[0m\u001b[0;34m,\u001b[0m \u001b[0margs\u001b[0m\u001b[0;34m,\u001b[0m \u001b[0mpreexec_fn\u001b[0m\u001b[0;34m,\u001b[0m \u001b[0mdimensions\u001b[0m\u001b[0;34m)\u001b[0m\u001b[0;34m\u001b[0m\u001b[0;34m\u001b[0m\u001b[0m\n\u001b[0m\u001b[1;32m    206\u001b[0m         \u001b[0mself\u001b[0m\u001b[0;34m.\u001b[0m\u001b[0muse_poll\u001b[0m \u001b[0;34m=\u001b[0m \u001b[0muse_poll\u001b[0m\u001b[0;34m\u001b[0m\u001b[0;34m\u001b[0m\u001b[0m\n\u001b[1;32m    207\u001b[0m \u001b[0;34m\u001b[0m\u001b[0m\n",
      "\u001b[0;32m~/anaconda3/envs/amazonei_mxnet_p36/lib/python3.6/site-packages/pexpect/pty_spawn.py\u001b[0m in \u001b[0;36m_spawn\u001b[0;34m(self, command, args, preexec_fn, dimensions)\u001b[0m\n\u001b[1;32m    302\u001b[0m \u001b[0;34m\u001b[0m\u001b[0m\n\u001b[1;32m    303\u001b[0m         self.ptyproc = self._spawnpty(self.args, env=self.env,\n\u001b[0;32m--> 304\u001b[0;31m                                      cwd=self.cwd, **kwargs)\n\u001b[0m\u001b[1;32m    305\u001b[0m \u001b[0;34m\u001b[0m\u001b[0m\n\u001b[1;32m    306\u001b[0m         \u001b[0mself\u001b[0m\u001b[0;34m.\u001b[0m\u001b[0mpid\u001b[0m \u001b[0;34m=\u001b[0m \u001b[0mself\u001b[0m\u001b[0;34m.\u001b[0m\u001b[0mptyproc\u001b[0m\u001b[0;34m.\u001b[0m\u001b[0mpid\u001b[0m\u001b[0;34m\u001b[0m\u001b[0;34m\u001b[0m\u001b[0m\n",
      "\u001b[0;32m~/anaconda3/envs/amazonei_mxnet_p36/lib/python3.6/site-packages/pexpect/pty_spawn.py\u001b[0m in \u001b[0;36m_spawnpty\u001b[0;34m(self, args, **kwargs)\u001b[0m\n\u001b[1;32m    313\u001b[0m     \u001b[0;32mdef\u001b[0m \u001b[0m_spawnpty\u001b[0m\u001b[0;34m(\u001b[0m\u001b[0mself\u001b[0m\u001b[0;34m,\u001b[0m \u001b[0margs\u001b[0m\u001b[0;34m,\u001b[0m \u001b[0;34m**\u001b[0m\u001b[0mkwargs\u001b[0m\u001b[0;34m)\u001b[0m\u001b[0;34m:\u001b[0m\u001b[0;34m\u001b[0m\u001b[0;34m\u001b[0m\u001b[0m\n\u001b[1;32m    314\u001b[0m         \u001b[0;34m'''Spawn a pty and return an instance of PtyProcess.'''\u001b[0m\u001b[0;34m\u001b[0m\u001b[0;34m\u001b[0m\u001b[0m\n\u001b[0;32m--> 315\u001b[0;31m         \u001b[0;32mreturn\u001b[0m \u001b[0mptyprocess\u001b[0m\u001b[0;34m.\u001b[0m\u001b[0mPtyProcess\u001b[0m\u001b[0;34m.\u001b[0m\u001b[0mspawn\u001b[0m\u001b[0;34m(\u001b[0m\u001b[0margs\u001b[0m\u001b[0;34m,\u001b[0m \u001b[0;34m**\u001b[0m\u001b[0mkwargs\u001b[0m\u001b[0;34m)\u001b[0m\u001b[0;34m\u001b[0m\u001b[0;34m\u001b[0m\u001b[0m\n\u001b[0m\u001b[1;32m    316\u001b[0m \u001b[0;34m\u001b[0m\u001b[0m\n\u001b[1;32m    317\u001b[0m     \u001b[0;32mdef\u001b[0m \u001b[0mclose\u001b[0m\u001b[0;34m(\u001b[0m\u001b[0mself\u001b[0m\u001b[0;34m,\u001b[0m \u001b[0mforce\u001b[0m\u001b[0;34m=\u001b[0m\u001b[0;32mTrue\u001b[0m\u001b[0;34m)\u001b[0m\u001b[0;34m:\u001b[0m\u001b[0;34m\u001b[0m\u001b[0;34m\u001b[0m\u001b[0m\n",
      "\u001b[0;32m~/anaconda3/envs/amazonei_mxnet_p36/lib/python3.6/site-packages/ptyprocess/ptyprocess.py\u001b[0m in \u001b[0;36mspawn\u001b[0;34m(cls, argv, cwd, env, echo, preexec_fn, dimensions)\u001b[0m\n\u001b[1;32m    224\u001b[0m \u001b[0;34m\u001b[0m\u001b[0m\n\u001b[1;32m    225\u001b[0m         \u001b[0;32mif\u001b[0m \u001b[0muse_native_pty_fork\u001b[0m\u001b[0;34m:\u001b[0m\u001b[0;34m\u001b[0m\u001b[0;34m\u001b[0m\u001b[0m\n\u001b[0;32m--> 226\u001b[0;31m             \u001b[0mpid\u001b[0m\u001b[0;34m,\u001b[0m \u001b[0mfd\u001b[0m \u001b[0;34m=\u001b[0m \u001b[0mpty\u001b[0m\u001b[0;34m.\u001b[0m\u001b[0mfork\u001b[0m\u001b[0;34m(\u001b[0m\u001b[0;34m)\u001b[0m\u001b[0;34m\u001b[0m\u001b[0;34m\u001b[0m\u001b[0m\n\u001b[0m\u001b[1;32m    227\u001b[0m         \u001b[0;32melse\u001b[0m\u001b[0;34m:\u001b[0m\u001b[0;34m\u001b[0m\u001b[0;34m\u001b[0m\u001b[0m\n\u001b[1;32m    228\u001b[0m             \u001b[0;31m# Use internal fork_pty, for Solaris\u001b[0m\u001b[0;34m\u001b[0m\u001b[0;34m\u001b[0m\u001b[0;34m\u001b[0m\u001b[0m\n",
      "\u001b[0;32m~/anaconda3/envs/amazonei_mxnet_p36/lib/python3.6/pty.py\u001b[0m in \u001b[0;36mfork\u001b[0;34m()\u001b[0m\n\u001b[1;32m     95\u001b[0m \u001b[0;34m\u001b[0m\u001b[0m\n\u001b[1;32m     96\u001b[0m     \u001b[0mmaster_fd\u001b[0m\u001b[0;34m,\u001b[0m \u001b[0mslave_fd\u001b[0m \u001b[0;34m=\u001b[0m \u001b[0mopenpty\u001b[0m\u001b[0;34m(\u001b[0m\u001b[0;34m)\u001b[0m\u001b[0;34m\u001b[0m\u001b[0;34m\u001b[0m\u001b[0m\n\u001b[0;32m---> 97\u001b[0;31m     \u001b[0mpid\u001b[0m \u001b[0;34m=\u001b[0m \u001b[0mos\u001b[0m\u001b[0;34m.\u001b[0m\u001b[0mfork\u001b[0m\u001b[0;34m(\u001b[0m\u001b[0;34m)\u001b[0m\u001b[0;34m\u001b[0m\u001b[0;34m\u001b[0m\u001b[0m\n\u001b[0m\u001b[1;32m     98\u001b[0m     \u001b[0;32mif\u001b[0m \u001b[0mpid\u001b[0m \u001b[0;34m==\u001b[0m \u001b[0mCHILD\u001b[0m\u001b[0;34m:\u001b[0m\u001b[0;34m\u001b[0m\u001b[0;34m\u001b[0m\u001b[0m\n\u001b[1;32m     99\u001b[0m         \u001b[0;31m# Establish a new session.\u001b[0m\u001b[0;34m\u001b[0m\u001b[0;34m\u001b[0m\u001b[0;34m\u001b[0m\u001b[0m\n",
      "\u001b[0;31mOSError\u001b[0m: [Errno 12] Cannot allocate memory"
     ]
    }
   ],
   "source": [
    "# First we will remove all of the files contained in the data_dir directory\n",
    "!rm $data_dir/*\n",
    "\n",
    "# And then we delete the directory itself\n",
    "!rmdir $data_dir\n",
    "\n",
    "# Similarly we remove the files in the cache_dir directory and the directory itself\n",
    "!rm $cache_dir/*\n",
    "!rmdir $cache_dir"
   ]
  },
  {
   "cell_type": "code",
   "execution_count": null,
   "metadata": {},
   "outputs": [],
   "source": []
  }
 ],
 "metadata": {
  "kernelspec": {
   "display_name": "conda_amazonei_mxnet_p36",
   "language": "python",
   "name": "conda_amazonei_mxnet_p36"
  },
  "language_info": {
   "codemirror_mode": {
    "name": "ipython",
    "version": 3
   },
   "file_extension": ".py",
   "mimetype": "text/x-python",
   "name": "python",
   "nbconvert_exporter": "python",
   "pygments_lexer": "ipython3",
   "version": "3.6.10"
  }
 },
 "nbformat": 4,
 "nbformat_minor": 2
}
