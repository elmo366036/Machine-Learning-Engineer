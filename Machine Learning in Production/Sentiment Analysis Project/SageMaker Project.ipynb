{
 "cells": [
  {
   "cell_type": "markdown",
   "metadata": {
    "deletable": true,
    "editable": true
   },
   "source": [
    "# Creating a Sentiment Analysis Web App\n",
    "## Using PyTorch and SageMaker\n",
    "\n",
    "_Deep Learning Nanodegree Program | Deployment_\n",
    "\n",
    "---\n",
    "\n",
    "Now that we have a basic understanding of how SageMaker works we will try to use it to construct a complete project from end to end. Our goal will be to have a simple web page which a user can use to enter a movie review. The web page will then send the review off to our deployed model which will predict the sentiment of the entered review.\n",
    "\n",
    "## Instructions\n",
    "\n",
    "Some template code has already been provided for you, and you will need to implement additional functionality to successfully complete this notebook. You will not need to modify the included code beyond what is requested. Sections that begin with '**TODO**' in the header indicate that you need to complete or implement some portion within them. Instructions will be provided for each section and the specifics of the implementation are marked in the code block with a `# TODO: ...` comment. Please be sure to read the instructions carefully!\n",
    "\n",
    "In addition to implementing code, there will be questions for you to answer which relate to the task and your implementation. Each section where you will answer a question is preceded by a '**Question:**' header. Carefully read each question and provide your answer below the '**Answer:**' header by editing the Markdown cell.\n",
    "\n",
    "> **Note**: Code and Markdown cells can be executed using the **Shift+Enter** keyboard shortcut. In addition, a cell can be edited by typically clicking it (double-click for Markdown cells) or by pressing **Enter** while it is highlighted.\n",
    "\n",
    "## General Outline\n",
    "\n",
    "Recall the general outline for SageMaker projects using a notebook instance.\n",
    "\n",
    "1. Download or otherwise retrieve the data.\n",
    "2. Process / Prepare the data.\n",
    "3. Upload the processed data to S3.\n",
    "4. Train a chosen model.\n",
    "5. Test the trained model (typically using a batch transform job).\n",
    "6. Deploy the trained model.\n",
    "7. Use the deployed model.\n",
    "\n",
    "For this project, you will be following the steps in the general outline with some modifications. \n",
    "\n",
    "First, you will not be testing the model in its own step. You will still be testing the model, however, you will do it by deploying your model and then using the deployed model by sending the test data to it. One of the reasons for doing this is so that you can make sure that your deployed model is working correctly before moving forward.\n",
    "\n",
    "In addition, you will deploy and use your trained model a second time. In the second iteration you will customize the way that your trained model is deployed by including some of your own code. In addition, your newly deployed model will be used in the sentiment analysis web app."
   ]
  },
  {
   "cell_type": "code",
   "execution_count": null,
   "metadata": {
    "collapsed": true,
    "deletable": true,
    "editable": true
   },
   "outputs": [],
   "source": [
    "# Make sure that we use SageMaker 1.x\n",
    "!pip install sagemaker==1.72.0"
   ]
  },
  {
   "cell_type": "markdown",
   "metadata": {
    "deletable": true,
    "editable": true
   },
   "source": [
    "## Step 1: Downloading the data\n",
    "\n",
    "As in the XGBoost in SageMaker notebook, we will be using the [IMDb dataset](http://ai.stanford.edu/~amaas/data/sentiment/)\n",
    "\n",
    "> Maas, Andrew L., et al. [Learning Word Vectors for Sentiment Analysis](http://ai.stanford.edu/~amaas/data/sentiment/). In _Proceedings of the 49th Annual Meeting of the Association for Computational Linguistics: Human Language Technologies_. Association for Computational Linguistics, 2011."
   ]
  },
  {
   "cell_type": "code",
   "execution_count": null,
   "metadata": {
    "collapsed": true,
    "deletable": true,
    "editable": true
   },
   "outputs": [],
   "source": [
    "%mkdir ../data\n",
    "!wget -O ../data/aclImdb_v1.tar.gz http://ai.stanford.edu/~amaas/data/sentiment/aclImdb_v1.tar.gz\n",
    "!tar -zxf ../data/aclImdb_v1.tar.gz -C ../data"
   ]
  },
  {
   "cell_type": "markdown",
   "metadata": {
    "deletable": true,
    "editable": true
   },
   "source": [
    "## Step 2: Preparing and Processing the data\n",
    "\n",
    "Also, as in the XGBoost notebook, we will be doing some initial data processing. The first few steps are the same as in the XGBoost example. To begin with, we will read in each of the reviews and combine them into a single input structure. Then, we will split the dataset into a training set and a testing set."
   ]
  },
  {
   "cell_type": "code",
   "execution_count": 1,
   "metadata": {
    "collapsed": true,
    "deletable": true,
    "editable": true
   },
   "outputs": [],
   "source": [
    "import os\n",
    "import glob\n",
    "\n",
    "def read_imdb_data(data_dir='../data/aclImdb'):\n",
    "    data = {}\n",
    "    labels = {}\n",
    "    \n",
    "    for data_type in ['train', 'test']:\n",
    "        data[data_type] = {}\n",
    "        labels[data_type] = {}\n",
    "        \n",
    "        for sentiment in ['pos', 'neg']:\n",
    "            data[data_type][sentiment] = []\n",
    "            labels[data_type][sentiment] = []\n",
    "            \n",
    "            path = os.path.join(data_dir, data_type, sentiment, '*.txt')\n",
    "            files = glob.glob(path)\n",
    "            \n",
    "            for f in files:\n",
    "                with open(f) as review:\n",
    "                    data[data_type][sentiment].append(review.read())\n",
    "                    # Here we represent a positive review by '1' and a negative review by '0'\n",
    "                    labels[data_type][sentiment].append(1 if sentiment == 'pos' else 0)\n",
    "                    \n",
    "            assert len(data[data_type][sentiment]) == len(labels[data_type][sentiment]), \\\n",
    "                    \"{}/{} data size does not match labels size\".format(data_type, sentiment)\n",
    "                \n",
    "    return data, labels"
   ]
  },
  {
   "cell_type": "code",
   "execution_count": 2,
   "metadata": {
    "collapsed": false,
    "deletable": true,
    "editable": true
   },
   "outputs": [
    {
     "name": "stdout",
     "output_type": "stream",
     "text": [
      "IMDB reviews: train = 12500 pos / 12500 neg, test = 12500 pos / 12500 neg\n"
     ]
    }
   ],
   "source": [
    "data, labels = read_imdb_data()\n",
    "print(\"IMDB reviews: train = {} pos / {} neg, test = {} pos / {} neg\".format(\n",
    "            len(data['train']['pos']), len(data['train']['neg']),\n",
    "            len(data['test']['pos']), len(data['test']['neg'])))"
   ]
  },
  {
   "cell_type": "markdown",
   "metadata": {
    "deletable": true,
    "editable": true
   },
   "source": [
    "Now that we've read the raw training and testing data from the downloaded dataset, we will combine the positive and negative reviews and shuffle the resulting records."
   ]
  },
  {
   "cell_type": "code",
   "execution_count": 3,
   "metadata": {
    "collapsed": true,
    "deletable": true,
    "editable": true
   },
   "outputs": [],
   "source": [
    "from sklearn.utils import shuffle\n",
    "\n",
    "def prepare_imdb_data(data, labels):\n",
    "    \"\"\"Prepare training and test sets from IMDb movie reviews.\"\"\"\n",
    "    \n",
    "    #Combine positive and negative reviews and labels\n",
    "    data_train = data['train']['pos'] + data['train']['neg']\n",
    "    data_test = data['test']['pos'] + data['test']['neg']\n",
    "    labels_train = labels['train']['pos'] + labels['train']['neg']\n",
    "    labels_test = labels['test']['pos'] + labels['test']['neg']\n",
    "    \n",
    "    #Shuffle reviews and corresponding labels within training and test sets\n",
    "    data_train, labels_train = shuffle(data_train, labels_train)\n",
    "    data_test, labels_test = shuffle(data_test, labels_test)\n",
    "    \n",
    "    # Return a unified training data, test data, training labels, test labets\n",
    "    return data_train, data_test, labels_train, labels_test"
   ]
  },
  {
   "cell_type": "code",
   "execution_count": 4,
   "metadata": {
    "collapsed": false,
    "deletable": true,
    "editable": true
   },
   "outputs": [
    {
     "name": "stdout",
     "output_type": "stream",
     "text": [
      "IMDb reviews (combined): train = 25000, test = 25000\n"
     ]
    }
   ],
   "source": [
    "train_X, test_X, train_y, test_y = prepare_imdb_data(data, labels)\n",
    "print(\"IMDb reviews (combined): train = {}, test = {}\".format(len(train_X), len(test_X)))"
   ]
  },
  {
   "cell_type": "markdown",
   "metadata": {
    "deletable": true,
    "editable": true
   },
   "source": [
    "Now that we have our training and testing sets unified and prepared, we should do a quick check and see an example of the data our model will be trained on. This is generally a good idea as it allows you to see how each of the further processing steps affects the reviews and it also ensures that the data has been loaded correctly."
   ]
  },
  {
   "cell_type": "code",
   "execution_count": 5,
   "metadata": {
    "collapsed": false,
    "deletable": true,
    "editable": true
   },
   "outputs": [
    {
     "name": "stdout",
     "output_type": "stream",
     "text": [
      "OK ...I watch a lot of bad movies. I pride myself on that fact. many times there are some gems in the B rated bombs. But this movie is one of the worst I have watched. I like a good horror movie...but one with a plot of and sense of movement. The opening scenes seemed pretty good. Decent music and imagery. Then it goes down hill from there. One of the main characters has a disability (Ringing in the Ears called Tinnitus). Now this will in turn threaten to reveal his secret. They made that too much of a focus of the movie. So what he has ringing in his ears and accidentally left an ear plug somewhere where that he shouldn't have been. No need to keep bringing it up. So this guy is having an affair with this girl and in a motel she falls and hits her head on the end table. So instead of letting everyone know of his affair he decides to dump the body. Now her twin sister is trying to find out where she is and what happened to her. Well after seeing her sister over and over again (as a zombie like ghost) and even pointing directly to the location of the body she finally finds her. Now the body is recovered and she is set out to deal with the one and only suspect that killed her. Bad thing is that she didn't have much of a plan. Only to pretend to be her twin and met the guy where the body was dumped. The idiot didn't even believe he killed her. So all is revealed there and even though she had a gun....somehow she manages to get herself strangled. So the last scenes of the movie are of the \"spirits\" of her and her twin walking out of the water. So you mean to tell me in this movie the bad guy wins. And not one but two innocent people die.<br /><br />Good things about the movie: imagery <br /><br />Bad things about the movie: music sound effects long and drawn out misdirection of plot low grade acting from some not all actors\n",
      "0\n"
     ]
    }
   ],
   "source": [
    "print(train_X[100])\n",
    "print(train_y[100])"
   ]
  },
  {
   "cell_type": "markdown",
   "metadata": {
    "deletable": true,
    "editable": true
   },
   "source": [
    "The first step in processing the reviews is to make sure that any html tags that appear should be removed. In addition we wish to tokenize our input, that way words such as *entertained* and *entertaining* are considered the same with regard to sentiment analysis."
   ]
  },
  {
   "cell_type": "code",
   "execution_count": 6,
   "metadata": {
    "collapsed": true,
    "deletable": true,
    "editable": true
   },
   "outputs": [],
   "source": [
    "import nltk\n",
    "from nltk.corpus import stopwords\n",
    "from nltk.stem.porter import *\n",
    "\n",
    "import re\n",
    "from bs4 import BeautifulSoup\n",
    "\n",
    "def review_to_words(review):\n",
    "    nltk.download(\"stopwords\", quiet=True)\n",
    "    stemmer = PorterStemmer()\n",
    "    \n",
    "    text = BeautifulSoup(review, \"html.parser\").get_text() # Remove HTML tags\n",
    "    text = re.sub(r\"[^a-zA-Z0-9]\", \" \", text.lower()) # Convert to lower case\n",
    "    words = text.split() # Split string into words\n",
    "    words = [w for w in words if w not in stopwords.words(\"english\")] # Remove stopwords\n",
    "    words = [PorterStemmer().stem(w) for w in words] # stem\n",
    "    \n",
    "    return words"
   ]
  },
  {
   "cell_type": "markdown",
   "metadata": {
    "deletable": true,
    "editable": true
   },
   "source": [
    "The `review_to_words` method defined above uses `BeautifulSoup` to remove any html tags that appear and uses the `nltk` package to tokenize the reviews. As a check to ensure we know how everything is working, try applying `review_to_words` to one of the reviews in the training set."
   ]
  },
  {
   "cell_type": "code",
   "execution_count": 7,
   "metadata": {
    "collapsed": false,
    "deletable": true,
    "editable": true
   },
   "outputs": [
    {
     "data": {
      "text/plain": [
       "['ok',\n",
       " 'watch',\n",
       " 'lot',\n",
       " 'bad',\n",
       " 'movi',\n",
       " 'pride',\n",
       " 'fact',\n",
       " 'mani',\n",
       " 'time',\n",
       " 'gem',\n",
       " 'b',\n",
       " 'rate',\n",
       " 'bomb',\n",
       " 'movi',\n",
       " 'one',\n",
       " 'worst',\n",
       " 'watch',\n",
       " 'like',\n",
       " 'good',\n",
       " 'horror',\n",
       " 'movi',\n",
       " 'one',\n",
       " 'plot',\n",
       " 'sens',\n",
       " 'movement',\n",
       " 'open',\n",
       " 'scene',\n",
       " 'seem',\n",
       " 'pretti',\n",
       " 'good',\n",
       " 'decent',\n",
       " 'music',\n",
       " 'imageri',\n",
       " 'goe',\n",
       " 'hill',\n",
       " 'one',\n",
       " 'main',\n",
       " 'charact',\n",
       " 'disabl',\n",
       " 'ring',\n",
       " 'ear',\n",
       " 'call',\n",
       " 'tinnitu',\n",
       " 'turn',\n",
       " 'threaten',\n",
       " 'reveal',\n",
       " 'secret',\n",
       " 'made',\n",
       " 'much',\n",
       " 'focu',\n",
       " 'movi',\n",
       " 'ring',\n",
       " 'ear',\n",
       " 'accident',\n",
       " 'left',\n",
       " 'ear',\n",
       " 'plug',\n",
       " 'somewher',\n",
       " 'need',\n",
       " 'keep',\n",
       " 'bring',\n",
       " 'guy',\n",
       " 'affair',\n",
       " 'girl',\n",
       " 'motel',\n",
       " 'fall',\n",
       " 'hit',\n",
       " 'head',\n",
       " 'end',\n",
       " 'tabl',\n",
       " 'instead',\n",
       " 'let',\n",
       " 'everyon',\n",
       " 'know',\n",
       " 'affair',\n",
       " 'decid',\n",
       " 'dump',\n",
       " 'bodi',\n",
       " 'twin',\n",
       " 'sister',\n",
       " 'tri',\n",
       " 'find',\n",
       " 'happen',\n",
       " 'well',\n",
       " 'see',\n",
       " 'sister',\n",
       " 'zombi',\n",
       " 'like',\n",
       " 'ghost',\n",
       " 'even',\n",
       " 'point',\n",
       " 'directli',\n",
       " 'locat',\n",
       " 'bodi',\n",
       " 'final',\n",
       " 'find',\n",
       " 'bodi',\n",
       " 'recov',\n",
       " 'set',\n",
       " 'deal',\n",
       " 'one',\n",
       " 'suspect',\n",
       " 'kill',\n",
       " 'bad',\n",
       " 'thing',\n",
       " 'much',\n",
       " 'plan',\n",
       " 'pretend',\n",
       " 'twin',\n",
       " 'met',\n",
       " 'guy',\n",
       " 'bodi',\n",
       " 'dump',\n",
       " 'idiot',\n",
       " 'even',\n",
       " 'believ',\n",
       " 'kill',\n",
       " 'reveal',\n",
       " 'even',\n",
       " 'though',\n",
       " 'gun',\n",
       " 'somehow',\n",
       " 'manag',\n",
       " 'get',\n",
       " 'strangl',\n",
       " 'last',\n",
       " 'scene',\n",
       " 'movi',\n",
       " 'spirit',\n",
       " 'twin',\n",
       " 'walk',\n",
       " 'water',\n",
       " 'mean',\n",
       " 'tell',\n",
       " 'movi',\n",
       " 'bad',\n",
       " 'guy',\n",
       " 'win',\n",
       " 'one',\n",
       " 'two',\n",
       " 'innoc',\n",
       " 'peopl',\n",
       " 'die',\n",
       " 'good',\n",
       " 'thing',\n",
       " 'movi',\n",
       " 'imageri',\n",
       " 'bad',\n",
       " 'thing',\n",
       " 'movi',\n",
       " 'music',\n",
       " 'sound',\n",
       " 'effect',\n",
       " 'long',\n",
       " 'drawn',\n",
       " 'misdirect',\n",
       " 'plot',\n",
       " 'low',\n",
       " 'grade',\n",
       " 'act',\n",
       " 'actor']"
      ]
     },
     "execution_count": 7,
     "metadata": {},
     "output_type": "execute_result"
    }
   ],
   "source": [
    "# TODO: Apply review_to_words to a review (train_X[100] or any other review)\n",
    "review_to_words(train_X[100])"
   ]
  },
  {
   "cell_type": "markdown",
   "metadata": {
    "deletable": true,
    "editable": true
   },
   "source": [
    "**Question:** Above we mentioned that `review_to_words` method removes html formatting and allows us to tokenize the words found in a review, for example, converting *entertained* and *entertaining* into *entertain* so that they are treated as though they are the same word. What else, if anything, does this method do to the input?"
   ]
  },
  {
   "cell_type": "markdown",
   "metadata": {
    "deletable": true,
    "editable": true
   },
   "source": [
    "**Answer:** It removes HTML tags, converts to lower case, removes stopwords, and performs stemming. "
   ]
  },
  {
   "cell_type": "markdown",
   "metadata": {
    "deletable": true,
    "editable": true
   },
   "source": [
    "The method below applies the `review_to_words` method to each of the reviews in the training and testing datasets. In addition it caches the results. This is because performing this processing step can take a long time. This way if you are unable to complete the notebook in the current session, you can come back without needing to process the data a second time."
   ]
  },
  {
   "cell_type": "code",
   "execution_count": 8,
   "metadata": {
    "collapsed": true,
    "deletable": true,
    "editable": true
   },
   "outputs": [],
   "source": [
    "import pickle\n",
    "\n",
    "cache_dir = os.path.join(\"../cache\", \"sentiment_analysis\")  # where to store cache files\n",
    "os.makedirs(cache_dir, exist_ok=True)  # ensure cache directory exists\n",
    "\n",
    "def preprocess_data(data_train, data_test, labels_train, labels_test,\n",
    "                    cache_dir=cache_dir, cache_file=\"preprocessed_data.pkl\"):\n",
    "    \"\"\"Convert each review to words; read from cache if available.\"\"\"\n",
    "\n",
    "    # If cache_file is not None, try to read from it first\n",
    "    cache_data = None\n",
    "    if cache_file is not None:\n",
    "        try:\n",
    "            with open(os.path.join(cache_dir, cache_file), \"rb\") as f:\n",
    "                cache_data = pickle.load(f)\n",
    "            print(\"Read preprocessed data from cache file:\", cache_file)\n",
    "        except:\n",
    "            pass  # unable to read from cache, but that's okay\n",
    "    \n",
    "    # If cache is missing, then do the heavy lifting\n",
    "    if cache_data is None:\n",
    "        # Preprocess training and test data to obtain words for each review\n",
    "        #words_train = list(map(review_to_words, data_train))\n",
    "        #words_test = list(map(review_to_words, data_test))\n",
    "        words_train = [review_to_words(review) for review in data_train]\n",
    "        words_test = [review_to_words(review) for review in data_test]\n",
    "        \n",
    "        # Write to cache file for future runs\n",
    "        if cache_file is not None:\n",
    "            cache_data = dict(words_train=words_train, words_test=words_test,\n",
    "                              labels_train=labels_train, labels_test=labels_test)\n",
    "            with open(os.path.join(cache_dir, cache_file), \"wb\") as f:\n",
    "                pickle.dump(cache_data, f)\n",
    "            print(\"Wrote preprocessed data to cache file:\", cache_file)\n",
    "    else:\n",
    "        # Unpack data loaded from cache file\n",
    "        words_train, words_test, labels_train, labels_test = (cache_data['words_train'],\n",
    "                cache_data['words_test'], cache_data['labels_train'], cache_data['labels_test'])\n",
    "    \n",
    "    return words_train, words_test, labels_train, labels_test"
   ]
  },
  {
   "cell_type": "code",
   "execution_count": 9,
   "metadata": {
    "collapsed": false,
    "deletable": true,
    "editable": true
   },
   "outputs": [
    {
     "name": "stdout",
     "output_type": "stream",
     "text": [
      "Read preprocessed data from cache file: preprocessed_data.pkl\n"
     ]
    }
   ],
   "source": [
    "# Preprocess data\n",
    "train_X, test_X, train_y, test_y = preprocess_data(train_X, test_X, train_y, test_y)"
   ]
  },
  {
   "cell_type": "markdown",
   "metadata": {
    "deletable": true,
    "editable": true
   },
   "source": [
    "## Transform the data\n",
    "\n",
    "In the XGBoost notebook we transformed the data from its word representation to a bag-of-words feature representation. For the model we are going to construct in this notebook we will construct a feature representation which is very similar. To start, we will represent each word as an integer. Of course, some of the words that appear in the reviews occur very infrequently and so likely don't contain much information for the purposes of sentiment analysis. The way we will deal with this problem is that we will fix the size of our working vocabulary and we will only include the words that appear most frequently. We will then combine all of the infrequent words into a single category and, in our case, we will label it as `1`.\n",
    "\n",
    "Since we will be using a recurrent neural network, it will be convenient if the length of each review is the same. To do this, we will fix a size for our reviews and then pad short reviews with the category 'no word' (which we will label `0`) and truncate long reviews."
   ]
  },
  {
   "cell_type": "markdown",
   "metadata": {
    "deletable": true,
    "editable": true
   },
   "source": [
    "### (TODO) Create a word dictionary\n",
    "\n",
    "To begin with, we need to construct a way to map words that appear in the reviews to integers. Here we fix the size of our vocabulary (including the 'no word' and 'infrequent' categories) to be `5000` but you may wish to change this to see how it affects the model.\n",
    "\n",
    "> **TODO:** Complete the implementation for the `build_dict()` method below. Note that even though the vocab_size is set to `5000`, we only want to construct a mapping for the most frequently appearing `4998` words. This is because we want to reserve the special labels `0` for 'no word' and `1` for 'infrequent word'."
   ]
  },
  {
   "cell_type": "code",
   "execution_count": 17,
   "metadata": {
    "collapsed": true,
    "deletable": true,
    "editable": true
   },
   "outputs": [],
   "source": [
    "import numpy as np\n",
    "\n",
    "def build_dict(data, vocab_size = 5000):\n",
    "    \"\"\"Construct and return a dictionary mapping each of the most frequently appearing words to a unique integer.\"\"\"\n",
    "    \n",
    "    # TODO: Determine how often each word appears in `data`. Note that `data` is a list of sentences and that a\n",
    "    #       sentence is a list of words.\n",
    "    \n",
    "    word_count = {} # A dict storing the words that appear in the reviews along with how often they occur\n",
    "    for sentence in data:\n",
    "        for word in sentence:\n",
    "            word_count[word] = word_count.get(word,0) + 1\n",
    "    \n",
    "    # TODO: Sort the words found in `data` so that sorted_words[0] is the most frequently appearing word and\n",
    "    #       sorted_words[-1] is the least frequently appearing word.\n",
    "    \n",
    "    sorted_words_count = sorted(word_count.items(), key=lambda x: x[1], reverse=True) # sort based on word count \n",
    "    sorted_words = [word_count[0] for word_count in sorted_words_count]               # get the words\n",
    "    \n",
    "    word_dict = {} # This is what we are building, a dictionary that translates words into integers\n",
    "    for idx, word in enumerate(sorted_words[:vocab_size - 2]): # The -2 is so that we save room for the 'no word'\n",
    "        word_dict[word] = idx + 2                              # 'infrequent' labels\n",
    "        \n",
    "    return word_dict"
   ]
  },
  {
   "cell_type": "code",
   "execution_count": 18,
   "metadata": {
    "collapsed": false,
    "deletable": true,
    "editable": true
   },
   "outputs": [
    {
     "name": "stdout",
     "output_type": "stream",
     "text": [
      "{'movi': 2, 'film': 3, 'one': 4, 'like': 5, 'time': 6, 'good': 7, 'make': 8, 'charact': 9, 'get': 10, 'see': 11, 'watch': 12, 'stori': 13, 'even': 14, 'would': 15, 'realli': 16, 'well': 17, 'scene': 18, 'look': 19, 'show': 20, 'much': 21, 'end': 22, 'peopl': 23, 'bad': 24, 'go': 25, 'great': 26, 'also': 27, 'first': 28, 'love': 29, 'think': 30, 'way': 31, 'act': 32, 'play': 33, 'made': 34, 'thing': 35, 'could': 36, 'know': 37, 'say': 38, 'seem': 39, 'work': 40, 'plot': 41, 'two': 42, 'actor': 43, 'year': 44, 'come': 45, 'mani': 46, 'seen': 47, 'take': 48, 'life': 49, 'want': 50, 'never': 51, 'littl': 52, 'best': 53, 'tri': 54, 'man': 55, 'ever': 56, 'give': 57, 'better': 58, 'still': 59, 'perform': 60, 'find': 61, 'feel': 62, 'part': 63, 'back': 64, 'use': 65, 'someth': 66, 'director': 67, 'actual': 68, 'interest': 69, 'lot': 70, 'real': 71, 'old': 72, 'cast': 73, 'though': 74, 'live': 75, 'star': 76, 'enjoy': 77, 'guy': 78, 'anoth': 79, 'new': 80, 'role': 81, 'noth': 82, '10': 83, 'funni': 84, 'music': 85, 'point': 86, 'start': 87, 'set': 88, 'girl': 89, 'origin': 90, 'day': 91, 'world': 92, 'everi': 93, 'believ': 94, 'turn': 95, 'quit': 96, 'direct': 97, 'us': 98, 'thought': 99, 'fact': 100, 'minut': 101, 'horror': 102, 'kill': 103, 'action': 104, 'comedi': 105, 'pretti': 106, 'young': 107, 'wonder': 108, 'happen': 109, 'around': 110, 'got': 111, 'effect': 112, 'right': 113, 'long': 114, 'howev': 115, 'big': 116, 'line': 117, 'famili': 118, 'enough': 119, 'seri': 120, 'may': 121, 'need': 122, 'fan': 123, 'bit': 124, 'script': 125, 'beauti': 126, 'person': 127, 'becom': 128, 'without': 129, 'must': 130, 'alway': 131, 'friend': 132, 'tell': 133, 'reason': 134, 'saw': 135, 'last': 136, 'final': 137, 'kid': 138, 'almost': 139, 'put': 140, 'least': 141, 'sure': 142, 'done': 143, 'whole': 144, 'place': 145, 'complet': 146, 'kind': 147, 'expect': 148, 'differ': 149, 'shot': 150, 'far': 151, 'mean': 152, 'anyth': 153, 'book': 154, 'laugh': 155, 'might': 156, 'name': 157, 'sinc': 158, 'begin': 159, '2': 160, 'probabl': 161, 'woman': 162, 'help': 163, 'entertain': 164, 'let': 165, 'screen': 166, 'call': 167, 'tv': 168, 'moment': 169, 'away': 170, 'read': 171, 'yet': 172, 'rather': 173, 'worst': 174, 'run': 175, 'fun': 176, 'lead': 177, 'hard': 178, 'audienc': 179, 'idea': 180, 'anyon': 181, 'episod': 182, 'american': 183, 'found': 184, 'appear': 185, 'bore': 186, 'especi': 187, 'although': 188, 'hope': 189, 'cours': 190, 'keep': 191, 'anim': 192, 'job': 193, 'goe': 194, 'move': 195, 'sens': 196, 'dvd': 197, 'version': 198, 'war': 199, 'money': 200, 'someon': 201, 'mind': 202, 'mayb': 203, 'problem': 204, 'true': 205, 'hous': 206, 'everyth': 207, 'nice': 208, 'second': 209, 'rate': 210, 'three': 211, 'night': 212, 'follow': 213, 'face': 214, 'recommend': 215, 'main': 216, 'product': 217, 'worth': 218, 'leav': 219, 'human': 220, 'special': 221, 'excel': 222, 'togeth': 223, 'wast': 224, 'sound': 225, 'everyon': 226, 'john': 227, 'hand': 228, '1': 229, 'father': 230, 'later': 231, 'eye': 232, 'said': 233, 'view': 234, 'instead': 235, 'review': 236, 'boy': 237, 'high': 238, 'hour': 239, 'miss': 240, 'talk': 241, 'classic': 242, 'wife': 243, 'understand': 244, 'left': 245, 'care': 246, 'black': 247, 'death': 248, 'open': 249, 'murder': 250, 'write': 251, 'half': 252, 'head': 253, 'rememb': 254, 'chang': 255, 'viewer': 256, 'fight': 257, 'gener': 258, 'surpris': 259, 'short': 260, 'includ': 261, 'die': 262, 'fall': 263, 'less': 264, 'els': 265, 'entir': 266, 'piec': 267, 'involv': 268, 'pictur': 269, 'simpli': 270, 'top': 271, 'power': 272, 'home': 273, 'total': 274, 'usual': 275, 'budget': 276, 'attempt': 277, 'suppos': 278, 'releas': 279, 'hollywood': 280, 'terribl': 281, 'song': 282, 'men': 283, 'possibl': 284, 'featur': 285, 'portray': 286, 'disappoint': 287, '3': 288, 'poor': 289, 'coupl': 290, 'stupid': 291, 'camera': 292, 'dead': 293, 'wrong': 294, 'low': 295, 'produc': 296, 'video': 297, 'either': 298, 'aw': 299, 'definit': 300, 'except': 301, 'rest': 302, 'given': 303, 'absolut': 304, 'women': 305, 'lack': 306, 'word': 307, 'writer': 308, 'titl': 309, 'talent': 310, 'decid': 311, 'full': 312, 'perfect': 313, 'along': 314, 'style': 315, 'close': 316, 'truli': 317, 'school': 318, 'save': 319, 'emot': 320, 'age': 321, 'sex': 322, 'next': 323, 'bring': 324, 'mr': 325, 'case': 326, 'killer': 327, 'heart': 328, 'comment': 329, 'sort': 330, 'creat': 331, 'perhap': 332, 'came': 333, 'brother': 334, 'sever': 335, 'joke': 336, 'art': 337, 'dialogu': 338, 'game': 339, 'small': 340, 'base': 341, 'flick': 342, 'written': 343, 'sequenc': 344, 'meet': 345, 'earli': 346, 'often': 347, 'other': 348, 'mother': 349, 'develop': 350, 'humor': 351, 'actress': 352, 'consid': 353, 'dark': 354, 'guess': 355, 'amaz': 356, 'unfortun': 357, 'light': 358, 'lost': 359, 'exampl': 360, 'cinema': 361, 'drama': 362, 'white': 363, 'ye': 364, 'experi': 365, 'imagin': 366, 'mention': 367, 'stop': 368, 'natur': 369, 'forc': 370, 'manag': 371, 'felt': 372, 'cut': 373, 'present': 374, 'children': 375, 'fail': 376, 'son': 377, 'qualiti': 378, 'car': 379, 'support': 380, 'ask': 381, 'hit': 382, 'side': 383, 'voic': 384, 'extrem': 385, 'impress': 386, 'wors': 387, 'evil': 388, 'stand': 389, 'went': 390, 'certainli': 391, 'basic': 392, 'oh': 393, 'overal': 394, 'favorit': 395, 'horribl': 396, 'mysteri': 397, 'number': 398, 'type': 399, 'danc': 400, 'wait': 401, 'hero': 402, '5': 403, 'alreadi': 404, 'learn': 405, 'matter': 406, '4': 407, 'michael': 408, 'genr': 409, 'fine': 410, 'despit': 411, 'throughout': 412, 'walk': 413, 'success': 414, 'histori': 415, 'question': 416, 'zombi': 417, 'town': 418, 'realiz': 419, 'relationship': 420, 'past': 421, 'child': 422, 'daughter': 423, 'late': 424, 'b': 425, 'wish': 426, 'credit': 427, 'hate': 428, 'event': 429, 'theme': 430, 'touch': 431, 'citi': 432, 'today': 433, 'sometim': 434, 'behind': 435, 'god': 436, 'twist': 437, 'sit': 438, 'annoy': 439, 'deal': 440, 'stay': 441, 'abl': 442, 'rent': 443, 'pleas': 444, 'edit': 445, 'blood': 446, 'deserv': 447, 'comic': 448, 'anyway': 449, 'appar': 450, 'soon': 451, 'gave': 452, 'etc': 453, 'level': 454, 'slow': 455, 'chanc': 456, 'score': 457, 'bodi': 458, 'brilliant': 459, 'incred': 460, 'figur': 461, 'situat': 462, 'self': 463, 'major': 464, 'stuff': 465, 'decent': 466, 'element': 467, 'return': 468, 'dream': 469, 'obvious': 470, 'continu': 471, 'order': 472, 'pace': 473, 'ridicul': 474, 'happi': 475, 'group': 476, 'add': 477, 'highli': 478, 'thank': 479, 'ladi': 480, 'novel': 481, 'speak': 482, 'pain': 483, 'career': 484, 'shoot': 485, 'strang': 486, 'heard': 487, 'sad': 488, 'husband': 489, 'polic': 490, 'import': 491, 'break': 492, 'took': 493, 'strong': 494, 'cannot': 495, 'predict': 496, 'robert': 497, 'violenc': 498, 'hilari': 499, 'recent': 500, 'countri': 501, 'known': 502, 'particularli': 503, 'pick': 504, 'documentari': 505, 'season': 506, 'critic': 507, 'jame': 508, 'compar': 509, 'obviou': 510, 'alon': 511, 'told': 512, 'state': 513, 'visual': 514, 'rock': 515, 'exist': 516, 'offer': 517, 'theater': 518, 'opinion': 519, 'gore': 520, 'crap': 521, 'hold': 522, 'result': 523, 'hear': 524, 'realiti': 525, 'room': 526, 'clich': 527, 'effort': 528, 'thriller': 529, 'caus': 530, 'serious': 531, 'explain': 532, 'sequel': 533, 'king': 534, 'local': 535, 'ago': 536, 'hell': 537, 'none': 538, 'note': 539, 'allow': 540, 'david': 541, 'sister': 542, 'simpl': 543, 'femal': 544, 'deliv': 545, 'ok': 546, 'convinc': 547, 'class': 548, 'check': 549, 'suspens': 550, 'win': 551, 'buy': 552, 'oscar': 553, 'huge': 554, 'valu': 555, 'sexual': 556, 'cool': 557, 'scari': 558, 'similar': 559, 'excit': 560, 'apart': 561, 'provid': 562, 'exactli': 563, 'avoid': 564, 'shown': 565, 'seriou': 566, 'english': 567, 'whose': 568, 'taken': 569, 'cinematographi': 570, 'shock': 571, 'polit': 572, 'spoiler': 573, 'offic': 574, 'across': 575, 'middl': 576, 'street': 577, 'pass': 578, 'messag': 579, 'somewhat': 580, 'silli': 581, 'charm': 582, 'modern': 583, 'confus': 584, 'filmmak': 585, 'form': 586, 'tale': 587, 'singl': 588, 'jack': 589, 'mostli': 590, 'attent': 591, 'william': 592, 'carri': 593, 'sing': 594, 'subject': 595, 'five': 596, 'prove': 597, 'richard': 598, 'stage': 599, 'team': 600, 'cop': 601, 'unlik': 602, 'georg': 603, 'televis': 604, 'monster': 605, 'earth': 606, 'villain': 607, 'cover': 608, 'pay': 609, 'marri': 610, 'toward': 611, 'build': 612, 'parent': 613, 'pull': 614, 'due': 615, 'respect': 616, 'fill': 617, 'dialog': 618, 'four': 619, 'remind': 620, 'futur': 621, 'weak': 622, 'typic': 623, '7': 624, 'cheap': 625, 'intellig': 626, 'british': 627, 'atmospher': 628, 'clearli': 629, '80': 630, 'non': 631, 'dog': 632, 'paul': 633, 'fast': 634, 'artist': 635, 'knew': 636, '8': 637, 'crime': 638, 'easili': 639, 'escap': 640, 'doubt': 641, 'adult': 642, 'detail': 643, 'date': 644, 'romant': 645, 'member': 646, 'fire': 647, 'gun': 648, 'drive': 649, 'straight': 650, 'fit': 651, 'beyond': 652, 'attack': 653, 'imag': 654, 'upon': 655, 'posit': 656, 'whether': 657, 'peter': 658, 'fantast': 659, 'captur': 660, 'appreci': 661, 'aspect': 662, 'ten': 663, 'plan': 664, 'discov': 665, 'remain': 666, 'period': 667, 'near': 668, 'realist': 669, 'air': 670, 'mark': 671, 'red': 672, 'dull': 673, 'adapt': 674, 'within': 675, 'lose': 676, 'spend': 677, 'color': 678, 'materi': 679, 'chase': 680, 'mari': 681, 'storylin': 682, 'forget': 683, 'bunch': 684, 'clear': 685, 'lee': 686, 'victim': 687, 'nearli': 688, 'box': 689, 'york': 690, 'inspir': 691, 'match': 692, 'mess': 693, 'finish': 694, 'standard': 695, 'easi': 696, 'truth': 697, 'busi': 698, 'suffer': 699, 'space': 700, 'dramat': 701, 'bill': 702, 'western': 703, 'e': 704, 'list': 705, 'battl': 706, 'notic': 707, 'de': 708, 'french': 709, 'ad': 710, '9': 711, 'tom': 712, 'larg': 713, 'among': 714, 'eventu': 715, 'train': 716, 'accept': 717, 'agre': 718, 'spirit': 719, 'soundtrack': 720, 'third': 721, 'teenag': 722, 'adventur': 723, 'soldier': 724, 'famou': 725, 'suggest': 726, 'drug': 727, 'sorri': 728, 'normal': 729, 'cri': 730, 'babi': 731, 'ultim': 732, 'troubl': 733, 'contain': 734, 'certain': 735, 'cultur': 736, 'romanc': 737, 'rare': 738, 'lame': 739, 'somehow': 740, 'disney': 741, 'mix': 742, 'gone': 743, 'cartoon': 744, 'student': 745, 'reveal': 746, 'fear': 747, 'suck': 748, 'kept': 749, 'attract': 750, 'appeal': 751, 'premis': 752, 'secret': 753, 'design': 754, 'greatest': 755, 'shame': 756, 'throw': 757, 'scare': 758, 'copi': 759, 'wit': 760, 'admit': 761, 'america': 762, 'relat': 763, 'particular': 764, 'brought': 765, 'screenplay': 766, 'whatev': 767, 'pure': 768, '70': 769, 'averag': 770, 'harri': 771, 'master': 772, 'describ': 773, 'treat': 774, 'male': 775, '20': 776, 'fantasi': 777, 'issu': 778, 'warn': 779, 'inde': 780, 'forward': 781, 'background': 782, 'project': 783, 'free': 784, 'memor': 785, 'japanes': 786, 'poorli': 787, 'award': 788, 'locat': 789, 'potenti': 790, 'amus': 791, 'struggl': 792, 'weird': 793, 'magic': 794, 'societi': 795, 'okay': 796, 'doctor': 797, 'accent': 798, 'imdb': 799, 'water': 800, 'hot': 801, 'dr': 802, '30': 803, 'express': 804, 'alien': 805, 'odd': 806, 'crazi': 807, 'choic': 808, 'studio': 809, 'fiction': 810, 'becam': 811, 'control': 812, 'masterpiec': 813, 'fli': 814, 'difficult': 815, 'joe': 816, 'scream': 817, 'costum': 818, 'lover': 819, 'refer': 820, 'uniqu': 821, 'remak': 822, 'girlfriend': 823, 'vampir': 824, 'prison': 825, 'execut': 826, 'wear': 827, 'jump': 828, 'unless': 829, 'wood': 830, 'creepi': 831, 'cheesi': 832, 'superb': 833, 'otherwis': 834, 'parti': 835, 'roll': 836, 'ghost': 837, 'public': 838, 'mad': 839, 'depict': 840, 'jane': 841, 'week': 842, 'badli': 843, 'earlier': 844, 'moral': 845, 'fi': 846, 'dumb': 847, 'flaw': 848, 'grow': 849, 'sci': 850, 'deep': 851, 'cat': 852, 'maker': 853, 'older': 854, 'footag': 855, 'connect': 856, 'plenti': 857, 'bother': 858, 'outsid': 859, 'stick': 860, 'gay': 861, 'catch': 862, 'plu': 863, 'co': 864, 'popular': 865, 'equal': 866, 'social': 867, 'quickli': 868, 'disturb': 869, 'perfectli': 870, 'dress': 871, 'era': 872, '90': 873, 'mistak': 874, 'lie': 875, 'ride': 876, 'previou': 877, 'combin': 878, 'concept': 879, 'band': 880, 'surviv': 881, 'rich': 882, 'answer': 883, 'front': 884, 'sweet': 885, 'christma': 886, 'insid': 887, 'eat': 888, 'bare': 889, 'concern': 890, 'beat': 891, 'ben': 892, 'listen': 893, 'c': 894, 'serv': 895, 'term': 896, 'la': 897, 'german': 898, 'meant': 899, 'stereotyp': 900, 'hardli': 901, 'law': 902, 'innoc': 903, 'desper': 904, 'promis': 905, 'memori': 906, 'cute': 907, 'intent': 908, 'variou': 909, 'inform': 910, 'steal': 911, 'brain': 912, 'post': 913, 'tone': 914, 'island': 915, 'amount': 916, 'track': 917, 'compani': 918, 'nuditi': 919, 'store': 920, 'claim': 921, 'flat': 922, '50': 923, 'hair': 924, 'univers': 925, 'land': 926, 'fairli': 927, 'danger': 928, 'kick': 929, 'scott': 930, 'player': 931, 'crew': 932, 'step': 933, 'plain': 934, 'toni': 935, 'share': 936, 'centuri': 937, 'tast': 938, 'engag': 939, 'achiev': 940, 'travel': 941, 'cold': 942, 'rip': 943, 'suit': 944, 'record': 945, 'sadli': 946, 'manner': 947, 'spot': 948, 'tension': 949, 'wrote': 950, 'fascin': 951, 'intens': 952, 'familiar': 953, 'depth': 954, 'remark': 955, 'burn': 956, 'destroy': 957, 'histor': 958, 'sleep': 959, 'purpos': 960, 'languag': 961, 'ruin': 962, 'ignor': 963, 'delight': 964, 'unbeliev': 965, 'italian': 966, 'soul': 967, 'collect': 968, 'abil': 969, 'clever': 970, 'detect': 971, 'violent': 972, 'rape': 973, 'reach': 974, 'door': 975, 'trash': 976, 'liter': 977, 'scienc': 978, 'reveng': 979, 'caught': 980, 'commun': 981, 'creatur': 982, 'trip': 983, 'approach': 984, 'fashion': 985, 'intrigu': 986, 'introduc': 987, 'paint': 988, 'skill': 989, 'channel': 990, 'complex': 991, 'camp': 992, 'christian': 993, 'extra': 994, 'hole': 995, 'mental': 996, 'ann': 997, 'immedi': 998, 'limit': 999, 'comput': 1000, 'million': 1001, 'slightli': 1002, '6': 1003, 'mere': 1004, 'conclus': 1005, 'slasher': 1006, 'suddenli': 1007, 'imposs': 1008, 'teen': 1009, 'neither': 1010, 'crimin': 1011, 'spent': 1012, 'physic': 1013, 'nation': 1014, 'respons': 1015, 'planet': 1016, 'fake': 1017, 'receiv': 1018, 'blue': 1019, 'sick': 1020, 'bizarr': 1021, 'embarrass': 1022, 'indian': 1023, '15': 1024, 'ring': 1025, 'drop': 1026, 'pop': 1027, 'drag': 1028, 'haunt': 1029, 'suspect': 1030, 'pointless': 1031, 'edg': 1032, 'search': 1033, 'handl': 1034, 'common': 1035, 'biggest': 1036, 'arriv': 1037, 'faith': 1038, 'hurt': 1039, 'technic': 1040, 'angel': 1041, 'genuin': 1042, 'dad': 1043, 'f': 1044, 'solid': 1045, 'awesom': 1046, 'focu': 1047, 'former': 1048, 'van': 1049, 'colleg': 1050, 'count': 1051, 'heavi': 1052, 'tear': 1053, 'rais': 1054, 'wall': 1055, 'laughabl': 1056, 'visit': 1057, 'younger': 1058, 'excus': 1059, 'sign': 1060, 'fair': 1061, 'cult': 1062, 'motion': 1063, 'tough': 1064, 'key': 1065, 'desir': 1066, 'super': 1067, 'addit': 1068, 'stun': 1069, 'cloth': 1070, 'exploit': 1071, 'smith': 1072, 'tortur': 1073, 'davi': 1074, 'race': 1075, 'author': 1076, 'cross': 1077, 'jim': 1078, 'focus': 1079, 'minor': 1080, 'compel': 1081, 'consist': 1082, 'pathet': 1083, 'chemistri': 1084, 'commit': 1085, 'park': 1086, 'frank': 1087, 'obsess': 1088, 'tradit': 1089, 'grade': 1090, 'asid': 1091, '60': 1092, 'brutal': 1093, 'steve': 1094, 'somewher': 1095, 'u': 1096, 'depress': 1097, 'explor': 1098, 'rule': 1099, 'opportun': 1100, 'grant': 1101, 'besid': 1102, 'honest': 1103, 'anti': 1104, 'dub': 1105, 'trailer': 1106, 'intend': 1107, 'bar': 1108, 'longer': 1109, 'regard': 1110, 'west': 1111, 'scientist': 1112, 'decad': 1113, 'judg': 1114, 'silent': 1115, 'creativ': 1116, 'armi': 1117, 'wild': 1118, 'stewart': 1119, 'south': 1120, 'g': 1121, 'draw': 1122, 'road': 1123, 'govern': 1124, 'ex': 1125, 'boss': 1126, 'practic': 1127, 'gang': 1128, 'surprisingli': 1129, 'club': 1130, 'motiv': 1131, 'festiv': 1132, 'redeem': 1133, 'green': 1134, 'london': 1135, 'page': 1136, 'display': 1137, 'aliv': 1138, 'militari': 1139, 'machin': 1140, 'idiot': 1141, 'repeat': 1142, 'thrill': 1143, '100': 1144, 'yeah': 1145, 'folk': 1146, 'nobodi': 1147, '40': 1148, 'journey': 1149, 'garbag': 1150, 'ground': 1151, 'tire': 1152, 'smile': 1153, 'bought': 1154, 'mood': 1155, 'cost': 1156, 'stone': 1157, 'sam': 1158, 'mouth': 1159, 'noir': 1160, 'agent': 1161, 'terrif': 1162, 'utterli': 1163, 'requir': 1164, 'area': 1165, 'honestli': 1166, 'sexi': 1167, 'geniu': 1168, 'report': 1169, 'glad': 1170, 'enter': 1171, 'humour': 1172, 'investig': 1173, 'serial': 1174, 'occasion': 1175, 'passion': 1176, 'narr': 1177, 'marriag': 1178, 'climax': 1179, 'studi': 1180, 'industri': 1181, 'center': 1182, 'charli': 1183, 'nowher': 1184, 'ship': 1185, 'demon': 1186, 'hors': 1187, 'bear': 1188, 'loos': 1189, 'wow': 1190, 'hang': 1191, 'graphic': 1192, 'giant': 1193, 'admir': 1194, 'send': 1195, 'damn': 1196, 'loud': 1197, 'subtl': 1198, 'profession': 1199, 'rel': 1200, 'nake': 1201, 'blow': 1202, 'bottom': 1203, 'insult': 1204, 'batman': 1205, 'doubl': 1206, 'r': 1207, 'boyfriend': 1208, 'kelli': 1209, 'initi': 1210, 'frame': 1211, 'opera': 1212, 'gem': 1213, 'affect': 1214, 'church': 1215, 'challeng': 1216, 'drawn': 1217, 'cinemat': 1218, 'j': 1219, 'nightmar': 1220, 'fulli': 1221, 'seek': 1222, 'evid': 1223, 'l': 1224, 'essenti': 1225, 'conflict': 1226, 'arm': 1227, 'henri': 1228, 'wind': 1229, 'grace': 1230, 'christoph': 1231, 'assum': 1232, 'narrat': 1233, 'witch': 1234, 'push': 1235, 'hunt': 1236, 'chri': 1237, 'wise': 1238, 'repres': 1239, 'month': 1240, 'nomin': 1241, 'hide': 1242, 'sceneri': 1243, 'avail': 1244, 'affair': 1245, 'thu': 1246, 'smart': 1247, 'justic': 1248, 'bond': 1249, 'interview': 1250, 'outstand': 1251, 'flashback': 1252, 'satisfi': 1253, 'presenc': 1254, 'constantli': 1255, 'central': 1256, 'bed': 1257, 'iron': 1258, 'sell': 1259, 'content': 1260, 'gag': 1261, 'everybodi': 1262, 'hotel': 1263, 'slowli': 1264, 'hire': 1265, 'system': 1266, 'hey': 1267, 'charl': 1268, 'individu': 1269, 'adam': 1270, 'thrown': 1271, 'mediocr': 1272, 'jone': 1273, 'allen': 1274, 'lesson': 1275, 'billi': 1276, 'ray': 1277, 'cameo': 1278, 'photographi': 1279, 'fellow': 1280, 'pari': 1281, 'strike': 1282, 'brief': 1283, 'rise': 1284, 'absurd': 1285, 'independ': 1286, 'neg': 1287, 'impact': 1288, 'phone': 1289, 'born': 1290, 'ill': 1291, 'model': 1292, 'spoil': 1293, 'angl': 1294, 'fresh': 1295, 'likabl': 1296, 'abus': 1297, 'discuss': 1298, 'hill': 1299, 'ahead': 1300, 'sight': 1301, 'photograph': 1302, 'sent': 1303, 'occur': 1304, 'logic': 1305, 'shine': 1306, 'blame': 1307, 'bruce': 1308, 'mainli': 1309, 'skip': 1310, 'forev': 1311, 'commerci': 1312, 'segment': 1313, 'teacher': 1314, 'held': 1315, 'surround': 1316, 'zero': 1317, 'blond': 1318, 'trap': 1319, 'resembl': 1320, 'summer': 1321, 'satir': 1322, 'ball': 1323, 'six': 1324, 'queen': 1325, 'fool': 1326, 'sub': 1327, 'twice': 1328, 'tragedi': 1329, 'pack': 1330, 'reaction': 1331, 'bomb': 1332, 'will': 1333, 'protagonist': 1334, 'hospit': 1335, 'sport': 1336, 'mile': 1337, 'drink': 1338, 'jerri': 1339, 'trust': 1340, 'mom': 1341, 'vote': 1342, 'encount': 1343, 'plane': 1344, 'program': 1345, 'current': 1346, 'al': 1347, 'station': 1348, 'martin': 1349, 'celebr': 1350, 'choos': 1351, 'join': 1352, 'field': 1353, 'round': 1354, 'tragic': 1355, 'lord': 1356, 'favourit': 1357, 'jean': 1358, 'vision': 1359, 'robot': 1360, 'tie': 1361, 'arthur': 1362, 'fortun': 1363, 'random': 1364, 'roger': 1365, 'intern': 1366, 'psycholog': 1367, 'dread': 1368, 'prefer': 1369, 'epic': 1370, 'nonsens': 1371, 'improv': 1372, 'highlight': 1373, 'formula': 1374, 'pleasur': 1375, 'legend': 1376, 'dollar': 1377, '11': 1378, 'tape': 1379, 'wide': 1380, 'object': 1381, 'thin': 1382, 'fox': 1383, 'porn': 1384, 'gorgeou': 1385, 'influenc': 1386, 'ugli': 1387, 'buddi': 1388, 'prepar': 1389, 'nasti': 1390, 'ii': 1391, 'supposedli': 1392, 'reflect': 1393, 'warm': 1394, 'progress': 1395, 'youth': 1396, 'worthi': 1397, 'latter': 1398, 'length': 1399, 'unusu': 1400, 'crash': 1401, 'shop': 1402, 'childhood': 1403, 'superior': 1404, 'seven': 1405, 'remot': 1406, 'theatr': 1407, 'paid': 1408, 'disgust': 1409, 'funniest': 1410, 'pilot': 1411, 'convers': 1412, 'castl': 1413, 'fell': 1414, 'trick': 1415, 'establish': 1416, 'rob': 1417, 'disast': 1418, 'gangster': 1419, 'disappear': 1420, 'suicid': 1421, 'heaven': 1422, 'ident': 1423, 'mine': 1424, 'forgotten': 1425, 'singer': 1426, 'tend': 1427, 'mask': 1428, 'heroin': 1429, 'decis': 1430, 'partner': 1431, 'brian': 1432, 'recogn': 1433, 'alan': 1434, 'desert': 1435, 'sky': 1436, 'thoroughli': 1437, 'stuck': 1438, 'p': 1439, 'ms': 1440, 'replac': 1441, 'accur': 1442, 'market': 1443, 'commentari': 1444, 'seemingli': 1445, 'eddi': 1446, 'clue': 1447, 'danni': 1448, 'uncl': 1449, 'andi': 1450, 'devil': 1451, 'jackson': 1452, 'pair': 1453, 'refus': 1454, 'that': 1455, 'therefor': 1456, 'fault': 1457, 'accid': 1458, 'ed': 1459, 'fate': 1460, 'river': 1461, 'unit': 1462, 'tune': 1463, 'afraid': 1464, 'clean': 1465, 'hidden': 1466, 'russian': 1467, 'stephen': 1468, 'readi': 1469, 'instanc': 1470, 'quick': 1471, 'test': 1472, 'convey': 1473, 'captain': 1474, 'irrit': 1475, 'european': 1476, 'insan': 1477, 'daniel': 1478, 'frustrat': 1479, 'wed': 1480, 'food': 1481, '1950': 1482, 'chines': 1483, 'rescu': 1484, 'lock': 1485, 'angri': 1486, 'dirti': 1487, 'joy': 1488, 'price': 1489, 'steven': 1490, 'bland': 1491, 'cage': 1492, 'rang': 1493, 'anymor': 1494, 'wooden': 1495, 'n': 1496, 'rush': 1497, 'jason': 1498, 'news': 1499, 'twenti': 1500, 'worri': 1501, 'martial': 1502, '12': 1503, 'led': 1504, 'board': 1505, 'transform': 1506, 'symbol': 1507, 'hunter': 1508, 'cgi': 1509, 'onto': 1510, 'x': 1511, 'johnni': 1512, 'invent': 1513, 'piti': 1514, 'sentiment': 1515, 'explan': 1516, 'attitud': 1517, 'process': 1518, 'owner': 1519, 'awar': 1520, 'aim': 1521, 'target': 1522, 'favor': 1523, 'necessari': 1524, 'floor': 1525, 'energi': 1526, 'opposit': 1527, 'religi': 1528, 'window': 1529, 'blind': 1530, 'insight': 1531, 'chick': 1532, 'movement': 1533, 'comparison': 1534, 'research': 1535, 'mountain': 1536, 'deepli': 1537, 'possess': 1538, 'grand': 1539, 'rain': 1540, 'whatsoev': 1541, 'comed': 1542, 'began': 1543, 'bank': 1544, 'mid': 1545, 'shadow': 1546, 'parodi': 1547, 'princ': 1548, 'taylor': 1549, 'credibl': 1550, 'friendship': 1551, 'pre': 1552, 'weapon': 1553, 'flesh': 1554, 'teach': 1555, 'dougla': 1556, 'hint': 1557, 'protect': 1558, 'terror': 1559, 'bloodi': 1560, 'marvel': 1561, 'watchabl': 1562, 'anybodi': 1563, 'load': 1564, 'accord': 1565, 'leader': 1566, 'drunk': 1567, 'superman': 1568, 'brown': 1569, 'freddi': 1570, 'tim': 1571, 'jeff': 1572, 'seat': 1573, 'hitler': 1574, 'appropri': 1575, 'knock': 1576, 'charg': 1577, 'keaton': 1578, 'villag': 1579, 'unknown': 1580, 'england': 1581, 'media': 1582, 'empti': 1583, 'unnecessari': 1584, 'enemi': 1585, 'craft': 1586, 'wave': 1587, 'strength': 1588, 'utter': 1589, 'perspect': 1590, 'dare': 1591, 'buck': 1592, 'contrast': 1593, 'kiss': 1594, 'correct': 1595, 'ford': 1596, 'nativ': 1597, 'soap': 1598, 'chill': 1599, 'knowledg': 1600, 'anywher': 1601, 'speed': 1602, 'nazi': 1603, 'magnific': 1604, 'distract': 1605, 'ice': 1606, 'fred': 1607, '1980': 1608, 'breath': 1609, 'mission': 1610, 'jr': 1611, 'joan': 1612, 'moon': 1613, 'crowd': 1614, '000': 1615, 'kate': 1616, 'soft': 1617, 'frighten': 1618, 'dick': 1619, 'nick': 1620, 'dan': 1621, 'hundr': 1622, 'dozen': 1623, 'radio': 1624, 'simon': 1625, 'somebodi': 1626, 'academi': 1627, 'andrew': 1628, 'thousand': 1629, 'loss': 1630, 'shakespear': 1631, 'account': 1632, 'quot': 1633, 'vehicl': 1634, 'root': 1635, 'sum': 1636, 'behavior': 1637, 'leg': 1638, '1970': 1639, 'convent': 1640, 'gold': 1641, 'regular': 1642, 'demand': 1643, 'worker': 1644, 'pretenti': 1645, 'compet': 1646, 'interpret': 1647, 'stretch': 1648, 'privat': 1649, 'explos': 1650, 'candi': 1651, 'notabl': 1652, 'lynch': 1653, 'japan': 1654, 'debut': 1655, 'constant': 1656, 'tarzan': 1657, 'translat': 1658, 'sea': 1659, 'prais': 1660, 'spi': 1661, 'revolv': 1662, 'jesu': 1663, 'threaten': 1664, 'failur': 1665, 'quiet': 1666, 'franc': 1667, 'sat': 1668, 'technolog': 1669, 'ass': 1670, 'met': 1671, 'kevin': 1672, 'toy': 1673, 'punch': 1674, 'higher': 1675, 'aid': 1676, 'abandon': 1677, 'vh': 1678, 'mike': 1679, 'interact': 1680, 'separ': 1681, 'confront': 1682, 'command': 1683, 'bet': 1684, 'servic': 1685, 'gotten': 1686, 'recal': 1687, 'belong': 1688, 'techniqu': 1689, 'site': 1690, 'stunt': 1691, 'freak': 1692, 'bug': 1693, 'foot': 1694, 'cabl': 1695, 'bright': 1696, 'capabl': 1697, 'jimmi': 1698, 'fu': 1699, 'african': 1700, 'boat': 1701, 'clark': 1702, 'succeed': 1703, 'stock': 1704, 'presid': 1705, 'fat': 1706, 'gene': 1707, 'structur': 1708, 'spanish': 1709, 'paper': 1710, 'kidnap': 1711, 'factor': 1712, 'belief': 1713, 'whilst': 1714, 'realis': 1715, 'educ': 1716, 'attend': 1717, 'tree': 1718, 'realism': 1719, 'complic': 1720, 'bob': 1721, 'witti': 1722, 'finest': 1723, 'assist': 1724, 'broken': 1725, 'santa': 1726, 'observ': 1727, 'depart': 1728, 'v': 1729, 'smoke': 1730, 'determin': 1731, 'up': 1732, 'routin': 1733, 'fame': 1734, 'hat': 1735, 'rubbish': 1736, 'lewi': 1737, 'oper': 1738, 'domin': 1739, 'foreign': 1740, 'hook': 1741, 'kinda': 1742, 'safe': 1743, 'morgan': 1744, 'lone': 1745, 'advanc': 1746, 'numer': 1747, 'rank': 1748, 'shallow': 1749, 'washington': 1750, 'civil': 1751, 'shape': 1752, 'rose': 1753, 'vs': 1754, 'werewolf': 1755, 'gari': 1756, 'morn': 1757, 'winner': 1758, 'accomplish': 1759, 'ordinari': 1760, 'kong': 1761, 'peac': 1762, 'virtual': 1763, 'whenev': 1764, 'grab': 1765, 'luck': 1766, 'offens': 1767, 'h': 1768, 'patient': 1769, 'contriv': 1770, 'activ': 1771, 'welcom': 1772, 'bigger': 1773, 'complain': 1774, 'unfunni': 1775, 'dimension': 1776, 'con': 1777, 'pretend': 1778, 'trek': 1779, 'flash': 1780, 'lesbian': 1781, 'code': 1782, 'wake': 1783, 'cain': 1784, 'dri': 1785, 'eric': 1786, 'guard': 1787, 'statu': 1788, 'corrupt': 1789, 'manipul': 1790, 'dancer': 1791, 'albert': 1792, 'awkward': 1793, 'context': 1794, 'speech': 1795, 'signific': 1796, 'gain': 1797, 'sourc': 1798, '13': 1799, 'clip': 1800, 'psycho': 1801, 'anthoni': 1802, 'sean': 1803, 'corni': 1804, 'advic': 1805, 'w': 1806, 'priest': 1807, 'reli': 1808, 'curiou': 1809, 'religion': 1810, 'theatric': 1811, 'flow': 1812, 'addict': 1813, 'specif': 1814, 'howard': 1815, 'jennif': 1816, 'asian': 1817, 'skin': 1818, 'secur': 1819, 'promot': 1820, 'comfort': 1821, 'core': 1822, 'golden': 1823, 'organ': 1824, 'luke': 1825, 'cheat': 1826, 'cash': 1827, 'lucki': 1828, 'dislik': 1829, 'associ': 1830, 'lower': 1831, 'contribut': 1832, 'frankli': 1833, 'frequent': 1834, 'regret': 1835, 'balanc': 1836, 'spell': 1837, 'degre': 1838, 'devic': 1839, 'wing': 1840, 'sake': 1841, 'print': 1842, 'forgiv': 1843, 'lake': 1844, 'betti': 1845, 'mass': 1846, 'thoma': 1847, 'crack': 1848, 'gordon': 1849, 'unexpect': 1850, 'grown': 1851, 'invit': 1852, 'depend': 1853, 'construct': 1854, 'unfold': 1855, 'amateur': 1856, 'categori': 1857, 'condit': 1858, 'honor': 1859, 'matur': 1860, 'walter': 1861, 'intellectu': 1862, 'anna': 1863, 'grew': 1864, 'sole': 1865, 'sudden': 1866, 'veteran': 1867, 'mirror': 1868, 'spectacular': 1869, 'overli': 1870, 'meanwhil': 1871, 'card': 1872, 'experienc': 1873, 'demonstr': 1874, 'liner': 1875, 'freedom': 1876, 'gift': 1877, 'grip': 1878, 'robin': 1879, 'brilliantli': 1880, 'subtitl': 1881, 'sheriff': 1882, 'oliv': 1883, 'theori': 1884, 'section': 1885, 'circumst': 1886, 'colour': 1887, 'crappi': 1888, 'unabl': 1889, 'drew': 1890, 'sheer': 1891, 'path': 1892, 'matt': 1893, 'laughter': 1894, 'pile': 1895, 'cook': 1896, 'altern': 1897, 'parker': 1898, 'defin': 1899, 'wander': 1900, 'relief': 1901, 'accident': 1902, 'hall': 1903, 'treatment': 1904, 'sinatra': 1905, 'lawyer': 1906, 'dragon': 1907, 'captiv': 1908, 'hank': 1909, 'halloween': 1910, 'gratuit': 1911, 'moor': 1912, 'unintent': 1913, 'wayn': 1914, 'broadway': 1915, 'wound': 1916, 'k': 1917, 'barbara': 1918, 'kung': 1919, 'jacki': 1920, 'cowboy': 1921, 'winter': 1922, 'canadian': 1923, 'spoof': 1924, 'surreal': 1925, 'statement': 1926, 'compos': 1927, 'fish': 1928, 'fare': 1929, 'cheer': 1930, 'gonna': 1931, 'treasur': 1932, 'unrealist': 1933, 'woodi': 1934, 'emerg': 1935, 'sensit': 1936, 'victor': 1937, 'neighbor': 1938, 'ran': 1939, 'sympathet': 1940, 'driven': 1941, 'authent': 1942, 'expos': 1943, 'glass': 1944, 'topic': 1945, 'overlook': 1946, 'menac': 1947, 'handsom': 1948, 'chief': 1949, 'gross': 1950, 'michel': 1951, 'ancient': 1952, 'pleasant': 1953, 'network': 1954, 'comedian': 1955, 'feet': 1956, 'stranger': 1957, 'russel': 1958, 'nevertheless': 1959, 'built': 1960, 'cinderella': 1961, 'contemporari': 1962, 'miser': 1963, 'endless': 1964, 'underr': 1965, 'blockbust': 1966, 'letter': 1967, 'consider': 1968, 'earn': 1969, 'gori': 1970, 'solv': 1971, 'switch': 1972, 'brook': 1973, 'bullet': 1974, 'convict': 1975, 'virgin': 1976, 'joseph': 1977, 'edward': 1978, 'victoria': 1979, 'chosen': 1980, 'scenario': 1981, 'scale': 1982, 'alex': 1983, 'cynic': 1984, '0': 1985, 'outrag': 1986, 'com': 1987, 'gut': 1988, 'sword': 1989, 'curs': 1990, 'monkey': 1991, 'screenwrit': 1992, 'uk': 1993, 'driver': 1994, 'substanc': 1995, 'wrap': 1996, 'proper': 1997, 'juli': 1998, 'bird': 1999, 'remov': 2000, 'par': 2001, 'indic': 2002, 'court': 2003, 'roy': 2004, 'naiv': 2005, 'grave': 2006, 'inevit': 2007, 'loser': 2008, 'rental': 2009, 'consequ': 2010, 'advertis': 2011, 'nanci': 2012, 'slap': 2013, 'brave': 2014, 'invis': 2015, 'le': 2016, 'bridg': 2017, 'fatal': 2018, 'germani': 2019, 'loui': 2020, 'anger': 2021, 'provok': 2022, 'ador': 2023, 'footbal': 2024, 'anderson': 2025, 'alcohol': 2026, 'chan': 2027, 'stumbl': 2028, 'professor': 2029, 'ryan': 2030, 'willi': 2031, 'patrick': 2032, '1930': 2033, 'bat': 2034, 'sharp': 2035, 'australian': 2036, 'assassin': 2037, 'refresh': 2038, 'lousi': 2039, 'saturday': 2040, 'amateurish': 2041, 'eight': 2042, 'deni': 2043, 'liber': 2044, 'cell': 2045, 'trilog': 2046, 'strongli': 2047, 'heck': 2048, 'ape': 2049, 'sin': 2050, 'resid': 2051, 'san': 2052, 'vagu': 2053, 'justifi': 2054, 'terrifi': 2055, 'defeat': 2056, 'creator': 2057, 'reput': 2058, 'mini': 2059, 'sympathi': 2060, 'indi': 2061, 'task': 2062, 'tabl': 2063, 'tediou': 2064, 'endur': 2065, 'prevent': 2066, 'expert': 2067, 'imit': 2068, 'offend': 2069, 'basebal': 2070, 'trial': 2071, 'rival': 2072, 'employ': 2073, 'che': 2074, 'fairi': 2075, 'europ': 2076, 'max': 2077, 'dig': 2078, 'pitch': 2079, 'complaint': 2080, 'weekend': 2081, 'beach': 2082, 'murphi': 2083, 'purchas': 2084, 'format': 2085, 'risk': 2086, 'harsh': 2087, 'hype': 2088, 'nois': 2089, 'powel': 2090, 'tini': 2091, 'titan': 2092, 'reminisc': 2093, 'glimps': 2094, 'bite': 2095, 'north': 2096, 'prime': 2097, 'till': 2098, 'strip': 2099, 'asleep': 2100, 'fals': 2101, '14': 2102, 'revel': 2103, 'africa': 2104, 'descript': 2105, 'destruct': 2106, 'texa': 2107, 'spin': 2108, 'uninterest': 2109, 'excess': 2110, 'sitcom': 2111, 'inner': 2112, 'surfac': 2113, 'arrest': 2114, 'semi': 2115, 'massiv': 2116, 'twin': 2117, 'maintain': 2118, 'argu': 2119, 'dinosaur': 2120, 'controversi': 2121, 'makeup': 2122, 'hitchcock': 2123, 'ludicr': 2124, 'expens': 2125, 'reject': 2126, 'melodrama': 2127, 'ideal': 2128, 'stare': 2129, 'insist': 2130, 'kim': 2131, 'supernatur': 2132, 'nail': 2133, 'erot': 2134, 'host': 2135, 'ga': 2136, 'subplot': 2137, 'forest': 2138, 'ala': 2139, 'press': 2140, 'atroci': 2141, 'columbo': 2142, 'notch': 2143, 'dude': 2144, 'cant': 2145, 'presum': 2146, 'identifi': 2147, 'forgett': 2148, 'character': 2149, 'method': 2150, 'closer': 2151, 'guest': 2152, 'plagu': 2153, 'crude': 2154, 'ear': 2155, 'foster': 2156, 'beast': 2157, 'lion': 2158, 'border': 2159, 'landscap': 2160, 'princess': 2161, 'aunt': 2162, 'previous': 2163, 'bound': 2164, 'pacino': 2165, 'damag': 2166, 'accus': 2167, 'storytel': 2168, 'birth': 2169, 'urban': 2170, 'jungl': 2171, 'jess': 2172, 'doll': 2173, 'nude': 2174, 'chose': 2175, 'guid': 2176, 'propaganda': 2177, 'emma': 2178, 'thirti': 2179, 'whoever': 2180, 'pet': 2181, 'warrior': 2182, 'mate': 2183, '25': 2184, 'mainstream': 2185, 'poster': 2186, 'upset': 2187, 'size': 2188, 'merit': 2189, 'friday': 2190, 'cooper': 2191, 'deadli': 2192, 'latest': 2193, 'gritti': 2194, 'exact': 2195, 'settl': 2196, 'sun': 2197, 'popul': 2198, 'corps': 2199, 'rough': 2200, 'citizen': 2201, 'warner': 2202, 'blend': 2203, 'contact': 2204, '1990': 2205, 'buff': 2206, 'ton': 2207, 'wilson': 2208, 'contest': 2209, 'metal': 2210, 'select': 2211, 'rat': 2212, 'widow': 2213, 'bu': 2214, 'alic': 2215, 'overcom': 2216, 'mgm': 2217, 'environ': 2218, 'pitt': 2219, 'link': 2220, 'particip': 2221, 'guilti': 2222, 'ted': 2223, 'revolut': 2224, 'lift': 2225, 'afternoon': 2226, '1960': 2227, 'accompani': 2228, 'moron': 2229, 'exagger': 2230, 'prostitut': 2231, 'corner': 2232, 'matrix': 2233, 'johnson': 2234, 'corpor': 2235, 'friendli': 2236, 'instal': 2237, 'multipl': 2238, 'hood': 2239, 'holm': 2240, 'sincer': 2241, 'doom': 2242, 'leagu': 2243, 'clair': 2244, 'hip': 2245, 'string': 2246, 'sunday': 2247, 'defend': 2248, 'irish': 2249, 'advis': 2250, 'examin': 2251, 'aka': 2252, 'grim': 2253, 'blah': 2254, 'campi': 2255, 'junk': 2256, 'lugosi': 2257, 'icon': 2258, 'pro': 2259, 'shake': 2260, 'rachel': 2261, 'confid': 2262, 'shut': 2263, 'tight': 2264, 'varieti': 2265, 'jaw': 2266, 'medic': 2267, 'directli': 2268, 'mexican': 2269, 'attach': 2270, 'sullivan': 2271, 'goal': 2272, 'denni': 2273, 'courag': 2274, 'prior': 2275, 'dean': 2276, 'truck': 2277, 'vietnam': 2278, 'breast': 2279, 'legendari': 2280, 'terrorist': 2281, 'sentenc': 2282, 'duke': 2283, 'bourn': 2284, 'sarah': 2285, 'behav': 2286, 'entri': 2287, 'split': 2288, 'nose': 2289, 'un': 2290, 'yell': 2291, 'proceed': 2292, 'hong': 2293, 'donald': 2294, 'jerk': 2295, 'forth': 2296, 'gather': 2297, 'stolen': 2298, 'buri': 2299, 'concentr': 2300, 'everywher': 2301, 'unconvinc': 2302, 'lifetim': 2303, 'confess': 2304, 'borrow': 2305, 'crush': 2306, 'swim': 2307, 'spite': 2308, 'lip': 2309, 'julia': 2310, 'california': 2311, 'deliveri': 2312, 'pan': 2313, 'turkey': 2314, 'reward': 2315, 'flight': 2316, 'offici': 2317, 'freeman': 2318, 'china': 2319, 'proud': 2320, 'downright': 2321, 'hoffman': 2322, 'quest': 2323, 'betray': 2324, 'sink': 2325, 'jon': 2326, 'encourag': 2327, 'notori': 2328, 'jail': 2329, 'inept': 2330, 'fade': 2331, 'fabul': 2332, 'worthwhil': 2333, 'lazi': 2334, 'sir': 2335, 'storm': 2336, 'lisa': 2337, 'teeth': 2338, 'shower': 2339, 'relev': 2340, 'retard': 2341, 'imageri': 2342, 'cousin': 2343, 'bell': 2344, 'survivor': 2345, 'bag': 2346, 'branagh': 2347, 'susan': 2348, 'bride': 2349, 'shark': 2350, 'tremend': 2351, 'facial': 2352, 'summari': 2353, 'finger': 2354, 'trade': 2355, 'stab': 2356, 'mexico': 2357, 'toler': 2358, 'quirki': 2359, 'alright': 2360, 'hugh': 2361, 'hyster': 2362, 'von': 2363, 'bitter': 2364, 'pose': 2365, 'blown': 2366, 'ha': 2367, 'christ': 2368, 'afterward': 2369, 'bone': 2370, 'address': 2371, 'larri': 2372, 'scheme': 2373, 'ned': 2374, 'cruel': 2375, 'ron': 2376, 'traci': 2377, 'tour': 2378, 'beg': 2379, 'snake': 2380, 'thumb': 2381, 'pursu': 2382, 'screw': 2383, 'swear': 2384, 'distinct': 2385, 'feed': 2386, 'chair': 2387, 'occas': 2388, 'obscur': 2389, 'stomach': 2390, 'raw': 2391, 'photo': 2392, 'mechan': 2393, 'chain': 2394, 'cabin': 2395, 'resist': 2396, 'argument': 2397, 'southern': 2398, 'heavili': 2399, 'render': 2400, 'hardi': 2401, 'holiday': 2402, 'necessarili': 2403, 'gruesom': 2404, 'sidney': 2405, 'philip': 2406, 'satan': 2407, 'indulg': 2408, 'understood': 2409, 'racist': 2410, 'india': 2411, 'integr': 2412, 'pregnant': 2413, 'tongu': 2414, 'fourth': 2415, 'obnoxi': 2416, 'midnight': 2417, 'forgot': 2418, 'stalk': 2419, 'lay': 2420, 'belov': 2421, 'outfit': 2422, '17': 2423, 'restor': 2424, 'magazin': 2425, 'slapstick': 2426, 'carol': 2427, 'inhabit': 2428, 'ticket': 2429, 'deeper': 2430, 'garden': 2431, 'devot': 2432, 'shoe': 2433, 'incid': 2434, 'lincoln': 2435, 'brad': 2436, 'elizabeth': 2437, 'guarante': 2438, 'anticip': 2439, 'benefit': 2440, 'disbelief': 2441, 'lili': 2442, 'maria': 2443, 'underground': 2444, 'divorc': 2445, 'sandler': 2446, 'bbc': 2447, 'greater': 2448, 'slave': 2449, 'creation': 2450, 'cring': 2451, 'capit': 2452, 'mildli': 2453, 'explod': 2454, 'princip': 2455, 'amazingli': 2456, 'extraordinari': 2457, 'lesli': 2458, 'introduct': 2459, 'funnier': 2460, 'halfway': 2461, 'enhanc': 2462, 'wreck': 2463, 'advantag': 2464, 'transfer': 2465, 'tap': 2466, 'extent': 2467, 'text': 2468, 'overwhelm': 2469, 'punish': 2470, 'deliber': 2471, 'lo': 2472, 'error': 2473, 'horrif': 2474, 'east': 2475, 'lane': 2476, 'jessica': 2477, 'preview': 2478, 'dynam': 2479, 'plant': 2480, 'ensu': 2481, 'basi': 2482, '2000': 2483, 'vacat': 2484, 'vincent': 2485, 'sophist': 2486, 'miscast': 2487, 'miller': 2488, 'homosexu': 2489, 'appli': 2490, 'mansion': 2491, 'extend': 2492, 'measur': 2493, 'reed': 2494, 'spoken': 2495, 'elev': 2496, 'bollywood': 2497, 'via': 2498, 'sleazi': 2499, 'uncomfort': 2500, 'steel': 2501, 'mous': 2502, 'fix': 2503, 'breathtak': 2504, 'goofi': 2505, 'cathol': 2506, 'savag': 2507, 'hippi': 2508, 'blair': 2509, 'overact': 2510, 'assign': 2511, 'alter': 2512, 'stanley': 2513, 'conceiv': 2514, 'dentist': 2515, 'daili': 2516, 'beer': 2517, 'melt': 2518, 'inspector': 2519, 'succe': 2520, 'burt': 2521, 'nowaday': 2522, 'everyday': 2523, 'oppos': 2524, 'subsequ': 2525, 'properli': 2526, 'sacrific': 2527, 'carpent': 2528, 'neck': 2529, 'massacr': 2530, 'laura': 2531, 'block': 2532, 'circl': 2533, 'lesser': 2534, 'concert': 2535, 'fallen': 2536, 'pool': 2537, 'fay': 2538, 'christi': 2539, 'portrait': 2540, 'mob': 2541, 'seagal': 2542, 'access': 2543, 'grey': 2544, 'react': 2545, 'competit': 2546, 'jake': 2547, 'isol': 2548, 'relax': 2549, 'chees': 2550, 'sinist': 2551, 'jewish': 2552, 'usa': 2553, 'lyric': 2554, 'spiritu': 2555, 'appal': 2556, 'ironi': 2557, '2006': 2558, 'creep': 2559, 'nonetheless': 2560, 'nine': 2561, 'suitabl': 2562, 'chop': 2563, 'stink': 2564, 'immens': 2565, 'reduc': 2566, 'spring': 2567, 'luci': 2568, 'rage': 2569, 'user': 2570, 'navi': 2571, 'adopt': 2572, 'nut': 2573, 'sold': 2574, 'franchis': 2575, 'showcas': 2576, 'retir': 2577, 'needless': 2578, 'shirt': 2579, 'bulli': 2580, 'nurs': 2581, 'per': 2582, 'bath': 2583, 'asham': 2584, 'zone': 2585, 'jay': 2586, 'digit': 2587, 'uninspir': 2588, 'stanwyck': 2589, 'oddli': 2590, '1940': 2591, 'upper': 2592, 'amongst': 2593, 'laid': 2594, '2001': 2595, 'illustr': 2596, 'broadcast': 2597, 'sutherland': 2598, 'throat': 2599, 'fulfil': 2600, 'brando': 2601, 'aspir': 2602, 'disguis': 2603, 'stylish': 2604, 'baker': 2605, 'thief': 2606, '18': 2607, 'endear': 2608, 'neighborhood': 2609, 'wanna': 2610, 'pride': 2611, 'wwii': 2612, 'em': 2613, 'impli': 2614, 'pound': 2615, 'nobl': 2616, 'prop': 2617, 'rochest': 2618, 'dinner': 2619, 'shoulder': 2620, 'bo': 2621, 'distribut': 2622, 'albeit': 2623, 'cinematograph': 2624, 'coher': 2625, 'diseas': 2626, 'tens': 2627, '16': 2628, 'bett': 2629, 'dawn': 2630, 'shift': 2631, 'forti': 2632, 'shout': 2633, 'snow': 2634, 'wash': 2635, 'knife': 2636, 'matthau': 2637, 'function': 2638, 'rebel': 2639, 'poignant': 2640, 'silenc': 2641, 'surf': 2642, 'contract': 2643, 'horrend': 2644, 'widmark': 2645, 'eeri': 2646, 'duti': 2647, 'mindless': 2648, 'heat': 2649, 'height': 2650, 'internet': 2651, 'chuck': 2652, 'instinct': 2653, 'derek': 2654, 'proof': 2655, 'silver': 2656, 'cancel': 2657, 'henc': 2658, 'reunion': 2659, 'elvira': 2660, 'cannib': 2661, 'incoher': 2662, 'premier': 2663, 'torn': 2664, 'pie': 2665, 'mill': 2666, 'greatli': 2667, 'glori': 2668, 'neat': 2669, 'alik': 2670, 'innov': 2671, 'absorb': 2672, 'musician': 2673, 'spielberg': 2674, 'etern': 2675, 'repetit': 2676, 'elvi': 2677, 'horrifi': 2678, 'precis': 2679, 'blank': 2680, 'racism': 2681, 'wealthi': 2682, 'nelson': 2683, 'infam': 2684, 'announc': 2685, 'diamond': 2686, 'trite': 2687, 'itali': 2688, 'homag': 2689, 'britain': 2690, 'fbi': 2691, 'crisi': 2692, 'redempt': 2693, 'burton': 2694, 'lovabl': 2695, 'bang': 2696, 'ensembl': 2697, 'resolut': 2698, 'wilder': 2699, 'helen': 2700, 'flop': 2701, 'dedic': 2702, 'happili': 2703, 'hammer': 2704, 'parallel': 2705, 'streisand': 2706, 'chaplin': 2707, 'pat': 2708, 'plastic': 2709, 'st': 2710, 'broke': 2711, 'factori': 2712, 'mar': 2713, 'disagre': 2714, 'oil': 2715, 'carter': 2716, 'cube': 2717, 'conclud': 2718, 'triumph': 2719, 'row': 2720, 'vega': 2721, 'weight': 2722, 'march': 2723, 'fighter': 2724, 'own': 2725, 'bush': 2726, 'rocket': 2727, 'climb': 2728, 'chuckl': 2729, 'spare': 2730, 'enorm': 2731, 'lust': 2732, 'sensibl': 2733, 'dump': 2734, 'dane': 2735, 'mst3k': 2736, 'wherea': 2737, 'kurt': 2738, 'luca': 2739, 'boot': 2740, 'thug': 2741, 'unforgett': 2742, 'meaning': 2743, 'engin': 2744, 'dear': 2745, 'brand': 2746, 'adequ': 2747, 'difficulti': 2748, 'caricatur': 2749, 'stress': 2750, 'karloff': 2751, 'rap': 2752, 'fifti': 2753, 'threat': 2754, 'butt': 2755, 'arnold': 2756, 'bobbi': 2757, 'polish': 2758, 'swing': 2759, 'arrog': 2760, 'secretari': 2761, 'elabor': 2762, 'ego': 2763, 'barri': 2764, 'ralph': 2765, 'homeless': 2766, 'journalist': 2767, 'flynn': 2768, 'fest': 2769, 'hamlet': 2770, 'fanci': 2771, 'induc': 2772, 'conspiraci': 2773, 'tool': 2774, 'float': 2775, 'grate': 2776, 'arrang': 2777, 'unbear': 2778, 'resort': 2779, 'simpson': 2780, 'spike': 2781, 'puppet': 2782, 'pig': 2783, 'choreograph': 2784, 'tribut': 2785, 'phillip': 2786, 'boll': 2787, 'cruis': 2788, 'muppet': 2789, 'basement': 2790, 'exercis': 2791, 'guilt': 2792, 'slip': 2793, 'item': 2794, 'layer': 2795, '24': 2796, 'document': 2797, 'editor': 2798, 'puzzl': 2799, 'ward': 2800, 'file': 2801, 'toilet': 2802, 'medium': 2803, 'korean': 2804, 'scarecrow': 2805, 'babe': 2806, 'tower': 2807, 'fianc': 2808, 'ham': 2809, 'stan': 2810, 'librari': 2811, 'spark': 2812, 'orient': 2813, 'persona': 2814, 'slaughter': 2815, 'territori': 2816, 'superfici': 2817, 'transit': 2818, 'minim': 2819, 'assur': 2820, 'philosoph': 2821, 'larger': 2822, 'catherin': 2823, 'denzel': 2824, 'glover': 2825, 'doc': 2826, 'portion': 2827, 'inexplic': 2828, 'ban': 2829, 'owe': 2830, 'boredom': 2831, 'jeremi': 2832, 'wolf': 2833, 'financi': 2834, 'curti': 2835, 'dorothi': 2836, 'walken': 2837, 'pg': 2838, 'jet': 2839, 'shi': 2840, 'sneak': 2841, 'eleph': 2842, 'whale': 2843, 'backdrop': 2844, 'cusack': 2845, 'multi': 2846, 'hudson': 2847, 'metaphor': 2848, 'profound': 2849, 'ambigu': 2850, 'stiff': 2851, 'gadget': 2852, 'birthday': 2853, 'elsewher': 2854, 'union': 2855, 'ultra': 2856, 'notion': 2857, 'hack': 2858, '2005': 2859, 'rave': 2860, 'viru': 2861, 'implaus': 2862, 'hawk': 2863, 'disc': 2864, 'urg': 2865, 'bibl': 2866, 'canada': 2867, 'squar': 2868, 'distanc': 2869, 'eva': 2870, 'pad': 2871, 'deriv': 2872, '1st': 2873, 'poison': 2874, 'afford': 2875, 'eastwood': 2876, 'lloyd': 2877, 'reader': 2878, 'slight': 2879, 'newspap': 2880, 'superhero': 2881, 'skit': 2882, 'health': 2883, 'drown': 2884, 'charisma': 2885, 'essenc': 2886, 'cure': 2887, 'spread': 2888, 'montag': 2889, 'huh': 2890, 'sadist': 2891, 'heston': 2892, 'button': 2893, 'restaur': 2894, 'maniac': 2895, 'gradual': 2896, 'companion': 2897, 'muslim': 2898, 'godfath': 2899, 'estat': 2900, 'peak': 2901, 'invest': 2902, 'lab': 2903, 'dealt': 2904, 'fetch': 2905, 'scoobi': 2906, 'gothic': 2907, 'tea': 2908, 'alli': 2909, 'servant': 2910, 'countless': 2911, 'ritter': 2912, 'kane': 2913, 'miik': 2914, 'subtleti': 2915, 'cup': 2916, 'briefli': 2917, 'electr': 2918, 'charismat': 2919, 'elect': 2920, 'heroic': 2921, 'iii': 2922, 'salli': 2923, 'admittedli': 2924, 'bud': 2925, 'nuanc': 2926, 'ingredi': 2927, 'wannab': 2928, 'tender': 2929, 'resourc': 2930, 'toss': 2931, 'neil': 2932, 'reel': 2933, 'grandmoth': 2934, 'cole': 2935, 'poverti': 2936, 'dawson': 2937, 'mafia': 2938, 'pit': 2939, 'carrey': 2940, 'stronger': 2941, 'gate': 2942, 'pauli': 2943, 'reev': 2944, 'stood': 2945, 'punk': 2946, 'shall': 2947, 'mild': 2948, 'label': 2949, 'kubrick': 2950, 'updat': 2951, 'fond': 2952, 'terri': 2953, 'cardboard': 2954, 'smooth': 2955, 'astair': 2956, 'burst': 2957, 'assault': 2958, 'cox': 2959, 'ian': 2960, 'bakshi': 2961, 'tag': 2962, 'easier': 2963, 'smash': 2964, 'outcom': 2965, 'useless': 2966, 'melodramat': 2967, 'qualifi': 2968, '2002': 2969, 'sketch': 2970, 'fist': 2971, 'vari': 2972, 'coincid': 2973, 'rex': 2974, 'exchang': 2975, 'vulner': 2976, 'divers': 2977, 'samurai': 2978, 'resolv': 2979, 'increasingli': 2980, 'tame': 2981, 'scratch': 2982, 'blast': 2983, 'insert': 2984, 'luckili': 2985, 'suspend': 2986, 'brillianc': 2987, 'conveni': 2988, 'reynold': 2989, 'templ': 2990, 'be': 2991, 'jami': 2992, 'strictli': 2993, 'meat': 2994, 'matthew': 2995, 'gotta': 2996, 'fisher': 2997, 'farm': 2998, 'nuclear': 2999, 'ambiti': 3000, 'seventi': 3001, 'coach': 3002, 'pin': 3003, 'hamilton': 3004, 'walker': 3005, 'soprano': 3006, 'worthless': 3007, 'timeless': 3008, 'closet': 3009, 'grasp': 3010, 'cave': 3011, 'revers': 3012, 'ninja': 3013, 'monk': 3014, 'empir': 3015, 'struck': 3016, 'eccentr': 3017, 'spooki': 3018, 'convolut': 3019, 'clock': 3020, 'kudo': 3021, 'discoveri': 3022, 'butcher': 3023, 'joey': 3024, 'recreat': 3025, 'instantli': 3026, 'brosnan': 3027, 'declar': 3028, 'selfish': 3029, 'fifteen': 3030, 'inconsist': 3031, 'gray': 3032, 'sidekick': 3033, 'norman': 3034, 'clown': 3035, 'sloppi': 3036, 'seller': 3037, 'miracl': 3038, 'mitchel': 3039, 'eighti': 3040, 'importantli': 3041, 'partli': 3042, 'communist': 3043, 'pal': 3044, 'cliff': 3045, 'bleak': 3046, 'wipe': 3047, 'evok': 3048, 'aforement': 3049, 'chew': 3050, '45': 3051, 'seed': 3052, 'superbl': 3053, 'psychiatrist': 3054, 'debat': 3055, 'lifestyl': 3056, 'destin': 3057, 'piano': 3058, 'enthusiast': 3059, 'flawless': 3060, 'websit': 3061, 'cheek': 3062, 'ho': 3063, 'farc': 3064, 'australia': 3065, 'stoog': 3066, 'dire': 3067, 'dash': 3068, 'regardless': 3069, 'splatter': 3070, 'wrestl': 3071, 'slice': 3072, 'kitchen': 3073, 'abc': 3074, 'directori': 3075, 'akshay': 3076, 'drivel': 3077, 'pressur': 3078, 'bash': 3079, 'soviet': 3080, 'anni': 3081, 'wick': 3082, 'emili': 3083, 'incompet': 3084, 'beaten': 3085, 'judi': 3086, 'suppli': 3087, 'curios': 3088, 'recov': 3089, 'pleasantli': 3090, 'cagney': 3091, 'dave': 3092, 'cameron': 3093, 'increas': 3094, 'chapter': 3095, 'duo': 3096, 'jar': 3097, 'mann': 3098, 'distant': 3099, 'lou': 3100, 'prize': 3101, 'flower': 3102, 'ken': 3103, 'blob': 3104, 'helicopt': 3105, 'cia': 3106, 'boil': 3107, 'glow': 3108, 'artifici': 3109, 'doo': 3110, 'seduc': 3111, 'combat': 3112, 'laurel': 3113, 'ellen': 3114, 'splendid': 3115, 'favour': 3116, 'turner': 3117, 'ranger': 3118, 'francisco': 3119, 'web': 3120, 'goldberg': 3121, 'craig': 3122, 'drunken': 3123, 'hop': 3124, 'perri': 3125, 'craven': 3126, 'eleg': 3127, 'psychot': 3128, 'glenn': 3129, 'panic': 3130, 'slightest': 3131, 'graduat': 3132, 'falk': 3133, 'plausibl': 3134, 'ruth': 3135, 'flip': 3136, 'alexand': 3137, 'min': 3138, 'fx': 3139, 'shortli': 3140, 'hatr': 3141, '20th': 3142, 'wizard': 3143, 'rid': 3144, 'philosophi': 3145, 'gentl': 3146, 'greek': 3147, 'gandhi': 3148, 'modesti': 3149, 'knight': 3150, 'felix': 3151, 'legal': 3152, 'ocean': 3153, 'lend': 3154, 'preciou': 3155, 'dracula': 3156, 'fund': 3157, 'unpleas': 3158, 'tall': 3159, 'holi': 3160, 'manhattan': 3161, 'we': 3162, 'futurist': 3163, 'jealou': 3164, 'harm': 3165, 'ami': 3166, 'childish': 3167, 'overdon': 3168, 'nod': 3169, 'giallo': 3170, 'reviv': 3171, 'tank': 3172, 'digniti': 3173, 'thread': 3174, 'bless': 3175, 'scientif': 3176, 'forbidden': 3177, 'explicit': 3178, 'mock': 3179, 'repeatedli': 3180, 'thick': 3181, 'torment': 3182, 'mel': 3183, '99': 3184, 'margaret': 3185, 'unwatch': 3186, 'broad': 3187, 'elderli': 3188, 'awe': 3189, 'verhoeven': 3190, 'awaken': 3191, '2004': 3192, 'nerv': 3193, 'pirat': 3194, 'yesterday': 3195, 'fever': 3196, 'eve': 3197, 'timothi': 3198, 'kay': 3199, 'roman': 3200, 'eas': 3201, 'lean': 3202, 'politician': 3203, 'launch': 3204, 'ambit': 3205, 'royal': 3206, 'publish': 3207, 'automat': 3208, 'griffith': 3209, 'custom': 3210, 'absenc': 3211, 'rivet': 3212, 'acclaim': 3213, 'ah': 3214, 'uniform': 3215, 'stiller': 3216, 'romero': 3217, 'bin': 3218, 'stinker': 3219, 'bathroom': 3220, 'darker': 3221, 'antic': 3222, 'gabriel': 3223, 'pulp': 3224, 'purpl': 3225, 'phrase': 3226, 'sunshin': 3227, 'crook': 3228, 'wallac': 3229, 'warren': 3230, 'homicid': 3231, 'transport': 3232, 'foul': 3233, 'tomato': 3234, 'termin': 3235, 'pierc': 3236, 'awak': 3237, 'eyr': 3238, 'album': 3239, 'horrid': 3240, 'ought': 3241, 'karen': 3242, 'revolutionari': 3243, 'marin': 3244, 'evolv': 3245, 'saint': 3246, 'sixti': 3247, 'donna': 3248, 'packag': 3249, 'coloni': 3250, 'choreographi': 3251, '2003': 3252, 'juvenil': 3253, 'viciou': 3254, 'hollow': 3255, 'rambo': 3256, 'pray': 3257, 'brazil': 3258, 'kenneth': 3259, 'li': 3260, 'q': 3261, 'prom': 3262, 'contrari': 3263, 'stole': 3264, 'conserv': 3265, 'twelv': 3266, 'overr': 3267, 'kapoor': 3268, 'candid': 3269, 'ireland': 3270, 'blade': 3271, 'defi': 3272, 'ramon': 3273, 'mummi': 3274, 'option': 3275, 'boast': 3276, 'mildr': 3277, 'dose': 3278, 'beatti': 3279, 'nerd': 3280, 'trio': 3281, 'jazz': 3282, 'flame': 3283, 'funer': 3284, 'protest': 3285, 'collabor': 3286, 'astonish': 3287, 'fulci': 3288, 'confirm': 3289, 'detract': 3290, 'kirk': 3291, 'natali': 3292, 'global': 3293, 'altman': 3294, 'bull': 3295, 'yellow': 3296, 'audio': 3297, 'racial': 3298, 'shade': 3299, 'destini': 3300, 'spit': 3301, 'whip': 3302, 'mystic': 3303, 'delici': 3304, 'tommi': 3305, 'blake': 3306, 'bottl': 3307, 'leap': 3308, 'nicholson': 3309, 'enterpris': 3310, 'staff': 3311, 'adolesc': 3312, 'harder': 3313, 'visibl': 3314, 'fonda': 3315, 'merci': 3316, 'neo': 3317, 'todd': 3318, 'reunit': 3319, 'meaningless': 3320, 'popcorn': 3321, 'threw': 3322, 'altogeth': 3323, 'swedish': 3324, 'pseudo': 3325, 'inherit': 3326, 'enchant': 3327, 'vivid': 3328, 'bedroom': 3329, 'ruthless': 3330, 'moodi': 3331, 'tip': 3332, 'exhibit': 3333, 'await': 3334, 'uneven': 3335, 'jew': 3336, 'decor': 3337, 'lemmon': 3338, 'fanat': 3339, 'kennedi': 3340, 'bust': 3341, 'suspici': 3342, 'leonard': 3343, 'synopsi': 3344, 'reserv': 3345, 'roommat': 3346, 'respond': 3347, 'wire': 3348, 'lawrenc': 3349, 'madonna': 3350, 'atlanti': 3351, 'befriend': 3352, 'voight': 3353, 'crocodil': 3354, 'edi': 3355, 'bargain': 3356, 'voyag': 3357, 'abysm': 3358, 'carl': 3359, 'clumsi': 3360, 'ventur': 3361, 'incident': 3362, '2007': 3363, 'bradi': 3364, 'clint': 3365, 'garner': 3366, 'centr': 3367, 'bold': 3368, 'audit': 3369, 'chao': 3370, 'palma': 3371, 'rural': 3372, 'unsettl': 3373, 'dimens': 3374, 'holli': 3375, 'nearbi': 3376, 'imperson': 3377, 'tiger': 3378, 'acknowledg': 3379, 'cuba': 3380, 'versu': 3381, 'immigr': 3382, 'mall': 3383, 'troop': 3384, 'characterist': 3385, 'cari': 3386, 'poetic': 3387, '2nd': 3388, 'echo': 3389, 'daddi': 3390, 'timon': 3391, 'humili': 3392, 'cd': 3393, 'neglect': 3394, 'trail': 3395, 'hart': 3396, 'lit': 3397, 'elimin': 3398, 'ant': 3399, 'wealth': 3400, 'marshal': 3401, 'pun': 3402, 'solo': 3403, 'domest': 3404, 'jeffrey': 3405, 'celluloid': 3406, 'saga': 3407, 'infect': 3408, 'prejudic': 3409, 'mickey': 3410, 'mistaken': 3411, 'collaps': 3412, 'repuls': 3413, 'paus': 3414, 'homer': 3415, 'olivi': 3416, 'coffe': 3417, 'cake': 3418, 'undoubtedli': 3419, 'coat': 3420, 'leon': 3421, 'promin': 3422, 'equip': 3423, 'assembl': 3424, 'apolog': 3425, 'ginger': 3426, 'hbo': 3427, 'gear': 3428, 'interrupt': 3429, 'chest': 3430, '1996': 3431, 'sore': 3432, 'pant': 3433, 'inappropri': 3434, 'tribe': 3435, 'inan': 3436, 'harvey': 3437, 'milk': 3438, 'institut': 3439, 'consum': 3440, 'furthermor': 3441, 'pot': 3442, 'retain': 3443, 'colonel': 3444, 'jenni': 3445, 'instant': 3446, 'florida': 3447, 'highest': 3448, 'primari': 3449, 'exot': 3450, 'embrac': 3451, 'trace': 3452, 'solut': 3453, 'polanski': 3454, 'pen': 3455, 'colleagu': 3456, 'devast': 3457, 'airplan': 3458, 'humbl': 3459, 'brooklyn': 3460, 'aveng': 3461, 'vulgar': 3462, 'maggi': 3463, 'strain': 3464, 'illog': 3465, 'sale': 3466, 'principl': 3467, 'gender': 3468, 'godzilla': 3469, 'descend': 3470, 'smaller': 3471, 'dian': 3472, 'disabl': 3473, '1999': 3474, 'outer': 3475, '3rd': 3476, 'wive': 3477, 'cope': 3478, 'poke': 3479, 'ya': 3480, 'linda': 3481, 'bowl': 3482, 'seduct': 3483, 'rick': 3484, 'dutch': 3485, 'lol': 3486, 'predecessor': 3487, 'blatant': 3488, 'gloriou': 3489, 'hal': 3490, 'yard': 3491, 'scope': 3492, 'devoid': 3493, 'vast': 3494, 'inferior': 3495, 'rabbit': 3496, 'dud': 3497, 'mixtur': 3498, 'primarili': 3499, 'secondli': 3500, 'glamor': 3501, 'gundam': 3502, 'beneath': 3503, 'bubbl': 3504, 'cue': 3505, 'dive': 3506, 'shelf': 3507, 'trademark': 3508, 'grinch': 3509, 'casual': 3510, 'talki': 3511, 'z': 3512, 'april': 3513, 'streep': 3514, 'alert': 3515, 'aggress': 3516, 'alfr': 3517, 'invas': 3518, 'disjoint': 3519, 'countrysid': 3520, 'simplist': 3521, 'pearl': 3522, 'et': 3523, 'hideou': 3524, 'myer': 3525, 'breed': 3526, 'senseless': 3527, 'domino': 3528, 'museum': 3529, 'shirley': 3530, 'arab': 3531, 'garbo': 3532, 'unhappi': 3533, 'stellar': 3534, 'experiment': 3535, 'hardcor': 3536, 'vanish': 3537, 'mayor': 3538, 'applaud': 3539, 'loyal': 3540, 'disgrac': 3541, 'acid': 3542, 'rendit': 3543, 'uwe': 3544, 'robinson': 3545, 'hopeless': 3546, 'oz': 3547, 'khan': 3548, 'boom': 3549, 'sh': 3550, 'mail': 3551, 'illeg': 3552, 'robberi': 3553, 'defens': 3554, 'slide': 3555, 'stir': 3556, 'stack': 3557, 'obtain': 3558, 'maci': 3559, 'fri': 3560, 'rifl': 3561, 'dismiss': 3562, 'emphasi': 3563, 'span': 3564, 'psychic': 3565, 'wont': 3566, 'grandfath': 3567, 'craze': 3568, 'tempt': 3569, 'incomprehens': 3570, 'blew': 3571, 'spider': 3572, 'recruit': 3573, 'diana': 3574, 'declin': 3575, 'dicken': 3576, 'amanda': 3577, 'topless': 3578, 'counter': 3579, 'soccer': 3580, 'scroog': 3581, 'berlin': 3582, 'tenant': 3583, 'hartley': 3584, 'resurrect': 3585, 'ration': 3586, 'niro': 3587, 'wet': 3588, 'parad': 3589, 'riot': 3590, 'porno': 3591, 'shaw': 3592, 'goer': 3593, 'shed': 3594, 'sympath': 3595, 'trashi': 3596, 'faster': 3597, 'justin': 3598, 'intim': 3599, 'revolt': 3600, 'sibl': 3601, 'lumet': 3602, 'bitch': 3603, 'woo': 3604, 'ethnic': 3605, 'enlighten': 3606, 'andr': 3607, 'choru': 3608, 'lena': 3609, 'commend': 3610, 'patriot': 3611, 'jonathan': 3612, 'slick': 3613, 'feminist': 3614, 'eager': 3615, 'steam': 3616, 'biographi': 3617, 'partial': 3618, 'ensur': 3619, 'nephew': 3620, 'honesti': 3621, 'farmer': 3622, 'rider': 3623, 'wheel': 3624, 'hopper': 3625, '00': 3626, 'unreal': 3627, 'weakest': 3628, 'immort': 3629, 'dealer': 3630, 'gap': 3631, 'ballet': 3632, 'region': 3633, 'hesit': 3634, 'mario': 3635, 'wendi': 3636, 'worm': 3637, 'mutant': 3638, 'util': 3639, 'vice': 3640, 'prequel': 3641, 'confin': 3642, 'morri': 3643, 'franco': 3644, 'nostalg': 3645, 'blunt': 3646, 'properti': 3647, 'leo': 3648, 'charlott': 3649, 'wore': 3650, 'snap': 3651, 'kingdom': 3652, 'composit': 3653, 'similarli': 3654, 'owen': 3655, 'victori': 3656, 'safeti': 3657, 'sappi': 3658, 'psychopath': 3659, 'repress': 3660, 'skull': 3661, 'hung': 3662, 'sandra': 3663, 'macarthur': 3664, 'hyde': 3665, 'repli': 3666, 'strand': 3667, 'valuabl': 3668, 'speci': 3669, 'dalton': 3670, 'tad': 3671, 'exit': 3672, 'dust': 3673, 'rocki': 3674, 'compens': 3675, 'pattern': 3676, 'rope': 3677, 'despair': 3678, 'bow': 3679, 'recycl': 3680, 'bonu': 3681, 'thru': 3682, 'del': 3683, 'whoopi': 3684, 'deed': 3685, 'heartbreak': 3686, 'compass': 3687, 'miseri': 3688, 'farrel': 3689, 'campbel': 3690, 'drum': 3691, 'bumbl': 3692, 'latin': 3693, 'tail': 3694, 'cg': 3695, 'montana': 3696, 'snl': 3697, 'kyle': 3698, 'rambl': 3699, '1972': 3700, 'nervou': 3701, 'acquir': 3702, 'drain': 3703, 'emperor': 3704, 'bergman': 3705, 'roth': 3706, 'gal': 3707, 'mistress': 3708, 'oppress': 3709, 'tonight': 3710, 'martian': 3711, 'rapist': 3712, 'romp': 3713, 'da': 3714, 'orson': 3715, 'radic': 3716, 'contempl': 3717, 'wacki': 3718, 'chess': 3719, 'bleed': 3720, 'pour': 3721, 'gimmick': 3722, '35': 3723, 'downhil': 3724, 'slug': 3725, 'olli': 3726, 'rotten': 3727, 'percept': 3728, 'airport': 3729, 'carradin': 3730, 'dazzl': 3731, 'mislead': 3732, 'slash': 3733, 'champion': 3734, 'attorney': 3735, 'tooth': 3736, 'heal': 3737, 'pervert': 3738, 'pervers': 3739, 'edgar': 3740, 'pursuit': 3741, 'tackl': 3742, 'paltrow': 3743, 'shelley': 3744, 'stilt': 3745, 'banal': 3746, 'preach': 3747, 'unpredict': 3748, '1983': 3749, 'arc': 3750, 'belt': 3751, 'programm': 3752, 'melodi': 3753, 'taught': 3754, 'arguabl': 3755, 'sensat': 3756, 'passeng': 3757, 'raymond': 3758, 'employe': 3759, 'tiresom': 3760, 'graham': 3761, 'virginia': 3762, 'rubi': 3763, 'maid': 3764, 'cleverli': 3765, 'franki': 3766, 'poem': 3767, 'vocal': 3768, 'orang': 3769, 'chicken': 3770, 'dixon': 3771, 'vengeanc': 3772, 'uplift': 3773, 'gambl': 3774, 'plight': 3775, 'mesmer': 3776, 'duval': 3777, 'conneri': 3778, 'closest': 3779, 'marti': 3780, 'bela': 3781, 'lundgren': 3782, 'volum': 3783, 'pokemon': 3784, 'abraham': 3785, 'giggl': 3786, 'convincingli': 3787, 'crystal': 3788, 'extens': 3789, 'amitabh': 3790, 'numb': 3791, 'quarter': 3792, 'tube': 3793, 'profan': 3794, 'whine': 3795, 'suffic': 3796, 'climact': 3797, 'inject': 3798, 'yawn': 3799, 'engross': 3800, 'swallow': 3801, '1968': 3802, 'monologu': 3803, 'paranoia': 3804, 'habit': 3805, 'mute': 3806, 'outing': 3807, 'scottish': 3808, 'bay': 3809, 'gerard': 3810, 'sirk': 3811, 'calm': 3812, 'clone': 3813, 'secretli': 3814, 'iran': 3815, 'surpass': 3816, 'profess': 3817, 'backward': 3818, 'grotesqu': 3819, 'underst': 3820, 'poetri': 3821, 'dispos': 3822, 'earl': 3823, 'nichola': 3824, 'franci': 3825, 'abort': 3826, 'taxi': 3827, 'lowest': 3828, 'chicago': 3829, 'bend': 3830, 'meander': 3831, 'septemb': 3832, 'ethan': 3833, 'austen': 3834, 'junior': 3835, 'linger': 3836, 'fed': 3837, 'plod': 3838, 'expand': 3839, 'spock': 3840, 'im': 3841, 'frankenstein': 3842, 'trend': 3843, 'richardson': 3844, 'household': 3845, 'rant': 3846, 'sue': 3847, 'catchi': 3848, 'simplic': 3849, 'compliment': 3850, 'tourist': 3851, 'greedi': 3852, 'instrument': 3853, 'cannon': 3854, 'literatur': 3855, 'econom': 3856, 'eugen': 3857, 'muddl': 3858, 'stallon': 3859, 'spoke': 3860, 'waitress': 3861, 'der': 3862, 'myth': 3863, 'descent': 3864, 'dysfunct': 3865, 'mundan': 3866, 'nostalgia': 3867, 'rubber': 3868, 'hum': 3869, 'lure': 3870, 'duck': 3871, 'omen': 3872, 'equival': 3873, 'recognis': 3874, 'damon': 3875, 'coast': 3876, 'molli': 3877, 'insur': 3878, 'dement': 3879, 'eaten': 3880, 'carel': 3881, 'irrelev': 3882, 'recognit': 3883, 'firstli': 3884, 'map': 3885, 'june': 3886, 'alongsid': 3887, 'hello': 3888, 'sissi': 3889, 'phantom': 3890, 'mortal': 3891, 'mankind': 3892, 'crucial': 3893, 'phoni': 3894, 'louis': 3895, 'occupi': 3896, 'lang': 3897, 'stale': 3898, 'flee': 3899, 'bacal': 3900, 'dictat': 3901, 'cent': 3902, 'furi': 3903, 'randi': 3904, 'deaf': 3905, 'heel': 3906, 'wisdom': 3907, 'lengthi': 3908, 'daisi': 3909, 'labor': 3910, 'bump': 3911, 'rude': 3912, 'damm': 3913, 'cyborg': 3914, 'dreari': 3915, 'twilight': 3916, 'freez': 3917, 'loyalti': 3918, 'antwon': 3919, 'buffalo': 3920, 'rooney': 3921, 'bike': 3922, 'distinguish': 3923, '1973': 3924, 'likewis': 3925, 'reign': 3926, 'ashley': 3927, 'newli': 3928, 'onlin': 3929, 'grayson': 3930, 'drake': 3931, 'blackmail': 3932, 'biko': 3933, 'analysi': 3934, 'prey': 3935, 'nineti': 3936, 'tunnel': 3937, 'keith': 3938, 'incorpor': 3939, 'worn': 3940, 'interior': 3941, 'pink': 3942, 'chronicl': 3943, 'ridden': 3944, 'sailor': 3945, 'vein': 3946, 'unorigin': 3947, 'approv': 3948, 'basketbal': 3949, 'provoc': 3950, 'proce': 3951, 'barrymor': 3952, 'exposur': 3953, 'attribut': 3954, 'emphas': 3955, 'boxer': 3956, 'butler': 3957, 'startl': 3958, 'baddi': 3959, 'inher': 3960, 'substitut': 3961, 'simmon': 3962, 'improvis': 3963, 'undeni': 3964, 'er': 3965, 'meyer': 3966, 'underli': 3967, 'barrel': 3968, 'indiffer': 3969, 'belushi': 3970, 'mormon': 3971, 'hypnot': 3972, 'condemn': 3973, 'degrad': 3974, 'meg': 3975, 'stalker': 3976, 'fleet': 3977, 'elm': 3978, 'unrel': 3979, 'othello': 3980, 'millionair': 3981, 'walsh': 3982, 'nicol': 3983, 'predat': 3984, 'robbin': 3985, 'bunni': 3986, 'carla': 3987, 'drift': 3988, 'mighti': 3989, 'julian': 3990, 'dolph': 3991, 'priceless': 3992, 'greed': 3993, 'hay': 3994, 'reid': 3995, 'watson': 3996, 'vital': 3997, 'lampoon': 3998, 'roof': 3999, 'novak': 4000, 'firm': 4001, 'unawar': 4002, 'mtv': 4003, 'exquisit': 4004, '3d': 4005, 'disord': 4006, 'errol': 4007, 'edgi': 4008, 'marion': 4009, 'enthusiasm': 4010, 'nyc': 4011, 'alarm': 4012, 'shove': 4013, 'palac': 4014, 'warmth': 4015, 'agenda': 4016, 'alison': 4017, 'rukh': 4018, 'minimum': 4019, '13th': 4020, 'testament': 4021, 'nun': 4022, 'gestur': 4023, 'ponder': 4024, 'what': 4025, '1933': 4026, 'randomli': 4027, 'petti': 4028, 'preserv': 4029, 'profit': 4030, 'spain': 4031, 'pamela': 4032, 'campaign': 4033, 'sergeant': 4034, 'eastern': 4035, 'coup': 4036, 'distort': 4037, 'orlean': 4038, 'championship': 4039, 'angela': 4040, 'session': 4041, 'peck': 4042, 'crown': 4043, 'unleash': 4044, 'drip': 4045, 'iraq': 4046, 'thompson': 4047, 'cassidi': 4048, 'israel': 4049, 'glanc': 4050, 'simultan': 4051, 'beatl': 4052, 'peril': 4053, 'valentin': 4054, 'showdown': 4055, 'zizek': 4056, 'shootout': 4057, 'gentleman': 4058, 'quinn': 4059, 'wig': 4060, 'cream': 4061, 'bro': 4062, 'rout': 4063, 'jan': 4064, 'valley': 4065, 'crow': 4066, 'buster': 4067, '1984': 4068, 'calib': 4069, 'represent': 4070, 'scotland': 4071, 'contradict': 4072, 'stake': 4073, 'crawl': 4074, 'restrain': 4075, 'miyazaki': 4076, 'reson': 4077, 'travesti': 4078, 'stroke': 4079, 'exposit': 4080, 'brenda': 4081, 'empathi': 4082, 'han': 4083, 'realm': 4084, 'cooki': 4085, 'mon': 4086, 'regist': 4087, 'din': 4088, 'climat': 4089, 'perpetu': 4090, 'sabrina': 4091, 'unimagin': 4092, 'fido': 4093, 'kurosawa': 4094, 'dana': 4095, 'crawford': 4096, 'compromis': 4097, 'demis': 4098, 'abomin': 4099, 'sammi': 4100, 'unseen': 4101, 'sucker': 4102, 'cloud': 4103, 'shoddi': 4104, 'pole': 4105, 'ross': 4106, '1997': 4107, 'pretens': 4108, 'perceiv': 4109, 'businessman': 4110, 'meryl': 4111, 'traumat': 4112, 'censor': 4113, 'absent': 4114, 'femm': 4115, 'mclaglen': 4116, 'unsatisfi': 4117, 'geek': 4118, 'spacey': 4119, 'warrant': 4120, '1987': 4121, 'passabl': 4122, 'shaki': 4123, 'josh': 4124, 'baldwin': 4125, 'tacki': 4126, 'delic': 4127, 'painter': 4128, 'greg': 4129, 'fuller': 4130, 'monoton': 4131, 'wax': 4132, 'distress': 4133, 'ustinov': 4134, 'derang': 4135, 'soderbergh': 4136, 'stargat': 4137, 'darren': 4138, 'seal': 4139, 'clash': 4140, 'norm': 4141, 'accuraci': 4142, 'reluct': 4143, 'correctli': 4144, 'verbal': 4145, 'deniro': 4146, 'furiou': 4147, 'deceas': 4148, 'uncov': 4149, 'kumar': 4150, 'primit': 4151, 'sid': 4152, 'tech': 4153, 'judgment': 4154, 'antonioni': 4155, 'fenc': 4156, '1993': 4157, 'unravel': 4158, 'tarantino': 4159, 'click': 4160, 'austin': 4161, 'nathan': 4162, 'valid': 4163, 'exclus': 4164, 'expedit': 4165, 'dee': 4166, 'wholli': 4167, 'jewel': 4168, 'polici': 4169, 'anchor': 4170, 'fog': 4171, 'temper': 4172, '1995': 4173, 'conduct': 4174, 'joel': 4175, 'pocket': 4176, 'patienc': 4177, 'vanc': 4178, 'mode': 4179, 'fart': 4180, 'fought': 4181, 'sunni': 4182, 'shanghai': 4183, 'alec': 4184, 'ritual': 4185, 'dreck': 4186, 'clerk': 4187, 'tax': 4188, 'roller': 4189, 'seldom': 4190, 'debt': 4191, 'darn': 4192, 'unfair': 4193, 'logan': 4194, '1971': 4195, 'sustain': 4196, '2008': 4197, 'enforc': 4198, 'behold': 4199, 'crippl': 4200, 'nicola': 4201, 'hallucin': 4202, 'trait': 4203, 'murray': 4204, 'slam': 4205, 'malon': 4206, 'bake': 4207, 'sheet': 4208, 'fabric': 4209, '3000': 4210, 'wretch': 4211, 'sand': 4212, 'wang': 4213, 'preposter': 4214, 'soup': 4215, 'penni': 4216, 'guitar': 4217, 'legaci': 4218, 'grief': 4219, 'bridget': 4220, 'conscious': 4221, 'clau': 4222, 'stuart': 4223, 'sweep': 4224, 'schedul': 4225, 'runner': 4226, 'shell': 4227, 'isabel': 4228, 'fundament': 4229, 'squad': 4230, 'phil': 4231, 'stark': 4232, 'divid': 4233, 'scriptwrit': 4234, 'helpless': 4235, 'exhaust': 4236, 'critiqu': 4237, 'pete': 4238, 'preston': 4239, 'canyon': 4240, 'bias': 4241, 'rita': 4242, 'tactic': 4243, 'despis': 4244, 'outlin': 4245, 'robber': 4246, 'technicolor': 4247, 'rear': 4248, 'marc': 4249, 'liberti': 4250, 'inabl': 4251, 'implic': 4252, 'boyl': 4253, 'culmin': 4254, 'propos': 4255, 'gregori': 4256, 'delv': 4257, 'bloom': 4258, 'restrict': 4259, 'newman': 4260, 'russia': 4261, 'vomit': 4262, 'kansa': 4263, 'flair': 4264, 'downey': 4265, 'rehash': 4266, 'jodi': 4267, 'agenc': 4268, 'jacket': 4269, 'drove': 4270, 'invad': 4271, 'sentinel': 4272, 'alicia': 4273, 'alley': 4274, 'palanc': 4275, 'sugar': 4276, 'lacklust': 4277, 'consciou': 4278, 'connor': 4279, 'passag': 4280, 'sniper': 4281, 'cigarett': 4282, 'unexpectedli': 4283, 'foxx': 4284, 'tripe': 4285, 'asylum': 4286, '22': 4287, 'rod': 4288, 'delet': 4289, 'aesthet': 4290, 'behaviour': 4291, 'vet': 4292, 'rehears': 4293, 'awhil': 4294, '1936': 4295, 'chainsaw': 4296, 'sharon': 4297, 'karl': 4298, 'bacon': 4299, 'mccoy': 4300, 'horn': 4301, 'lush': 4302, 'improb': 4303, 'cap': 4304, 'feat': 4305, 'rampag': 4306, 'wrench': 4307, 'ladder': 4308, 'pale': 4309, 'tendenc': 4310, 'arrow': 4311, 'yeti': 4312, 'kolchak': 4313, 'paramount': 4314, 'rumor': 4315, 'fright': 4316, 'sung': 4317, 'elit': 4318, 'suspicion': 4319, 'hackney': 4320, 'shortcom': 4321, 'newcom': 4322, 'filler': 4323, 'prank': 4324, 'lurk': 4325, 'globe': 4326, 'amazon': 4327, 'conscienc': 4328, 'tomorrow': 4329, 'el': 4330, 'wagner': 4331, 'financ': 4332, '1978': 4333, 'suffici': 4334, 'coaster': 4335, 'rhythm': 4336, 'stream': 4337, 'aristocrat': 4338, '1988': 4339, 'wildli': 4340, 'paradis': 4341, 'hungri': 4342, 'basing': 4343, '19th': 4344, 'loneli': 4345, 'scoop': 4346, 'visitor': 4347, 'weav': 4348, 'thunderbird': 4349, 'minu': 4350, 'tasteless': 4351, 'spice': 4352, 'underneath': 4353, '1920': 4354, 'hulk': 4355, 'ingeni': 4356, 'leigh': 4357, 'bread': 4358, 'counterpart': 4359, 'paxton': 4360, 'ram': 4361, 'iv': 4362, 'atroc': 4363, 'naughti': 4364, 'heist': 4365, 'smell': 4366, 'grudg': 4367, 'tierney': 4368, '1939': 4369, 'literari': 4370, 'hopkin': 4371, 'beverli': 4372, 'teas': 4373, 'posey': 4374, '1989': 4375, 'quietli': 4376, 'dirt': 4377, 'standout': 4378, 'minist': 4379, '75': 4380, 'worship': 4381, 'lectur': 4382, 'recogniz': 4383, 'rub': 4384, 'en': 4385, 'impos': 4386, 'wwe': 4387, 'entranc': 4388, 'immers': 4389, 'inmat': 4390, 'secondari': 4391, 'cancer': 4392, 'abrupt': 4393, 'chavez': 4394, 'springer': 4395, 'brit': 4396, 'choppi': 4397, 'straightforward': 4398, 'couch': 4399, 'penn': 4400, 'chamberlain': 4401, 'curli': 4402, 'laurenc': 4403, 'entitl': 4404, 'nemesi': 4405, 'moreov': 4406, 'convert': 4407, 'cattl': 4408, 'ace': 4409, 'injuri': 4410, 'net': 4411, 'watcher': 4412, 'yearn': 4413, 'duel': 4414, 'nolan': 4415, 'transcend': 4416, 'sassi': 4417, '1986': 4418, 'quaid': 4419, 'enthral': 4420, 'skeptic': 4421, 'geni': 4422, 'clan': 4423, 'heartfelt': 4424, 'lindsay': 4425, 'bernard': 4426, 'attenborough': 4427, 'variat': 4428, 'missil': 4429, 'morbid': 4430, 'policeman': 4431, 'misguid': 4432, 'sublim': 4433, 'esther': 4434, 'ratso': 4435, 'graini': 4436, 'puppi': 4437, 'brood': 4438, 'hopelessli': 4439, 'cruelti': 4440, 'carlito': 4441, 'dont': 4442, 'kitti': 4443, 'unexplain': 4444, 'diari': 4445, 'characteris': 4446, 'obstacl': 4447, 'mytholog': 4448, 'egg': 4449, 'youngest': 4450, 'reliabl': 4451, 'tyler': 4452, 'setup': 4453, '1979': 4454, 'bye': 4455, 'rosemari': 4456, 'steadi': 4457, 'artsi': 4458, 'moder': 4459, 'enabl': 4460, 'uncut': 4461, 'poe': 4462, 'buzz': 4463, 'bean': 4464, 'spiral': 4465, 'hk': 4466, 'grin': 4467, 'vader': 4468, 'kidman': 4469, 'out': 4470, 'facil': 4471, 'oblig': 4472, 'effici': 4473, 'niec': 4474, '1969': 4475, 'baffl': 4476, 'sweat': 4477, 'hammi': 4478, 'disastr': 4479, 'christin': 4480, 'gillian': 4481, 'clueless': 4482, 'fuel': 4483, 'spontan': 4484, 'despic': 4485, 'patricia': 4486, 'heap': 4487, 'exterior': 4488, 'narrow': 4489, 'preming': 4490, 'martha': 4491, 'acquaint': 4492, 'bounc': 4493, 'decept': 4494, 'athlet': 4495, 'gina': 4496, 'weather': 4497, 'bewar': 4498, 'underworld': 4499, 'hain': 4500, 'kline': 4501, 'bronson': 4502, 'brendan': 4503, 'shatter': 4504, 'viewpoint': 4505, 'circu': 4506, 'uh': 4507, 'goof': 4508, 'scar': 4509, 'analyz': 4510, 'dilemma': 4511, 'preachi': 4512, 'mayhem': 4513, 'dandi': 4514, 'sooner': 4515, 'fontain': 4516, 'taboo': 4517, 'harmless': 4518, 'angst': 4519, 'headach': 4520, 'lester': 4521, 'outlaw': 4522, 'insipid': 4523, 'loath': 4524, '19': 4525, 'astound': 4526, '73': 4527, 'sleepwalk': 4528, 'virtu': 4529, 'loi': 4530, 'enlist': 4531, 'mermaid': 4532, 'trigger': 4533, 'biker': 4534, 'injur': 4535, 'tick': 4536, 'hepburn': 4537, 'suprem': 4538, 'housewif': 4539, 'candl': 4540, 'rome': 4541, 'renaiss': 4542, 'phenomenon': 4543, 'whore': 4544, 'idol': 4545, 'steer': 4546, 'immatur': 4547, 'zoom': 4548, 'gere': 4549, 'boston': 4550, 'amor': 4551, 'surgeri': 4552, 'dish': 4553, 'hokey': 4554, 'redund': 4555, 'oldest': 4556, 'dismal': 4557, 'claustrophob': 4558, 'scorses': 4559, 'slimi': 4560, 'foolish': 4561, 'glorifi': 4562, 'tripl': 4563, 'stimul': 4564, 'corbett': 4565, 'overlong': 4566, 'macho': 4567, 'hooker': 4568, 'stair': 4569, 'contempt': 4570, 'guin': 4571, 'ebert': 4572, 'fluff': 4573, 'spade': 4574, 'sox': 4575, 'camcord': 4576, 'salt': 4577, 'hostag': 4578, 'filth': 4579, 'cassavet': 4580, 'intric': 4581, 'bent': 4582, 'ariel': 4583, 'shred': 4584, 'antagonist': 4585, 'flashi': 4586, '1981': 4587, 'margin': 4588, 'spinal': 4589, 'harold': 4590, 'preced': 4591, 'flag': 4592, 'conquer': 4593, 'trivia': 4594, 'zane': 4595, 'joker': 4596, 'gabl': 4597, 'fascist': 4598, 'frantic': 4599, 'assert': 4600, 'messi': 4601, 'widescreen': 4602, 'strongest': 4603, 'muscl': 4604, 'mount': 4605, '1976': 4606, 'nolt': 4607, 'mutual': 4608, 'faint': 4609, 'spree': 4610, 'gasp': 4611, 'dwarf': 4612, 'radiat': 4613, 'keen': 4614, 'cush': 4615, 'cow': 4616, 'obligatori': 4617, 'beard': 4618, 'down': 4619, 'schlock': 4620, 'corman': 4621, 'transplant': 4622, 'proport': 4623, 'flirt': 4624, 'astronaut': 4625, 'naschi': 4626, 'cohen': 4627, 'perman': 4628, 'rhyme': 4629, 'alvin': 4630, 'remad': 4631, 'shield': 4632, 'someday': 4633, 'deer': 4634, 'brush': 4635, 'off': 4636, 'barn': 4637, 'flock': 4638, 'instruct': 4639, 'scandal': 4640, 'info': 4641, 'persuad': 4642, 'inflict': 4643, 'vaniti': 4644, '1945': 4645, '28': 4646, 'departur': 4647, 'claud': 4648, 'discern': 4649, 'triangl': 4650, 'strive': 4651, '95': 4652, 'repris': 4653, 'divin': 4654, 'archiv': 4655, 'resum': 4656, 'danish': 4657, 'neurot': 4658, 'mobil': 4659, 'fishburn': 4660, 'carey': 4661, 'www': 4662, 'bitten': 4663, 'ritchi': 4664, 'boob': 4665, 'bachelor': 4666, 'sensual': 4667, 'hara': 4668, 'wield': 4669, 'raj': 4670, 'interestingli': 4671, 'mol': 4672, 'aborigin': 4673, 'hapless': 4674, 'loretta': 4675, 'jade': 4676, 'harrison': 4677, 'rot': 4678, 'melissa': 4679, 'cher': 4680, 'hug': 4681, 'clad': 4682, 'traffic': 4683, 'senior': 4684, 'pacif': 4685, 'bate': 4686, 'dim': 4687, 'axe': 4688, 'banter': 4689, 'ish': 4690, 'carlo': 4691, 'cliffhang': 4692, 'cycl': 4693, 'heartwarm': 4694, 'recit': 4695, 'artwork': 4696, 'cb': 4697, 'anton': 4698, 'vibrant': 4699, 'kathryn': 4700, 'neill': 4701, 'timberlak': 4702, 'prophet': 4703, 'dylan': 4704, 'casino': 4705, 'dame': 4706, 'fragil': 4707, 'proclaim': 4708, 'helm': 4709, 'mobster': 4710, 'undermin': 4711, 'luka': 4712, 'pickford': 4713, 'colin': 4714, 'parson': 4715, 'frontier': 4716, 'miracul': 4717, 'pixar': 4718, 'earnest': 4719, 'biblic': 4720, 'submit': 4721, 'europa': 4722, 'hilar': 4723, 'wendigo': 4724, 'articl': 4725, 'vile': 4726, 'token': 4727, 'akin': 4728, 'redneck': 4729, 'estrang': 4730, 'jo': 4731, 'http': 4732, 'legitim': 4733, 'cerebr': 4734, 'northern': 4735, 'venom': 4736, 'lui': 4737, 'lucil': 4738, 'static': 4739, 'razor': 4740, 'electron': 4741, 'seedi': 4742, 'aris': 4743, 'orphan': 4744, 'misfortun': 4745, 'antholog': 4746, 'illus': 4747, 'blatantli': 4748, 'bikini': 4749, 'uma': 4750, 'foil': 4751, 'winchest': 4752, 'bondag': 4753, 'mason': 4754, 'eli': 4755, 'nope': 4756, 'jordan': 4757, 'rooki': 4758, 'milo': 4759, 'alexandr': 4760, 'feast': 4761, 'choke': 4762, 'trier': 4763, 'sicken': 4764, 'mathieu': 4765, 'isra': 4766, 'toronto': 4767, 'holocaust': 4768, 'shepherd': 4769, 'pc': 4770, 'wardrob': 4771, 'vanessa': 4772, 'breakfast': 4773, 'flavor': 4774, 'marlon': 4775, 'comprehend': 4776, 'turd': 4777, 'outdat': 4778, 'highway': 4779, 'retriev': 4780, 'ceremoni': 4781, 'cartoonish': 4782, 'ideolog': 4783, 'styliz': 4784, 'huston': 4785, 'linear': 4786, 'swept': 4787, 'clinic': 4788, 'howl': 4789, 'shorter': 4790, 'dudley': 4791, 'peer': 4792, 'smack': 4793, 'abund': 4794, 'charlton': 4795, 'gilbert': 4796, 'knightley': 4797, 'leather': 4798, 'wrestler': 4799, 'audrey': 4800, 'tack': 4801, 'fifth': 4802, 'gunga': 4803, 'boyer': 4804, 'affleck': 4805, 'deem': 4806, 'magician': 4807, 'psych': 4808, 'disregard': 4809, 'glare': 4810, 'oppon': 4811, 'feminin': 4812, 'frog': 4813, 'nightclub': 4814, 'compris': 4815, 'plate': 4816, 'newer': 4817, 'whack': 4818, 'uniformli': 4819, 'braveheart': 4820, 'lifeless': 4821, 'toe': 4822, 'corn': 4823, 'energet': 4824, 'tara': 4825, 'phenomen': 4826, 'lavish': 4827, 'monument': 4828, 'salman': 4829, 'spawn': 4830, 'cemeteri': 4831, 'potter': 4832, 'breakdown': 4833, 'boo': 4834, 'btw': 4835, 'chip': 4836, 'snatch': 4837, 'bogu': 4838, 'conrad': 4839, '1991': 4840, 'spine': 4841, 'evolut': 4842, 'durat': 4843, 'einstein': 4844, 'mitch': 4845, 'goldsworthi': 4846, 'greet': 4847, '1994': 4848, 'bastard': 4849, 'lighter': 4850, '4th': 4851, 'client': 4852, 'collector': 4853, 'sleaz': 4854, 'cuban': 4855, 'moe': 4856, 'deliver': 4857, 'senat': 4858, 'summar': 4859, 'neatli': 4860, 'bulk': 4861, 'wtf': 4862, 'outright': 4863, 'liu': 4864, 'historian': 4865, 'kent': 4866, 'judd': 4867, 'cecil': 4868, 'evelyn': 4869, '1977': 4870, 'luxuri': 4871, 'constitut': 4872, 'sorrow': 4873, 'trauma': 4874, 'jedi': 4875, 'bori': 4876, 'jam': 4877, 'clara': 4878, 'randolph': 4879, 'belli': 4880, 'healthi': 4881, 'firmli': 4882, 'alleg': 4883, 'occup': 4884, 'pronounc': 4885, 'jare': 4886, 'undertak': 4887, 'mcqueen': 4888, 'inaccuraci': 4889, 'spectacl': 4890, 'capot': 4891, 'jule': 4892, 'fluid': 4893, 'undead': 4894, 'creek': 4895, 'signal': 4896, 'nina': 4897, 'replay': 4898, 'ie': 4899, 'gilliam': 4900, 'appl': 4901, 'embark': 4902, 'ol': 4903, 'kazan': 4904, 'eleven': 4905, '1974': 4906, 'lex': 4907, 'armstrong': 4908, 'bait': 4909, 'comb': 4910, 'miniseri': 4911, '1985': 4912, 'walt': 4913, 'palm': 4914, 'roar': 4915, 'inaccur': 4916, 'decapit': 4917, 'unattract': 4918, 'poker': 4919, 'vain': 4920, 'antonio': 4921, 'cape': 4922, 'kiddi': 4923, 'carmen': 4924, 'knee': 4925, 'inclus': 4926, 'comprehens': 4927, 'basket': 4928, 'meal': 4929, 'sidewalk': 4930, 'conan': 4931, 'mum': 4932, 'congratul': 4933, 'forgiven': 4934, 'unsuspect': 4935, 'curtain': 4936, 'ash': 4937, 'blur': 4938, 'goldblum': 4939, 'propheci': 4940, 'spray': 4941, 'porter': 4942, 'groan': 4943, 'miami': 4944, 'rosario': 4945, 'bsg': 4946, 'pepper': 4947, 'lauren': 4948, 'subtli': 4949, 'fruit': 4950, 'lanc': 4951, 'sacrif': 4952, 'genet': 4953, 'galaxi': 4954, 'truman': 4955, 'aussi': 4956, 'abound': 4957, 'relentless': 4958, 'pioneer': 4959, 'paula': 4960, 'id': 4961, 'vignett': 4962, 'tokyo': 4963, 'orchestr': 4964, 'rapidli': 4965, 'spill': 4966, 'hackman': 4967, 'verg': 4968, 'sparkl': 4969, 'turtl': 4970, 'growth': 4971, 'jill': 4972, 'ingrid': 4973, 'incorrect': 4974, 'scariest': 4975, 'substanti': 4976, 'detach': 4977, 'scarfac': 4978, 'hostil': 4979, 'mice': 4980, '21st': 4981, 'drone': 4982, 'motorcycl': 4983, 'handicap': 4984, 'bravo': 4985, 'casper': 4986, 'evan': 4987, 'omin': 4988, 'optimist': 4989, 'ghetto': 4990, 'reincarn': 4991, 'weari': 4992, 'monti': 4993, 'sophi': 4994, 'victorian': 4995, 'weaker': 4996, 'macabr': 4997, 'frontal': 4998, 'asset': 4999}\n"
     ]
    }
   ],
   "source": [
    "word_dict = build_dict(train_X)\n",
    "print(word_dict)"
   ]
  },
  {
   "cell_type": "markdown",
   "metadata": {
    "deletable": true,
    "editable": true
   },
   "source": [
    "**Question:** What are the five most frequently appearing (tokenized) words in the training set? Does it makes sense that these words appear frequently in the training set?"
   ]
  },
  {
   "cell_type": "markdown",
   "metadata": {
    "deletable": true,
    "editable": true
   },
   "source": [
    "**Answer:**"
   ]
  },
  {
   "cell_type": "code",
   "execution_count": 19,
   "metadata": {
    "collapsed": false,
    "deletable": true,
    "editable": true
   },
   "outputs": [
    {
     "name": "stdout",
     "output_type": "stream",
     "text": [
      "movi\n",
      "film\n",
      "one\n",
      "like\n",
      "time\n"
     ]
    }
   ],
   "source": [
    "# TODO: Use this space to determine the five most frequently appearing words in the training set.\n",
    "\n",
    "for key in list(word_dict)[:5]:\n",
    "    print(key)"
   ]
  },
  {
   "cell_type": "markdown",
   "metadata": {
    "deletable": true,
    "editable": true
   },
   "source": [
    "### Save `word_dict`\n",
    "\n",
    "Later on when we construct an endpoint which processes a submitted review we will need to make use of the `word_dict` which we have created. As such, we will save it to a file now for future use."
   ]
  },
  {
   "cell_type": "code",
   "execution_count": 20,
   "metadata": {
    "collapsed": true,
    "deletable": true,
    "editable": true
   },
   "outputs": [],
   "source": [
    "data_dir = '../data/pytorch' # The folder we will use for storing data\n",
    "if not os.path.exists(data_dir): # Make sure that the folder exists\n",
    "    os.makedirs(data_dir)"
   ]
  },
  {
   "cell_type": "code",
   "execution_count": 21,
   "metadata": {
    "collapsed": true,
    "deletable": true,
    "editable": true
   },
   "outputs": [],
   "source": [
    "with open(os.path.join(data_dir, 'word_dict.pkl'), \"wb\") as f:\n",
    "    pickle.dump(word_dict, f)"
   ]
  },
  {
   "cell_type": "markdown",
   "metadata": {
    "deletable": true,
    "editable": true
   },
   "source": [
    "### Transform the reviews\n",
    "\n",
    "Now that we have our word dictionary which allows us to transform the words appearing in the reviews into integers, it is time to make use of it and convert our reviews to their integer sequence representation, making sure to pad or truncate to a fixed length, which in our case is `500`."
   ]
  },
  {
   "cell_type": "code",
   "execution_count": 22,
   "metadata": {
    "collapsed": true,
    "deletable": true,
    "editable": true
   },
   "outputs": [],
   "source": [
    "def convert_and_pad(word_dict, sentence, pad=500):\n",
    "    NOWORD = 0 # We will use 0 to represent the 'no word' category\n",
    "    INFREQ = 1 # and we use 1 to represent the infrequent words, i.e., words not appearing in word_dict\n",
    "    \n",
    "    working_sentence = [NOWORD] * pad\n",
    "    \n",
    "    for word_index, word in enumerate(sentence[:pad]):\n",
    "        if word in word_dict:\n",
    "            working_sentence[word_index] = word_dict[word]\n",
    "        else:\n",
    "            working_sentence[word_index] = INFREQ\n",
    "            \n",
    "    return working_sentence, min(len(sentence), pad)\n",
    "\n",
    "def convert_and_pad_data(word_dict, data, pad=500):\n",
    "    result = []\n",
    "    lengths = []\n",
    "    \n",
    "    for sentence in data:\n",
    "        converted, leng = convert_and_pad(word_dict, sentence, pad)\n",
    "        result.append(converted)\n",
    "        lengths.append(leng)\n",
    "        \n",
    "    return np.array(result), np.array(lengths)"
   ]
  },
  {
   "cell_type": "code",
   "execution_count": 23,
   "metadata": {
    "collapsed": true,
    "deletable": true,
    "editable": true
   },
   "outputs": [],
   "source": [
    "train_X, train_X_len = convert_and_pad_data(word_dict, train_X)\n",
    "test_X, test_X_len = convert_and_pad_data(word_dict, test_X)"
   ]
  },
  {
   "cell_type": "markdown",
   "metadata": {
    "deletable": true,
    "editable": true
   },
   "source": [
    "As a quick check to make sure that things are working as intended, check to see what one of the reviews in the training set looks like after having been processeed. Does this look reasonable? What is the length of a review in the training set?"
   ]
  },
  {
   "cell_type": "code",
   "execution_count": 24,
   "metadata": {
    "collapsed": false,
    "deletable": true,
    "editable": true
   },
   "outputs": [
    {
     "data": {
      "text/plain": [
       "(array([3915, 4439,  496,    3,   88, 3158,   88, 1831,    1, 4065,   32,\n",
       "        2041,   47,   19,    5, 1992,    1,  125,  115, 2638,   26,    1,\n",
       "           0,    0,    0,    0,    0,    0,    0,    0,    0,    0,    0,\n",
       "           0,    0,    0,    0,    0,    0,    0,    0,    0,    0,    0,\n",
       "           0,    0,    0,    0,    0,    0,    0,    0,    0,    0,    0,\n",
       "           0,    0,    0,    0,    0,    0,    0,    0,    0,    0,    0,\n",
       "           0,    0,    0,    0,    0,    0,    0,    0,    0,    0,    0,\n",
       "           0,    0,    0,    0,    0,    0,    0,    0,    0,    0,    0,\n",
       "           0,    0,    0,    0,    0,    0,    0,    0,    0,    0,    0,\n",
       "           0,    0,    0,    0,    0,    0,    0,    0,    0,    0,    0,\n",
       "           0,    0,    0,    0,    0,    0,    0,    0,    0,    0,    0,\n",
       "           0,    0,    0,    0,    0,    0,    0,    0,    0,    0,    0,\n",
       "           0,    0,    0,    0,    0,    0,    0,    0,    0,    0,    0,\n",
       "           0,    0,    0,    0,    0,    0,    0,    0,    0,    0,    0,\n",
       "           0,    0,    0,    0,    0,    0,    0,    0,    0,    0,    0,\n",
       "           0,    0,    0,    0,    0,    0,    0,    0,    0,    0,    0,\n",
       "           0,    0,    0,    0,    0,    0,    0,    0,    0,    0,    0,\n",
       "           0,    0,    0,    0,    0,    0,    0,    0,    0,    0,    0,\n",
       "           0,    0,    0,    0,    0,    0,    0,    0,    0,    0,    0,\n",
       "           0,    0,    0,    0,    0,    0,    0,    0,    0,    0,    0,\n",
       "           0,    0,    0,    0,    0,    0,    0,    0,    0,    0,    0,\n",
       "           0,    0,    0,    0,    0,    0,    0,    0,    0,    0,    0,\n",
       "           0,    0,    0,    0,    0,    0,    0,    0,    0,    0,    0,\n",
       "           0,    0,    0,    0,    0,    0,    0,    0,    0,    0,    0,\n",
       "           0,    0,    0,    0,    0,    0,    0,    0,    0,    0,    0,\n",
       "           0,    0,    0,    0,    0,    0,    0,    0,    0,    0,    0,\n",
       "           0,    0,    0,    0,    0,    0,    0,    0,    0,    0,    0,\n",
       "           0,    0,    0,    0,    0,    0,    0,    0,    0,    0,    0,\n",
       "           0,    0,    0,    0,    0,    0,    0,    0,    0,    0,    0,\n",
       "           0,    0,    0,    0,    0,    0,    0,    0,    0,    0,    0,\n",
       "           0,    0,    0,    0,    0,    0,    0,    0,    0,    0,    0,\n",
       "           0,    0,    0,    0,    0,    0,    0,    0,    0,    0,    0,\n",
       "           0,    0,    0,    0,    0,    0,    0,    0,    0,    0,    0,\n",
       "           0,    0,    0,    0,    0,    0,    0,    0,    0,    0,    0,\n",
       "           0,    0,    0,    0,    0,    0,    0,    0,    0,    0,    0,\n",
       "           0,    0,    0,    0,    0,    0,    0,    0,    0,    0,    0,\n",
       "           0,    0,    0,    0,    0,    0,    0,    0,    0,    0,    0,\n",
       "           0,    0,    0,    0,    0,    0,    0,    0,    0,    0,    0,\n",
       "           0,    0,    0,    0,    0,    0,    0,    0,    0,    0,    0,\n",
       "           0,    0,    0,    0,    0,    0,    0,    0,    0,    0,    0,\n",
       "           0,    0,    0,    0,    0,    0,    0,    0,    0,    0,    0,\n",
       "           0,    0,    0,    0,    0,    0,    0,    0,    0,    0,    0,\n",
       "           0,    0,    0,    0,    0,    0,    0,    0,    0,    0,    0,\n",
       "           0,    0,    0,    0,    0,    0,    0,    0,    0,    0,    0,\n",
       "           0,    0,    0,    0,    0,    0,    0,    0,    0,    0,    0,\n",
       "           0,    0,    0,    0,    0]),\n",
       " 22)"
      ]
     },
     "execution_count": 24,
     "metadata": {},
     "output_type": "execute_result"
    }
   ],
   "source": [
    "# Use this cell to examine one of the processed reviews to make sure everything is working as intended.\n",
    "train_X[100], train_X_len[100]"
   ]
  },
  {
   "cell_type": "code",
   "execution_count": 25,
   "metadata": {
    "collapsed": false,
    "deletable": true,
    "editable": true
   },
   "outputs": [
    {
     "name": "stdout",
     "output_type": "stream",
     "text": [
      "dreari 3915\n",
      "hopelessli 4439\n",
      "predict 496\n",
      "film 3\n",
      "set 88\n",
      "unpleas 3158\n",
      "set 88\n",
      "lower 1831\n",
      "coachella None\n",
      "valley 4065\n",
      "act 32\n",
      "amateurish 2041\n",
      "seen 47\n",
      "look 19\n",
      "like 5\n",
      "screenwrit 1992\n",
      "101 None\n",
      "script 125\n",
      "howev 115\n",
      "function 2638\n",
      "great 26\n",
      "sed None\n"
     ]
    }
   ],
   "source": [
    "convert_and_pad_test = ['dreari',\n",
    " 'hopelessli',\n",
    " 'predict',\n",
    " 'film',\n",
    " 'set',\n",
    " 'unpleas',\n",
    " 'set',\n",
    " 'lower',\n",
    " 'coachella',\n",
    " 'valley',\n",
    " 'act',\n",
    " 'amateurish',\n",
    " 'seen',\n",
    " 'look',\n",
    " 'like',\n",
    " 'screenwrit',\n",
    " '101',\n",
    " 'script',\n",
    " 'howev',\n",
    " 'function',\n",
    " 'great',\n",
    " 'sed']\n",
    "\n",
    "for word in convert_and_pad_test:\n",
    "    print(word, word_dict.get(word))\n",
    "                              "
   ]
  },
  {
   "cell_type": "markdown",
   "metadata": {
    "deletable": true,
    "editable": true
   },
   "source": [
    "**Question:** In the cells above we use the `preprocess_data` and `convert_and_pad_data` methods to process both the training and testing set. Why or why not might this be a problem?"
   ]
  },
  {
   "cell_type": "markdown",
   "metadata": {
    "deletable": true,
    "editable": true
   },
   "source": [
    "**Answer:** This method should be ok and not introduce any data leakage between the train and test data sets. <br><br>\n",
    "Preprocessing the train and test data at the same time is not a problem since each review is preprocessed *independently* of the other reviews. This is not the case for `convert_and_pad_data`, however. `convert_and_pad_data` computes a histogram of words for the entire list of reviews sent to it. The resulting `word_count`, which is used to encode the words for each review, is *dependent* on each review in the list. Since `convert_and_pad_data` is run seperately for the test and train data, ther is no leakage between them. "
   ]
  },
  {
   "cell_type": "markdown",
   "metadata": {
    "deletable": true,
    "editable": true
   },
   "source": [
    "## Step 3: Upload the data to S3\n",
    "\n",
    "As in the XGBoost notebook, we will need to upload the training dataset to S3 in order for our training code to access it. For now we will save it locally and we will upload to S3 later on.\n",
    "\n",
    "### Save the processed training dataset locally\n",
    "\n",
    "It is important to note the format of the data that we are saving as we will need to know it when we write the training code. In our case, each row of the dataset has the form `label`, `length`, `review[500]` where `review[500]` is a sequence of `500` integers representing the words in the review."
   ]
  },
  {
   "cell_type": "code",
   "execution_count": 26,
   "metadata": {
    "collapsed": true,
    "deletable": true,
    "editable": true
   },
   "outputs": [],
   "source": [
    "import pandas as pd\n",
    "    \n",
    "pd.concat([pd.DataFrame(train_y), pd.DataFrame(train_X_len), pd.DataFrame(train_X)], axis=1) \\\n",
    "        .to_csv(os.path.join(data_dir, 'train.csv'), header=False, index=False)"
   ]
  },
  {
   "cell_type": "markdown",
   "metadata": {
    "deletable": true,
    "editable": true
   },
   "source": [
    "### Uploading the training data\n",
    "\n",
    "\n",
    "Next, we need to upload the training data to the SageMaker default S3 bucket so that we can provide access to it while training our model."
   ]
  },
  {
   "cell_type": "code",
   "execution_count": 27,
   "metadata": {
    "collapsed": true,
    "deletable": true,
    "editable": true
   },
   "outputs": [],
   "source": [
    "import sagemaker\n",
    "\n",
    "sagemaker_session = sagemaker.Session()\n",
    "\n",
    "bucket = sagemaker_session.default_bucket()\n",
    "prefix = 'sagemaker/sentiment_rnn'\n",
    "\n",
    "role = sagemaker.get_execution_role()"
   ]
  },
  {
   "cell_type": "code",
   "execution_count": 28,
   "metadata": {
    "collapsed": true,
    "deletable": true,
    "editable": true
   },
   "outputs": [],
   "source": [
    "input_data = sagemaker_session.upload_data(path=data_dir, bucket=bucket, key_prefix=prefix)"
   ]
  },
  {
   "cell_type": "markdown",
   "metadata": {
    "deletable": true,
    "editable": true
   },
   "source": [
    "**NOTE:** The cell above uploads the entire contents of our data directory. This includes the `word_dict.pkl` file. This is fortunate as we will need this later on when we create an endpoint that accepts an arbitrary review. For now, we will just take note of the fact that it resides in the data directory (and so also in the S3 training bucket) and that we will need to make sure it gets saved in the model directory."
   ]
  },
  {
   "cell_type": "markdown",
   "metadata": {
    "deletable": true,
    "editable": true
   },
   "source": [
    "## Step 4: Build and Train the PyTorch Model\n",
    "\n",
    "In the XGBoost notebook we discussed what a model is in the SageMaker framework. In particular, a model comprises three objects\n",
    "\n",
    " - Model Artifacts,\n",
    " - Training Code, and\n",
    " - Inference Code,\n",
    " \n",
    "each of which interact with one another. In the XGBoost example we used training and inference code that was provided by Amazon. Here we will still be using containers provided by Amazon with the added benefit of being able to include our own custom code.\n",
    "\n",
    "We will start by implementing our own neural network in PyTorch along with a training script. For the purposes of this project we have provided the necessary model object in the `model.py` file, inside of the `train` folder. You can see the provided implementation by running the cell below."
   ]
  },
  {
   "cell_type": "code",
   "execution_count": 29,
   "metadata": {
    "collapsed": false,
    "deletable": true,
    "editable": true
   },
   "outputs": [
    {
     "name": "stdout",
     "output_type": "stream",
     "text": [
      "\u001b[34mimport\u001b[39;49;00m \u001b[04m\u001b[36mtorch\u001b[39;49;00m\u001b[04m\u001b[36m.\u001b[39;49;00m\u001b[04m\u001b[36mnn\u001b[39;49;00m \u001b[34mas\u001b[39;49;00m \u001b[04m\u001b[36mnn\u001b[39;49;00m\r\n",
      "\r\n",
      "\u001b[34mclass\u001b[39;49;00m \u001b[04m\u001b[32mLSTMClassifier\u001b[39;49;00m(nn.Module):\r\n",
      "    \u001b[33m\"\"\"\u001b[39;49;00m\r\n",
      "\u001b[33m    This is the simple RNN model we will be using to perform Sentiment Analysis.\u001b[39;49;00m\r\n",
      "\u001b[33m    \"\"\"\u001b[39;49;00m\r\n",
      "\r\n",
      "    \u001b[34mdef\u001b[39;49;00m \u001b[32m__init__\u001b[39;49;00m(\u001b[36mself\u001b[39;49;00m, embedding_dim, hidden_dim, vocab_size):\r\n",
      "        \u001b[33m\"\"\"\u001b[39;49;00m\r\n",
      "\u001b[33m        Initialize the model by settingg up the various layers.\u001b[39;49;00m\r\n",
      "\u001b[33m        \"\"\"\u001b[39;49;00m\r\n",
      "        \u001b[36msuper\u001b[39;49;00m(LSTMClassifier, \u001b[36mself\u001b[39;49;00m).\u001b[32m__init__\u001b[39;49;00m()\r\n",
      "\r\n",
      "        \u001b[36mself\u001b[39;49;00m.embedding = nn.Embedding(vocab_size, embedding_dim, padding_idx=\u001b[34m0\u001b[39;49;00m)\r\n",
      "        \u001b[36mself\u001b[39;49;00m.lstm = nn.LSTM(embedding_dim, hidden_dim)\r\n",
      "        \u001b[36mself\u001b[39;49;00m.dense = nn.Linear(in_features=hidden_dim, out_features=\u001b[34m1\u001b[39;49;00m)\r\n",
      "        \u001b[36mself\u001b[39;49;00m.sig = nn.Sigmoid()\r\n",
      "        \r\n",
      "        \u001b[36mself\u001b[39;49;00m.word_dict = \u001b[34mNone\u001b[39;49;00m\r\n",
      "\r\n",
      "    \u001b[34mdef\u001b[39;49;00m \u001b[32mforward\u001b[39;49;00m(\u001b[36mself\u001b[39;49;00m, x):\r\n",
      "        \u001b[33m\"\"\"\u001b[39;49;00m\r\n",
      "\u001b[33m        Perform a forward pass of our model on some input.\u001b[39;49;00m\r\n",
      "\u001b[33m        \"\"\"\u001b[39;49;00m\r\n",
      "        x = x.t()\r\n",
      "        lengths = x[\u001b[34m0\u001b[39;49;00m,:]\r\n",
      "        reviews = x[\u001b[34m1\u001b[39;49;00m:,:]\r\n",
      "        embeds = \u001b[36mself\u001b[39;49;00m.embedding(reviews)\r\n",
      "        lstm_out, _ = \u001b[36mself\u001b[39;49;00m.lstm(embeds)\r\n",
      "        out = \u001b[36mself\u001b[39;49;00m.dense(lstm_out)\r\n",
      "        out = out[lengths - \u001b[34m1\u001b[39;49;00m, \u001b[36mrange\u001b[39;49;00m(\u001b[36mlen\u001b[39;49;00m(lengths))]\r\n",
      "        \u001b[34mreturn\u001b[39;49;00m \u001b[36mself\u001b[39;49;00m.sig(out.squeeze())\r\n"
     ]
    }
   ],
   "source": [
    "!pygmentize train/model.py"
   ]
  },
  {
   "cell_type": "markdown",
   "metadata": {
    "deletable": true,
    "editable": true
   },
   "source": [
    "The important takeaway from the implementation provided is that **there are three parameters that we may wish to tweak to improve the performance of our model**. These are<br>\n",
    "> - the embedding dimension `embedding_dim`,<br> \n",
    "> - the hidden dimension `hidden_dim`, and<br> \n",
    "> - the size of the vocabulary `vocab_size`.<br>\n",
    "\n",
    "We will likely want to make these parameters configurable in the training script so that if we wish to modify them we do not need to modify the script itself. We will see how to do this later on. To start we will write some of the training code in the notebook so that we can more easily diagnose any issues that arise.\n",
    "\n",
    "First we will load a small portion of the training data set to use as a sample. It would be very time consuming to try and train the model completely in the notebook as we do not have access to a gpu and the compute instance that we are using is not particularly powerful. However, we can work on a small bit of the data to get a feel for how our training script is behaving."
   ]
  },
  {
   "cell_type": "code",
   "execution_count": 30,
   "metadata": {
    "collapsed": true,
    "deletable": true,
    "editable": true
   },
   "outputs": [],
   "source": [
    "import torch\n",
    "import torch.utils.data\n",
    "\n",
    "# Read in only the first 250 rows\n",
    "train_sample = pd.read_csv(os.path.join(data_dir, 'train.csv'), header=None, names=None, nrows=250)\n",
    "\n",
    "# Turn the input pandas dataframe into tensors\n",
    "train_sample_y = torch.from_numpy(train_sample[[0]].values).float().squeeze()\n",
    "train_sample_X = torch.from_numpy(train_sample.drop([0], axis=1).values).long()\n",
    "\n",
    "# Build the dataset\n",
    "train_sample_ds = torch.utils.data.TensorDataset(train_sample_X, train_sample_y)\n",
    "# Build the dataloader\n",
    "train_sample_dl = torch.utils.data.DataLoader(train_sample_ds, batch_size=50)"
   ]
  },
  {
   "cell_type": "markdown",
   "metadata": {
    "deletable": true,
    "editable": true
   },
   "source": [
    "### (TODO) Writing the training method\n",
    "\n",
    "Next we need to write the training code itself. This should be very similar to training methods that you have written before to train PyTorch models. We will leave any difficult aspects such as model saving / loading and parameter loading until a little later."
   ]
  },
  {
   "cell_type": "code",
   "execution_count": 31,
   "metadata": {
    "collapsed": true,
    "deletable": true,
    "editable": true
   },
   "outputs": [],
   "source": [
    "def train(model, train_loader, epochs, optimizer, loss_fn, device):\n",
    "    for epoch in range(1, epochs + 1):\n",
    "        model.train()\n",
    "        total_loss = 0\n",
    "        for batch in train_loader:         \n",
    "            batch_X, batch_y = batch\n",
    "            \n",
    "            batch_X = batch_X.to(device)\n",
    "            batch_y = batch_y.to(device)\n",
    "            \n",
    "            # TODO: Complete this train method to train the model provided.\n",
    "            \n",
    "            optimizer.zero_grad()\n",
    "            # Forward and backward passes\n",
    "            output = model.forward(batch_X)\n",
    "            loss = loss_fn(output, batch_y)   # the loss function is passed to the method\n",
    "            loss.backward()\n",
    "            optimizer.step()\n",
    "            \n",
    "            total_loss += loss.data.item()\n",
    "        print(\"Epoch: {}, BCELoss: {}\".format(epoch, total_loss / len(train_loader)))"
   ]
  },
  {
   "cell_type": "markdown",
   "metadata": {
    "deletable": true,
    "editable": true
   },
   "source": [
    "Supposing we have the training method above, we will test that it is working by writing a bit of code in the notebook that executes our training method on the small sample training set that we loaded earlier. The reason for doing this in the notebook is so that we have an opportunity to fix any errors that arise early when they are easier to diagnose."
   ]
  },
  {
   "cell_type": "code",
   "execution_count": 32,
   "metadata": {
    "collapsed": false,
    "deletable": true,
    "editable": true
   },
   "outputs": [
    {
     "name": "stdout",
     "output_type": "stream",
     "text": [
      "Epoch: 1, BCELoss: 0.6935037493705749\n",
      "Epoch: 2, BCELoss: 0.6850127577781677\n",
      "Epoch: 3, BCELoss: 0.6772704005241394\n",
      "Epoch: 4, BCELoss: 0.6680937170982361\n",
      "Epoch: 5, BCELoss: 0.6557169318199157\n"
     ]
    }
   ],
   "source": [
    "import torch.optim as optim\n",
    "from train.model import LSTMClassifier\n",
    "\n",
    "device = torch.device(\"cuda\" if torch.cuda.is_available() else \"cpu\")\n",
    "model = LSTMClassifier(32, 100, 5000).to(device)\n",
    "optimizer = optim.Adam(model.parameters())\n",
    "loss_fn = torch.nn.BCELoss()\n",
    "\n",
    "train(model, train_sample_dl, 5, optimizer, loss_fn, device)"
   ]
  },
  {
   "cell_type": "markdown",
   "metadata": {
    "deletable": true,
    "editable": true
   },
   "source": [
    "In order to construct a PyTorch model using SageMaker we must provide SageMaker with a training script. We may optionally include a directory which will be copied to the container and from which our training code will be run. When the training container is executed it will check the uploaded directory (if there is one) for a `requirements.txt` file and install any required Python libraries, after which the training script will be run."
   ]
  },
  {
   "cell_type": "markdown",
   "metadata": {
    "deletable": true,
    "editable": true
   },
   "source": [
    "### (TODO) Training the model\n",
    "\n",
    "When a PyTorch model is constructed in SageMaker, an entry point must be specified. This is the Python file which will be executed when the model is trained. Inside of the `train` directory is a file called `train.py` which has been provided and which contains most of the necessary code to train our model. The only thing that is missing is the implementation of the `train()` method which you wrote earlier in this notebook.\n",
    "\n",
    "**TODO**: Copy the `train()` method written above and paste it into the `train/train.py` file where required.\n",
    "\n",
    "The way that SageMaker passes hyperparameters to the training script is by way of arguments. These arguments can then be parsed and used in the training script. To see how this is done take a look at the provided `train/train.py` file."
   ]
  },
  {
   "cell_type": "code",
   "execution_count": 33,
   "metadata": {
    "collapsed": true,
    "deletable": true,
    "editable": true
   },
   "outputs": [],
   "source": [
    "from sagemaker.pytorch import PyTorch\n",
    "\n",
    "estimator = PyTorch(entry_point=\"train.py\",\n",
    "                    source_dir=\"train\",\n",
    "                    role=role,\n",
    "                    framework_version='0.4.0',\n",
    "                    py_version='py3',\n",
    "                    train_instance_count=1,\n",
    "                    train_instance_type='ml.p2.xlarge',\n",
    "                    hyperparameters={\n",
    "                        'epochs': 10,\n",
    "                        'hidden_dim': 200,\n",
    "                    })\n",
    "\n",
    "# py_version='py3' added to the code. Not sure if this is necessary for sagemaker 1.72"
   ]
  },
  {
   "cell_type": "code",
   "execution_count": 34,
   "metadata": {
    "collapsed": false,
    "deletable": true,
    "editable": true
   },
   "outputs": [
    {
     "name": "stderr",
     "output_type": "stream",
     "text": [
      "'create_image_uri' will be deprecated in favor of 'ImageURIProvider' class in SageMaker Python SDK v2.\n",
      "'s3_input' class will be renamed to 'TrainingInput' in SageMaker Python SDK v2.\n",
      "'create_image_uri' will be deprecated in favor of 'ImageURIProvider' class in SageMaker Python SDK v2.\n"
     ]
    },
    {
     "name": "stdout",
     "output_type": "stream",
     "text": [
      "2021-02-03 18:11:16 Starting - Starting the training job...\n",
      "2021-02-03 18:11:18 Starting - Launching requested ML instances......\n",
      "2021-02-03 18:12:23 Starting - Preparing the instances for training......\n",
      "2021-02-03 18:13:29 Downloading - Downloading input data...\n",
      "2021-02-03 18:14:05 Training - Downloading the training image...\n",
      "2021-02-03 18:14:37 Training - Training image download completed. Training in progress.\u001b[34mbash: cannot set terminal process group (-1): Inappropriate ioctl for device\u001b[0m\n",
      "\u001b[34mbash: no job control in this shell\u001b[0m\n",
      "\u001b[34m2021-02-03 18:14:38,038 sagemaker-containers INFO     Imported framework sagemaker_pytorch_container.training\u001b[0m\n",
      "\u001b[34m2021-02-03 18:14:38,064 sagemaker_pytorch_container.training INFO     Block until all host DNS lookups succeed.\u001b[0m\n",
      "\u001b[34m2021-02-03 18:14:44,311 sagemaker_pytorch_container.training INFO     Invoking user training script.\u001b[0m\n",
      "\u001b[34m2021-02-03 18:14:44,568 sagemaker-containers INFO     Module train does not provide a setup.py. \u001b[0m\n",
      "\u001b[34mGenerating setup.py\u001b[0m\n",
      "\u001b[34m2021-02-03 18:14:44,569 sagemaker-containers INFO     Generating setup.cfg\u001b[0m\n",
      "\u001b[34m2021-02-03 18:14:44,569 sagemaker-containers INFO     Generating MANIFEST.in\u001b[0m\n",
      "\u001b[34m2021-02-03 18:14:44,569 sagemaker-containers INFO     Installing module with the following command:\u001b[0m\n",
      "\u001b[34m/usr/bin/python -m pip install -U . -r requirements.txt\u001b[0m\n",
      "\u001b[34mProcessing /opt/ml/code\u001b[0m\n",
      "\u001b[34mCollecting pandas (from -r requirements.txt (line 1))\n",
      "  Downloading https://files.pythonhosted.org/packages/74/24/0cdbf8907e1e3bc5a8da03345c23cbed7044330bb8f73bb12e711a640a00/pandas-0.24.2-cp35-cp35m-manylinux1_x86_64.whl (10.0MB)\u001b[0m\n",
      "\u001b[34mCollecting numpy (from -r requirements.txt (line 2))\u001b[0m\n",
      "\u001b[34m  Downloading https://files.pythonhosted.org/packages/b5/36/88723426b4ff576809fec7d73594fe17a35c27f8d01f93637637a29ae25b/numpy-1.18.5-cp35-cp35m-manylinux1_x86_64.whl (19.9MB)\u001b[0m\n",
      "\u001b[34mCollecting nltk (from -r requirements.txt (line 3))\n",
      "  Downloading https://files.pythonhosted.org/packages/92/75/ce35194d8e3022203cca0d2f896dbb88689f9b3fce8e9f9cff942913519d/nltk-3.5.zip (1.4MB)\u001b[0m\n",
      "\u001b[34mCollecting beautifulsoup4 (from -r requirements.txt (line 4))\n",
      "  Downloading https://files.pythonhosted.org/packages/d1/41/e6495bd7d3781cee623ce23ea6ac73282a373088fcd0ddc809a047b18eae/beautifulsoup4-4.9.3-py3-none-any.whl (115kB)\u001b[0m\n",
      "\u001b[34mCollecting html5lib (from -r requirements.txt (line 5))\n",
      "  Downloading https://files.pythonhosted.org/packages/6c/dd/a834df6482147d48e225a49515aabc28974ad5a4ca3215c18a882565b028/html5lib-1.1-py2.py3-none-any.whl (112kB)\u001b[0m\n",
      "\u001b[34mRequirement already satisfied, skipping upgrade: python-dateutil>=2.5.0 in /usr/local/lib/python3.5/dist-packages (from pandas->-r requirements.txt (line 1)) (2.7.5)\u001b[0m\n",
      "\u001b[34mCollecting pytz>=2011k (from pandas->-r requirements.txt (line 1))\u001b[0m\n",
      "\u001b[34m  Downloading https://files.pythonhosted.org/packages/70/94/784178ca5dd892a98f113cdd923372024dc04b8d40abe77ca76b5fb90ca6/pytz-2021.1-py2.py3-none-any.whl (510kB)\u001b[0m\n",
      "\u001b[34mRequirement already satisfied, skipping upgrade: click in /usr/local/lib/python3.5/dist-packages (from nltk->-r requirements.txt (line 3)) (7.0)\u001b[0m\n",
      "\u001b[34mCollecting joblib (from nltk->-r requirements.txt (line 3))\n",
      "  Downloading https://files.pythonhosted.org/packages/28/5c/cf6a2b65a321c4a209efcdf64c2689efae2cb62661f8f6f4bb28547cf1bf/joblib-0.14.1-py2.py3-none-any.whl (294kB)\u001b[0m\n",
      "\u001b[34mCollecting regex (from nltk->-r requirements.txt (line 3))\u001b[0m\n",
      "\u001b[34m  Downloading https://files.pythonhosted.org/packages/2e/e4/3447fed9ab29944333f48730ecff4dca92f0868c5b188d6ab2b2078e32c2/regex-2020.11.13.tar.gz (694kB)\u001b[0m\n",
      "\u001b[34mCollecting tqdm (from nltk->-r requirements.txt (line 3))\n",
      "  Downloading https://files.pythonhosted.org/packages/80/02/8f8880a4fd6625461833abcf679d4c12a44c76f9925f92bf212bb6cefaad/tqdm-4.56.0-py2.py3-none-any.whl (72kB)\u001b[0m\n",
      "\u001b[34mCollecting soupsieve>1.2; python_version >= \"3.0\" (from beautifulsoup4->-r requirements.txt (line 4))\n",
      "  Downloading https://files.pythonhosted.org/packages/02/fb/1c65691a9aeb7bd6ac2aa505b84cb8b49ac29c976411c6ab3659425e045f/soupsieve-2.1-py3-none-any.whl\u001b[0m\n",
      "\u001b[34mCollecting webencodings (from html5lib->-r requirements.txt (line 5))\n",
      "  Downloading https://files.pythonhosted.org/packages/f4/24/2a3e3df732393fed8b3ebf2ec078f05546de641fe1b667ee316ec1dcf3b7/webencodings-0.5.1-py2.py3-none-any.whl\u001b[0m\n",
      "\u001b[34mRequirement already satisfied, skipping upgrade: six>=1.9 in /usr/local/lib/python3.5/dist-packages (from html5lib->-r requirements.txt (line 5)) (1.11.0)\u001b[0m\n",
      "\u001b[34mBuilding wheels for collected packages: nltk, train, regex\n",
      "  Running setup.py bdist_wheel for nltk: started\u001b[0m\n",
      "\u001b[34m  Running setup.py bdist_wheel for nltk: finished with status 'done'\n",
      "  Stored in directory: /root/.cache/pip/wheels/ae/8c/3f/b1fe0ba04555b08b57ab52ab7f86023639a526d8bc8d384306\n",
      "  Running setup.py bdist_wheel for train: started\n",
      "  Running setup.py bdist_wheel for train: finished with status 'done'\n",
      "  Stored in directory: /tmp/pip-ephem-wheel-cache-co5a_lc6/wheels/35/24/16/37574d11bf9bde50616c67372a334f94fa8356bc7164af8ca3\n",
      "  Running setup.py bdist_wheel for regex: started\u001b[0m\n",
      "\u001b[34m  Running setup.py bdist_wheel for regex: finished with status 'done'\n",
      "  Stored in directory: /root/.cache/pip/wheels/27/f6/66/a4243e485a0ebc73dc59033ae26c48e82526f77dbfe158ac59\u001b[0m\n",
      "\u001b[34mSuccessfully built nltk train regex\u001b[0m\n",
      "\u001b[34mInstalling collected packages: numpy, pytz, pandas, joblib, regex, tqdm, nltk, soupsieve, beautifulsoup4, webencodings, html5lib, train\n",
      "  Found existing installation: numpy 1.15.4\n",
      "    Uninstalling numpy-1.15.4:\u001b[0m\n",
      "\u001b[34m      Successfully uninstalled numpy-1.15.4\u001b[0m\n",
      "\u001b[34mSuccessfully installed beautifulsoup4-4.9.3 html5lib-1.1 joblib-0.14.1 nltk-3.5 numpy-1.18.5 pandas-0.24.2 pytz-2021.1 regex-2020.11.13 soupsieve-2.1 tqdm-4.56.0 train-1.0.0 webencodings-0.5.1\u001b[0m\n",
      "\u001b[34mYou are using pip version 18.1, however version 20.3.4 is available.\u001b[0m\n",
      "\u001b[34mYou should consider upgrading via the 'pip install --upgrade pip' command.\u001b[0m\n",
      "\u001b[34m2021-02-03 18:15:08,977 sagemaker-containers INFO     Invoking user script\n",
      "\u001b[0m\n",
      "\u001b[34mTraining Env:\n",
      "\u001b[0m\n",
      "\u001b[34m{\n",
      "    \"job_name\": \"sagemaker-pytorch-2021-02-03-18-11-16-485\",\n",
      "    \"num_cpus\": 4,\n",
      "    \"current_host\": \"algo-1\",\n",
      "    \"module_name\": \"train\",\n",
      "    \"network_interface_name\": \"eth0\",\n",
      "    \"framework_module\": \"sagemaker_pytorch_container.training:main\",\n",
      "    \"input_config_dir\": \"/opt/ml/input/config\",\n",
      "    \"output_dir\": \"/opt/ml/output\",\n",
      "    \"additional_framework_parameters\": {},\n",
      "    \"output_data_dir\": \"/opt/ml/output/data\",\n",
      "    \"user_entry_point\": \"train.py\",\n",
      "    \"input_data_config\": {\n",
      "        \"training\": {\n",
      "            \"RecordWrapperType\": \"None\",\n",
      "            \"TrainingInputMode\": \"File\",\n",
      "            \"S3DistributionType\": \"FullyReplicated\"\n",
      "        }\n",
      "    },\n",
      "    \"module_dir\": \"s3://sagemaker-us-east-2-793599939935/sagemaker-pytorch-2021-02-03-18-11-16-485/source/sourcedir.tar.gz\",\n",
      "    \"model_dir\": \"/opt/ml/model\",\n",
      "    \"hosts\": [\n",
      "        \"algo-1\"\n",
      "    ],\n",
      "    \"channel_input_dirs\": {\n",
      "        \"training\": \"/opt/ml/input/data/training\"\n",
      "    },\n",
      "    \"hyperparameters\": {\n",
      "        \"epochs\": 10,\n",
      "        \"hidden_dim\": 200\n",
      "    },\n",
      "    \"resource_config\": {\n",
      "        \"hosts\": [\n",
      "            \"algo-1\"\n",
      "        ],\n",
      "        \"current_host\": \"algo-1\",\n",
      "        \"network_interface_name\": \"eth0\"\n",
      "    },\n",
      "    \"input_dir\": \"/opt/ml/input\",\n",
      "    \"log_level\": 20,\n",
      "    \"output_intermediate_dir\": \"/opt/ml/output/intermediate\",\n",
      "    \"num_gpus\": 1\u001b[0m\n",
      "\u001b[34m}\n",
      "\u001b[0m\n",
      "\u001b[34mEnvironment variables:\n",
      "\u001b[0m\n",
      "\u001b[34mSM_OUTPUT_INTERMEDIATE_DIR=/opt/ml/output/intermediate\u001b[0m\n",
      "\u001b[34mSM_MODEL_DIR=/opt/ml/model\u001b[0m\n",
      "\u001b[34mSM_INPUT_DIR=/opt/ml/input\u001b[0m\n",
      "\u001b[34mSM_NUM_CPUS=4\u001b[0m\n",
      "\u001b[34mSM_HP_HIDDEN_DIM=200\u001b[0m\n",
      "\u001b[34mSM_TRAINING_ENV={\"additional_framework_parameters\":{},\"channel_input_dirs\":{\"training\":\"/opt/ml/input/data/training\"},\"current_host\":\"algo-1\",\"framework_module\":\"sagemaker_pytorch_container.training:main\",\"hosts\":[\"algo-1\"],\"hyperparameters\":{\"epochs\":10,\"hidden_dim\":200},\"input_config_dir\":\"/opt/ml/input/config\",\"input_data_config\":{\"training\":{\"RecordWrapperType\":\"None\",\"S3DistributionType\":\"FullyReplicated\",\"TrainingInputMode\":\"File\"}},\"input_dir\":\"/opt/ml/input\",\"job_name\":\"sagemaker-pytorch-2021-02-03-18-11-16-485\",\"log_level\":20,\"model_dir\":\"/opt/ml/model\",\"module_dir\":\"s3://sagemaker-us-east-2-793599939935/sagemaker-pytorch-2021-02-03-18-11-16-485/source/sourcedir.tar.gz\",\"module_name\":\"train\",\"network_interface_name\":\"eth0\",\"num_cpus\":4,\"num_gpus\":1,\"output_data_dir\":\"/opt/ml/output/data\",\"output_dir\":\"/opt/ml/output\",\"output_intermediate_dir\":\"/opt/ml/output/intermediate\",\"resource_config\":{\"current_host\":\"algo-1\",\"hosts\":[\"algo-1\"],\"network_interface_name\":\"eth0\"},\"user_entry_point\":\"train.py\"}\u001b[0m\n",
      "\u001b[34mSM_CURRENT_HOST=algo-1\u001b[0m\n",
      "\u001b[34mSM_CHANNEL_TRAINING=/opt/ml/input/data/training\u001b[0m\n",
      "\u001b[34mSM_HPS={\"epochs\":10,\"hidden_dim\":200}\u001b[0m\n",
      "\u001b[34mSM_NETWORK_INTERFACE_NAME=eth0\u001b[0m\n",
      "\u001b[34mSM_NUM_GPUS=1\u001b[0m\n",
      "\u001b[34mSM_INPUT_CONFIG_DIR=/opt/ml/input/config\u001b[0m\n",
      "\u001b[34mSM_CHANNELS=[\"training\"]\u001b[0m\n",
      "\u001b[34mSM_FRAMEWORK_PARAMS={}\u001b[0m\n",
      "\u001b[34mSM_HP_EPOCHS=10\u001b[0m\n",
      "\u001b[34mSM_INPUT_DATA_CONFIG={\"training\":{\"RecordWrapperType\":\"None\",\"S3DistributionType\":\"FullyReplicated\",\"TrainingInputMode\":\"File\"}}\u001b[0m\n",
      "\u001b[34mSM_MODULE_NAME=train\u001b[0m\n",
      "\u001b[34mSM_HOSTS=[\"algo-1\"]\u001b[0m\n",
      "\u001b[34mSM_FRAMEWORK_MODULE=sagemaker_pytorch_container.training:main\u001b[0m\n",
      "\u001b[34mPYTHONPATH=/usr/local/bin:/usr/lib/python35.zip:/usr/lib/python3.5:/usr/lib/python3.5/plat-x86_64-linux-gnu:/usr/lib/python3.5/lib-dynload:/usr/local/lib/python3.5/dist-packages:/usr/lib/python3/dist-packages\u001b[0m\n",
      "\u001b[34mSM_OUTPUT_DIR=/opt/ml/output\u001b[0m\n",
      "\u001b[34mSM_MODULE_DIR=s3://sagemaker-us-east-2-793599939935/sagemaker-pytorch-2021-02-03-18-11-16-485/source/sourcedir.tar.gz\u001b[0m\n",
      "\u001b[34mSM_RESOURCE_CONFIG={\"current_host\":\"algo-1\",\"hosts\":[\"algo-1\"],\"network_interface_name\":\"eth0\"}\u001b[0m\n",
      "\u001b[34mSM_LOG_LEVEL=20\u001b[0m\n",
      "\u001b[34mSM_OUTPUT_DATA_DIR=/opt/ml/output/data\u001b[0m\n",
      "\u001b[34mSM_USER_ENTRY_POINT=train.py\u001b[0m\n",
      "\u001b[34mSM_USER_ARGS=[\"--epochs\",\"10\",\"--hidden_dim\",\"200\"]\n",
      "\u001b[0m\n",
      "\u001b[34mInvoking script with the following command:\n",
      "\u001b[0m\n",
      "\u001b[34m/usr/bin/python -m train --epochs 10 --hidden_dim 200\n",
      "\n",
      "\u001b[0m\n",
      "\u001b[34mUsing device cuda.\u001b[0m\n",
      "\u001b[34mGet train data loader.\u001b[0m\n",
      "\u001b[34mModel loaded with embedding_dim 32, hidden_dim 200, vocab_size 5000.\u001b[0m\n",
      "\u001b[34mEpoch: 1, BCELoss: 0.6669545222301873\u001b[0m\n",
      "\u001b[34mEpoch: 2, BCELoss: 0.5896590157430999\u001b[0m\n",
      "\u001b[34mEpoch: 3, BCELoss: 0.5121803575632523\u001b[0m\n",
      "\u001b[34mEpoch: 4, BCELoss: 0.4404665134391006\u001b[0m\n",
      "\u001b[34mEpoch: 5, BCELoss: 0.41715938339428027\u001b[0m\n",
      "\u001b[34mEpoch: 6, BCELoss: 0.35399763620629604\u001b[0m\n",
      "\u001b[34mEpoch: 7, BCELoss: 0.3251476652768193\u001b[0m\n",
      "\u001b[34mEpoch: 8, BCELoss: 0.3153825925320995\u001b[0m\n",
      "\u001b[34mEpoch: 9, BCELoss: 0.3013790271111897\u001b[0m\n",
      "\n",
      "2021-02-03 18:18:15 Uploading - Uploading generated training model\u001b[34mEpoch: 10, BCELoss: 0.2802169730468672\u001b[0m\n",
      "\u001b[34m2021-02-03 18:18:11,976 sagemaker-containers INFO     Reporting training SUCCESS\u001b[0m\n",
      "\n",
      "2021-02-03 18:18:22 Completed - Training job completed\n",
      "Training seconds: 293\n",
      "Billable seconds: 293\n"
     ]
    }
   ],
   "source": [
    "estimator.fit({'training': input_data})"
   ]
  },
  {
   "cell_type": "markdown",
   "metadata": {
    "deletable": true,
    "editable": true
   },
   "source": [
    "## Step 5: Testing the model\n",
    "\n",
    "As mentioned at the top of this notebook, we will be testing this model by first deploying it and then sending the testing data to the deployed endpoint. We will do this so that we can make sure that the deployed model is working correctly.\n",
    "\n",
    "## Step 6: Deploy the model for testing\n",
    "\n",
    "Now that we have trained our model, we would like to test it to see how it performs. Currently our model takes input of the form `review_length, review[500]` where `review[500]` is a sequence of `500` integers which describe the words present in the review, encoded using `word_dict`. Fortunately for us, SageMaker provides built-in inference code for models with simple inputs such as this.\n",
    "\n",
    "There is one thing that we need to provide, however, and that is a function which loads the saved model. This function must be called `model_fn()` and takes as its only parameter a path to the directory where the model artifacts are stored. This function must also be present in the python file which we specified as the entry point. In our case the model loading function has been provided and so no changes need to be made.\n",
    "\n",
    "**NOTE**: When the built-in inference code is run it must import the `model_fn()` method from the `train.py` file. This is why the training code is wrapped in a main guard ( ie, `if __name__ == '__main__':` )\n",
    "\n",
    "Since we don't need to change anything in the code that was uploaded during training, we can simply deploy the current model as-is.\n",
    "\n",
    "**NOTE:** When deploying a model you are asking SageMaker to launch an compute instance that will wait for data to be sent to it. As a result, this compute instance will continue to run until *you* shut it down. This is important to know since the cost of a deployed endpoint depends on how long it has been running for.\n",
    "\n",
    "In other words **If you are no longer using a deployed endpoint, shut it down!**\n",
    "\n",
    "**TODO:** Deploy the trained model."
   ]
  },
  {
   "cell_type": "code",
   "execution_count": 35,
   "metadata": {
    "collapsed": false,
    "deletable": true,
    "editable": true
   },
   "outputs": [
    {
     "name": "stderr",
     "output_type": "stream",
     "text": [
      "Parameter image will be renamed to image_uri in SageMaker Python SDK v2.\n",
      "'create_image_uri' will be deprecated in favor of 'ImageURIProvider' class in SageMaker Python SDK v2.\n"
     ]
    },
    {
     "name": "stdout",
     "output_type": "stream",
     "text": [
      "---------------!"
     ]
    }
   ],
   "source": [
    "# TODO: Deploy the trained model\n",
    "predictor = estimator.deploy(initial_instance_count=1, instance_type='ml.m4.xlarge')"
   ]
  },
  {
   "cell_type": "markdown",
   "metadata": {
    "deletable": true,
    "editable": true
   },
   "source": [
    "## Step 7 - Use the model for testing\n",
    "\n",
    "Once deployed, we can read in the test data and send it off to our deployed model to get some results. Once we collect all of the results we can determine how accurate our model is."
   ]
  },
  {
   "cell_type": "code",
   "execution_count": 36,
   "metadata": {
    "collapsed": true,
    "deletable": true,
    "editable": true
   },
   "outputs": [],
   "source": [
    "test_X = pd.concat([pd.DataFrame(test_X_len), pd.DataFrame(test_X)], axis=1)"
   ]
  },
  {
   "cell_type": "code",
   "execution_count": 37,
   "metadata": {
    "collapsed": true,
    "deletable": true,
    "editable": true
   },
   "outputs": [],
   "source": [
    "# We split the data into chunks and send each chunk seperately, accumulating the results.\n",
    "\n",
    "def predict(data, rows=512):\n",
    "    split_array = np.array_split(data, int(data.shape[0] / float(rows) + 1))\n",
    "    predictions = np.array([])\n",
    "    for array in split_array:\n",
    "        predictions = np.append(predictions, predictor.predict(array))\n",
    "    \n",
    "    return predictions"
   ]
  },
  {
   "cell_type": "code",
   "execution_count": 38,
   "metadata": {
    "collapsed": true,
    "deletable": true,
    "editable": true
   },
   "outputs": [],
   "source": [
    "predictions = predict(test_X.values)\n",
    "predictions = [round(num) for num in predictions]"
   ]
  },
  {
   "cell_type": "code",
   "execution_count": 39,
   "metadata": {
    "collapsed": false,
    "deletable": true,
    "editable": true
   },
   "outputs": [
    {
     "data": {
      "text/plain": [
       "0.8512"
      ]
     },
     "execution_count": 39,
     "metadata": {},
     "output_type": "execute_result"
    }
   ],
   "source": [
    "from sklearn.metrics import accuracy_score\n",
    "accuracy_score(test_y, predictions)"
   ]
  },
  {
   "cell_type": "markdown",
   "metadata": {
    "deletable": true,
    "editable": true
   },
   "source": [
    "**Question:** How does this model compare to the XGBoost model you created earlier? Why might these two models perform differently on this dataset? Which do *you* think is better for sentiment analysis?"
   ]
  },
  {
   "cell_type": "markdown",
   "metadata": {
    "deletable": true,
    "editable": true
   },
   "source": [
    "**Answer:** The result of 0.85 is better than the result of the XGBoost model which achieved a score of around 0.8. \n",
    "There may be a few reasons:\n",
    "> 1. an LSTM takes into account the ordering of the words whereas XGBoost does not\n",
    "> 2. the word encoding that we are using may better than the one used with the XGBoost model\n",
    "\n",
    "This model should outperform XGBoost for word analysis because it uses an LSTM and it should outperform XGBoost even more so when it is tuned. "
   ]
  },
  {
   "cell_type": "markdown",
   "metadata": {
    "deletable": true,
    "editable": true
   },
   "source": [
    "### (TODO) More testing\n",
    "\n",
    "We now have a trained model which has been deployed and which we can send processed reviews to and which returns the predicted sentiment. However, ultimately we would like to be able to send our model an unprocessed review. That is, we would like to send the review itself as a string. For example, suppose we wish to send the following review to our model."
   ]
  },
  {
   "cell_type": "code",
   "execution_count": 40,
   "metadata": {
    "collapsed": true,
    "deletable": true,
    "editable": true
   },
   "outputs": [],
   "source": [
    "test_review = 'The simplest pleasures in life are the best, and this film is one of them. Combining a rather basic storyline of love and adventure this movie transcends the usual weekend fair with wit and unmitigated charm.'"
   ]
  },
  {
   "cell_type": "markdown",
   "metadata": {
    "deletable": true,
    "editable": true
   },
   "source": [
    "The question we now need to answer is, how do we send this review to our model?\n",
    "\n",
    "Recall in the first section of this notebook we did a bunch of data processing to the IMDb dataset. In particular, we did two specific things to the provided reviews.\n",
    " - Removed any html tags and stemmed the input\n",
    " - Encoded the review as a sequence of integers using `word_dict`\n",
    " \n",
    "In order process the review we will need to repeat these two steps.\n",
    "\n",
    "**TODO**: Using the `review_to_words` and `convert_and_pad` methods from section one, convert `test_review` into a numpy array `test_data` suitable to send to our model. Remember that our model expects input of the form `review_length, review[500]`."
   ]
  },
  {
   "cell_type": "code",
   "execution_count": 41,
   "metadata": {
    "collapsed": true,
    "deletable": true,
    "editable": true
   },
   "outputs": [],
   "source": [
    "# TODO: Convert test_review into a form usable by the model and save the results in test_data\n",
    "test_review_words = review_to_words(test_review)\n",
    "test_data, test_data_len = convert_and_pad(word_dict, test_review_words)\n",
    "\n",
    "#test_data = np.array([test_data_len] + test_data)\n",
    "#   this code creates an np array of the form []. this is a 1d array\n",
    "#   but we need the form to be [[]]\n",
    "#   [[length, test data...]]\n",
    "\n",
    "test_data = np.expand_dims(np.array([test_data_len]+test_data), axis=0)\n",
    "\n",
    "# the input into predict has to be [[]]\n",
    "# np.expand_dims expands the array from 1d to 2d which is required for the model to run"
   ]
  },
  {
   "cell_type": "code",
   "execution_count": 42,
   "metadata": {
    "collapsed": false,
    "deletable": true,
    "editable": true
   },
   "outputs": [
    {
     "name": "stdout",
     "output_type": "stream",
     "text": [
      "[[  20    1 1375   49   53    3    4  878  173  392  682   29  723    2\n",
      "  4416  275 2081 1061  760    1  582    0    0    0    0    0    0    0\n",
      "     0    0    0    0    0    0    0    0    0    0    0    0    0    0\n",
      "     0    0    0    0    0    0    0    0    0    0    0    0    0    0\n",
      "     0    0    0    0    0    0    0    0    0    0    0    0    0    0\n",
      "     0    0    0    0    0    0    0    0    0    0    0    0    0    0\n",
      "     0    0    0    0    0    0    0    0    0    0    0    0    0    0\n",
      "     0    0    0    0    0    0    0    0    0    0    0    0    0    0\n",
      "     0    0    0    0    0    0    0    0    0    0    0    0    0    0\n",
      "     0    0    0    0    0    0    0    0    0    0    0    0    0    0\n",
      "     0    0    0    0    0    0    0    0    0    0    0    0    0    0\n",
      "     0    0    0    0    0    0    0    0    0    0    0    0    0    0\n",
      "     0    0    0    0    0    0    0    0    0    0    0    0    0    0\n",
      "     0    0    0    0    0    0    0    0    0    0    0    0    0    0\n",
      "     0    0    0    0    0    0    0    0    0    0    0    0    0    0\n",
      "     0    0    0    0    0    0    0    0    0    0    0    0    0    0\n",
      "     0    0    0    0    0    0    0    0    0    0    0    0    0    0\n",
      "     0    0    0    0    0    0    0    0    0    0    0    0    0    0\n",
      "     0    0    0    0    0    0    0    0    0    0    0    0    0    0\n",
      "     0    0    0    0    0    0    0    0    0    0    0    0    0    0\n",
      "     0    0    0    0    0    0    0    0    0    0    0    0    0    0\n",
      "     0    0    0    0    0    0    0    0    0    0    0    0    0    0\n",
      "     0    0    0    0    0    0    0    0    0    0    0    0    0    0\n",
      "     0    0    0    0    0    0    0    0    0    0    0    0    0    0\n",
      "     0    0    0    0    0    0    0    0    0    0    0    0    0    0\n",
      "     0    0    0    0    0    0    0    0    0    0    0    0    0    0\n",
      "     0    0    0    0    0    0    0    0    0    0    0    0    0    0\n",
      "     0    0    0    0    0    0    0    0    0    0    0    0    0    0\n",
      "     0    0    0    0    0    0    0    0    0    0    0    0    0    0\n",
      "     0    0    0    0    0    0    0    0    0    0    0    0    0    0\n",
      "     0    0    0    0    0    0    0    0    0    0    0    0    0    0\n",
      "     0    0    0    0    0    0    0    0    0    0    0    0    0    0\n",
      "     0    0    0    0    0    0    0    0    0    0    0    0    0    0\n",
      "     0    0    0    0    0    0    0    0    0    0    0    0    0    0\n",
      "     0    0    0    0    0    0    0    0    0    0    0    0    0    0\n",
      "     0    0    0    0    0    0    0    0    0    0    0]]\n"
     ]
    }
   ],
   "source": [
    "print(test_data)"
   ]
  },
  {
   "cell_type": "markdown",
   "metadata": {
    "deletable": true,
    "editable": true
   },
   "source": [
    "Now that we have processed the review, we can send the resulting array to our model to predict the sentiment of the review."
   ]
  },
  {
   "cell_type": "code",
   "execution_count": 43,
   "metadata": {
    "collapsed": false,
    "deletable": true,
    "editable": true
   },
   "outputs": [
    {
     "data": {
      "text/plain": [
       "array(0.8533435, dtype=float32)"
      ]
     },
     "execution_count": 43,
     "metadata": {},
     "output_type": "execute_result"
    }
   ],
   "source": [
    "predictor.predict(test_data)"
   ]
  },
  {
   "cell_type": "markdown",
   "metadata": {
    "deletable": true,
    "editable": true
   },
   "source": [
    "Since the return value of our model is close to `1`, we can be certain that the review we submitted is positive."
   ]
  },
  {
   "cell_type": "markdown",
   "metadata": {
    "deletable": true,
    "editable": true
   },
   "source": [
    "### Delete the endpoint\n",
    "\n",
    "Of course, just like in the XGBoost notebook, once we've deployed an endpoint it continues to run until we tell it to shut down. Since we are done using our endpoint for now, we can delete it."
   ]
  },
  {
   "cell_type": "code",
   "execution_count": 44,
   "metadata": {
    "collapsed": false,
    "deletable": true,
    "editable": true
   },
   "outputs": [
    {
     "name": "stderr",
     "output_type": "stream",
     "text": [
      "estimator.delete_endpoint() will be deprecated in SageMaker Python SDK v2. Please use the delete_endpoint() function on your predictor instead.\n"
     ]
    }
   ],
   "source": [
    "estimator.delete_endpoint()"
   ]
  },
  {
   "cell_type": "markdown",
   "metadata": {
    "deletable": true,
    "editable": true
   },
   "source": [
    "## Step 6 (again) - Deploy the model for the web app\n",
    "\n",
    "Now that we know that our model is working, it's time to create some custom inference code so that we can send the model a review which has not been processed and have it determine the sentiment of the review.\n",
    "\n",
    "As we saw above, by default the estimator which we created, when deployed, will use the entry script and directory which we provided when creating the model. However, since we now wish to accept a string as input and our model expects a processed review, we need to write some custom inference code.\n",
    "\n",
    "We will store the code that we write in the `serve` directory. Provided in this directory is the `model.py` file that we used to construct our model, a `utils.py` file which contains the `review_to_words` and `convert_and_pad` pre-processing functions which we used during the initial data processing, and `predict.py`, the file which will contain our custom inference code. Note also that `requirements.txt` is present which will tell SageMaker what Python libraries are required by our custom inference code.\n",
    "\n",
    "When deploying a PyTorch model in SageMaker, you are expected to provide four functions which the SageMaker inference container will use.\n",
    " - `model_fn`: This function is the same function that we used in the training script and it tells SageMaker how to load our model.\n",
    " - `input_fn`: This function receives the raw serialized input that has been sent to the model's endpoint and its job is to de-serialize and make the input available for the inference code.\n",
    " - `output_fn`: This function takes the output of the inference code and its job is to serialize this output and return it to the caller of the model's endpoint.\n",
    " - `predict_fn`: The heart of the inference script, this is where the actual prediction is done and is the function which you will need to complete.\n",
    "\n",
    "For the simple website that we are constructing during this project, the `input_fn` and `output_fn` methods are relatively straightforward. We only require being able to accept a string as input and we expect to return a single value as output. You might imagine though that in a more complex application the input or output may be image data or some other binary data which would require some effort to serialize.\n",
    "\n",
    "### (TODO) Writing inference code\n",
    "\n",
    "Before writing our custom inference code, we will begin by taking a look at the code which has been provided."
   ]
  },
  {
   "cell_type": "code",
   "execution_count": 45,
   "metadata": {
    "collapsed": false,
    "deletable": true,
    "editable": true
   },
   "outputs": [
    {
     "name": "stdout",
     "output_type": "stream",
     "text": [
      "\u001b[34mimport\u001b[39;49;00m \u001b[04m\u001b[36margparse\u001b[39;49;00m\r\n",
      "\u001b[34mimport\u001b[39;49;00m \u001b[04m\u001b[36mjson\u001b[39;49;00m\r\n",
      "\u001b[34mimport\u001b[39;49;00m \u001b[04m\u001b[36mos\u001b[39;49;00m\r\n",
      "\u001b[34mimport\u001b[39;49;00m \u001b[04m\u001b[36mpickle\u001b[39;49;00m\r\n",
      "\u001b[34mimport\u001b[39;49;00m \u001b[04m\u001b[36msys\u001b[39;49;00m\r\n",
      "\u001b[34mimport\u001b[39;49;00m \u001b[04m\u001b[36msagemaker_containers\u001b[39;49;00m\r\n",
      "\u001b[34mimport\u001b[39;49;00m \u001b[04m\u001b[36mpandas\u001b[39;49;00m \u001b[34mas\u001b[39;49;00m \u001b[04m\u001b[36mpd\u001b[39;49;00m\r\n",
      "\u001b[34mimport\u001b[39;49;00m \u001b[04m\u001b[36mnumpy\u001b[39;49;00m \u001b[34mas\u001b[39;49;00m \u001b[04m\u001b[36mnp\u001b[39;49;00m\r\n",
      "\u001b[34mimport\u001b[39;49;00m \u001b[04m\u001b[36mtorch\u001b[39;49;00m\r\n",
      "\u001b[34mimport\u001b[39;49;00m \u001b[04m\u001b[36mtorch\u001b[39;49;00m\u001b[04m\u001b[36m.\u001b[39;49;00m\u001b[04m\u001b[36mnn\u001b[39;49;00m \u001b[34mas\u001b[39;49;00m \u001b[04m\u001b[36mnn\u001b[39;49;00m\r\n",
      "\u001b[34mimport\u001b[39;49;00m \u001b[04m\u001b[36mtorch\u001b[39;49;00m\u001b[04m\u001b[36m.\u001b[39;49;00m\u001b[04m\u001b[36moptim\u001b[39;49;00m \u001b[34mas\u001b[39;49;00m \u001b[04m\u001b[36moptim\u001b[39;49;00m\r\n",
      "\u001b[34mimport\u001b[39;49;00m \u001b[04m\u001b[36mtorch\u001b[39;49;00m\u001b[04m\u001b[36m.\u001b[39;49;00m\u001b[04m\u001b[36mutils\u001b[39;49;00m\u001b[04m\u001b[36m.\u001b[39;49;00m\u001b[04m\u001b[36mdata\u001b[39;49;00m\r\n",
      "\r\n",
      "\u001b[34mfrom\u001b[39;49;00m \u001b[04m\u001b[36mmodel\u001b[39;49;00m \u001b[34mimport\u001b[39;49;00m LSTMClassifier\r\n",
      "\r\n",
      "\u001b[34mfrom\u001b[39;49;00m \u001b[04m\u001b[36mutils\u001b[39;49;00m \u001b[34mimport\u001b[39;49;00m review_to_words, convert_and_pad\r\n",
      "\r\n",
      "\u001b[34mdef\u001b[39;49;00m \u001b[32mmodel_fn\u001b[39;49;00m(model_dir):\r\n",
      "    \u001b[33m\"\"\"Load the PyTorch model from the `model_dir` directory.\"\"\"\u001b[39;49;00m\r\n",
      "    \u001b[36mprint\u001b[39;49;00m(\u001b[33m\"\u001b[39;49;00m\u001b[33mLoading model.\u001b[39;49;00m\u001b[33m\"\u001b[39;49;00m)\r\n",
      "\r\n",
      "    \u001b[37m# First, load the parameters used to create the model.\u001b[39;49;00m\r\n",
      "    model_info = {}\r\n",
      "    model_info_path = os.path.join(model_dir, \u001b[33m'\u001b[39;49;00m\u001b[33mmodel_info.pth\u001b[39;49;00m\u001b[33m'\u001b[39;49;00m)\r\n",
      "    \u001b[34mwith\u001b[39;49;00m \u001b[36mopen\u001b[39;49;00m(model_info_path, \u001b[33m'\u001b[39;49;00m\u001b[33mrb\u001b[39;49;00m\u001b[33m'\u001b[39;49;00m) \u001b[34mas\u001b[39;49;00m f:\r\n",
      "        model_info = torch.load(f)\r\n",
      "\r\n",
      "    \u001b[36mprint\u001b[39;49;00m(\u001b[33m\"\u001b[39;49;00m\u001b[33mmodel_info: \u001b[39;49;00m\u001b[33m{}\u001b[39;49;00m\u001b[33m\"\u001b[39;49;00m.format(model_info))\r\n",
      "\r\n",
      "    \u001b[37m# Determine the device and construct the model.\u001b[39;49;00m\r\n",
      "    device = torch.device(\u001b[33m\"\u001b[39;49;00m\u001b[33mcuda\u001b[39;49;00m\u001b[33m\"\u001b[39;49;00m \u001b[34mif\u001b[39;49;00m torch.cuda.is_available() \u001b[34melse\u001b[39;49;00m \u001b[33m\"\u001b[39;49;00m\u001b[33mcpu\u001b[39;49;00m\u001b[33m\"\u001b[39;49;00m)\r\n",
      "    model = LSTMClassifier(model_info[\u001b[33m'\u001b[39;49;00m\u001b[33membedding_dim\u001b[39;49;00m\u001b[33m'\u001b[39;49;00m], model_info[\u001b[33m'\u001b[39;49;00m\u001b[33mhidden_dim\u001b[39;49;00m\u001b[33m'\u001b[39;49;00m], model_info[\u001b[33m'\u001b[39;49;00m\u001b[33mvocab_size\u001b[39;49;00m\u001b[33m'\u001b[39;49;00m])\r\n",
      "\r\n",
      "    \u001b[37m# Load the store model parameters.\u001b[39;49;00m\r\n",
      "    model_path = os.path.join(model_dir, \u001b[33m'\u001b[39;49;00m\u001b[33mmodel.pth\u001b[39;49;00m\u001b[33m'\u001b[39;49;00m)\r\n",
      "    \u001b[34mwith\u001b[39;49;00m \u001b[36mopen\u001b[39;49;00m(model_path, \u001b[33m'\u001b[39;49;00m\u001b[33mrb\u001b[39;49;00m\u001b[33m'\u001b[39;49;00m) \u001b[34mas\u001b[39;49;00m f:\r\n",
      "        model.load_state_dict(torch.load(f))\r\n",
      "\r\n",
      "    \u001b[37m# Load the saved word_dict.\u001b[39;49;00m\r\n",
      "    word_dict_path = os.path.join(model_dir, \u001b[33m'\u001b[39;49;00m\u001b[33mword_dict.pkl\u001b[39;49;00m\u001b[33m'\u001b[39;49;00m)\r\n",
      "    \u001b[34mwith\u001b[39;49;00m \u001b[36mopen\u001b[39;49;00m(word_dict_path, \u001b[33m'\u001b[39;49;00m\u001b[33mrb\u001b[39;49;00m\u001b[33m'\u001b[39;49;00m) \u001b[34mas\u001b[39;49;00m f:\r\n",
      "        model.word_dict = pickle.load(f)\r\n",
      "\r\n",
      "    model.to(device).eval()\r\n",
      "\r\n",
      "    \u001b[36mprint\u001b[39;49;00m(\u001b[33m\"\u001b[39;49;00m\u001b[33mDone loading model.\u001b[39;49;00m\u001b[33m\"\u001b[39;49;00m)\r\n",
      "    \u001b[34mreturn\u001b[39;49;00m model\r\n",
      "\r\n",
      "\u001b[34mdef\u001b[39;49;00m \u001b[32minput_fn\u001b[39;49;00m(serialized_input_data, content_type):\r\n",
      "    \u001b[36mprint\u001b[39;49;00m(\u001b[33m'\u001b[39;49;00m\u001b[33mDeserializing the input data.\u001b[39;49;00m\u001b[33m'\u001b[39;49;00m)\r\n",
      "    \u001b[34mif\u001b[39;49;00m content_type == \u001b[33m'\u001b[39;49;00m\u001b[33mtext/plain\u001b[39;49;00m\u001b[33m'\u001b[39;49;00m:\r\n",
      "        data = serialized_input_data.decode(\u001b[33m'\u001b[39;49;00m\u001b[33mutf-8\u001b[39;49;00m\u001b[33m'\u001b[39;49;00m)\r\n",
      "        \u001b[34mreturn\u001b[39;49;00m data\r\n",
      "    \u001b[34mraise\u001b[39;49;00m \u001b[36mException\u001b[39;49;00m(\u001b[33m'\u001b[39;49;00m\u001b[33mRequested unsupported ContentType in content_type: \u001b[39;49;00m\u001b[33m'\u001b[39;49;00m + content_type)\r\n",
      "\r\n",
      "\u001b[34mdef\u001b[39;49;00m \u001b[32moutput_fn\u001b[39;49;00m(prediction_output, accept):\r\n",
      "    \u001b[36mprint\u001b[39;49;00m(\u001b[33m'\u001b[39;49;00m\u001b[33mSerializing the generated output.\u001b[39;49;00m\u001b[33m'\u001b[39;49;00m)\r\n",
      "    \u001b[34mreturn\u001b[39;49;00m \u001b[36mstr\u001b[39;49;00m(prediction_output)\r\n",
      "\r\n",
      "\u001b[34mdef\u001b[39;49;00m \u001b[32mpredict_fn\u001b[39;49;00m(input_data, model):\r\n",
      "    \u001b[36mprint\u001b[39;49;00m(\u001b[33m'\u001b[39;49;00m\u001b[33mInferring sentiment of input data.\u001b[39;49;00m\u001b[33m'\u001b[39;49;00m)\r\n",
      "\r\n",
      "    device = torch.device(\u001b[33m\"\u001b[39;49;00m\u001b[33mcuda\u001b[39;49;00m\u001b[33m\"\u001b[39;49;00m \u001b[34mif\u001b[39;49;00m torch.cuda.is_available() \u001b[34melse\u001b[39;49;00m \u001b[33m\"\u001b[39;49;00m\u001b[33mcpu\u001b[39;49;00m\u001b[33m\"\u001b[39;49;00m)\r\n",
      "    \r\n",
      "    \u001b[34mif\u001b[39;49;00m model.word_dict \u001b[35mis\u001b[39;49;00m \u001b[34mNone\u001b[39;49;00m:\r\n",
      "        \u001b[34mraise\u001b[39;49;00m \u001b[36mException\u001b[39;49;00m(\u001b[33m'\u001b[39;49;00m\u001b[33mModel has not been loaded properly, no word_dict.\u001b[39;49;00m\u001b[33m'\u001b[39;49;00m)\r\n",
      "    \r\n",
      "    \u001b[37m# TODO: Process input_data so that it is ready to be sent to our model.\u001b[39;49;00m\r\n",
      "    \u001b[37m#       You should produce two variables:\u001b[39;49;00m\r\n",
      "    \u001b[37m#         data_X   - A sequence of length 500 which represents the converted review\u001b[39;49;00m\r\n",
      "    \u001b[37m#         data_len - The length of the review\u001b[39;49;00m\r\n",
      "\r\n",
      "    \u001b[37m#data_X = None\u001b[39;49;00m\r\n",
      "    \u001b[37m#data_len = None        \u001b[39;49;00m\r\n",
      "    data_X, data_len = convert_and_pad(model.word_dict, review_to_words(input_data))\r\n",
      "\r\n",
      "    \u001b[37m# Using data_X and data_len we construct an appropriate input tensor. Remember\u001b[39;49;00m\r\n",
      "    \u001b[37m# that our model expects input data of the form 'len, review[500]'.\u001b[39;49;00m\r\n",
      "    data_pack = np.hstack((data_len, data_X))\r\n",
      "    data_pack = data_pack.reshape(\u001b[34m1\u001b[39;49;00m, -\u001b[34m1\u001b[39;49;00m)\r\n",
      "    \r\n",
      "    data = torch.from_numpy(data_pack)\r\n",
      "    data = data.to(device)\r\n",
      "\r\n",
      "    \u001b[37m# Make sure to put the model into evaluation mode\u001b[39;49;00m\r\n",
      "    model.eval()\r\n",
      "\r\n",
      "    \u001b[37m# TODO: Compute the result of applying the model to the input data. The variable `result` should\u001b[39;49;00m\r\n",
      "    \u001b[37m#       be a numpy array which contains a single integer which is either 1 or 0\u001b[39;49;00m\r\n",
      "\r\n",
      "    \u001b[37m#esult = model.forward(data)\u001b[39;49;00m\r\n",
      "    result = (model(data).data).cpu().numpy().round()\r\n",
      "    \r\n",
      "    \u001b[34mreturn\u001b[39;49;00m result\r\n"
     ]
    }
   ],
   "source": [
    "!pygmentize serve/predict.py"
   ]
  },
  {
   "cell_type": "markdown",
   "metadata": {
    "deletable": true,
    "editable": true
   },
   "source": [
    "As mentioned earlier, the `model_fn` method is the same as the one provided in the training code and the `input_fn` and `output_fn` methods are very simple and your task will be to complete the `predict_fn` method. Make sure that you save the completed file as `predict.py` in the `serve` directory.\n",
    "\n",
    "**TODO**: Complete the `predict_fn()` method in the `serve/predict.py` file."
   ]
  },
  {
   "cell_type": "markdown",
   "metadata": {
    "deletable": true,
    "editable": true
   },
   "source": [
    "### Deploying the model\n",
    "\n",
    "Now that the custom inference code has been written, we will create and deploy our model. To begin with, we need to construct a new PyTorchModel object which points to the model artifacts created during training and also points to the inference code that we wish to use. Then we can call the deploy method to launch the deployment container.\n",
    "\n",
    "**NOTE**: The default behaviour for a deployed PyTorch model is to assume that any input passed to the predictor is a `numpy` array. In our case we want to send a string so we need to construct a simple wrapper around the `RealTimePredictor` class to accomodate simple strings. In a more complicated situation you may want to provide a serialization object, for example if you wanted to sent image data."
   ]
  },
  {
   "cell_type": "code",
   "execution_count": 46,
   "metadata": {
    "collapsed": false,
    "deletable": true,
    "editable": true
   },
   "outputs": [
    {
     "name": "stderr",
     "output_type": "stream",
     "text": [
      "Parameter image will be renamed to image_uri in SageMaker Python SDK v2.\n",
      "'create_image_uri' will be deprecated in favor of 'ImageURIProvider' class in SageMaker Python SDK v2.\n"
     ]
    },
    {
     "name": "stdout",
     "output_type": "stream",
     "text": [
      "-----------------!"
     ]
    }
   ],
   "source": [
    "from sagemaker.predictor import RealTimePredictor\n",
    "from sagemaker.pytorch import PyTorchModel\n",
    "\n",
    "class StringPredictor(RealTimePredictor):\n",
    "    def __init__(self, endpoint_name, sagemaker_session):\n",
    "        super(StringPredictor, self).__init__(endpoint_name, sagemaker_session, content_type='text/plain')\n",
    "\n",
    "model = PyTorchModel(model_data=estimator.model_data,\n",
    "                     role = role,\n",
    "                     framework_version='0.4.0',\n",
    "                     entry_point='predict.py',\n",
    "                     source_dir='serve',\n",
    "                     predictor_cls=StringPredictor)\n",
    "predictor = model.deploy(initial_instance_count=1, instance_type='ml.m4.xlarge')\n",
    "\n",
    "# py_version='py3' NOT added to the code. Not sure if this is necessary for sagemaker 1.72"
   ]
  },
  {
   "cell_type": "markdown",
   "metadata": {
    "deletable": true,
    "editable": true
   },
   "source": [
    "### Testing the model\n",
    "\n",
    "Now that we have deployed our model with the custom inference code, we should test to see if everything is working. Here we test our model by loading the first `250` positive and negative reviews and send them to the endpoint, then collect the results. The reason for only sending some of the data is that the amount of time it takes for our model to process the input and then perform inference is quite long and so testing the entire data set would be prohibitive."
   ]
  },
  {
   "cell_type": "code",
   "execution_count": 47,
   "metadata": {
    "collapsed": true,
    "deletable": true,
    "editable": true
   },
   "outputs": [],
   "source": [
    "import glob\n",
    "\n",
    "def test_reviews(data_dir='../data/aclImdb', stop=250):\n",
    "    \n",
    "    results = []\n",
    "    ground = []\n",
    "    \n",
    "    # We make sure to test both positive and negative reviews    \n",
    "    for sentiment in ['pos', 'neg']:\n",
    "        \n",
    "        path = os.path.join(data_dir, 'test', sentiment, '*.txt')\n",
    "        files = glob.glob(path)\n",
    "        \n",
    "        files_read = 0\n",
    "        \n",
    "        print('Starting ', sentiment, ' files')\n",
    "        \n",
    "        # Iterate through the files and send them to the predictor\n",
    "        for f in files:\n",
    "            with open(f) as review:\n",
    "                # First, we store the ground truth (was the review positive or negative)\n",
    "                if sentiment == 'pos':\n",
    "                    ground.append(1)\n",
    "                else:\n",
    "                    ground.append(0)\n",
    "                # Read in the review and convert to 'utf-8' for transmission via HTTP\n",
    "                review_input = review.read().encode('utf-8')\n",
    "                # Send the review to the predictor and store the results\n",
    "                results.append(float(predictor.predict(review_input)))\n",
    "                \n",
    "            # Sending reviews to our endpoint one at a time takes a while so we\n",
    "            # only send a small number of reviews\n",
    "            files_read += 1\n",
    "            if files_read == stop:\n",
    "                break\n",
    "            \n",
    "    return ground, results"
   ]
  },
  {
   "cell_type": "code",
   "execution_count": 48,
   "metadata": {
    "collapsed": false,
    "deletable": true,
    "editable": true
   },
   "outputs": [
    {
     "name": "stdout",
     "output_type": "stream",
     "text": [
      "Starting  pos  files\n",
      "Starting  neg  files\n"
     ]
    }
   ],
   "source": [
    "ground, results = test_reviews()"
   ]
  },
  {
   "cell_type": "code",
   "execution_count": 49,
   "metadata": {
    "collapsed": false,
    "deletable": true,
    "editable": true
   },
   "outputs": [
    {
     "data": {
      "text/plain": [
       "0.85"
      ]
     },
     "execution_count": 49,
     "metadata": {},
     "output_type": "execute_result"
    }
   ],
   "source": [
    "from sklearn.metrics import accuracy_score\n",
    "accuracy_score(ground, results)"
   ]
  },
  {
   "cell_type": "markdown",
   "metadata": {
    "deletable": true,
    "editable": true
   },
   "source": [
    "As an additional test, we can try sending the `test_review` that we looked at earlier."
   ]
  },
  {
   "cell_type": "code",
   "execution_count": 50,
   "metadata": {
    "collapsed": false,
    "deletable": true,
    "editable": true
   },
   "outputs": [
    {
     "data": {
      "text/plain": [
       "b'1.0'"
      ]
     },
     "execution_count": 50,
     "metadata": {},
     "output_type": "execute_result"
    }
   ],
   "source": [
    "predictor.predict(test_review)"
   ]
  },
  {
   "cell_type": "markdown",
   "metadata": {
    "deletable": true,
    "editable": true
   },
   "source": [
    "Now that we know our endpoint is working as expected, we can set up the web page that will interact with it. If you don't have time to finish the project now, make sure to skip down to the end of this notebook and shut down your endpoint. You can deploy it again when you come back."
   ]
  },
  {
   "cell_type": "markdown",
   "metadata": {
    "deletable": true,
    "editable": true
   },
   "source": [
    "## Step 7 (again): Use the model for the web app\n",
    "\n",
    "> **TODO:** This entire section and the next contain tasks for you to complete, mostly using the AWS console.\n",
    "\n",
    "So far we have been accessing our model endpoint by constructing a predictor object which uses the endpoint and then just using the predictor object to perform inference. What if we wanted to create a web app which accessed our model? The way things are set up currently makes that not possible since in order to access a SageMaker endpoint the app would first have to authenticate with AWS using an IAM role which included access to SageMaker endpoints. However, there is an easier way! We just need to use some additional AWS services.\n",
    "\n",
    "<img src=\"Web App Diagram.svg\">\n",
    "\n",
    "The diagram above gives an overview of how the various services will work together. On the far right is the model which we trained above and which is deployed using SageMaker. On the far left is our web app that collects a user's movie review, sends it off and expects a positive or negative sentiment in return.\n",
    "\n",
    "In the middle is where some of the magic happens. We will construct a Lambda function, which you can think of as a straightforward Python function that can be executed whenever a specified event occurs. We will give this function permission to send and recieve data from a SageMaker endpoint.\n",
    "\n",
    "Lastly, the method we will use to execute the Lambda function is a new endpoint that we will create using API Gateway. This endpoint will be a url that listens for data to be sent to it. Once it gets some data it will pass that data on to the Lambda function and then return whatever the Lambda function returns. Essentially it will act as an interface that lets our web app communicate with the Lambda function.\n",
    "\n",
    "### Setting up a Lambda function\n",
    "\n",
    "The first thing we are going to do is set up a Lambda function. This Lambda function will be executed whenever our public API has data sent to it. When it is executed it will receive the data, perform any sort of processing that is required, send the data (the review) to the SageMaker endpoint we've created and then return the result.\n",
    "\n",
    "#### Part A: Create an IAM Role for the Lambda function\n",
    "\n",
    "Since we want the Lambda function to call a SageMaker endpoint, we need to make sure that it has permission to do so. To do this, we will construct a role that we can later give the Lambda function.\n",
    "\n",
    "Using the AWS Console, navigate to the **IAM** page and click on **Roles**. Then, click on **Create role**. Make sure that the **AWS service** is the type of trusted entity selected and choose **Lambda** as the service that will use this role, then click **Next: Permissions**.\n",
    "\n",
    "In the search box type `sagemaker` and select the check box next to the **AmazonSageMakerFullAccess** policy. Then, click on **Next: Review**.\n",
    "\n",
    "Lastly, give this role a name. Make sure you use a name that you will remember later on, for example `LambdaSageMakerRole`. Then, click on **Create role**.\n",
    "\n",
    "#### Part B: Create a Lambda function\n",
    "\n",
    "Now it is time to actually create the Lambda function.\n",
    "\n",
    "Using the AWS Console, navigate to the AWS Lambda page and click on **Create a function**. When you get to the next page, make sure that **Author from scratch** is selected. Now, name your Lambda function, using a name that you will remember later on, for example `sentiment_analysis_func`. Make sure that the **Python 3.6** runtime is selected and then choose the role that you created in the previous part. Then, click on **Create Function**.\n",
    "\n",
    "On the next page you will see some information about the Lambda function you've just created. If you scroll down you should see an editor in which you can write the code that will be executed when your Lambda function is triggered. In our example, we will use the code below. \n",
    "\n",
    "```python\n",
    "# We need to use the low-level library to interact with SageMaker since the SageMaker API\n",
    "# is not available natively through Lambda.\n",
    "import boto3\n",
    "\n",
    "def lambda_handler(event, context):\n",
    "\n",
    "    # The SageMaker runtime is what allows us to invoke the endpoint that we've created.\n",
    "    runtime = boto3.Session().client('sagemaker-runtime')\n",
    "\n",
    "    # Now we use the SageMaker runtime to invoke our endpoint, sending the review we were given\n",
    "    response = runtime.invoke_endpoint(EndpointName = '**ENDPOINT NAME HERE**',    # The name of the endpoint we created\n",
    "                                       ContentType = 'text/plain',                 # The data format that is expected\n",
    "                                       Body = event['body'])                       # The actual review\n",
    "\n",
    "    # The response is an HTTP response whose body contains the result of our inference\n",
    "    result = response['Body'].read().decode('utf-8')\n",
    "\n",
    "    return {\n",
    "        'statusCode' : 200,\n",
    "        'headers' : { 'Content-Type' : 'text/plain', 'Access-Control-Allow-Origin' : '*' },\n",
    "        'body' : result\n",
    "    }\n",
    "```\n",
    "\n",
    "Once you have copy and pasted the code above into the Lambda code editor, replace the `**ENDPOINT NAME HERE**` portion with the name of the endpoint that we deployed earlier. You can determine the name of the endpoint using the code cell below."
   ]
  },
  {
   "cell_type": "code",
   "execution_count": 51,
   "metadata": {
    "collapsed": false,
    "deletable": true,
    "editable": true
   },
   "outputs": [
    {
     "data": {
      "text/plain": [
       "'sagemaker-pytorch-2021-02-03-18-38-28-518'"
      ]
     },
     "execution_count": 51,
     "metadata": {},
     "output_type": "execute_result"
    }
   ],
   "source": [
    "predictor.endpoint"
   ]
  },
  {
   "cell_type": "markdown",
   "metadata": {
    "deletable": true,
    "editable": true
   },
   "source": [
    "Once you have added the endpoint name to the Lambda function, click on **Save**. Your Lambda function is now up and running. Next we need to create a way for our web app to execute the Lambda function.\n",
    "\n",
    "### Setting up API Gateway\n",
    "\n",
    "Now that our Lambda function is set up, it is time to create a new API using API Gateway that will trigger the Lambda function we have just created.\n",
    "\n",
    "Using AWS Console, navigate to **Amazon API Gateway** and then click on **Get started**.\n",
    "\n",
    "On the next page, make sure that **New API** is selected and give the new api a name, for example, `sentiment_analysis_api`. Then, click on **Create API**.\n",
    "\n",
    "Now we have created an API, however it doesn't currently do anything. What we want it to do is to trigger the Lambda function that we created earlier.\n",
    "\n",
    "Select the **Actions** dropdown menu and click **Create Method**. A new blank method will be created, select its dropdown menu and select **POST**, then click on the check mark beside it.\n",
    "\n",
    "For the integration point, make sure that **Lambda Function** is selected and click on the **Use Lambda Proxy integration**. This option makes sure that the data that is sent to the API is then sent directly to the Lambda function with no processing. It also means that the return value must be a proper response object as it will also not be processed by API Gateway.\n",
    "\n",
    "Type the name of the Lambda function you created earlier into the **Lambda Function** text entry box and then click on **Save**. Click on **OK** in the pop-up box that then appears, giving permission to API Gateway to invoke the Lambda function you created.\n",
    "\n",
    "The last step in creating the API Gateway is to select the **Actions** dropdown and click on **Deploy API**. You will need to create a new Deployment stage and name it anything you like, for example `prod`.\n",
    "\n",
    "You have now successfully set up a public API to access your SageMaker model. Make sure to copy or write down the URL provided to invoke your newly created public API as this will be needed in the next step. This URL can be found at the top of the page, highlighted in blue next to the text **Invoke URL**."
   ]
  },
  {
   "cell_type": "markdown",
   "metadata": {
    "deletable": true,
    "editable": true
   },
   "source": [
    "## Step 4: Deploying our web app\n",
    "\n",
    "Now that we have a publicly available API, we can start using it in a web app. For our purposes, we have provided a simple static html file which can make use of the public api you created earlier.\n",
    "\n",
    "In the `website` folder there should be a file called `index.html`. Download the file to your computer and open that file up in a text editor of your choice. There should be a line which contains **\\*\\*REPLACE WITH PUBLIC API URL\\*\\***. Replace this string with the url that you wrote down in the last step and then save the file.\n",
    "\n",
    "Now, if you open `index.html` on your local computer, your browser will behave as a local web server and you can use the provided site to interact with your SageMaker model.\n",
    "\n",
    "If you'd like to go further, you can host this html file anywhere you'd like, for example using github or hosting a static site on Amazon's S3. Once you have done this you can share the link with anyone you'd like and have them play with it too!\n",
    "\n",
    "> **Important Note** In order for the web app to communicate with the SageMaker endpoint, the endpoint has to actually be deployed and running. This means that you are paying for it. Make sure that the endpoint is running when you want to use the web app but that you shut it down when you don't need it, otherwise you will end up with a surprisingly large AWS bill.\n",
    "\n",
    "**TODO:** Make sure that you include the edited `index.html` file in your project submission."
   ]
  },
  {
   "cell_type": "markdown",
   "metadata": {
    "deletable": true,
    "editable": true
   },
   "source": [
    "Now that your web app is working, trying playing around with it and see how well it works.\n",
    "\n",
    "**Question**: Give an example of a review that you entered into your web app. What was the predicted sentiment of your example review?"
   ]
  },
  {
   "cell_type": "markdown",
   "metadata": {
    "deletable": true,
    "editable": true
   },
   "source": [
    "**Answer:**"
   ]
  },
  {
   "cell_type": "markdown",
   "metadata": {
    "deletable": true,
    "editable": true
   },
   "source": [
    "### Delete the endpoint\n",
    "\n",
    "Remember to always shut down your endpoint if you are no longer using it. You are charged for the length of time that the endpoint is running so if you forget and leave it on you could end up with an unexpectedly large bill."
   ]
  },
  {
   "cell_type": "code",
   "execution_count": 52,
   "metadata": {
    "collapsed": true,
    "deletable": true,
    "editable": true
   },
   "outputs": [],
   "source": [
    "predictor.delete_endpoint()"
   ]
  },
  {
   "cell_type": "code",
   "execution_count": null,
   "metadata": {
    "collapsed": true,
    "deletable": true,
    "editable": true
   },
   "outputs": [],
   "source": []
  }
 ],
 "metadata": {
  "kernelspec": {
   "display_name": "Python 3",
   "language": "python",
   "name": "python3"
  },
  "language_info": {
   "codemirror_mode": {
    "name": "ipython",
    "version": 3
   },
   "file_extension": ".py",
   "mimetype": "text/x-python",
   "name": "python",
   "nbconvert_exporter": "python",
   "pygments_lexer": "ipython3",
   "version": "3.5.2"
  }
 },
 "nbformat": 4,
 "nbformat_minor": 2
}
